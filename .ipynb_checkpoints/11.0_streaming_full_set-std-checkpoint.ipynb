{
 "cells": [
  {
   "cell_type": "code",
   "execution_count": 1,
   "metadata": {},
   "outputs": [
    {
     "name": "stdout",
     "output_type": "stream",
     "text": [
      "GPU detected is GeForce GTX 970\n"
     ]
    }
   ],
   "source": [
    "#imports\n",
    "import logging\n",
    "import torch\n",
    "# set seed\n",
    "import pandas as pd\n",
    "import numpy as np\n",
    "import utils as ut\n",
    "import experiment as ex\n",
    "from evaluation import *\n",
    "from sklearn.metrics import mean_squared_error\n",
    "from torch.utils.tensorboard import SummaryWriter\n",
    "import torch\n",
    "import random\n",
    "#define fixed_hyperparams and create a config gen\n",
    "from configurations import RandomConfigGen, Configuration\n",
    "from torch import nn\n",
    "from deep_net import RandomNet\n",
    "from experiment import run_experiment\n",
    "import regex as re\n",
    "from pathlib import *\n",
    "from sk_models import PLSRegression\n",
    "import matplotlib.pyplot as plt\n",
    "\n",
    "from sk_models import PLSRegression, StandardScaler,LocalWeightedRegression,PLSLWR,LinearRidge\n",
    "from river_models import *\n",
    "\n",
    "from river import stream,linear_model,preprocessing, ensemble, metrics, optim\n",
    "from river.neighbors import KNNRegressor \n",
    "from sklearn.metrics import mean_squared_error\n",
    "from river.utils import dict2numpy, numpy2dict\n",
    "\n",
    "seed = 1\n",
    "torch.manual_seed(seed)\n",
    "random.seed(seed + 1)\n",
    "np.random.seed(seed + 2)\n",
    "random_state = np.random.RandomState(seed)\n",
    "import gc\n",
    "torch.cuda.empty_cache()\n",
    "gc.collect()\n",
    "\n",
    "print(f\"GPU detected is {torch.cuda.get_device_name(0)}\")"
   ]
  },
  {
   "cell_type": "code",
   "execution_count": 2,
   "metadata": {},
   "outputs": [
    {
     "name": "stdout",
     "output_type": "stream",
     "text": [
      "Output directory is D:\\workspace\\lazydeep\\experiments\\11.0\\PLN7\n"
     ]
    }
   ],
   "source": [
    "#setup input and output directories\n",
    "\n",
    "#setup input and outpu t formats, load data\n",
    "\n",
    "#we need to set parametesr\n",
    "file_name = \"PLN7.csv\" #\"mango_684_990.csv\" #\"mango_729_975.csv\" #fitlered=513-1050\n",
    "id_cols =[\"db_id\",\"sample_id\"] #\n",
    "output_cols = None\n",
    "data_path = Path('D:/workspace/lazydeep/data/soil_data/')\n",
    "log_path = Path(\"D:/workspace/lazydeep/experiments/11.0\") #1.01/\")\n",
    "if not log_path.exists():\n",
    "    log_path.mkdir()\n",
    "\n",
    "data_file = data_path / file_name\n",
    "log_dir = log_path / re.sub(r'\\.(?=csv$)[^.]+$', '',file_name)\n",
    "if not log_dir.exists():\n",
    "    log_dir.mkdir()\n",
    "print(f\"Output directory is {log_dir}\")"
   ]
  },
  {
   "cell_type": "code",
   "execution_count": 3,
   "metadata": {},
   "outputs": [
    {
     "name": "stdout",
     "output_type": "stream",
     "text": [
      "train: 8333, test: 1667, stream: 100000\n"
     ]
    }
   ],
   "source": [
    "data = pd.read_csv(data_file)\n",
    "data=data.sample(frac=1,random_state=random_state)\n",
    "\n",
    "pre_ind =[i for i in range(0,10000)]\n",
    "pretrain_ind,pretest_ind = train_test_split(pre_ind,train_size=5/6,random_state=random_state,shuffle=False)\n",
    "stream_ind = [i for i in range(10000,110000)]\n",
    "\n",
    "pretrain_data =  ut.TabularDataset(data.iloc[pretrain_ind,:],id_cols = id_cols, cat_cols=None, output_cols=output_cols, ignore_cols= None)\n",
    "pretest_data = ut.TabularDataset(data.iloc[pretest_ind,:],id_cols = id_cols, cat_cols=None, output_cols=output_cols, ignore_cols= None)\n",
    "stream_data = ut.TabularDataset(data.iloc[stream_ind,:],id_cols = id_cols, cat_cols=None, output_cols=output_cols, ignore_cols= None)\n",
    "\n",
    "nrow, ncol = data.shape\n",
    "nrow_train = len(pretrain_data)\n",
    "nrow_test = len(pretest_data)\n",
    "nrow_stream = len(stream_data)\n",
    "\n",
    "print(f\"train: {nrow_train}, test: {nrow_test}, stream: {nrow_stream}\")"
   ]
  },
  {
   "cell_type": "code",
   "execution_count": 4,
   "metadata": {},
   "outputs": [],
   "source": [
    "#deep, deep_lwr, ensemble_deep, deep_ensemble_lwr, ensemble_deep\n",
    "\n",
    "pls_nums = [\"random_82\",\"random_24\",\"random_10\",\"random_4\",\"random_73\"]\n",
    "deep_nums = [\"random_29\",\"random_60\",\"random_63\",\"random_41\",\"random_15\"]  #[13,57,77,60,76]\n",
    "\n",
    "pls_model_dir = Path(\"D:/workspace/lazydeep/experiments/1.01/PLN7\")\n",
    "deep_model_dir = Path(\"D:/workspace/lazydeep/experiments/2.00/PLN7\")\n",
    "\n",
    "pls_scaler = PLSRegression(n_components=34).from_state(PLSRegression(n_components=34).load_state(pls_model_dir/'preprocessing'/f\"_final\"))      \n",
    "deep_scaler = StandardScaler().from_state(StandardScaler().load_state(deep_model_dir/'preprocessing'/f\"_final\"))      \n",
    "\n",
    "def build_model(dir_,id_,scaler_):\n",
    "    deep_ = torch.load(dir_/\"models\"/id_/\"_model\")\n",
    "    deep_.load_state(dir_/\"models\"/id_/\"_final\")\n",
    "    \n",
    "    return (StreamWrapper(scaler_)|StreamDeep(deep_))\n",
    "\n",
    "def build_model_lwr(dir_,id_,scaler_,k_=1000):\n",
    "    model = build_model(dir_,id_,scaler_)\n",
    "    \n",
    "    return (model|preprocessing.StandardScaler()|StreamLocalWeightedRegression(n_neighbors=k_,floor=True))\n",
    "\n"
   ]
  },
  {
   "cell_type": "code",
   "execution_count": 5,
   "metadata": {},
   "outputs": [],
   "source": [
    "river_models = {}\n",
    "\n",
    "river_models['pls-deep_e'] =  VotingRegressor([build_model(pls_model_dir,i,pls_scaler) for i in pls_nums],record_diversity=True)\n",
    "river_models['pls-deep_e-lwr'] =  VotingRegressor([build_model_lwr(pls_model_dir,i,pls_scaler) for i in pls_nums],record_diversity=True)\n",
    "\n",
    "river_models['std-deep_e'] = VotingRegressor([build_model(deep_model_dir,i,deep_scaler) for i in deep_nums],record_diversity=True)\n",
    "river_models['std-deep_e-lwr'] =  VotingRegressor([build_model_lwr(deep_model_dir,i,deep_scaler) for i in deep_nums],record_diversity=True)\n",
    "\n",
    "bag1 = BaggingRegressor2(n_models=3,record_diversity=True,seed=random_state,model = StreamLocalWeightedRegression(n_neighbors=1000,floor=True))\n",
    "bag2 = BaggingRegressor2(n_models=3,record_diversity=True,seed=random_state,model = StreamLocalWeightedRegression(n_neighbors=1000,floor=True))\n",
    "                         \n",
    "river_models['std-deep_lwr_e'] = (build_model(pls_model_dir,pls_nums[0],pls_scaler)|bag1)\n",
    "river_models['pls-deep_lwr_e'] = (build_model(deep_model_dir,deep_nums[0],deep_scaler)|bag2)\n",
    "\n"
   ]
  },
  {
   "cell_type": "markdown",
   "metadata": {},
   "source": [
    "#setup our metrics and stores of results\n",
    "full_set = river_models.keys()\n",
    "metrics = {'R2':{name:metrics.R2() for name in full_set},\n",
    "           'R2_rolling':{name:RollingR2(window_size=1000) for name in full_set},\n",
    "           'MSE':{name:metrics.MSE() for name in river_models.keys()},\n",
    "           'MSE_rolling':{name:RollingMSE(window_size=1000) for name in full_set}\n",
    "          }"
   ]
  },
  {
   "cell_type": "code",
   "execution_count": 6,
   "metadata": {},
   "outputs": [],
   "source": [
    "full_set = river_models.keys()\n",
    "metrics = {'R2':{name:metrics.R2() for name in full_set},\n",
    "           'R2_rolling': {name:RollingR2(window_size=1000) for name in full_set},\n",
    "           'MSE':{name:metrics.MSE() for name in river_models.keys()},\n",
    "           'MSE_rolling':{name:RollingMSE(window_size=1000) for name in full_set}\n",
    "          }"
   ]
  },
  {
   "cell_type": "code",
   "execution_count": 7,
   "metadata": {},
   "outputs": [],
   "source": [
    "#take our pretrained models, now evaluate them on "
   ]
  },
  {
   "cell_type": "code",
   "execution_count": 8,
   "metadata": {
    "scrolled": true
   },
   "outputs": [
    {
     "data": {
      "application/vnd.jupyter.widget-view+json": {
       "model_id": "e3240eee14684f74b1bbb2782ecba7db",
       "version_major": 2,
       "version_minor": 0
      },
      "text/plain": [
       "  0%|          | 0/8333 [00:00<?, ?it/s]"
      ]
     },
     "metadata": {},
     "output_type": "display_data"
    }
   ],
   "source": [
    "_,_,river_models,metrics = prequential_evaluate(pretrain_data,river_models,metrics,pretrain = len(pretrain_data),num_its=len(pretrain_data))"
   ]
  },
  {
   "cell_type": "code",
   "execution_count": 9,
   "metadata": {},
   "outputs": [
    {
     "data": {
      "application/vnd.jupyter.widget-view+json": {
       "model_id": "28ff22bf7b5441aebe1b949e738662ce",
       "version_major": 2,
       "version_minor": 0
      },
      "text/plain": [
       "  0%|          | 0/1667 [00:00<?, ?it/s]"
      ]
     },
     "metadata": {},
     "output_type": "display_data"
    }
   ],
   "source": [
    "preds_test,scores_test,metrics = score_evaluate(pretest_data,river_models,metrics,num_its=len(pretest_data))"
   ]
  },
  {
   "cell_type": "code",
   "execution_count": 10,
   "metadata": {},
   "outputs": [
    {
     "data": {
      "application/vnd.jupyter.widget-view+json": {
       "model_id": "47ff4764b05d4fc5bedcfd20fd026d50",
       "version_major": 2,
       "version_minor": 0
      },
      "text/plain": [
       "  0%|          | 0/1000 [00:00<?, ?it/s]"
      ]
     },
     "metadata": {},
     "output_type": "display_data"
    }
   ],
   "source": [
    "preds_stream, scores_stream,river_models,metrics = prequential_evaluate(stream_data,river_models,metrics,pretrain=0,num_its=100000)"
   ]
  },
  {
   "cell_type": "code",
   "execution_count": 11,
   "metadata": {},
   "outputs": [],
   "source": [
    "def zip_dict(dict1,dict2):\n",
    " \n",
    "    dict12 = {k:dict1[k]+dict2[k] for k in dict1.keys()}   \n",
    "    return dict12\n",
    "\n",
    "def zip_nested_dict(dict1,dict2):\n",
    "    dict12 = {}\n",
    "    \n",
    "    for k in dict1.keys():\n",
    "        dict12[k] = {name:dict1[k][name]+dict2[k][name] for name in dict1[k].keys()}\n",
    "    return dict12"
   ]
  },
  {
   "cell_type": "code",
   "execution_count": 12,
   "metadata": {},
   "outputs": [],
   "source": [
    "preds = zip_dict(preds_test,preds_stream)"
   ]
  },
  {
   "cell_type": "code",
   "execution_count": 13,
   "metadata": {},
   "outputs": [],
   "source": [
    "scores = zip_nested_dict(scores_test,scores_stream)"
   ]
  },
  {
   "cell_type": "code",
   "execution_count": 14,
   "metadata": {},
   "outputs": [],
   "source": [
    "preds_df = pd.DataFrame(preds)\n",
    "\n",
    "for (columnName, columnData) in preds_df.iteritems():\n",
    "    preds_df[f'diff_{columnName}'] = columnData-preds_df['y']\n",
    "\n",
    "preds_df.to_csv(log_dir/\"preds_df.csv\")"
   ]
  },
  {
   "cell_type": "code",
   "execution_count": 15,
   "metadata": {},
   "outputs": [],
   "source": [
    "#findings\n",
    "#1) preprocessing works, random lr things for lr don't\n",
    "#) standardisation asks as regularisation\n",
    "\n",
    "scores_df_rolling = pd.DataFrame(scores['R2_rolling'])\n",
    "scores_df_total = pd.DataFrame(scores['R2'])"
   ]
  },
  {
   "cell_type": "code",
   "execution_count": 16,
   "metadata": {},
   "outputs": [],
   "source": [
    "if False:\n",
    "    fig, ax = plt.subplots()\n",
    "\n",
    "    ax.set_xlabel(\"Stream Index\")\n",
    "    ax.set_ylabel(\"R^2 Score\")\n",
    "    ax.set_title(\"Streaming performance \")\n",
    "\n",
    "    for (columnName, columnData) in scores_df.iteritems():\n",
    "\n",
    "        ax.plot(columnData.index,columnData,'-',label = f\"{columnName}\")\n",
    "    ax.plot([len(pretest_data),len(pretest_data)],[-1,1],c=\"black\",ls='--')\n",
    "\n",
    "    ax.legend(loc='upper right',bbox_to_anchor=(1.4, 1))\n",
    "    plt.savefig(log_dir / f\"r2_plot.png\",bbox_inches='tight')\n",
    "    ax.set_ylim(0,1)\n",
    "    plt.savefig(log_dir / f\"r2_plot_v2.png\",bbox_inches='tight')\n"
   ]
  },
  {
   "cell_type": "code",
   "execution_count": 17,
   "metadata": {},
   "outputs": [
    {
     "data": {
      "image/png": "[encoded data removed]",
      "text/plain": [
       "<Figure size 432x288 with 1 Axes>"
      ]
     },
     "metadata": {
      "needs_background": "light"
     },
     "output_type": "display_data"
    }
   ],
   "source": [
    "fig, ax = plt.subplots()\n",
    "\n",
    "ax.set_xlabel(\"Stream Index\")\n",
    "ax.set_ylabel(\"R^2 Score\")\n",
    "ax.set_title(\"Streaming performance (rolling average) \")\n",
    "    \n",
    "scores_df = pd.DataFrame(scores['R2_rolling'])\n",
    "scores_df.to_csv(log_dir/\"r2_scores_rolling.csv\")\n",
    "for (columnName, columnData) in scores_df.iteritems():\n",
    "    columnData\n",
    "    ax.plot(columnData.index,columnData,label = f\"{columnName}\")\n",
    "ax.plot([len(pretest_data),len(pretest_data)],[-1,1],c=\"black\",ls='--')\n",
    "\n",
    "ax.legend(loc='upper right',bbox_to_anchor=(1.4, 1))\n",
    "plt.savefig(log_dir / f\"r2_plot_rolling.png\",bbox_inches='tight')\n",
    "ax.set_ylim(0,1)\n",
    "plt.savefig(log_dir / f\"r2_plot_rolling_v2.png\",bbox_inches='tight')"
   ]
  },
  {
   "cell_type": "code",
   "execution_count": 18,
   "metadata": {},
   "outputs": [
    {
     "data": {
      "image/png": "[encoded data removed]",
      "text/plain": [
       "<Figure size 432x288 with 1 Axes>"
      ]
     },
     "metadata": {
      "needs_background": "light"
     },
     "output_type": "display_data"
    }
   ],
   "source": [
    "fig, ax = plt.subplots()\n",
    "\n",
    "ax.set_xlabel(\"Stream Index\")\n",
    "ax.set_ylabel(\"MSE\")\n",
    "ax.set_title(\"Streaming performance \")\n",
    "\n",
    "scores_df = pd.DataFrame(scores['MSE'])\n",
    "scores_df.to_csv(log_dir/\"MSE.csv\")\n",
    "for (columnName, columnData) in scores_df.iteritems():\n",
    "    ax.plot(columnData.index,columnData,'-',label = f\"{columnName}\")\n",
    "ax.plot([len(pretest_data),len(pretest_data)],[0,1000],c=\"black\",ls='--')\n",
    "ax.legend(loc='upper right',bbox_to_anchor=(1.4, 1))\n",
    "plt.savefig(log_dir / f\"mse_plot.png\",bbox_inches='tight')\n",
    "ax.set_ylim(0,1000)\n",
    "plt.savefig(log_dir / f\"mse_plot_v2.png\",bbox_inches='tight')"
   ]
  },
  {
   "cell_type": "code",
   "execution_count": 19,
   "metadata": {},
   "outputs": [
    {
     "data": {
      "image/png": "[encoded data removed]",
      "text/plain": [
       "<Figure size 432x288 with 1 Axes>"
      ]
     },
     "metadata": {
      "needs_background": "light"
     },
     "output_type": "display_data"
    }
   ],
   "source": [
    "fig, ax = plt.subplots()\n",
    "\n",
    "ax.set_xlabel(\"Stream Index\")\n",
    "ax.set_ylabel(\"MSE\")\n",
    "ax.set_title(\"Streaming performance (rolling average) \")\n",
    "\n",
    "scores_df = pd.DataFrame(scores['MSE_rolling'])\n",
    "scores_df.to_csv(log_dir/\"MSE_rolling.csv\")\n",
    "for (columnName, columnData) in scores_df.iteritems():\n",
    "    ax.plot(columnData.index,columnData,label = f\"{columnName}\")\n",
    "ax.plot([len(pretest_data),len(pretest_data)],[0,1000],c=\"black\",ls='--')\n",
    "ax.legend(loc='upper right',bbox_to_anchor=(1.4, 1))\n",
    "plt.savefig(log_dir / f\"mse_plot_rolling.png\",bbox_inches='tight')\n",
    "ax.set_ylim(-1,200)\n",
    "plt.savefig(log_dir / f\"mse_plot_rolling_v2.png\",bbox_inches='tight')"
   ]
  },
  {
   "cell_type": "code",
   "execution_count": 20,
   "metadata": {},
   "outputs": [
    {
     "name": "stdout",
     "output_type": "stream",
     "text": [
      "pls-deep_e, R^2 = 0.8502651416401126, MSE = 135.80643179463178\n",
      "pls-deep_e-lwr, R^2 = 0.8495753284159997, MSE = 136.2358699787065\n",
      "std-deep_e, R^2 = 0.8525602794930623, MSE = 134.03530871539434\n",
      "std-deep_e-lwr, R^2 = 0.8520926903712442, MSE = 134.7918759143072\n",
      "std-deep_lwr_e, R^2 = 0.8409656302427735, MSE = 143.59755485582176\n",
      "pls-deep_lwr_e, R^2 = 0.841195250488801, MSE = 143.72741760527865\n",
      "diff_pls-deep_e, R^2 = -0.4966760753606161, MSE = 3226.683818477298\n",
      "diff_pls-deep_e-lwr, R^2 = -0.5084866430903453, MSE = 3239.010678772122\n",
      "diff_std-deep_e, R^2 = -0.5584112888318888, MSE = 3249.023324194714\n",
      "diff_std-deep_e-lwr, R^2 = -0.5377971820977838, MSE = 3201.1667749413896\n",
      "diff_std-deep_lwr_e, R^2 = -0.49101524052442075, MSE = 3283.783556187293\n",
      "diff_pls-deep_lwr_e, R^2 = -0.47645334798298744, MSE = 3268.546588810403\n",
      "diff_y, R^2 = nan, MSE = 2881.6075932133485\n"
     ]
    },
    {
     "name": "stderr",
     "output_type": "stream",
     "text": [
      "C:\\Users\\huonf\\.conda\\envs\\lazydeep\\lib\\site-packages\\scipy\\stats\\_stats_py.py:4068: PearsonRConstantInputWarning: An input array is constant; the correlation coefficient is not defined.\n",
      "  warnings.warn(PearsonRConstantInputWarning())\n"
     ]
    },
    {
     "data": {
      "text/plain": [
       "(0.0, 500.0)"
      ]
     },
     "execution_count": 20,
     "metadata": {},
     "output_type": "execute_result"
    },
    {
     "data": {
      "image/png": "[encoded data removed]",
      "text/plain": [
       "<Figure size 432x288 with 1 Axes>"
      ]
     },
     "metadata": {
      "needs_background": "light"
     },
     "output_type": "display_data"
    }
   ],
   "source": [
    "import scipy.stats\n",
    "from sklearn.metrics import mean_squared_error, mean_absolute_error\n",
    "\n",
    "fig, ax = plt.subplots()\n",
    "ax.set_ylabel('y_pred')\n",
    "ax.set_xlabel('y_true')\n",
    "\n",
    "for (columnName, columnData) in preds_df.iteritems():\n",
    "        if not columnName == 'y':\n",
    "            ax.scatter(preds_df['y'],columnData,label = f\"{columnName}\",s=1)\n",
    "            \n",
    "            corr_coef = scipy.stats.pearsonr(columnData, preds_df['y'])\n",
    "            #slope, intercept, r, p, stderr = scipy.stats.linregress(columnData, preds_df['y'])\n",
    "            loss = mean_squared_error(preds_df['y'], columnData)\n",
    "            mae = mean_absolute_error(preds_df['y'], columnData)    \n",
    "            print(f\"{columnName}, R^2 = {corr_coef[0]}, MSE = {loss}\")\n",
    "            \n",
    "ax.legend(loc='upper right',bbox_to_anchor=(1.4, 1))\n",
    "ax.set_ylim(0,500)"
   ]
  },
  {
   "cell_type": "code",
   "execution_count": null,
   "metadata": {
    "tags": []
   },
   "outputs": [],
   "source": []
  },
  {
   "cell_type": "code",
   "execution_count": null,
   "metadata": {
    "tags": []
   },
   "outputs": [],
   "source": []
  },
  {
   "cell_type": "code",
   "execution_count": 21,
   "metadata": {},
   "outputs": [],
   "source": [
    "def take_subset_by_str(dataset,s,reverse=False):\n",
    "    col_names = dataset.columns.tolist()\n",
    "    if reverse:\n",
    "        encoding = [i for i in col_names if not (s in i)]\n",
    "    else:\n",
    "        encoding = [i for i in col_names if (s in i)]\n",
    "    return dataset[encoding]\n",
    "\n",
    "def take_subset_by_re(dataset,s,reverse=False):\n",
    "    col_names = dataset.columns.tolist()\n",
    "    if reverse:\n",
    "        encoding = [i for i in col_names if not s.match(i)]\n",
    "    else:\n",
    "        encoding = [i for i in col_names if s.match(i)]\n",
    "    return dataset[encoding]"
   ]
  },
  {
   "cell_type": "code",
   "execution_count": 22,
   "metadata": {},
   "outputs": [],
   "source": [
    "if False:\n",
    "    subset2 = take_subset_by_str(scores_df ,'pls')\n",
    "    fig, ax = plt.subplots()\n",
    "\n",
    "    ax.set_xlabel(\"Stream Index\")\n",
    "    ax.set_ylabel(\"R2\")\n",
    "    ax.set_title(\"Streaming performance (rolling average) \")\n",
    "\n",
    "\n",
    "    for (columnName, columnData) in subset2.iteritems():\n",
    "        ax.plot(columnData.index,columnData,label = f\"{columnName.replace('pls_deep_',' ').replace('pls_deep','base_model')}\",linewidth=1.5)\n",
    "    ax.plot([len(pretest_data),len(pretest_data)],[-1,1],c=\"black\",ls='--')\n",
    "\n",
    "    ax.legend(loc='upper right',bbox_to_anchor=(1.4, 1))\n",
    "    plt.savefig(log_dir / f\"r2_plot_pls.png\",bbox_inches='tight')\n",
    "    ax.set_ylim(0,1)\n",
    "    plt.savefig(log_dir / f\"r2_plot_v2_pls.png\",bbox_inches='tight')\n",
    "    "
   ]
  },
  {
   "cell_type": "code",
   "execution_count": 23,
   "metadata": {},
   "outputs": [],
   "source": [
    "if False:\n",
    "    subset2 = take_subset_by_str(scores_df ,'pls',reverse=True)\n",
    "    fig, ax = plt.subplots()\n",
    "\n",
    "    ax.set_xlabel(\"Stream Index\")\n",
    "    ax.set_ylabel(\"R2\")\n",
    "    ax.set_title(\"Streaming performance (rolling average) \")\n",
    "\n",
    "\n",
    "    for (columnName, columnData) in subset2.iteritems():\n",
    "        ax.plot(columnData.index,columnData,label =  f\"{columnName.replace('deep_',' ').replace('deep','base_model')}\")\n",
    "    ax.plot([len(pretest_data),len(pretest_data)],[-1,1],c=\"black\",ls='--')\n",
    "\n",
    "    ax.legend(loc='upper right',bbox_to_anchor=(1.4, 1))\n",
    "    plt.savefig(log_dir / f\"r2_plot_deep.png\",bbox_inches='tight')\n",
    "    ax.set_ylim(0,1)\n",
    "    plt.savefig(log_dir / f\"r2_plot_v2_deep.png\",bbox_inches='tight')\n"
   ]
  },
  {
   "cell_type": "code",
   "execution_count": 24,
   "metadata": {},
   "outputs": [],
   "source": [
    "import re \n",
    "if False:\n",
    "    pp_opts = ['deep_lwr']\n",
    "    ws_opts = ['_s1','_s2','_s3','_s4']\n",
    "    for pp_opt in pp_opts:\n",
    "        subset1 = take_subset_by_str(scores_df,pp_opt)\n",
    "\n",
    "        for ws_opt in ws_opts:\n",
    "            subset2 = take_subset_by_str(subset1,ws_opt)\n",
    "\n",
    "            fig, ax = plt.subplots()\n",
    "\n",
    "            ax.set_xlabel(\"Stream Index\")\n",
    "            ax.set_ylabel(\"R2\")\n",
    "            ax.set_title(\"Streaming performance (rolling average) \")\n",
    "\n",
    "\n",
    "            for (columnName, columnData) in subset2.iteritems():\n",
    "                ax.plot(columnData.index,columnData,label = f\"{columnName}\")\n",
    "            ax.plot([len(pretest_data),len(pretest_data)],[-1,1],c=\"black\",ls='--')\n",
    "\n",
    "            ax.legend(loc='upper right',bbox_to_anchor=(1.4, 1))\n",
    "            #plt.savefig(log_dir / f\"r2_plot_{pp_opt}{ws_opt}.png\",bbox_inches='tight')\n",
    "            ax.set_ylim(-1,1)\n",
    "            #plt.savefig(log_dir / f\"r2_plot_v2_{pp_opt}{ws_opt}.png\",bbox_inches='tight')\n"
   ]
  },
  {
   "cell_type": "code",
   "execution_count": 25,
   "metadata": {},
   "outputs": [
    {
     "name": "stderr",
     "output_type": "stream",
     "text": [
      "No artists with labels found to put in legend.  Note that artists whose label start with an underscore are ignored when legend() is called with no argument.\n"
     ]
    },
    {
     "data": {
      "image/png": "[encoded data removed]",
      "text/plain": [
       "<Figure size 432x288 with 1 Axes>"
      ]
     },
     "metadata": {
      "needs_background": "light"
     },
     "output_type": "display_data"
    }
   ],
   "source": [
    "# deep subset\n",
    "p = re.compile('(pls-deep_\\d)(?!-lwr)')\n",
    "subset = take_subset_by_re(scores_df_total ,p,reverse=False)\n",
    "fig, ax = plt.subplots()\n",
    "\n",
    "ax.set_xlabel(\"Stream Index\")\n",
    "ax.set_ylabel(\"R2\")\n",
    "ax.set_title(\"Streaming performance \")\n",
    "\n",
    "\n",
    "for (columnName, columnData) in subset.iteritems():\n",
    "    ax.plot(columnData.index,columnData,label =  f\"{columnName}\")\n",
    "ax.plot([len(pretest_data),len(pretest_data)],[-1,1],c=\"black\",ls='--')\n",
    "\n",
    "ax.legend(loc='upper right',bbox_to_anchor=(1.4, 1))\n",
    "plt.savefig(log_dir / f\"r2_plot_pls-deep.png\",bbox_inches='tight')\n",
    "ax.set_ylim(0,1)\n",
    "plt.savefig(log_dir / f\"r2_plot_v2_pls-deep.png\",bbox_inches='tight')"
   ]
  },
  {
   "cell_type": "code",
   "execution_count": 26,
   "metadata": {},
   "outputs": [
    {
     "name": "stderr",
     "output_type": "stream",
     "text": [
      "No artists with labels found to put in legend.  Note that artists whose label start with an underscore are ignored when legend() is called with no argument.\n"
     ]
    },
    {
     "data": {
      "image/png": "[encoded data removed]",
      "text/plain": [
       "<Figure size 432x288 with 1 Axes>"
      ]
     },
     "metadata": {
      "needs_background": "light"
     },
     "output_type": "display_data"
    }
   ],
   "source": [
    "# deep subset\n",
    "p = re.compile('(pls-deep_\\d)(?!-lwr)')\n",
    "subset = take_subset_by_re(scores_df_rolling ,p,reverse=False)\n",
    "fig, ax = plt.subplots()\n",
    "\n",
    "ax.set_xlabel(\"Stream Index\")\n",
    "ax.set_ylabel(\"R2\")\n",
    "ax.set_title(\"Streaming performance (rolling average) \")\n",
    "\n",
    "\n",
    "for (columnName, columnData) in subset.iteritems():\n",
    "    ax.plot(columnData.index,columnData,label =  f\"{columnName}\")\n",
    "#ax.plot([len(pretest_data),len(pretest_data)],[-1,1],c=\"black\",ls='--')\n",
    "\n",
    "ax.legend(loc='upper right',bbox_to_anchor=(1.4, 1))\n",
    "plt.savefig(log_dir / f\"r2_plot_rolling_pls-deep.png\",bbox_inches='tight')\n",
    "ax.set_ylim(0,1)\n",
    "plt.savefig(log_dir / f\"r2_plot_rolling_v2_pls-deep.png\",bbox_inches='tight')"
   ]
  },
  {
   "cell_type": "code",
   "execution_count": 27,
   "metadata": {},
   "outputs": [
    {
     "name": "stderr",
     "output_type": "stream",
     "text": [
      "No artists with labels found to put in legend.  Note that artists whose label start with an underscore are ignored when legend() is called with no argument.\n",
      "No artists with labels found to put in legend.  Note that artists whose label start with an underscore are ignored when legend() is called with no argument.\n"
     ]
    },
    {
     "data": {
      "image/png": "[encoded data removed]",
      "text/plain": [
       "<Figure size 432x288 with 1 Axes>"
      ]
     },
     "metadata": {
      "needs_background": "light"
     },
     "output_type": "display_data"
    },
    {
     "data": {
      "image/png": "[encoded data removed]",
      "text/plain": [
       "<Figure size 432x288 with 1 Axes>"
      ]
     },
     "metadata": {
      "needs_background": "light"
     },
     "output_type": "display_data"
    }
   ],
   "source": [
    "p = re.compile('(std-deep_\\d)(?!-lwr)')\n",
    "subset = take_subset_by_re(scores_df_total ,p,reverse=False)\n",
    "\n",
    "fig, ax = plt.subplots()\n",
    "ax.set_xlabel(\"Stream Index\")\n",
    "ax.set_ylabel(\"R2\")\n",
    "ax.set_title(\"Streaming performance\")\n",
    "\n",
    "\n",
    "for (columnName, columnData) in subset.iteritems():\n",
    "    ax.plot(columnData.index,columnData,label =  f\"{columnName}\")\n",
    "#ax.plot([len(pretest_data),len(pretest_data)],[-1,1],c=\"black\",ls='--')\n",
    "\n",
    "ax.legend(loc='upper right',bbox_to_anchor=(1.4, 1))\n",
    "plt.savefig(log_dir / f\"r2_plot_std-deep.png\",bbox_inches='tight')\n",
    "ax.set_ylim(0,1)\n",
    "plt.savefig(log_dir / f\"r2_plot_v2_std-deep.png\",bbox_inches='tight')\n",
    "\n",
    "subset = take_subset_by_re(scores_df_rolling ,p,reverse=False)\n",
    "\n",
    "fig, ax = plt.subplots()\n",
    "ax.set_xlabel(\"Stream Index\")\n",
    "ax.set_ylabel(\"R2\")\n",
    "ax.set_title(\"Streaming performance (rolling average) \")\n",
    "\n",
    "\n",
    "for (columnName, columnData) in subset.iteritems():\n",
    "    ax.plot(columnData.index,columnData,label =  f\"{columnName}\")\n",
    "#ax.plot([len(pretest_data),len(pretest_data)],[-1,1],c=\"black\",ls='--')\n",
    "\n",
    "ax.legend(loc='upper right',bbox_to_anchor=(1.4, 1))\n",
    "plt.savefig(log_dir / f\"r2_plot_rolling_std-deep.png\",bbox_inches='tight')\n",
    "ax.set_ylim(0,1)\n",
    "plt.savefig(log_dir / f\"r2_plot_rolling_v2_std-deep.png\",bbox_inches='tight')"
   ]
  },
  {
   "cell_type": "code",
   "execution_count": 28,
   "metadata": {},
   "outputs": [
    {
     "name": "stderr",
     "output_type": "stream",
     "text": [
      "No artists with labels found to put in legend.  Note that artists whose label start with an underscore are ignored when legend() is called with no argument.\n",
      "No artists with labels found to put in legend.  Note that artists whose label start with an underscore are ignored when legend() is called with no argument.\n"
     ]
    },
    {
     "data": {
      "image/png": "[encoded data removed]",
      "text/plain": [
       "<Figure size 432x288 with 1 Axes>"
      ]
     },
     "metadata": {
      "needs_background": "light"
     },
     "output_type": "display_data"
    },
    {
     "data": {
      "image/png": "[encoded data removed]",
      "text/plain": [
       "<Figure size 432x288 with 1 Axes>"
      ]
     },
     "metadata": {
      "needs_background": "light"
     },
     "output_type": "display_data"
    }
   ],
   "source": [
    "# pls-deep-lwr subset\n",
    "\n",
    "p = re.compile('(pls-deep_\\d-lwr)')\n",
    "subset = take_subset_by_re(scores_df_total ,p,reverse=False)\n",
    "fig, ax = plt.subplots()\n",
    "\n",
    "ax.set_xlabel(\"Stream Index\")\n",
    "ax.set_ylabel(\"R2\")\n",
    "ax.set_title(\"Streaming performance \")\n",
    "\n",
    "\n",
    "for (columnName, columnData) in subset.iteritems():\n",
    "    ax.plot(columnData.index,columnData,label =  f\"{columnName}\")\n",
    "#ax.plot([len(pretest_data),len(pretest_data)],[-1,1],c=\"black\",ls='--')\n",
    "\n",
    "ax.legend(loc='upper right',bbox_to_anchor=(1.4, 1))\n",
    "plt.savefig(log_dir / f\"r2_plot_pls-deep-lwr.png\",bbox_inches='tight')\n",
    "ax.set_ylim(0,1)\n",
    "plt.savefig(log_dir / f\"r2_plot_v2_pls-deep-lwr.png\",bbox_inches='tight')\n",
    "\n",
    "subset = take_subset_by_re(scores_df_rolling ,p,reverse=False)\n",
    "fig, ax = plt.subplots()\n",
    "\n",
    "ax.set_xlabel(\"Stream Index\")\n",
    "ax.set_ylabel(\"R2\")\n",
    "ax.set_title(\"Streaming performance (rolling average) \")\n",
    "\n",
    "\n",
    "for (columnName, columnData) in subset.iteritems():\n",
    "    ax.plot(columnData.index,columnData,label =  f\"{columnName}\")\n",
    "#ax.plot([len(pretest_data),len(pretest_data)],[-1,1],c=\"black\",ls='--')\n",
    "\n",
    "ax.legend(loc='upper right',bbox_to_anchor=(1.4, 1))\n",
    "plt.savefig(log_dir / f\"r2_plot_rolling_pls-deep-lwr.png\",bbox_inches='tight')\n",
    "ax.set_ylim(0,1)\n",
    "plt.savefig(log_dir / f\"r2_plot_rolling_v2_pls-deep-lwr.png\",bbox_inches='tight')"
   ]
  },
  {
   "cell_type": "code",
   "execution_count": 29,
   "metadata": {},
   "outputs": [
    {
     "name": "stderr",
     "output_type": "stream",
     "text": [
      "No artists with labels found to put in legend.  Note that artists whose label start with an underscore are ignored when legend() is called with no argument.\n",
      "No artists with labels found to put in legend.  Note that artists whose label start with an underscore are ignored when legend() is called with no argument.\n"
     ]
    },
    {
     "data": {
      "image/png": "[encoded data removed]",
      "text/plain": [
       "<Figure size 432x288 with 1 Axes>"
      ]
     },
     "metadata": {
      "needs_background": "light"
     },
     "output_type": "display_data"
    },
    {
     "data": {
      "image/png": "[encoded data removed]",
      "text/plain": [
       "<Figure size 432x288 with 1 Axes>"
      ]
     },
     "metadata": {
      "needs_background": "light"
     },
     "output_type": "display_data"
    }
   ],
   "source": [
    "# std-deep-lwr subset\n",
    "\n",
    "p = re.compile('(std-deep_\\d-lwr)')\n",
    "subset = take_subset_by_re(scores_df_total ,p,reverse=False)\n",
    "fig, ax = plt.subplots()\n",
    "\n",
    "ax.set_xlabel(\"Stream Index\")\n",
    "ax.set_ylabel(\"R2\")\n",
    "ax.set_title(\"Streaming performance \")\n",
    "\n",
    "\n",
    "for (columnName, columnData) in subset.iteritems():\n",
    "    ax.plot(columnData.index,columnData,label =  f\"{columnName}\")\n",
    "#ax.plot([len(pretest_data),len(pretest_data)],[-1,1],c=\"black\",ls='--')\n",
    "\n",
    "ax.legend(loc='upper right',bbox_to_anchor=(1.4, 1))\n",
    "plt.savefig(log_dir / f\"r2_plot_std-deep-lwr.png\",bbox_inches='tight')\n",
    "ax.set_ylim(0,1)\n",
    "plt.savefig(log_dir / f\"r2_plot_v2_std-deep-lwr.png\",bbox_inches='tight')\n",
    "\n",
    "\n",
    "subset = take_subset_by_re(scores_df_rolling ,p,reverse=False)\n",
    "fig, ax = plt.subplots()\n",
    "\n",
    "ax.set_xlabel(\"Stream Index\")\n",
    "ax.set_ylabel(\"R2\")\n",
    "ax.set_title(\"Streaming performance (rolling average) \")\n",
    "\n",
    "for (columnName, columnData) in subset.iteritems():\n",
    "    ax.plot(columnData.index,columnData,label =  f\"{columnName}\")\n",
    "#ax.plot([len(pretest_data),len(pretest_data)],[-1,1],c=\"black\",ls='--')\n",
    "\n",
    "ax.legend(loc='upper right',bbox_to_anchor=(1.4, 1))\n",
    "plt.savefig(log_dir / f\"r2_plot_rolling_std-deep-lwr.png\",bbox_inches='tight')\n",
    "ax.set_ylim(0,1)\n",
    "plt.savefig(log_dir / f\"r2_plot_rolling_v2_std-deep-lwr.png\",bbox_inches='tight')\n"
   ]
  },
  {
   "cell_type": "code",
   "execution_count": 30,
   "metadata": {},
   "outputs": [
    {
     "data": {
      "image/png": "[encoded data removed]",
      "text/plain": [
       "<Figure size 432x288 with 1 Axes>"
      ]
     },
     "metadata": {
      "needs_background": "light"
     },
     "output_type": "display_data"
    },
    {
     "data": {
      "image/png": "[encoded data removed]",
      "text/plain": [
       "<Figure size 432x288 with 1 Axes>"
      ]
     },
     "metadata": {
      "needs_background": "light"
     },
     "output_type": "display_data"
    }
   ],
   "source": [
    "# pls-deep-lwr subset\n",
    "\n",
    "p = re.compile('(pls-deep)(_lwr)*(_e)')\n",
    "subset = take_subset_by_re(scores_df_total ,p,reverse=False)\n",
    "fig, ax = plt.subplots()\n",
    "\n",
    "ax.set_xlabel(\"Stream Index\")\n",
    "ax.set_ylabel(\"R2\")\n",
    "ax.set_title(\"Streaming performance\")\n",
    "\n",
    "for i,((columnName, columnData)) in enumerate(subset.iteritems()):\n",
    "    #if i == 0 or i==1:\n",
    "        ax.plot(columnData.index,columnData,label =  f\"{columnName}\")\n",
    "#ax.plot([len(pretest_data),len(pretest_data)],[-1,1],c=\"black\",ls='--')\n",
    "\n",
    "ax.legend(loc='upper right',bbox_to_anchor=(1.4, 1))\n",
    "plt.savefig(log_dir / f\"r2_plot_pls-ensemble.png\",bbox_inches='tight')\n",
    "ax.set_ylim(0,1)\n",
    "plt.savefig(log_dir / f\"r2_plot_v2_pls-ensemble.png\",bbox_inches='tight')\n",
    "\n",
    "subset = take_subset_by_re(scores_df_rolling ,p,reverse=False)\n",
    "fig, ax = plt.subplots()\n",
    "\n",
    "ax.set_xlabel(\"Stream Index\")\n",
    "ax.set_ylabel(\"R2\")\n",
    "ax.set_title(\"Streaming performance (rolling average) \")\n",
    "\n",
    "for i,((columnName, columnData)) in enumerate(subset.iteritems()):\n",
    "    #if i == 0 or i==1:\n",
    "        ax.plot(columnData.index,columnData,label =  f\"{columnName}\")\n",
    "#ax.plot([len(pretest_data),len(pretest_data)],[-1,1],c=\"black\",ls='--')\n",
    "\n",
    "ax.legend(loc='upper right',bbox_to_anchor=(1.4, 1))\n",
    "plt.savefig(log_dir / f\"r2_plot_rolling_pls-ensemble.png\",bbox_inches='tight')\n",
    "ax.set_ylim(0,1)\n",
    "plt.savefig(log_dir / f\"r2_plot_rolling_v2_pls-ensemble.png\",bbox_inches='tight')"
   ]
  },
  {
   "cell_type": "code",
   "execution_count": 31,
   "metadata": {},
   "outputs": [
    {
     "data": {
      "image/png": "[encoded data removed]",
      "text/plain": [
       "<Figure size 432x288 with 1 Axes>"
      ]
     },
     "metadata": {
      "needs_background": "light"
     },
     "output_type": "display_data"
    },
    {
     "data": {
      "image/png": "[encoded data removed]",
      "text/plain": [
       "<Figure size 432x288 with 1 Axes>"
      ]
     },
     "metadata": {
      "needs_background": "light"
     },
     "output_type": "display_data"
    }
   ],
   "source": [
    "# pls-deep-lwr subset\n",
    "\n",
    "p = re.compile('(std-deep)(_lwr)*(_e)')\n",
    "subset = take_subset_by_re(scores_df_total ,p,reverse=False)\n",
    "fig, ax = plt.subplots()\n",
    "\n",
    "ax.set_xlabel(\"Stream Index\")\n",
    "ax.set_ylabel(\"R2\")\n",
    "ax.set_title(\"Streaming performance \")\n",
    "\n",
    "\n",
    "for i,((columnName, columnData)) in enumerate(subset.iteritems()):\n",
    "    #if i == 0 or i==1:\n",
    "        ax.plot(columnData.index,columnData,label =  f\"{columnName}\")\n",
    "#ax.plot([len(pretest_data),len(pretest_data)],[-1,1],c=\"black\",ls='--')\n",
    "\n",
    "ax.legend(loc='upper right',bbox_to_anchor=(1.4, 1))\n",
    "plt.savefig(log_dir / f\"r2_plot_std-ensemble.png\",bbox_inches='tight')\n",
    "ax.set_ylim(0,1)\n",
    "plt.savefig(log_dir / f\"r2_plot_v2_std-ensemble.png\",bbox_inches='tight')\n",
    "\n",
    "subset = take_subset_by_re(scores_df_rolling ,p,reverse=False)\n",
    "fig, ax = plt.subplots()\n",
    "\n",
    "ax.set_xlabel(\"Stream Index\")\n",
    "ax.set_ylabel(\"R2\")\n",
    "ax.set_title(\"Streaming performance (rolling average) \")\n",
    "\n",
    "\n",
    "for i,((columnName, columnData)) in enumerate(subset.iteritems()):\n",
    "    #if i == 0 or i==1:\n",
    "        ax.plot(columnData.index,columnData,label =  f\"{columnName}\")\n",
    "#ax.plot([len(pretest_data),len(pretest_data)],[-1,1],c=\"black\",ls='--')\n",
    "\n",
    "ax.legend(loc='upper right',bbox_to_anchor=(1.4, 1))\n",
    "plt.savefig(log_dir / f\"r2_plot_rolling_std-ensemble.png\",bbox_inches='tight')\n",
    "ax.set_ylim(0,1)\n",
    "plt.savefig(log_dir / f\"r2_plot_rolling_v2_std-ensemble.png\",bbox_inches='tight')"
   ]
  },
  {
   "cell_type": "code",
   "execution_count": 32,
   "metadata": {},
   "outputs": [],
   "source": [
    "id1 = 87217-len(pretest_data)\n",
    "x1,y1=stream_data[id1]\n",
    "#river_models[f'std-deep_0'].predict_one(numpy2dict(x1))"
   ]
  },
  {
   "cell_type": "code",
   "execution_count": 33,
   "metadata": {},
   "outputs": [
    {
     "data": {
      "text/html": [
       "<div>\n",
       "<style scoped>\n",
       "    .dataframe tbody tr th:only-of-type {\n",
       "        vertical-align: middle;\n",
       "    }\n",
       "\n",
       "    .dataframe tbody tr th {\n",
       "        vertical-align: top;\n",
       "    }\n",
       "\n",
       "    .dataframe thead th {\n",
       "        text-align: right;\n",
       "    }\n",
       "</style>\n",
       "<table border=\"1\" class=\"dataframe\">\n",
       "  <thead>\n",
       "    <tr style=\"text-align: right;\">\n",
       "      <th></th>\n",
       "      <th>0</th>\n",
       "      <th>1</th>\n",
       "      <th>2</th>\n",
       "      <th>v</th>\n",
       "    </tr>\n",
       "  </thead>\n",
       "  <tbody>\n",
       "    <tr>\n",
       "      <th>0</th>\n",
       "      <td>(1.0, 0.0)</td>\n",
       "      <td>(0.9662182412032032, 0.0)</td>\n",
       "      <td>(0.9687833404686074, 0.0)</td>\n",
       "      <td>(0.9907577250504074, 0.0)</td>\n",
       "    </tr>\n",
       "    <tr>\n",
       "      <th>1</th>\n",
       "      <td>(0.9662182412032032, 0.0)</td>\n",
       "      <td>(1.0, 0.0)</td>\n",
       "      <td>(0.9480678346049548, 0.0)</td>\n",
       "      <td>(0.9817039345294734, 0.0)</td>\n",
       "    </tr>\n",
       "    <tr>\n",
       "      <th>2</th>\n",
       "      <td>(0.9687833404686074, 0.0)</td>\n",
       "      <td>(0.9480678346049548, 0.0)</td>\n",
       "      <td>(0.9999999999999984, 0.0)</td>\n",
       "      <td>(0.9822479097214033, 0.0)</td>\n",
       "    </tr>\n",
       "    <tr>\n",
       "      <th>v</th>\n",
       "      <td>(0.9907577250504074, 0.0)</td>\n",
       "      <td>(0.9817039345294734, 0.0)</td>\n",
       "      <td>(0.9822479097214033, 0.0)</td>\n",
       "      <td>(0.9999999999999996, 0.0)</td>\n",
       "    </tr>\n",
       "  </tbody>\n",
       "</table>\n",
       "</div>"
      ],
      "text/plain": [
       "                           0                          1  \\\n",
       "0                 (1.0, 0.0)  (0.9662182412032032, 0.0)   \n",
       "1  (0.9662182412032032, 0.0)                 (1.0, 0.0)   \n",
       "2  (0.9687833404686074, 0.0)  (0.9480678346049548, 0.0)   \n",
       "v  (0.9907577250504074, 0.0)  (0.9817039345294734, 0.0)   \n",
       "\n",
       "                           2                          v  \n",
       "0  (0.9687833404686074, 0.0)  (0.9907577250504074, 0.0)  \n",
       "1  (0.9480678346049548, 0.0)  (0.9817039345294734, 0.0)  \n",
       "2  (0.9999999999999984, 0.0)  (0.9822479097214033, 0.0)  \n",
       "v  (0.9822479097214033, 0.0)  (0.9999999999999996, 0.0)  "
      ]
     },
     "execution_count": 33,
     "metadata": {},
     "output_type": "execute_result"
    }
   ],
   "source": [
    "bag1.measure_diversity()"
   ]
  },
  {
   "cell_type": "code",
   "execution_count": null,
   "metadata": {},
   "outputs": [],
   "source": [
    "bag1.measure_diversity()"
   ]
  },
  {
   "cell_type": "code",
   "execution_count": 34,
   "metadata": {},
   "outputs": [
    {
     "data": {
      "text/html": [
       "<div>\n",
       "<style scoped>\n",
       "    .dataframe tbody tr th:only-of-type {\n",
       "        vertical-align: middle;\n",
       "    }\n",
       "\n",
       "    .dataframe tbody tr th {\n",
       "        vertical-align: top;\n",
       "    }\n",
       "\n",
       "    .dataframe thead th {\n",
       "        text-align: right;\n",
       "    }\n",
       "</style>\n",
       "<table border=\"1\" class=\"dataframe\">\n",
       "  <thead>\n",
       "    <tr style=\"text-align: right;\">\n",
       "      <th></th>\n",
       "      <th>0</th>\n",
       "      <th>1</th>\n",
       "      <th>2</th>\n",
       "      <th>3</th>\n",
       "      <th>4</th>\n",
       "      <th>v</th>\n",
       "    </tr>\n",
       "  </thead>\n",
       "  <tbody>\n",
       "    <tr>\n",
       "      <th>0</th>\n",
       "      <td>(1.0, 0.0)</td>\n",
       "      <td>(0.955407543030682, 0.0)</td>\n",
       "      <td>(0.9402266858271309, 0.0)</td>\n",
       "      <td>(0.9420413603562309, 0.0)</td>\n",
       "      <td>(0.9560724609266257, 0.0)</td>\n",
       "      <td>(0.9840166756277331, 0.0)</td>\n",
       "    </tr>\n",
       "    <tr>\n",
       "      <th>1</th>\n",
       "      <td>(0.955407543030682, 0.0)</td>\n",
       "      <td>(1.0, 0.0)</td>\n",
       "      <td>(0.9147911434094331, 0.0)</td>\n",
       "      <td>(0.9429118865381891, 0.0)</td>\n",
       "      <td>(0.9430351842178626, 0.0)</td>\n",
       "      <td>(0.9729771975074155, 0.0)</td>\n",
       "    </tr>\n",
       "    <tr>\n",
       "      <th>2</th>\n",
       "      <td>(0.9402266858271309, 0.0)</td>\n",
       "      <td>(0.9147911434094331, 0.0)</td>\n",
       "      <td>(1.0, 0.0)</td>\n",
       "      <td>(0.9027597847194383, 0.0)</td>\n",
       "      <td>(0.9299837743498927, 0.0)</td>\n",
       "      <td>(0.958280989872289, 0.0)</td>\n",
       "    </tr>\n",
       "    <tr>\n",
       "      <th>3</th>\n",
       "      <td>(0.9420413603562309, 0.0)</td>\n",
       "      <td>(0.9429118865381891, 0.0)</td>\n",
       "      <td>(0.9027597847194383, 0.0)</td>\n",
       "      <td>(1.0, 0.0)</td>\n",
       "      <td>(0.9421840947685683, 0.0)</td>\n",
       "      <td>(0.9658132723522264, 0.0)</td>\n",
       "    </tr>\n",
       "    <tr>\n",
       "      <th>4</th>\n",
       "      <td>(0.9560724609266257, 0.0)</td>\n",
       "      <td>(0.9430351842178626, 0.0)</td>\n",
       "      <td>(0.9299837743498927, 0.0)</td>\n",
       "      <td>(0.9421840947685683, 0.0)</td>\n",
       "      <td>(1.0, 0.0)</td>\n",
       "      <td>(0.9778703950056076, 0.0)</td>\n",
       "    </tr>\n",
       "    <tr>\n",
       "      <th>v</th>\n",
       "      <td>(0.9840166756277331, 0.0)</td>\n",
       "      <td>(0.9729771975074155, 0.0)</td>\n",
       "      <td>(0.958280989872289, 0.0)</td>\n",
       "      <td>(0.9658132723522264, 0.0)</td>\n",
       "      <td>(0.9778703950056076, 0.0)</td>\n",
       "      <td>(0.9999999999999997, 0.0)</td>\n",
       "    </tr>\n",
       "  </tbody>\n",
       "</table>\n",
       "</div>"
      ],
      "text/plain": [
       "                           0                          1  \\\n",
       "0                 (1.0, 0.0)   (0.955407543030682, 0.0)   \n",
       "1   (0.955407543030682, 0.0)                 (1.0, 0.0)   \n",
       "2  (0.9402266858271309, 0.0)  (0.9147911434094331, 0.0)   \n",
       "3  (0.9420413603562309, 0.0)  (0.9429118865381891, 0.0)   \n",
       "4  (0.9560724609266257, 0.0)  (0.9430351842178626, 0.0)   \n",
       "v  (0.9840166756277331, 0.0)  (0.9729771975074155, 0.0)   \n",
       "\n",
       "                           2                          3  \\\n",
       "0  (0.9402266858271309, 0.0)  (0.9420413603562309, 0.0)   \n",
       "1  (0.9147911434094331, 0.0)  (0.9429118865381891, 0.0)   \n",
       "2                 (1.0, 0.0)  (0.9027597847194383, 0.0)   \n",
       "3  (0.9027597847194383, 0.0)                 (1.0, 0.0)   \n",
       "4  (0.9299837743498927, 0.0)  (0.9421840947685683, 0.0)   \n",
       "v   (0.958280989872289, 0.0)  (0.9658132723522264, 0.0)   \n",
       "\n",
       "                           4                          v  \n",
       "0  (0.9560724609266257, 0.0)  (0.9840166756277331, 0.0)  \n",
       "1  (0.9430351842178626, 0.0)  (0.9729771975074155, 0.0)  \n",
       "2  (0.9299837743498927, 0.0)   (0.958280989872289, 0.0)  \n",
       "3  (0.9421840947685683, 0.0)  (0.9658132723522264, 0.0)  \n",
       "4                 (1.0, 0.0)  (0.9778703950056076, 0.0)  \n",
       "v  (0.9778703950056076, 0.0)  (0.9999999999999997, 0.0)  "
      ]
     },
     "execution_count": 34,
     "metadata": {},
     "output_type": "execute_result"
    }
   ],
   "source": [
    "river_models['pls-deep_e'].measure_diversity()"
   ]
  },
  {
   "cell_type": "code",
   "execution_count": 35,
   "metadata": {},
   "outputs": [
    {
     "data": {
      "text/html": [
       "<div>\n",
       "<style scoped>\n",
       "    .dataframe tbody tr th:only-of-type {\n",
       "        vertical-align: middle;\n",
       "    }\n",
       "\n",
       "    .dataframe tbody tr th {\n",
       "        vertical-align: top;\n",
       "    }\n",
       "\n",
       "    .dataframe thead th {\n",
       "        text-align: right;\n",
       "    }\n",
       "</style>\n",
       "<table border=\"1\" class=\"dataframe\">\n",
       "  <thead>\n",
       "    <tr style=\"text-align: right;\">\n",
       "      <th></th>\n",
       "      <th>0</th>\n",
       "      <th>1</th>\n",
       "      <th>2</th>\n",
       "      <th>3</th>\n",
       "      <th>4</th>\n",
       "      <th>v</th>\n",
       "    </tr>\n",
       "  </thead>\n",
       "  <tbody>\n",
       "    <tr>\n",
       "      <th>0</th>\n",
       "      <td>(0.9999999999999987, 0.0)</td>\n",
       "      <td>(-0.014360581629949005, 0.13205254240119854)</td>\n",
       "      <td>(0.6496111049660088, 0.0)</td>\n",
       "      <td>(0.9354856393458373, 0.0)</td>\n",
       "      <td>(0.9422558328980473, 0.0)</td>\n",
       "      <td>(0.9768649895901474, 0.0)</td>\n",
       "    </tr>\n",
       "    <tr>\n",
       "      <th>1</th>\n",
       "      <td>(-0.014360581629949005, 0.13205254240119854)</td>\n",
       "      <td>(0.9999999999998718, 0.0)</td>\n",
       "      <td>(-0.014292462989918233, 0.1338963677476736)</td>\n",
       "      <td>(-0.020578964488710022, 0.030902707162819835)</td>\n",
       "      <td>(-0.021590925838887026, 0.023544484938378678)</td>\n",
       "      <td>(-0.02038939327425645, 0.03248130284953553)</td>\n",
       "    </tr>\n",
       "    <tr>\n",
       "      <th>2</th>\n",
       "      <td>(0.6496111049660088, 0.0)</td>\n",
       "      <td>(-0.014292462989918233, 0.1338963677476736)</td>\n",
       "      <td>(1.0, 0.0)</td>\n",
       "      <td>(0.6384034538400785, 0.0)</td>\n",
       "      <td>(0.641048968979808, 0.0)</td>\n",
       "      <td>(0.6672264201956783, 0.0)</td>\n",
       "    </tr>\n",
       "    <tr>\n",
       "      <th>3</th>\n",
       "      <td>(0.9354856393458373, 0.0)</td>\n",
       "      <td>(-0.020578964488710022, 0.030902707162819835)</td>\n",
       "      <td>(0.6384034538400785, 0.0)</td>\n",
       "      <td>(0.9999999999999991, 0.0)</td>\n",
       "      <td>(0.9425386510292266, 0.0)</td>\n",
       "      <td>(0.9679548069317079, 0.0)</td>\n",
       "    </tr>\n",
       "    <tr>\n",
       "      <th>4</th>\n",
       "      <td>(0.9422558328980473, 0.0)</td>\n",
       "      <td>(-0.021590925838887026, 0.023544484938378678)</td>\n",
       "      <td>(0.641048968979808, 0.0)</td>\n",
       "      <td>(0.9425386510292266, 0.0)</td>\n",
       "      <td>(0.9999999999999993, 0.0)</td>\n",
       "      <td>(0.9724806957113196, 0.0)</td>\n",
       "    </tr>\n",
       "    <tr>\n",
       "      <th>v</th>\n",
       "      <td>(0.9768649895901474, 0.0)</td>\n",
       "      <td>(-0.02038939327425645, 0.03248130284953553)</td>\n",
       "      <td>(0.6672264201956783, 0.0)</td>\n",
       "      <td>(0.9679548069317079, 0.0)</td>\n",
       "      <td>(0.9724806957113196, 0.0)</td>\n",
       "      <td>(1.0, 0.0)</td>\n",
       "    </tr>\n",
       "  </tbody>\n",
       "</table>\n",
       "</div>"
      ],
      "text/plain": [
       "                                              0  \\\n",
       "0                     (0.9999999999999987, 0.0)   \n",
       "1  (-0.014360581629949005, 0.13205254240119854)   \n",
       "2                     (0.6496111049660088, 0.0)   \n",
       "3                     (0.9354856393458373, 0.0)   \n",
       "4                     (0.9422558328980473, 0.0)   \n",
       "v                     (0.9768649895901474, 0.0)   \n",
       "\n",
       "                                               1  \\\n",
       "0   (-0.014360581629949005, 0.13205254240119854)   \n",
       "1                      (0.9999999999998718, 0.0)   \n",
       "2    (-0.014292462989918233, 0.1338963677476736)   \n",
       "3  (-0.020578964488710022, 0.030902707162819835)   \n",
       "4  (-0.021590925838887026, 0.023544484938378678)   \n",
       "v    (-0.02038939327425645, 0.03248130284953553)   \n",
       "\n",
       "                                             2  \\\n",
       "0                    (0.6496111049660088, 0.0)   \n",
       "1  (-0.014292462989918233, 0.1338963677476736)   \n",
       "2                                   (1.0, 0.0)   \n",
       "3                    (0.6384034538400785, 0.0)   \n",
       "4                     (0.641048968979808, 0.0)   \n",
       "v                    (0.6672264201956783, 0.0)   \n",
       "\n",
       "                                               3  \\\n",
       "0                      (0.9354856393458373, 0.0)   \n",
       "1  (-0.020578964488710022, 0.030902707162819835)   \n",
       "2                      (0.6384034538400785, 0.0)   \n",
       "3                      (0.9999999999999991, 0.0)   \n",
       "4                      (0.9425386510292266, 0.0)   \n",
       "v                      (0.9679548069317079, 0.0)   \n",
       "\n",
       "                                               4  \\\n",
       "0                      (0.9422558328980473, 0.0)   \n",
       "1  (-0.021590925838887026, 0.023544484938378678)   \n",
       "2                       (0.641048968979808, 0.0)   \n",
       "3                      (0.9425386510292266, 0.0)   \n",
       "4                      (0.9999999999999993, 0.0)   \n",
       "v                      (0.9724806957113196, 0.0)   \n",
       "\n",
       "                                             v  \n",
       "0                    (0.9768649895901474, 0.0)  \n",
       "1  (-0.02038939327425645, 0.03248130284953553)  \n",
       "2                    (0.6672264201956783, 0.0)  \n",
       "3                    (0.9679548069317079, 0.0)  \n",
       "4                    (0.9724806957113196, 0.0)  \n",
       "v                                   (1.0, 0.0)  "
      ]
     },
     "execution_count": 35,
     "metadata": {},
     "output_type": "execute_result"
    }
   ],
   "source": [
    "river_models['pls-deep_e-lwr'].measure_diversity()"
   ]
  },
  {
   "cell_type": "code",
   "execution_count": 36,
   "metadata": {},
   "outputs": [
    {
     "data": {
      "text/html": [
       "<div>\n",
       "<style scoped>\n",
       "    .dataframe tbody tr th:only-of-type {\n",
       "        vertical-align: middle;\n",
       "    }\n",
       "\n",
       "    .dataframe tbody tr th {\n",
       "        vertical-align: top;\n",
       "    }\n",
       "\n",
       "    .dataframe thead th {\n",
       "        text-align: right;\n",
       "    }\n",
       "</style>\n",
       "<table border=\"1\" class=\"dataframe\">\n",
       "  <thead>\n",
       "    <tr style=\"text-align: right;\">\n",
       "      <th></th>\n",
       "      <th>0</th>\n",
       "      <th>1</th>\n",
       "      <th>2</th>\n",
       "      <th>3</th>\n",
       "      <th>4</th>\n",
       "      <th>v</th>\n",
       "    </tr>\n",
       "  </thead>\n",
       "  <tbody>\n",
       "    <tr>\n",
       "      <th>0</th>\n",
       "      <td>(1.0, 0.0)</td>\n",
       "      <td>(0.9385451209387696, 0.0)</td>\n",
       "      <td>(0.917374363633847, 0.0)</td>\n",
       "      <td>(0.935151034900642, 0.0)</td>\n",
       "      <td>(0.8954441561358275, 0.0)</td>\n",
       "      <td>(0.9828876756336102, 0.0)</td>\n",
       "    </tr>\n",
       "    <tr>\n",
       "      <th>1</th>\n",
       "      <td>(0.9385451209387696, 0.0)</td>\n",
       "      <td>(1.0, 0.0)</td>\n",
       "      <td>(0.8791706781514574, 0.0)</td>\n",
       "      <td>(0.9121483558808647, 0.0)</td>\n",
       "      <td>(0.8625179472531834, 0.0)</td>\n",
       "      <td>(0.957612206938178, 0.0)</td>\n",
       "    </tr>\n",
       "    <tr>\n",
       "      <th>2</th>\n",
       "      <td>(0.917374363633847, 0.0)</td>\n",
       "      <td>(0.8791706781514574, 0.0)</td>\n",
       "      <td>(1.0, 0.0)</td>\n",
       "      <td>(0.8905876391145349, 0.0)</td>\n",
       "      <td>(0.836625448245542, 0.0)</td>\n",
       "      <td>(0.9413762953508982, 0.0)</td>\n",
       "    </tr>\n",
       "    <tr>\n",
       "      <th>3</th>\n",
       "      <td>(0.935151034900642, 0.0)</td>\n",
       "      <td>(0.9121483558808647, 0.0)</td>\n",
       "      <td>(0.8905876391145349, 0.0)</td>\n",
       "      <td>(1.0, 0.0)</td>\n",
       "      <td>(0.862222185260265, 0.0)</td>\n",
       "      <td>(0.9592537849580556, 0.0)</td>\n",
       "    </tr>\n",
       "    <tr>\n",
       "      <th>4</th>\n",
       "      <td>(0.8954441561358275, 0.0)</td>\n",
       "      <td>(0.8625179472531834, 0.0)</td>\n",
       "      <td>(0.836625448245542, 0.0)</td>\n",
       "      <td>(0.862222185260265, 0.0)</td>\n",
       "      <td>(0.9999999999999998, 0.0)</td>\n",
       "      <td>(0.9155216692127282, 0.0)</td>\n",
       "    </tr>\n",
       "    <tr>\n",
       "      <th>v</th>\n",
       "      <td>(0.9828876756336102, 0.0)</td>\n",
       "      <td>(0.957612206938178, 0.0)</td>\n",
       "      <td>(0.9413762953508982, 0.0)</td>\n",
       "      <td>(0.9592537849580556, 0.0)</td>\n",
       "      <td>(0.9155216692127282, 0.0)</td>\n",
       "      <td>(1.0, 0.0)</td>\n",
       "    </tr>\n",
       "  </tbody>\n",
       "</table>\n",
       "</div>"
      ],
      "text/plain": [
       "                           0                          1  \\\n",
       "0                 (1.0, 0.0)  (0.9385451209387696, 0.0)   \n",
       "1  (0.9385451209387696, 0.0)                 (1.0, 0.0)   \n",
       "2   (0.917374363633847, 0.0)  (0.8791706781514574, 0.0)   \n",
       "3   (0.935151034900642, 0.0)  (0.9121483558808647, 0.0)   \n",
       "4  (0.8954441561358275, 0.0)  (0.8625179472531834, 0.0)   \n",
       "v  (0.9828876756336102, 0.0)   (0.957612206938178, 0.0)   \n",
       "\n",
       "                           2                          3  \\\n",
       "0   (0.917374363633847, 0.0)   (0.935151034900642, 0.0)   \n",
       "1  (0.8791706781514574, 0.0)  (0.9121483558808647, 0.0)   \n",
       "2                 (1.0, 0.0)  (0.8905876391145349, 0.0)   \n",
       "3  (0.8905876391145349, 0.0)                 (1.0, 0.0)   \n",
       "4   (0.836625448245542, 0.0)   (0.862222185260265, 0.0)   \n",
       "v  (0.9413762953508982, 0.0)  (0.9592537849580556, 0.0)   \n",
       "\n",
       "                           4                          v  \n",
       "0  (0.8954441561358275, 0.0)  (0.9828876756336102, 0.0)  \n",
       "1  (0.8625179472531834, 0.0)   (0.957612206938178, 0.0)  \n",
       "2   (0.836625448245542, 0.0)  (0.9413762953508982, 0.0)  \n",
       "3   (0.862222185260265, 0.0)  (0.9592537849580556, 0.0)  \n",
       "4  (0.9999999999999998, 0.0)  (0.9155216692127282, 0.0)  \n",
       "v  (0.9155216692127282, 0.0)                 (1.0, 0.0)  "
      ]
     },
     "execution_count": 36,
     "metadata": {},
     "output_type": "execute_result"
    }
   ],
   "source": [
    "river_models['std-deep_e'].measure_diversity()"
   ]
  },
  {
   "cell_type": "code",
   "execution_count": 37,
   "metadata": {},
   "outputs": [
    {
     "data": {
      "text/html": [
       "<div>\n",
       "<style scoped>\n",
       "    .dataframe tbody tr th:only-of-type {\n",
       "        vertical-align: middle;\n",
       "    }\n",
       "\n",
       "    .dataframe tbody tr th {\n",
       "        vertical-align: top;\n",
       "    }\n",
       "\n",
       "    .dataframe thead th {\n",
       "        text-align: right;\n",
       "    }\n",
       "</style>\n",
       "<table border=\"1\" class=\"dataframe\">\n",
       "  <thead>\n",
       "    <tr style=\"text-align: right;\">\n",
       "      <th></th>\n",
       "      <th>0</th>\n",
       "      <th>1</th>\n",
       "      <th>2</th>\n",
       "      <th>3</th>\n",
       "      <th>4</th>\n",
       "      <th>v</th>\n",
       "    </tr>\n",
       "  </thead>\n",
       "  <tbody>\n",
       "    <tr>\n",
       "      <th>0</th>\n",
       "      <td>(0.9999999999999996, 0.0)</td>\n",
       "      <td>(0.8922910569370215, 0.0)</td>\n",
       "      <td>(0.8682460247694557, 0.0)</td>\n",
       "      <td>(0.882762808809648, 0.0)</td>\n",
       "      <td>(0.8498927997380268, 0.0)</td>\n",
       "      <td>(0.929407683091279, 0.0)</td>\n",
       "    </tr>\n",
       "    <tr>\n",
       "      <th>1</th>\n",
       "      <td>(0.8922910569370215, 0.0)</td>\n",
       "      <td>(1.0, 0.0)</td>\n",
       "      <td>(0.9050618215171038, 0.0)</td>\n",
       "      <td>(0.9156051323368155, 0.0)</td>\n",
       "      <td>(0.8649667696068974, 0.0)</td>\n",
       "      <td>(0.9638927708060997, 0.0)</td>\n",
       "    </tr>\n",
       "    <tr>\n",
       "      <th>2</th>\n",
       "      <td>(0.8682460247694557, 0.0)</td>\n",
       "      <td>(0.9050618215171038, 0.0)</td>\n",
       "      <td>(1.0, 0.0)</td>\n",
       "      <td>(0.9054551161679462, 0.0)</td>\n",
       "      <td>(0.8479733934863126, 0.0)</td>\n",
       "      <td>(0.948038833525745, 0.0)</td>\n",
       "    </tr>\n",
       "    <tr>\n",
       "      <th>3</th>\n",
       "      <td>(0.882762808809648, 0.0)</td>\n",
       "      <td>(0.9156051323368155, 0.0)</td>\n",
       "      <td>(0.9054551161679462, 0.0)</td>\n",
       "      <td>(0.9999999999999992, 0.0)</td>\n",
       "      <td>(0.8589841962375937, 0.0)</td>\n",
       "      <td>(0.9597757716528839, 0.0)</td>\n",
       "    </tr>\n",
       "    <tr>\n",
       "      <th>4</th>\n",
       "      <td>(0.8498927997380268, 0.0)</td>\n",
       "      <td>(0.8649667696068974, 0.0)</td>\n",
       "      <td>(0.8479733934863126, 0.0)</td>\n",
       "      <td>(0.8589841962375937, 0.0)</td>\n",
       "      <td>(0.9999999999999989, 0.0)</td>\n",
       "      <td>(0.918037233110776, 0.0)</td>\n",
       "    </tr>\n",
       "    <tr>\n",
       "      <th>v</th>\n",
       "      <td>(0.929407683091279, 0.0)</td>\n",
       "      <td>(0.9638927708060997, 0.0)</td>\n",
       "      <td>(0.948038833525745, 0.0)</td>\n",
       "      <td>(0.9597757716528839, 0.0)</td>\n",
       "      <td>(0.918037233110776, 0.0)</td>\n",
       "      <td>(0.9999999999999993, 0.0)</td>\n",
       "    </tr>\n",
       "  </tbody>\n",
       "</table>\n",
       "</div>"
      ],
      "text/plain": [
       "                           0                          1  \\\n",
       "0  (0.9999999999999996, 0.0)  (0.8922910569370215, 0.0)   \n",
       "1  (0.8922910569370215, 0.0)                 (1.0, 0.0)   \n",
       "2  (0.8682460247694557, 0.0)  (0.9050618215171038, 0.0)   \n",
       "3   (0.882762808809648, 0.0)  (0.9156051323368155, 0.0)   \n",
       "4  (0.8498927997380268, 0.0)  (0.8649667696068974, 0.0)   \n",
       "v   (0.929407683091279, 0.0)  (0.9638927708060997, 0.0)   \n",
       "\n",
       "                           2                          3  \\\n",
       "0  (0.8682460247694557, 0.0)   (0.882762808809648, 0.0)   \n",
       "1  (0.9050618215171038, 0.0)  (0.9156051323368155, 0.0)   \n",
       "2                 (1.0, 0.0)  (0.9054551161679462, 0.0)   \n",
       "3  (0.9054551161679462, 0.0)  (0.9999999999999992, 0.0)   \n",
       "4  (0.8479733934863126, 0.0)  (0.8589841962375937, 0.0)   \n",
       "v   (0.948038833525745, 0.0)  (0.9597757716528839, 0.0)   \n",
       "\n",
       "                           4                          v  \n",
       "0  (0.8498927997380268, 0.0)   (0.929407683091279, 0.0)  \n",
       "1  (0.8649667696068974, 0.0)  (0.9638927708060997, 0.0)  \n",
       "2  (0.8479733934863126, 0.0)   (0.948038833525745, 0.0)  \n",
       "3  (0.8589841962375937, 0.0)  (0.9597757716528839, 0.0)  \n",
       "4  (0.9999999999999989, 0.0)   (0.918037233110776, 0.0)  \n",
       "v   (0.918037233110776, 0.0)  (0.9999999999999993, 0.0)  "
      ]
     },
     "execution_count": 37,
     "metadata": {},
     "output_type": "execute_result"
    }
   ],
   "source": [
    "river_models['std-deep_e-lwr'].measure_diversity()"
   ]
  }
 ],
 "metadata": {
  "kernelspec": {
   "display_name": "Python 3 (ipykernel)",
   "language": "python",
   "name": "python3"
  },
  "language_info": {
   "codemirror_mode": {
    "name": "ipython",
    "version": 3
   },
   "file_extension": ".py",
   "mimetype": "text/x-python",
   "name": "python",
   "nbconvert_exporter": "python",
   "pygments_lexer": "ipython3",
   "version": "3.8.5"
  }
 },
 "nbformat": 4,
 "nbformat_minor": 4
}
