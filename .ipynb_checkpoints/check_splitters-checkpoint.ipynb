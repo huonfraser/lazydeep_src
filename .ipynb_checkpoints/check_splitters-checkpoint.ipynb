{
 "cells": [
  {
   "cell_type": "code",
   "execution_count": 22,
   "metadata": {},
   "outputs": [],
   "source": [
    "import numpy as np\n",
    "import splitters\n",
    "import random\n",
    "seed = 3\n",
    "random.seed(seed + 1)\n",
    "np.random.seed(seed + 2)\n",
    "import utils as ut\n",
    "random_state = np.random.RandomState(seed)"
   ]
  },
  {
   "cell_type": "code",
   "execution_count": 17,
   "metadata": {},
   "outputs": [],
   "source": [
    "indices = [i for i in range(0,10)]"
   ]
  },
  {
   "cell_type": "code",
   "execution_count": 18,
   "metadata": {},
   "outputs": [],
   "source": [
    "cv_splitter = splitters.K2Fold(n_splits=5,random_state=random_state)"
   ]
  },
  {
   "cell_type": "code",
   "execution_count": 19,
   "metadata": {},
   "outputs": [
    {
     "name": "stdout",
     "output_type": "stream",
     "text": [
      "-------------\n",
      "[4 5 6 7 8 9]\n",
      "[0 1]\n",
      "[2 3]\n",
      "-------------\n",
      "[0 1 6 7 8 9]\n",
      "[2 3]\n",
      "[4 5]\n",
      "-------------\n",
      "[0 1 2 3 8 9]\n",
      "[4 5]\n",
      "[6 7]\n",
      "-------------\n",
      "[0 1 2 3 4 5]\n",
      "[6 7]\n",
      "[8 9]\n",
      "-------------\n",
      "[2 3 4 5 6 7]\n",
      "[8 9]\n",
      "[0 1]\n"
     ]
    }
   ],
   "source": [
    "for fold, (train_ind, val_ind, test_ind) in enumerate(cv_splitter.split(indices)):\n",
    "    print(\"-------------\")\n",
    "    print(train_ind)\n",
    "    print(val_ind)\n",
    "    print(test_ind)"
   ]
  },
  {
   "cell_type": "code",
   "execution_count": 20,
   "metadata": {},
   "outputs": [
    {
     "name": "stdout",
     "output_type": "stream",
     "text": [
      "-------------\n",
      "[4 5 6 7 8 9]\n",
      "[0 1]\n",
      "[2 3]\n",
      "-------------\n",
      "[0 1 6 7 8 9]\n",
      "[2 3]\n",
      "[4 5]\n",
      "-------------\n",
      "[0 1 2 3 8 9]\n",
      "[4 5]\n",
      "[6 7]\n",
      "-------------\n",
      "[0 1 2 3 4 5]\n",
      "[6 7]\n",
      "[8 9]\n",
      "-------------\n",
      "[2 3 4 5 6 7]\n",
      "[8 9]\n",
      "[0 1]\n"
     ]
    }
   ],
   "source": [
    "for fold, (train_ind, val_ind, test_ind) in enumerate(cv_splitter.split(indices)):\n",
    "    print(\"-------------\")\n",
    "    print(train_ind)\n",
    "    print(val_ind)\n",
    "    print(test_ind)"
   ]
  },
  {
   "cell_type": "code",
   "execution_count": 38,
   "metadata": {},
   "outputs": [
    {
     "name": "stdout",
     "output_type": "stream",
     "text": [
      "   0\n",
      "5  5\n",
      "4  4\n",
      "1  1\n",
      "2  2\n",
      "9  9\n",
      "6  6\n",
      "7  7\n",
      "0  0\n",
      "3  3\n",
      "8  8\n"
     ]
    }
   ],
   "source": [
    "import pandas as pd\n",
    "random_state = np.random.RandomState(seed)\n",
    "\n",
    "df = ut.sample_data(pd.DataFrame(indices),random_state)\n",
    "print(df)"
   ]
  },
  {
   "cell_type": "code",
   "execution_count": null,
   "metadata": {},
   "outputs": [],
   "source": [
    "print(df[1])"
   ]
  },
  {
   "cell_type": "code",
   "execution_count": null,
   "metadata": {},
   "outputs": [],
   "source": []
  }
 ],
 "metadata": {
  "kernelspec": {
   "display_name": "Python 3",
   "language": "python",
   "name": "python3"
  },
  "language_info": {
   "codemirror_mode": {
    "name": "ipython",
    "version": 3
   },
   "file_extension": ".py",
   "mimetype": "text/x-python",
   "name": "python",
   "nbconvert_exporter": "python",
   "pygments_lexer": "ipython3",
   "version": "3.8.5"
  }
 },
 "nbformat": 4,
 "nbformat_minor": 4
}
