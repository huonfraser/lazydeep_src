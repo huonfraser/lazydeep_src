{
 "cells": [
  {
   "cell_type": "markdown",
   "metadata": {},
   "source": []
  },
  {
   "cell_type": "code",
   "execution_count": 1,
   "metadata": {
    "collapsed": false,
    "jupyter": {
     "outputs_hidden": false
    },
    "pycharm": {
     "name": "#%%\n"
    }
   },
   "outputs": [
    {
     "name": "stdout",
     "output_type": "stream",
     "text": [
      "GPU detected is GeForce GTX 970\n"
     ]
    }
   ],
   "source": [
    "import logging\n",
    "# set seed\n",
    "import pandas as pd\n",
    "import numpy as np\n",
    "from sklearn.neighbors import KNeighborsRegressor\n",
    "import utils as ut\n",
    "import experiment as exp\n",
    "from evaluation import *\n",
    "from sklearn.metrics import mean_squared_error\n",
    "from torch.utils.tensorboard import SummaryWriter\n",
    "import torch\n",
    "import random\n",
    "#define fixed_hyperparams and create a config gen\n",
    "from configurations import RandomConfigGen, Configuration\n",
    "from torch import nn\n",
    "from deep_net import RandomNet\n",
    "from experiment import run_experiment\n",
    "import regex as re\n",
    "from pathlib import *\n",
    "from plot import *\n",
    "from sk_models import setup_pls_models_exh, StandardScaler, PLSRegression, DeepKNN,CustomWrapper\n",
    "from tqdm.notebook import tqdm, trange\n",
    "\n",
    "seed = 1\n",
    "torch.manual_seed(seed)\n",
    "random.seed(seed + 1)\n",
    "np.random.seed(seed + 2)\n",
    "random_state = np.random.RandomState(seed)\n",
    "import gc\n",
    "torch.cuda.empty_cache()\n",
    "gc.collect()\n",
    "\n",
    "print(f\"GPU detected is {torch.cuda.get_device_name(0)}\")\n",
    "plt.style.use('seaborn-darkgrid')"
   ]
  },
  {
   "cell_type": "code",
   "execution_count": 2,
   "metadata": {},
   "outputs": [],
   "source": [
    "id_col_db = {'A_C_OF_ALPHA':[\"sample_id\"],\n",
    "             'A_C_OF_SIWARE':[],\n",
    "             'A_AL_RT':[],\n",
    "             'PLN7':[\"db_id\", \"sample_id\"],\n",
    "             'mango_684_990': ['Set','Season','Region','Date','Type','Cultivar','Pop','Temp',\"FruitID\"]\n",
    "            }\n",
    "\n",
    "output_col_db= {'A_C_OF_ALPHA':None,\n",
    "             'A_C_OF_SIWARE':None,\n",
    "             'A_AL_RT':None,\n",
    "             'PLN7':None,\n",
    "             'mango_684_990': ['DM']\n",
    "            }\n",
    "\n",
    "kNN_k= {'A_C_OF_ALPHA':'knn_unif_n=20',\n",
    "             'A_C_OF_SIWARE':'knn_unif_n=20',\n",
    "             'A_AL_RT':'knn_unif_n=20',\n",
    "             'PLN7':'knn_unif_n=20',\n",
    "             'mango_684_990': 'knn_unif_n=20'\n",
    "            }\n",
    "\n",
    "LWR_k= {'A_C_OF_ALPHA':'lwr_k=1000',\n",
    "             'A_C_OF_SIWARE':'lwr_k=1000',\n",
    "             'A_AL_RT':'lwr_k=700',\n",
    "             'PLN7':'lwr_k=1000',\n",
    "             'mango_684_990': 'lwr_k=1000'\n",
    "            }\n"
   ]
  },
  {
   "cell_type": "code",
   "execution_count": 3,
   "metadata": {
    "collapsed": false,
    "jupyter": {
     "outputs_hidden": false
    },
    "pycharm": {
     "name": "#%%\n"
    }
   },
   "outputs": [],
   "source": [
    "#setup input and output formats, load data\n",
    "\n",
    "file_name = \"A_C_OF_ALPHA.csv\"\n",
    "dataset_name = re.sub(r'\\.(?=csv$)[^.]+$', '',file_name)\n",
    "\n",
    "base_dir = Path(\"D:/workspace/lazydeep/experiments/\")\n",
    "lr_dir = base_dir/\"2.01\"/dataset_name #1.02 / 2.01\n",
    "lwr_dir = base_dir/\"2.03\"/dataset_name #1.05 / 2.03\n",
    "knn_dir = base_dir/\"2.02\"/dataset_name #1.04 / 2.02\n"
   ]
  },
  {
   "cell_type": "code",
   "execution_count": 4,
   "metadata": {
    "collapsed": false,
    "jupyter": {
     "outputs_hidden": false
    },
    "pycharm": {
     "name": "#%% load data\n"
    }
   },
   "outputs": [],
   "source": [
    "scores_cv_lwr = pd.read_csv(lwr_dir /\"scores.csv\")\n",
    "scores_cv_knn = pd.read_csv(knn_dir /\"scores.csv\")\n",
    "scores_cv_lr = pd.read_csv(lr_dir /\"scores.csv\")\n",
    "\n",
    "scores_test_lwr = pd.read_csv(lwr_dir /\"test_scores.csv\")\n",
    "scores_test_knn = pd.read_csv(knn_dir /\"test_scores.csv\")\n",
    "scores_test_lr = pd.read_csv(lr_dir /\"test_scores.csv\")"
   ]
  },
  {
   "cell_type": "code",
   "execution_count": 5,
   "metadata": {},
   "outputs": [],
   "source": [
    "#order models\n",
    "deep_set = scores_cv_lwr[scores_cv_lwr[\"predictor\"]==\"deep\"].sort_values(\"R2\")\n",
    "deep_set[\"order\"] = [i for i in range(0,100)]\n",
    "deep_ordering = {row[\"model_num\"]:row[\"order\"] for index, row in deep_set.iterrows()}\n",
    "\n",
    "def order_models(x):\n",
    "    x = [deep_ordering[i] for i in x]\n",
    "    return x"
   ]
  },
  {
   "cell_type": "code",
   "execution_count": 6,
   "metadata": {},
   "outputs": [],
   "source": [
    "scores_cv_deep = scores_cv_lwr[scores_cv_lwr[\"predictor\"]=='deep'].sort_values(\"R2\")\n",
    "scores_cv_lr = scores_cv_lr[scores_cv_lr[\"predictor\"].str.contains('lr')]   #val_eq_list(scores_df[\"predictor\"],'dist')] #np.logical_or(scores_df[\"predictor\"]==\"deep\",'dist' in scores_df[\"predictor\"])]\n",
    "scores_cv_lwr =scores_cv_lwr[scores_cv_lwr[\"predictor\"].str.contains('lwr')] \n",
    "scores_cv_knn =scores_cv_knn[scores_cv_knn[\"predictor\"].str.contains('knn')] "
   ]
  },
  {
   "cell_type": "code",
   "execution_count": 7,
   "metadata": {},
   "outputs": [],
   "source": [
    "scores_test_deep = scores_test_lwr[scores_test_lwr[\"predictor\"]=='deep'].sort_values(\"R2\")\n",
    "scores_test_lr = scores_test_lr[scores_test_lr[\"predictor\"].str.contains('lr')]   #val_eq_list(scores_df[\"predictor\"],'dist')] #np.logical_or(scores_df[\"predictor\"]==\"deep\",'dist' in scores_df[\"predictor\"])]\n",
    "scores_test_lwr =scores_test_lwr[scores_test_lwr[\"predictor\"].str.contains('lwr')] \n",
    "scores_test_knn =scores_test_knn[scores_test_knn[\"predictor\"].str.contains('knn')] "
   ]
  },
  {
   "cell_type": "code",
   "execution_count": 8,
   "metadata": {},
   "outputs": [],
   "source": [
    "#take our best 30 models \n",
    "def filter_db(row,n=30):\n",
    "    order = deep_ordering[row[\"model_num\"]]\n",
    "    if order >= (100-n):\n",
    "        return True\n",
    "    else:\n",
    "        return False\n",
    "    \n",
    "def apply_filter(db):\n",
    "    inds = db.apply(filter_db,axis=1)\n",
    "    db = db[inds==True]\n",
    "    return db\n",
    "#take our best 30 model\n",
    "scores_cv_deep = apply_filter(scores_cv_deep)\n",
    "scores_cv_lr = apply_filter(scores_cv_lr)\n",
    "scores_cv_lwr = apply_filter(scores_cv_lwr)\n",
    "scores_cv_knn = apply_filter(scores_cv_knn)\n",
    "\n",
    "scores_test_deep = apply_filter(scores_test_deep)\n",
    "scores_test_lr = apply_filter(scores_test_lr)\n",
    "scores_test_lwr = apply_filter(scores_test_lwr)\n",
    "scores_test_knn = apply_filter(scores_test_knn)\n",
    "\n",
    "\n"
   ]
  },
  {
   "cell_type": "code",
   "execution_count": 9,
   "metadata": {},
   "outputs": [],
   "source": [
    "#take our best predictor for each class\n",
    "scores_cv_knn = scores_cv_knn[scores_cv_knn[\"predictor\"]==kNN_k[dataset_name]]\n",
    "scores_cv_lwr = scores_cv_lwr[scores_cv_lwr[\"predictor\"]==LWR_k[dataset_name]]\n",
    "\n",
    "scores_test_knn = scores_test_knn[scores_test_knn[\"predictor\"]==kNN_k[dataset_name]]\n",
    "scores_test_lwr = scores_test_lwr[scores_test_lwr[\"predictor\"]==LWR_k[dataset_name]]\n"
   ]
  },
  {
   "cell_type": "code",
   "execution_count": 11,
   "metadata": {},
   "outputs": [
    {
     "data": {
      "image/png": "[encoded data removed]",
      "text/plain": [
       "<Figure size 432x288 with 1 Axes>"
      ]
     },
     "metadata": {},
     "output_type": "display_data"
    }
   ],
   "source": [
    "#rank our models on test_set \n",
    "from scipy.stats import linregress\n",
    "from sklearn.metrics import r2_score\n",
    "\n",
    "fig, ax = plt.subplots()\n",
    "\n",
    "\n",
    "ax.scatter(x=scores_cv_deep[\"R2\"], y=scores_test_deep[\"R2\"], s=5,c=\"black\",label=f\"Deep\")\n",
    "ax.scatter(x=scores_cv_lr[\"R2\"], y=scores_test_lr[\"R2\"], s=5,label=f\"LR\")\n",
    "ax.scatter(x=scores_cv_lwr[\"R2\"], y=scores_test_lwr[\"R2\"], s=5,label=f\"LWR\")\n",
    "ax.scatter(x=scores_cv_knn[\"R2\"], y=scores_test_knn[\"R2\"], s=5,label=f\"kNN\")\n",
    "\n",
    "# plot residuals\n",
    "ax.legend(loc='upper right' , bbox_to_anchor=(1.3, 1))\n",
    "ax.set_xlabel(r\"CV $R^2$\")\n",
    "ax.set_ylabel(r\"Test $R^2$\")\n",
    "#ax.set_xlim(0,1)\n",
    "#ax.set_ylim(0,1)\n",
    "ax.axline([ax.get_xlim()[0], ax.get_ylim()[0]], [ax.get_xlim()[1], ax.get_ylim()[1]],c=\"black\",linestyle=\":\")\n",
    "#ax.set_yscale(\"symlog\")\n",
    "#ax.set_title(\"Summary of LWR improvements over Deep Models\")\n",
    "plt.savefig(base_dir/f\"prod_compare_{dataset_name}.png\", bbox_inches='tight')"
   ]
  },
  {
   "cell_type": "code",
   "execution_count": null,
   "metadata": {},
   "outputs": [],
   "source": []
  }
 ],
 "metadata": {
  "kernelspec": {
   "display_name": "PyCharm (lazydeep)",
   "language": "python",
   "name": "pycharm-12fcba0"
  },
  "language_info": {
   "codemirror_mode": {
    "name": "ipython",
    "version": 3
   },
   "file_extension": ".py",
   "mimetype": "text/x-python",
   "name": "python",
   "nbconvert_exporter": "python",
   "pygments_lexer": "ipython3",
   "version": "3.8.5"
  }
 },
 "nbformat": 4,
 "nbformat_minor": 4
}
