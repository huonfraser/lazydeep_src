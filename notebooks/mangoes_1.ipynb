{
 "cells": [
  {
   "cell_type": "code",
   "execution_count": 1,
   "id": "64d0a760-ec7a-496a-a398-c0473526e4d4",
   "metadata": {},
   "outputs": [
    {
     "name": "stdout",
     "output_type": "stream",
     "text": [
      "GPU detected is GeForce GTX 970\n"
     ]
    }
   ],
   "source": [
    "import logging\n",
    "# set seed\n",
    "import pandas as pd\n",
    "import numpy as np\n",
    "from sklearn.neighbors import KNeighborsRegressor\n",
    "import utils as ut\n",
    "import experiment as exp\n",
    "from evaluation import *\n",
    "from sklearn.metrics import mean_squared_error\n",
    "from torch.utils.tensorboard import SummaryWriter\n",
    "import torch\n",
    "import random\n",
    "#define fixed_hyperparams and create a config gen\n",
    "from configurations import RandomConfigGen, Configuration\n",
    "from torch import nn\n",
    "from deep_net import RandomNet\n",
    "from experiment import run_experiment\n",
    "import regex as re\n",
    "from pathlib import *\n",
    "import experiment as ex\n",
    "from sk_models import StandardScaler\n",
    "from tqdm.notebook import tqdm, trange\n",
    "from matplotlib import pyplot as plt\n",
    "plt.style.use('seaborn-darkgrid')\n",
    "\n",
    "seed = 1\n",
    "torch.manual_seed(seed)\n",
    "random.seed(seed + 1)\n",
    "np.random.seed(seed + 2)\n",
    "random_state = np.random.RandomState(seed)\n",
    "import gc\n",
    "torch.cuda.empty_cache()\n",
    "gc.collect()\n",
    "\n",
    "print(f\"GPU detected is {torch.cuda.get_device_name(0)}\")"
   ]
  },
  {
   "cell_type": "code",
   "execution_count": 2,
   "id": "e49a7f83-1477-4f56-89d5-802a5db9659a",
   "metadata": {},
   "outputs": [
    {
     "name": "stdout",
     "output_type": "stream",
     "text": [
      "Output directory is D:\\workspace\\lazydeep\\experiments\\mango_cnn\\mango_684_990\n"
     ]
    }
   ],
   "source": [
    "file_name = \"mango_684_990.csv\" #\"mango_684_990.csv\" #\"mango_729_975.csv\" #fitlered=513-1050\n",
    "id_cols =['Set','Season','Region','Date','Type','Cultivar','Pop','Temp','FruitID']#\n",
    "output_cols = ['DM']\n",
    "data_path = Path('D:/workspace/lazydeep/data/soil_data/')\n",
    "log_path = Path(\"D:/workspace/lazydeep/experiments/mango_cnn\") #1.01/\")\n",
    "if not log_path.exists():\n",
    "    log_path.mkdir()\n",
    "\n",
    "data_file = data_path / file_name\n",
    "log_dir = log_path / re.sub(r'\\.(?=csv$)[^.]+$', '',file_name)\n",
    "if not log_dir.exists():\n",
    "    log_dir.mkdir()\n",
    "print(f\"Output directory is {log_dir}\")"
   ]
  },
  {
   "cell_type": "code",
   "execution_count": 3,
   "id": "50c4443d-2a7d-4b9e-a580-bde9109f45aa",
   "metadata": {},
   "outputs": [
    {
     "name": "stdout",
     "output_type": "stream",
     "text": [
      "Dataset shape is (11691, 113)\n"
     ]
    }
   ],
   "source": [
    "data = pd.read_csv(data_file)\n",
    "data = data.sample(frac=1)\n",
    "data = ut.sample_data(data,random_state)\n",
    "nrow, ncol = data.shape\n",
    "n_features = ncol - 1-len(id_cols)\n",
    "dataset = TabularDataset(data,id_cols = id_cols, cat_cols=None, output_cols=output_cols, ignore_cols= None)\n",
    "print(f\"Dataset shape is {data.shape}\")"
   ]
  },
  {
   "cell_type": "code",
   "execution_count": 4,
   "id": "5e83de06-3f14-43df-90e5-179bc7957b01",
   "metadata": {},
   "outputs": [],
   "source": [
    "#take our splits on mangoes \n",
    "train_ind, val_ind, test_ind = dataset.split_by_col(col = 'Set',train_key=\"Cal\",val_key='Tuning',test_key='Val Ext')\n",
    "train_ind = np.union1d(train_ind,val_ind)\n",
    "train_fruit_ids = dataset.meta_data['FruitID'][train_ind].unique()"
   ]
  },
  {
   "cell_type": "code",
   "execution_count": 21,
   "id": "41b5cec8-812a-4180-8693-60b0ef24b3ac",
   "metadata": {},
   "outputs": [],
   "source": [
    "class IdentityFilter():\n",
    "    def fit(self,X,y=None):\n",
    "        return self\n",
    "    def transform(self,X):\n",
    "        return X\n",
    "    \n",
    "class SavGolFilter():\n",
    "    def __init__(self,kernel_size=3,polynomial=2,derivative=0):\n",
    "        self.kernel_size=kernal_size\n",
    "        self.polynomial=polynomial\n",
    "        self.derivative=derivative\n",
    "        \n",
    "    def fit(self,X,y=None):\n",
    "        return self\n",
    "    def transform(self,X):\n",
    "        X = savgol_filter(X,self.kernel_size,self.polynomial,derivative=0)\n",
    "        return X\n",
    "    \n",
    "#standard scaler - sklearn.preprocessing.StandardScaler\n",
    "\n",
    "class SNVFilter():\n",
    "    def fit(self,X,y=None):\n",
    "        return self\n",
    "    def transform(self,X):\n",
    "        values = []\n",
    "        for x in X:\n",
    "            mean_x = np.mean(x)\n",
    "            std_x = np.std(x)\n",
    "            values.append((x-mean_x)/std_x)\n",
    "        \n",
    "        values = np.asarray(values)\n",
    "        return values\n",
    "\n",
    "class MSCFilter():\n",
    "    def __init__(self):\n",
    "        self.mean=None\n",
    "    def fit(self,X,y=None):\n",
    "        self.mean = np.mean(X,axis=0)\n",
    "    def transform(self,X):\n",
    "        return X"
   ]
  },
  {
   "cell_type": "code",
   "execution_count": 6,
   "id": "d7d9ba1e-7fcc-46e1-835c-761d4e673fb1",
   "metadata": {},
   "outputs": [],
   "source": [
    "from functools import partial\n",
    "rmse = partial(mean_squared_error,squared=False)\n",
    "\n",
    "def mango_cv(model,preprocessing=IdentityFilter(), n_folds=10,loss_function = rmse):\n",
    "    splitter = KFold(n_splits=n_folds)\n",
    "    preds = None\n",
    "    y = None\n",
    "    for fold, (train_ind_fruit, val_ind_fruit) in enumerate(splitter.split(train_fruit_ids)):\n",
    "            #split our data\n",
    "            train_ind_ = dataset.meta_data[dataset.meta_data['FruitID'].isin(train_ind_fruit)].index\n",
    "            val_ind_  = dataset.meta_data[dataset.meta_data['FruitID'].isin(val_ind_fruit)].index\n",
    "            train_data_, _, val_data_ = dataset.split(train_ind_, None, val_ind_, preprocessing=None)\n",
    "            \n",
    "            #extract our X and y, data from our database\n",
    "            train_X,train_y = train_data_[:]\n",
    "            val_X,val_y = val_data_[:]\n",
    "            \n",
    "            #apply preprocesing\n",
    "            preprocessing.fit(train_X)\n",
    "            train_X = preprocessing.transform(train_X)\n",
    "            val_X = preprocessing.transform(val_X)\n",
    "            \n",
    "            model.fit(train_X,train_y)\n",
    "            preds_ = model.predict(val_X).reshape(-1).tolist()\n",
    "            if preds is None:\n",
    "                preds = preds_\n",
    "            else:\n",
    "                preds += preds_\n",
    "            \n",
    "            if y is None:\n",
    "                y = val_y.tolist()\n",
    "            else:\n",
    "                y  += val_y.tolist()\n",
    "\n",
    "    score = loss_function(y,preds)\n",
    "    return score\n",
    "            \n",
    "            \n",
    "            \n",
    "            \n",
    "            #do preprocessing "
   ]
  },
  {
   "cell_type": "code",
   "execution_count": 7,
   "id": "8c4d6c41-6102-455c-9e21-e51421b0dd0b",
   "metadata": {},
   "outputs": [],
   "source": [
    "def iterate(preprocessing=IdentityFilter()):\n",
    "    results = {}\n",
    "    for i in tqdm(range(1,100)):\n",
    "        model = PLSRegression(n_components = i,scale=False)\n",
    "        result = mango_cv(model,preprocessing=preprocessing)\n",
    "        results[i] = result  \n",
    "    return results"
   ]
  },
  {
   "cell_type": "code",
   "execution_count": 8,
   "id": "64261927-3fc4-43cc-814f-7c296c045617",
   "metadata": {},
   "outputs": [
    {
     "data": {
      "application/vnd.jupyter.widget-view+json": {
       "model_id": "df61636a634646368a302221e4a1b58b",
       "version_major": 2,
       "version_minor": 0
      },
      "text/plain": [
       "  0%|          | 0/99 [00:00<?, ?it/s]"
      ]
     },
     "metadata": {},
     "output_type": "display_data"
    },
    {
     "data": {
      "application/vnd.jupyter.widget-view+json": {
       "model_id": "b6bc5998fb174143aac4ad5505aef99a",
       "version_major": 2,
       "version_minor": 0
      },
      "text/plain": [
       "  0%|          | 0/99 [00:00<?, ?it/s]"
      ]
     },
     "metadata": {},
     "output_type": "display_data"
    }
   ],
   "source": [
    "base=iterate()\n",
    "std= iterate(preprocessing=StandardScaler())"
   ]
  },
  {
   "cell_type": "code",
   "execution_count": 22,
   "id": "fa4be543-da31-4891-8706-583f4c12f090",
   "metadata": {},
   "outputs": [
    {
     "data": {
      "application/vnd.jupyter.widget-view+json": {
       "model_id": "10492ecdf29b48829ab69da80ec7e50c",
       "version_major": 2,
       "version_minor": 0
      },
      "text/plain": [
       "  0%|          | 0/99 [00:00<?, ?it/s]"
      ]
     },
     "metadata": {},
     "output_type": "display_data"
    }
   ],
   "source": [
    "snv = iterate(preprocessing=SNVFilter())"
   ]
  },
  {
   "cell_type": "code",
   "execution_count": 23,
   "id": "1740631a-9289-4de9-8a7f-91d2af097036",
   "metadata": {},
   "outputs": [
    {
     "data": {
      "text/plain": [
       "[<matplotlib.lines.Line2D at 0x2e25909b820>]"
      ]
     },
     "execution_count": 23,
     "metadata": {},
     "output_type": "execute_result"
    },
    {
     "data": {
      "image/png": "[encoded data removed]",
      "text/plain": [
       "<Figure size 432x288 with 1 Axes>"
      ]
     },
     "metadata": {},
     "output_type": "display_data"
    }
   ],
   "source": [
    "fig, ax = plt.subplots()\n",
    "ax.plot(base.keys(),base.values(), label='Base') \n",
    "ax.plot(std.keys(),std.values(), label='Std')\n",
    "ax.plot(snv.keys(),snv.values(), label='Std')"
   ]
  },
  {
   "cell_type": "code",
   "execution_count": null,
   "id": "657087aa-9a2a-4d53-b754-9037d31e7416",
   "metadata": {},
   "outputs": [],
   "source": []
  }
 ],
 "metadata": {
  "kernelspec": {
   "display_name": "Python 3 (ipykernel)",
   "language": "python",
   "name": "python3"
  },
  "language_info": {
   "codemirror_mode": {
    "name": "ipython",
    "version": 3
   },
   "file_extension": ".py",
   "mimetype": "text/x-python",
   "name": "python",
   "nbconvert_exporter": "python",
   "pygments_lexer": "ipython3",
   "version": "3.8.5"
  }
 },
 "nbformat": 4,
 "nbformat_minor": 5
}
