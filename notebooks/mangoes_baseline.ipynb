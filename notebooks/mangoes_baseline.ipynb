{
 "cells": [
  {
   "cell_type": "markdown",
   "id": "4992f119-3300-4932-95c4-07267b6329b6",
   "metadata": {},
   "source": [
    "#stack\n",
    "\n",
    "\\#103->618, 106x3\n",
    "\n",
    "SNV\n",
    "f\"-Savitsky-Golay 13 window size, 2nd order polynomial - firs\n",
    "\n",
    "1st derivative SG\n",
    "2nd derviatve SG \n",
    "SNV\n",
    "SNV+1st derivative\n",
    "2nd derivative "
   ]
  },
  {
   "cell_type": "code",
   "execution_count": null,
   "id": "d301d647-9aed-45ca-a040-78b327fb95bf",
   "metadata": {},
   "outputs": [],
   "source": []
  }
 ],
 "metadata": {
  "kernelspec": {
   "display_name": "Python 3 (ipykernel)",
   "language": "python",
   "name": "python3"
  },
  "language_info": {
   "codemirror_mode": {
    "name": "ipython",
    "version": 3
   },
   "file_extension": ".py",
   "mimetype": "text/x-python",
   "name": "python",
   "nbconvert_exporter": "python",
   "pygments_lexer": "ipython3",
   "version": "3.8.5"
  }
 },
 "nbformat": 4,
 "nbformat_minor": 5
}
