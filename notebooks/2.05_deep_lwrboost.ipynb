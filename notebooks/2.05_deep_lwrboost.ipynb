{
 "cells": [
  {
   "cell_type": "markdown",
   "metadata": {},
   "source": []
  },
  {
   "cell_type": "code",
   "execution_count": 1,
   "metadata": {
    "collapsed": false,
    "jupyter": {
     "outputs_hidden": false
    },
    "pycharm": {
     "name": "#%%\n"
    }
   },
   "outputs": [
    {
     "name": "stdout",
     "output_type": "stream",
     "text": [
      "GPU detected is GeForce GTX 970\n"
     ]
    }
   ],
   "source": [
    "import logging\n",
    "# set seed\n",
    "import pandas as pd\n",
    "import numpy as np\n",
    "from sklearn.neighbors import KNeighborsRegressor\n",
    "import utils as ut\n",
    "import experiment as exp\n",
    "from evaluation import *\n",
    "from sklearn.metrics import mean_squared_error\n",
    "from torch.utils.tensorboard import SummaryWriter\n",
    "import torch\n",
    "import random\n",
    "#define fixed_hyperparams and create a config gen\n",
    "from configurations import RandomConfigGen, Configuration\n",
    "from torch import nn\n",
    "from deep_net import RandomNet\n",
    "from experiment import run_experiment\n",
    "import regex as re\n",
    "from pathlib import *\n",
    "from plot import *\n",
    "from sk_models import setup_pls_models_exh, StandardScaler, PLSRegression, DeepKNN,CustomWrapper,LWRBoost\n",
    "from tqdm.notebook import tqdm, trange\n",
    "\n",
    "seed = 1\n",
    "torch.manual_seed(seed)\n",
    "random.seed(seed + 1)\n",
    "np.random.seed(seed + 2)\n",
    "random_state = np.random.RandomState(seed)\n",
    "import gc\n",
    "torch.cuda.empty_cache()\n",
    "gc.collect()\n",
    "\n",
    "print(f\"GPU detected is {torch.cuda.get_device_name(0)}\")"
   ]
  },
  {
   "cell_type": "code",
   "execution_count": 2,
   "metadata": {},
   "outputs": [],
   "source": [
    "id_col_db = {'A_C_OF_ALPHA':[\"sample_id\"],\n",
    "             'A_C_OF_SIWARE':[],\n",
    "             'A_AL_RT':[],\n",
    "             'PLN7':[\"db_id\", \"sample_id\"],\n",
    "             'mango_684_990': ['Set','Season','Region','Date','Type','Cultivar','Pop','Temp',\"FruitID\"]\n",
    "            }\n",
    "\n",
    "output_col_db= {'A_C_OF_ALPHA':None,\n",
    "             'A_C_OF_SIWARE':None,\n",
    "             'A_AL_RT':None,\n",
    "             'PLN7':None,\n",
    "             'mango_684_990': ['DM']\n",
    "            }\n"
   ]
  },
  {
   "cell_type": "code",
   "execution_count": 3,
   "metadata": {
    "collapsed": false,
    "jupyter": {
     "outputs_hidden": false
    },
    "pycharm": {
     "name": "#%%\n"
    }
   },
   "outputs": [
    {
     "name": "stdout",
     "output_type": "stream",
     "text": [
      "D:\\workspace\\lazydeep\\experiments\\2.05_reverse\\A_C_OF_SIWARE\n"
     ]
    }
   ],
   "source": [
    "#setup input and output formats, load data\n",
    "\n",
    "file_name = \"A_C_OF_SIWARE.csv\"\n",
    "dataset_name = re.sub(r'\\.(?=csv$)[^.]+$', '',file_name)\n",
    "\n",
    "\n",
    "data_path = Path('D:/workspace/lazydeep/data/soil_data/')\n",
    "model_path = Path('D:/workspace/lazydeep/experiments/2.00/')\n",
    "log_path = Path(\"D:/workspace/lazydeep/experiments/2.05_reverse\")\n",
    "\n",
    "data_file = data_path / file_name\n",
    "log_dir = log_path / re.sub(r'\\.(?=csv$)[^.]+$', '',file_name)\n",
    "model_dir = model_path / re.sub(r'\\.(?=csv$)[^.]+$', '',file_name)\n",
    "\n",
    "if not log_dir.exists():\n",
    "    log_dir.mkdir()\n",
    "print(log_dir)\n",
    "\n",
    "id_cols =id_col_db[dataset_name]\n",
    "output_cols = output_col_db[dataset_name]\n"
   ]
  },
  {
   "cell_type": "code",
   "execution_count": 4,
   "metadata": {
    "collapsed": false,
    "jupyter": {
     "outputs_hidden": false
    },
    "pycharm": {
     "name": "#%% load data\n"
    }
   },
   "outputs": [
    {
     "name": "stdout",
     "output_type": "stream",
     "text": [
      "(13916, 247)\n"
     ]
    }
   ],
   "source": [
    "data = pd.read_csv(data_file)\n",
    "data = data.sample(frac=1)\n",
    "data = ut.sample_data(data,random_state)\n",
    "nrow, ncol = data.shape\n",
    "n_features = ncol - 1-len(id_cols)\n",
    "\n",
    "dataset = TabularDataset(data,id_cols = id_cols, cat_cols=None, output_cols=output_cols, ignore_cols= None)\n",
    "print(data.shape)"
   ]
  },
  {
   "cell_type": "code",
   "execution_count": 5,
   "metadata": {
    "collapsed": false,
    "jupyter": {
     "outputs_hidden": false
    },
    "pycharm": {
     "name": "#%% setup logging and tensorboard outputs\n"
    }
   },
   "outputs": [],
   "source": [
    "# set logging, in this case the root logger\n",
    "ut.setup_logger(logger_name=\"\",file_name=log_dir/\"log.txt\")\n",
    "ut.setup_logger(logger_name=\"summary\",file_name=log_dir/\"summary.txt\")\n",
    "summary_logger = logging.getLogger(\"summary\")\n",
    "tb = SummaryWriter(log_dir/\"tb\")\n"
   ]
  },
  {
   "cell_type": "code",
   "execution_count": 6,
   "metadata": {
    "collapsed": false,
    "jupyter": {
     "outputs_hidden": false
    },
    "pycharm": {
     "name": "#%% load models\n"
    }
   },
   "outputs": [],
   "source": [
    "if False: \n",
    "    n_models = 100\n",
    "    model_names = [f\"random_{i}\" for i in range(0,n_models)]\n",
    "    deep_models = {name:torch.load(model_dir/\"models\"/name/\"_model\") for name in model_names}\n",
    "    configs =  {name:Configuration().load(model_dir/\"models\"/name/\"_config\") for name in model_names}\n",
    "    #for each model, load state\n",
    "    print(f\"Loaded {len(deep_models)} models\")\n",
    "    #print(deep_models)\n",
    "            \n",
    "n_models = 100\n",
    "epochs = 100\n",
    "bs = 32\n",
    "fixed_hyperparams = {'bs': bs,'loss': nn.MSELoss(),'epochs': epochs}\n",
    "device = \"cpu\"#torch.device(\"cuda:0\" if torch.cuda.is_available() else \"cpu\")\n",
    "\n",
    "#setup models\n",
    "config_gen = RandomConfigGen(lr= (0,1),\n",
    "                             allow_increase_size=False,\n",
    "                             n_features=50,\n",
    "                             opt=[torch.optim.SGD,\n",
    "                                  torch.optim.Adam],\n",
    "                             lr_update = [None,\n",
    "                                          torch.optim.lr_scheduler.ReduceLROnPlateau,\n",
    "                                          torch.optim.lr_scheduler.ExponentialLR,\n",
    "                                          torch.optim.lr_scheduler.CosineAnnealingLR],\n",
    "                            dropout = [True,False],\n",
    "                            batch_norm = [True,False])\n",
    "configs = {f\"random_{i}\":config_gen.sample() for i in range(n_models)}\n",
    "config_gen.save(log_dir/'config_gen.txt')\n",
    "\n",
    "models = {name:RandomNet(input_size=n_features,\n",
    "                         n_layers=config.n_layers,\n",
    "                         act_function=config.act_function,\n",
    "                         n_features = config.n_features,\n",
    "                         dropout=config.dropout,\n",
    "                         batch_norm=config.batch_norm,\n",
    "                         device=device,dtype=torch.float)\n",
    "          for name, config in configs.items()}\n",
    "preprocessing = StandardScaler()\n",
    "\n",
    "model_names = models.keys()\n",
    "for name in model_names:\n",
    "        sub_path = log_dir / name\n",
    "        if not sub_path.exists():\n",
    "            sub_path.mkdir()"
   ]
  },
  {
   "cell_type": "code",
   "execution_count": 7,
   "metadata": {},
   "outputs": [],
   "source": [
    "if dataset_name == 'mango_684_990':\n",
    "    eval_ = MangoesSplitter(preprocessing=preprocessing,tensorboard=None,time=True,random_state=random_state)\n",
    "else:\n",
    "    eval_ = CrossValEvaluation(preprocessing=preprocessing,tensorboard=None,time=True,random_state=random_state)"
   ]
  },
  {
   "cell_type": "code",
   "execution_count": 8,
   "metadata": {
    "collapsed": false,
    "jupyter": {
     "outputs_hidden": false
    },
    "pycharm": {
     "name": "#%% setup experiment\n"
    }
   },
   "outputs": [],
   "source": [
    "scores={} #->model->knn:{fold_0:number,...,fold_n:number,mean:number,median:number\n",
    "preds={} #model-> foldsxknn_models\n",
    "deep_scores_dict={}\n",
    "deep_preds_dict={}\n",
    "actual_y = None\n",
    "\n",
    "load_fun_cv = lambda name,model, fold : model.load_state(model_dir/'models'/name/f\"_fold_{fold}\")\n",
    "load_fun_pp_cv = None #lambda fold : preprocessing.from_state(preprocessing.load_state(model_dir/'preprocessing'/f\"_fold_{fold}\"))\n",
    "load_fun_build = lambda name,model : model.load_state(model_dir/'models'/name/f\"_final\")\n",
    "load_fun_pp_build = None #lambda : preprocessing.from_state(preprocessing.load_state(model_dir/'preprocessing'/f\"_final\"))\n"
   ]
  },
  {
   "cell_type": "code",
   "execution_count": 9,
   "metadata": {
    "collapsed": false,
    "jupyter": {
     "outputs_hidden": false
    },
    "pycharm": {
     "name": "#%% deep experiment\n"
    },
    "scrolled": true
   },
   "outputs": [
    {
     "name": "stdout",
     "output_type": "stream",
     "text": [
      "Running Cross Evaluation with 5 folds'\n",
      "-----------------------------------Fold 0 - Train 6956 - Val 2320 - Test 2320-----------------------------------'\n",
      "Tested (test) on 2320 instances with mean losses of: random_0:628.4683,random_1:258.9156,random_2:301.2125,random_3:682.699,random_4:153.2868,random_5:117.8278,random_6:404.3059,random_7:312.3909,random_8:343.6564,random_9:146.2347,random_10:156.4236,random_11:175.8986,random_12:180.1223,random_13:142.6379,random_14:307.0093,random_15:184.7355,random_16:116.8974,random_17:127.7617,random_18:145.4492,random_19:188.9521,random_20:424.769,random_21:343.6529,random_22:197.0028,random_23:133.7144,random_24:343.617,random_25:342.9373,random_26:126.9094,random_27:258.0966,random_28:197.9956,random_29:177.0037,random_30:215.7712,random_31:161.9369,random_32:216.8611,random_33:621.9322,random_34:132.3104,random_35:343.6219,random_36:119.5602,random_37:178.8677,random_38:148.7674,random_39:217.5964,random_40:111.1418,random_41:171.1611,random_42:165.7514,random_43:470.4425,random_44:194.1049,random_45:343.2741,random_46:320.4822,random_47:343.6262,random_48:116.2397,random_49:437.1321,random_50:156.869,random_51:186.2549,random_52:143.7019,random_53:110.1357,random_54:107.8615,random_55:115.4241,random_56:114.27,random_57:116.8704,random_58:311.2141,random_59:170.8046,random_60:159.2015,random_61:147.8613,random_62:304.8942,random_63:315.5417,random_64:241.1785,random_65:164.5067,random_66:113.3928,random_67:343.6206,random_68:111.1955,random_69:124.4009,random_70:140.7365,random_71:286.4874,random_72:191.1556,random_73:203.9381,random_74:185.045,random_75:441.3406,random_76:207.9036,random_77:114.5415,random_78:110.7608,random_79:132.157,random_80:167.827,random_81:242.2655,random_82:113.4414,random_83:343.3387,random_84:104.3742,random_85:252.5249,random_86:343.657,random_87:343.6316,random_88:343.6145,random_89:195.7905,random_90:153.5485,random_91:303.3157,random_92:129.8009,random_93:211.0966,random_94:122.7634,random_95:340.0572,random_96:144.6402,random_97:132.2812,random_98:132.6742,random_99:263.0946'\n",
      "Testing (test) took 0:00:04.895998'\n",
      "-----------------------------------Fold 1 - Train 6958 - Val 2319 - Test 2319-----------------------------------'\n",
      "Tested (test) on 2319 instances with mean losses of: random_0:227.3331,random_1:439.991,random_2:328.8255,random_3:756.3824,random_4:738.7934,random_5:160.3943,random_6:388.0437,random_7:399.8914,random_8:425.0142,random_9:425.3052,random_10:177.9134,random_11:219.8009,random_12:311.1687,random_13:200.6778,random_14:408.1177,random_15:225.5445,random_16:171.2393,random_17:156.6359,random_18:180.6727,random_19:301.2982,random_20:234.5694,random_21:425.3316,random_22:324.0244,random_23:181.57,random_24:425.6622,random_25:367.4263,random_26:159.479,random_27:229.115,random_28:255.2973,random_29:378.3983,random_30:288.8432,random_31:160.5257,random_32:384.2754,random_33:753.092,random_34:176.5325,random_35:187.107,random_36:159.1598,random_37:225.82,random_38:301.3038,random_39:276.3176,random_40:165.9181,random_41:197.635,random_42:176.4399,random_43:439.2375,random_44:218.4773,random_45:377.6251,random_46:392.2286,random_47:398.6131,random_48:148.855,random_49:252.5163,random_50:302.1851,random_51:745.1731,random_52:166.9177,random_53:154.6778,random_54:149.2875,random_55:150.1291,random_56:166.4832,random_57:183.0955,random_58:389.9436,random_59:174.9224,random_60:409.785,random_61:260.1347,random_62:457.8109,random_63:377.3101,random_64:315.8513,random_65:203.5889,random_66:156.3098,random_67:425.3326,random_68:178.732,random_69:304.7749,random_70:161.1186,random_71:349.907,random_72:414.4911,random_73:242.8355,random_74:208.7928,random_75:258.4506,random_76:206.6333,random_77:152.8208,random_78:153.3632,random_79:171.4433,random_80:256.4042,random_81:320.2776,random_82:194.8643,random_83:383.2572,random_84:146.9642,random_85:425.3125,random_86:425.3346,random_87:376.7019,random_88:425.3014,random_89:758.0552,random_90:209.747,random_91:362.0319,random_92:162.1021,random_93:191.4792,random_94:149.6711,random_95:232.2083,random_96:165.5623,random_97:160.3645,random_98:157.4412,random_99:306.4684'\n",
      "Testing (test) took 0:00:05.149000'\n",
      "-----------------------------------Fold 2 - Train 6958 - Val 2319 - Test 2319-----------------------------------'\n",
      "Tested (test) on 2319 instances with mean losses of: random_0:417.0053,random_1:150.9594,random_2:187.5627,random_3:619.5512,random_4:401.7067,random_5:106.7785,random_6:616.9087,random_7:271.4461,random_8:615.2,random_9:117.2859,random_10:115.0627,random_11:128.9588,random_12:153.3272,random_13:122.4904,random_14:305.2969,random_15:223.108,random_16:308.2301,random_17:167.0136,random_18:134.8742,random_19:132.7105,random_20:287.9388,random_21:286.9785,random_22:287.0031,random_23:121.2999,random_24:286.9525,random_25:314.3857,random_26:1253.2815,random_27:542.0251,random_28:179.3049,random_29:260.878,random_30:184.5795,random_31:110.462,random_32:235.2052,random_33:618.1062,random_34:133.2799,random_35:115.9286,random_36:142.4426,random_37:226.5551,random_38:147.574,random_39:258.7942,random_40:138.6553,random_41:233.7425,random_42:188.5089,random_43:286.9153,random_44:150.4224,random_45:626.9012,random_46:146.0041,random_47:287.0537,random_48:119.1776,random_49:167.8842,random_50:521.0896,random_51:130.438,random_52:122.427,random_53:234.013,random_54:614.5386,random_55:141.1548,random_56:116.4454,random_57:121.9927,random_58:295.6954,random_59:121.0606,random_60:604.9388,random_61:130.2494,random_62:286.1459,random_63:146.1616,random_64:187.7361,random_65:139.7439,random_66:124.725,random_67:286.9522,random_68:125.3442,random_69:274.1681,random_70:119.9606,random_71:253.6232,random_72:143.6571,random_73:199.0638,random_74:130.6426,random_75:427.9531,random_76:122.6042,random_77:104.2576,random_78:143.6876,random_79:115.393,random_80:123.8762,random_81:227.084,random_82:115.7892,random_83:182.9256,random_84:154.1601,random_85:283.5564,random_86:286.954,random_87:198.6285,random_88:286.9516,random_89:138.3638,random_90:116.6937,random_91:232.9172,random_92:114.2995,random_93:178.2194,random_94:113.7186,random_95:151.2003,random_96:128.3432,random_97:135.2989,random_98:111.4126,random_99:140.1968'\n",
      "Testing (test) took 0:00:05.206001'\n",
      "-----------------------------------Fold 3 - Train 6958 - Val 2319 - Test 2319-----------------------------------'\n",
      "Tested (test) on 2319 instances with mean losses of: random_0:249.5529,random_1:151.6525,random_2:245.5781,random_3:149.2781,random_4:318.9637,random_5:108.9055,random_6:245.2535,random_7:399.8641,random_8:314.6822,random_9:151.0604,random_10:180.3213,random_11:168.3981,random_12:184.7162,random_13:132.5184,random_14:300.0788,random_15:127.1233,random_16:165.3376,random_17:106.6151,random_18:126.3214,random_19:105.5809,random_20:162.493,random_21:301.2165,random_22:180.9495,random_23:126.4374,random_24:301.2244,random_25:111.7758,random_26:199.3289,random_27:156.5974,random_28:184.6988,random_29:113.0238,random_30:195.1233,random_31:115.4957,random_32:249.7542,random_33:618.6281,random_34:120.3642,random_35:133.5461,random_36:157.6671,random_37:137.2336,random_38:132.5796,random_39:123.5298,random_40:111.1999,random_41:175.7122,random_42:157.9138,random_43:301.3373,random_44:233.8904,random_45:639.9353,random_46:143.9589,random_47:301.2165,random_48:148.393,random_49:392.8127,random_50:156.8044,random_51:218.3367,random_52:131.4329,random_53:107.389,random_54:628.4059,random_55:139.646,random_56:109.1406,random_57:105.7444,random_58:268.5951,random_59:243.2463,random_60:159.2501,random_61:158.5867,random_62:264.9003,random_63:144.924,random_64:172.3534,random_65:146.4605,random_66:126.5576,random_67:301.2172,random_68:129.8948,random_69:195.2989,random_70:162.8094,random_71:265.9407,random_72:301.3864,random_73:156.1264,random_74:120.3301,random_75:210.2451,random_76:219.6715,random_77:110.8247,random_78:124.6249,random_79:120.7397,random_80:123.4371,random_81:230.6873,random_82:114.1203,random_83:300.7185,random_84:240.1839,random_85:301.246,random_86:301.2165,random_87:258.2334,random_88:301.2531,random_89:571.5713,random_90:146.2162,random_91:271.0178,random_92:115.4891,random_93:172.8224,random_94:127.208,random_95:247.6389,random_96:116.4119,random_97:118.8483,random_98:137.8019,random_99:164.0641'\n",
      "Testing (test) took 0:00:05.132003'\n",
      "-----------------------------------Fold 4 - Train 6958 - Val 2319 - Test 2319-----------------------------------'\n",
      "Tested (test) on 2319 instances with mean losses of: random_0:305.1717,random_1:208.7493,random_2:335.0213,random_3:136.7903,random_4:212.1142,random_5:112.2099,random_6:724.5092,random_7:360.3417,random_8:332.9016,random_9:136.7757,random_10:195.2434,random_11:158.9649,random_12:182.0162,random_13:137.3141,random_14:379.9036,random_15:168.2272,random_16:125.298,random_17:138.0676,random_18:126.3392,random_19:216.6581,random_20:211.9099,random_21:379.9125,random_22:385.5192,random_23:157.5157,random_24:380.8174,random_25:228.1153,random_26:129.6189,random_27:198.7656,random_28:207.0269,random_29:170.7839,random_30:265.7191,random_31:153.9126,random_32:243.7804,random_33:732.5892,random_34:144.8943,random_35:379.8537,random_36:129.4053,random_37:186.6976,random_38:158.7942,random_39:192.6694,random_40:115.5754,random_41:170.785,random_42:167.0611,random_43:717.566,random_44:195.2122,random_45:734.2683,random_46:328.3356,random_47:379.9163,random_48:123.6052,random_49:175.2651,random_50:172.1423,random_51:124.4668,random_52:141.8651,random_53:115.4875,random_54:126.5621,random_55:123.0499,random_56:128.5844,random_57:122.6655,random_58:209.4055,random_59:128.3338,random_60:324.1547,random_61:171.4886,random_62:337.1675,random_63:277.1513,random_64:268.6018,random_65:198.464,random_66:121.9747,random_67:379.9119,random_68:132.5263,random_69:270.5203,random_70:138.7829,random_71:318.4261,random_72:215.555,random_73:389.7479,random_74:186.0453,random_75:251.1581,random_76:193.4204,random_77:104.5063,random_78:125.4574,random_79:173.1662,random_80:133.3775,random_81:291.0689,random_82:131.3957,random_83:379.5154,random_84:134.694,random_85:379.9179,random_86:379.9151,random_87:333.0371,random_88:379.845,random_89:149.9537,random_90:741.3981,random_91:337.548,random_92:129.426,random_93:191.6329,random_94:113.6906,random_95:384.8022,random_96:148.8418,random_97:135.2436,random_98:135.3125,random_99:308.1567'\n",
      "Testing (test) took 0:00:04.970000'\n",
      "Building final model - Train 9276 - Test 2320'\n",
      "Tested (test) on 2320 instances with mean losses of: random_0:520.7262,random_1:256.0751,random_2:252.9784,random_3:652.6977,random_4:401.9873,random_5:116.058,random_6:190.1113,random_7:293.7237,random_8:328.9643,random_9:329.0694,random_10:213.8797,random_11:158.3823,random_12:175.3227,random_13:155.5952,random_14:329.0983,random_15:137.2355,random_16:115.7419,random_17:153.9771,random_18:120.6253,random_19:188.0449,random_20:233.722,random_21:328.9949,random_22:198.4262,random_23:152.9418,random_24:329.0143,random_25:144.3837,random_26:108.9329,random_27:328.9922,random_28:203.2782,random_29:180.2907,random_30:204.3553,random_31:141.1688,random_32:282.7136,random_33:641.4673,random_34:179.5731,random_35:179.107,random_36:121.5921,random_37:136.8425,random_38:136.5796,random_39:309.7133,random_40:122.3238,random_41:273.5835,random_42:155.1796,random_43:328.8663,random_44:194.2809,random_45:657.7058,random_46:215.1391,random_47:329.4171,random_48:146.6107,random_49:160.846,random_50:608.8571,random_51:134.0124,random_52:134.0537,random_53:155.0937,random_54:647.7143,random_55:121.3004,random_56:115.6868,random_57:110.3703,random_58:159.9287,random_59:269.2554,random_60:150.0147,random_61:137.7549,random_62:324.8636,random_63:204.0712,random_64:218.7112,random_65:145.999,random_66:135.6504,random_67:328.9927,random_68:126.2823,random_69:226.1086,random_70:178.4908,random_71:227.2715,random_72:292.0601,random_73:329.0561,random_74:157.646,random_75:212.1357,random_76:206.0122,random_77:117.8532,random_78:137.5542,random_79:125.3728,random_80:180.1171,random_81:316.2159,random_82:118.0493,random_83:232.7221,random_84:150.7057,random_85:293.7884,random_86:328.9914,random_87:285.5746,random_88:329.0694,random_89:131.9252,random_90:134.8095,random_91:234.5515,random_92:152.5622,random_93:192.2858,random_94:134.0267,random_95:216.0993,random_96:187.1168,random_97:136.3425,random_98:136.3961,random_99:235.6878'\n",
      "Testing (test) took 0:00:05.321000'\n"
     ]
    }
   ],
   "source": [
    "deep_scheme = DeepScheme(configs, fixed_hyperparams=fixed_hyperparams,loss_eval=loss_target,device=device,tensorboard=tb,adaptive_lr=False,update=False)\n",
    "deep_scores, deep_preds, _ , _, _,_ = eval_.evaluate(models,dataset,deep_scheme,logger_name=\"log\",load_fun=load_fun_cv,load_fun_pp=load_fun_pp_cv)\n",
    "deep_scores_final, deep_preds_final, _ ,_, _,_ = eval_.build(models,dataset,deep_scheme,logger_name=\"test_log\",load_fun=load_fun_build,load_fun_pp=load_fun_pp_build)"
   ]
  },
  {
   "cell_type": "code",
   "execution_count": 10,
   "metadata": {},
   "outputs": [],
   "source": [
    "all_scores = []\n",
    "for k,v in ut.flip_dicts(deep_scores).items():\n",
    "    dict1 = {'model_num':k,\"predictor\":\"deep\"}\n",
    "    all_scores.append({**dict1,**v})\n",
    "\n",
    "all_scores_final = []\n",
    "for k,v in ut.flip_dicts(deep_scores_final).items():\n",
    "    dict1 = {'model_num':k,\"predictor\":\"deep\"}\n",
    "    all_scores_final.append({**dict1,**v})"
   ]
  },
  {
   "cell_type": "code",
   "execution_count": 11,
   "metadata": {
    "scrolled": true
   },
   "outputs": [
    {
     "name": "stdout",
     "output_type": "stream",
     "text": [
      "0 - random_77 - deep - 114.54153915931438 - 152.8207722639616 - 104.25755461725298 - 110.82466808728691 - 104.50628847004576 - 117.38991802182585 - 0.6620716666595301\n",
      "1 - random_5 - deep - 117.82781637783708 - 160.39428847799428 - 106.77852464143754 - 108.9054703895467 - 112.2098785703066 - 121.22290283731783 - 0.6510377193474814\n",
      "2 - random_94 - deep - 122.7633532030829 - 149.67107165337842 - 113.71855478257956 - 127.20804967711639 - 113.69057255687771 - 125.41009271592955 - 0.6389841280263233\n",
      "3 - random_56 - deep - 114.26998714578563 - 166.4831926708542 - 116.44538460254874 - 109.14064373133151 - 128.5843738228558 - 126.9836186780309 - 0.6344544459650241\n",
      "4 - random_40 - deep - 111.14184654498922 - 165.918114705351 - 138.65532447449758 - 111.19993794956511 - 115.57543765352224 - 128.4966362148703 - 0.6300989484644296\n",
      "5 - random_66 - deep - 113.39283807688746 - 156.3097939501553 - 124.72496610101105 - 126.55761228053926 - 121.97465503950887 - 128.59066218726588 - 0.6298282775185955\n",
      "6 - random_57 - deep - 116.87040328979492 - 183.09549167332025 - 121.99267163920268 - 105.74440960145911 - 122.66547935653627 - 130.0725552494397 - 0.6255623775066703\n",
      "7 - random_92 - deep - 129.80091663229055 - 162.10211019775076 - 114.29949187574432 - 115.48912562476812 - 129.4260442617794 - 130.22350152175568 - 0.6251278510746967\n",
      "8 - random_48 - deep - 116.23969710777546 - 148.85500593296462 - 119.17757648041969 - 148.3930387690233 - 123.60523134061313 - 131.25281454092448 - 0.6221647854306038\n",
      "9 - random_78 - deep - 110.76076728557719 - 153.36319493486636 - 143.6875896149537 - 124.62492128629631 - 125.45744370118767 - 131.57699165882937 - 0.6212315823497365\n",
      "10 - random_55 - deep - 115.4240923914416 - 150.1290680760708 - 141.15482656356332 - 139.64596178285927 - 123.04985413545162 - 133.87916844496579 - 0.6146043457224007\n",
      "11 - random_82 - deep - 113.44143300549737 - 194.8643005686929 - 115.7891823890755 - 114.12032862108501 - 131.39567369836936 - 133.92041620754705 - 0.6144856064993227\n",
      "12 - random_98 - deep - 132.6742238274936 - 157.44117536129443 - 111.4126373791088 - 137.80190974733551 - 135.31253371869968 - 134.9283028391621 - 0.6115842206277142\n",
      "13 - random_68 - deep - 111.19553280534416 - 178.73197520504021 - 125.34421008966667 - 129.89476194130856 - 132.5263416509065 - 135.53646582645538 - 0.6098335123202326\n",
      "14 - random_97 - deep - 132.28115200174267 - 160.36449671552427 - 135.2989024186556 - 118.84832912953365 - 135.2435872816947 - 136.40693729516164 - 0.6073277011092081\n",
      "15 - random_17 - deep - 127.7617213808257 - 156.63590178956446 - 167.01361513651872 - 106.61507138099687 - 138.06755339641825 - 139.21778456033275 - 0.5992361635427769\n",
      "16 - random_31 - deep - 161.9368876227017 - 160.52572067280482 - 110.46200280232695 - 115.49567740186632 - 153.91255124163249 - 140.46841981138914 - 0.5956359814050931\n",
      "17 - random_96 - deep - 144.64016892005657 - 165.56234375368476 - 128.3431928765419 - 116.4118600411886 - 148.84175885962534 - 140.76019871659048 - 0.5947960425006273\n",
      "18 - random_52 - deep - 143.70186025685277 - 166.91774573085533 - 122.42697698898283 - 131.43294986068508 - 141.8651351731314 - 141.26914362107976 - 0.5933309515777065\n",
      "19 - random_34 - deep - 132.31040762539567 - 176.53252968535233 - 133.27986662199703 - 120.36418198901757 - 144.89429071187047 - 141.4754627240939 - 0.5927370243325669\n",
      "20 - random_36 - deep - 119.56024243584994 - 159.159816700819 - 142.44255139612852 - 157.66714564640495 - 129.40530567572208 - 141.64510912941785 - 0.5922486661500723\n",
      "21 - random_79 - deep - 132.15700094288792 - 171.44326371640776 - 115.39301865262274 - 120.73972247684243 - 173.16617229242888 - 142.5789360678386 - 0.5895604746405572\n",
      "22 - random_18 - deep - 145.44916829076305 - 180.67266955587462 - 134.87424175530583 - 126.32142917489944 - 126.33917283045417 - 142.73157105801158 - 0.5891210869256003\n",
      "23 - random_23 - deep - 133.71435189082706 - 181.56996227822052 - 121.29987477988917 - 126.43735145052325 - 157.51572221473867 - 144.10655615813593 - 0.5851629410210548\n",
      "24 - random_53 - deep - 110.13572392956964 - 154.67778473755777 - 234.0130089434533 - 107.38904925943089 - 115.48750130479425 - 144.33766677081772 - 0.5844976468844125\n",
      "25 - random_70 - deep - 140.7364726362557 - 161.11858690006048 - 119.96057969159533 - 162.8094068414541 - 138.78289973566172 - 144.68124731211822 - 0.5835085875031094\n",
      "26 - random_13 - deep - 142.6379430047397 - 200.67784682549808 - 122.4903763791208 - 132.51843263857216 - 137.31410407115283 - 147.12735315590433 - 0.5764670247786909\n",
      "27 - random_84 - deep - 104.37418767994848 - 146.96424672931573 - 154.16006035288638 - 240.18393554950697 - 134.69399206203445 - 156.07082832401449 - 0.5507215969876141\n",
      "28 - random_80 - deep - 167.82702234202418 - 256.4041929520528 - 123.87619269577888 - 123.43706555631768 - 133.37754871455593 - 160.98499340293532 - 0.5365752746895536\n",
      "29 - random_10 - deep - 156.4236496497845 - 177.91339079744603 - 115.06274982236901 - 180.3213287195598 - 195.2434375067115 - 164.99217292068548 - 0.5250398760910333\n",
      "30 - random_74 - deep - 185.0450096919619 - 208.7927847759844 - 130.64257878627998 - 120.33012043622713 - 186.04528768456356 - 166.1727821165245 - 0.5216412767513341\n",
      "31 - random_59 - deep - 170.80464469646586 - 174.9223596820445 - 121.06061649363635 - 243.24630196436874 - 128.3337513412469 - 167.67380517684566 - 0.5173203075435218\n",
      "32 - random_11 - deep - 175.89856459518958 - 219.80092802125867 - 128.95875383173922 - 168.39814502507153 - 158.9648630225283 - 170.40472406674476 - 0.5094588584131114\n",
      "33 - random_65 - deep - 164.50672191751414 - 203.58888729567568 - 139.74394433999072 - 146.46052977976072 - 198.4639641883919 - 170.55228790924352 - 0.5090340689235435\n",
      "34 - random_42 - deep - 165.75142085634428 - 176.4398732648013 - 188.50888849137516 - 157.91380051962 - 167.0610682070898 - 171.13454741897166 - 0.5073579285103822\n",
      "35 - random_61 - deep - 147.86129731803103 - 260.134673848549 - 130.2493516626724 - 158.586708641299 - 171.48858103355286 - 173.66189601422215 - 0.5000824936778561\n",
      "36 - random_16 - deep - 116.89736675393992 - 171.23927765747965 - 308.2300597828696 - 165.33755496454012 - 125.29796441766197 - 177.3952234968968 - 0.4893354282118094\n",
      "37 - random_38 - deep - 148.7673740913128 - 301.3037550359926 - 147.57399789564258 - 132.57960512885867 - 158.79419807937444 - 177.80128253434776 - 0.48816651306069625\n",
      "38 - random_15 - deep - 184.73554634883487 - 225.54446330200037 - 223.10797696197892 - 127.12325348880796 - 168.22719069296247 - 185.7475986011416 - 0.46529158998468756\n",
      "39 - random_19 - deep - 188.95212454960264 - 301.2981807154384 - 132.7104930639164 - 105.5808730263194 - 216.6581185897294 - 189.03995143250611 - 0.4558139506454648\n",
      "40 - random_93 - deep - 211.09659418566474 - 191.47916359385317 - 178.21939679434095 - 172.8223852311398 - 191.632925154475 - 189.05199569143926 - 0.45577927904490334\n",
      "41 - random_41 - deep - 171.16107385569606 - 197.6349685228092 - 233.74245044598038 - 175.71223835289194 - 170.78499161760166 - 189.8055393138017 - 0.4536100660094454\n",
      "42 - random_76 - deep - 207.9036469295107 - 206.63327005311507 - 122.60419607882152 - 219.67145630284188 - 193.4203750524813 - 190.04813245337 - 0.45291171732060054\n",
      "43 - random_37 - deep - 178.86769011925006 - 225.81995869875468 - 226.55510165209193 - 137.23355394357645 - 186.69758294398747 - 191.0337279460385 - 0.4500745005664035\n",
      "44 - random_9 - deep - 146.23466089182887 - 425.30522073512964 - 117.28591635351604 - 151.06042261687062 - 136.77573667183268 - 195.32815653038182 - 0.4377122030317294\n",
      "45 - random_44 - deep - 194.10485529406319 - 218.47730048189086 - 150.4224195690081 - 233.89035736255062 - 195.21220706217554 - 198.4210547590997 - 0.4288087302187745\n",
      "46 - random_12 - deep - 180.1222502083614 - 311.16871229190673 - 153.327161255146 - 184.71623792726453 - 182.01622823211025 - 202.26820783668973 - 0.417733996974869\n",
      "47 - random_28 - deep - 197.99559697118298 - 255.29731997234546 - 179.30492049098373 - 184.69882941071253 - 207.0269333089719 - 204.86412387131463 - 0.41026117823664066\n",
      "48 - random_39 - deep - 217.59638429839035 - 276.3176001597705 - 258.7942291694039 - 123.52984369104409 - 192.6693749076182 - 213.78181947959 - 0.38458996162004977\n",
      "49 - random_29 - deep - 177.00372803786706 - 378.3982644749387 - 260.87804596092025 - 113.02377517719935 - 170.78386324034935 - 220.01382003897623 - 0.36665000904236167\n",
      "50 - random_30 - deep - 215.77115327243146 - 288.8432001177223 - 184.57953679001295 - 195.1232757009068 - 265.7190566891583 - 230.00601979334522 - 0.3378856358636432\n",
      "51 - random_35 - deep - 343.6218989931304 - 187.1069936682408 - 115.92857191736402 - 133.54610850904564 - 379.8536763259078 - 232.0210785852938 - 0.3320849208565876\n",
      "52 - random_69 - deep - 124.40088456252525 - 304.7749486136097 - 274.16809392931543 - 195.29885632809817 - 270.5203373963692 - 233.8231907083437 - 0.3268972117543315\n",
      "53 - random_99 - deep - 263.09457139640017 - 306.4684402446081 - 140.19676768445618 - 164.06413982633168 - 308.1566714952608 - 236.3984149341143 - 0.3194839581695488\n",
      "54 - random_64 - deep - 241.1785170456459 - 315.85131160839717 - 187.73605310490234 - 172.35342246512494 - 268.601849788322 - 237.14457571775586 - 0.31733599798464485\n",
      "55 - random_73 - deep - 203.93809781567805 - 242.83553683670394 - 199.06381889826883 - 156.12635724592846 - 389.7478668489246 - 238.33937268158203 - 0.313896556561822\n",
      "56 - random_1 - deep - 258.9156188701761 - 439.99101661988095 - 150.95944654720515 - 151.65252820928325 - 208.74931701949671 - 242.05504119029985 - 0.30320032567968425\n",
      "57 - random_63 - deep - 315.5416763831829 - 377.3101399739583 - 146.16157212613112 - 144.92404623718394 - 277.1512698938025 - 252.22320214346055 - 0.27392941603137544\n",
      "58 - random_72 - deep - 191.15555146316 - 414.49112395121654 - 143.6570603936949 - 301.3863704594213 - 215.55500326613097 - 253.24366662687802 - 0.2709918225146112\n",
      "59 - random_50 - deep - 156.86900229618468 - 302.1851283538542 - 521.0895503917199 - 156.80438084045122 - 172.14229602163957 - 261.8090222140164 - 0.24633488104292545\n",
      "60 - random_81 - deep - 242.26546759769835 - 320.2775861272117 - 227.0840230352049 - 230.68733641380584 - 291.0689128828028 - 262.2749400347429 - 0.24499365144429452\n",
      "61 - random_20 - deep - 424.7689771981075 - 234.56940618451682 - 287.9388153286729 - 162.49302352076205 - 211.90986001959337 - 264.3498533609584 - 0.23902063422126885\n",
      "62 - random_32 - deep - 216.86114507214776 - 384.27538544003846 - 235.2052249587677 - 249.75424362781388 - 243.78037951865448 - 265.97103640499506 - 0.23435376253975626\n",
      "63 - random_46 - deep - 320.4822348759092 - 392.2286034008715 - 146.0041124574991 - 143.9589324085915 - 328.3355644360962 - 266.2065727705809 - 0.23367572806452386\n",
      "64 - random_95 - deep - 340.0571946768925 - 232.20827167966644 - 151.20028395362843 - 247.63893701866712 - 384.8021696879464 - 271.1873102569021 - 0.21933776492491275\n",
      "65 - random_25 - deep - 342.93730531889815 - 367.4262772692129 - 314.38571142646555 - 111.77576212617744 - 228.11528689905506 - 272.93410494703875 - 0.21430929716317426\n",
      "66 - random_90 - deep - 153.5484714113433 - 209.7470068691002 - 116.69369366355063 - 146.2161984297673 - 741.3980886468398 - 273.5103438187732 - 0.21265048825681654\n",
      "67 - random_22 - deep - 197.00275065981108 - 324.0243523167145 - 287.0030782024323 - 180.94952918641164 - 385.51918446950845 - 274.8930621579578 - 0.2086700808103008\n",
      "68 - random_27 - deep - 258.0966375416723 - 229.11503722802377 - 542.0251446156833 - 156.5973713551168 - 198.76563997585333 - 276.91834402703574 - 0.2028399368073469\n",
      "69 - random_2 - deep - 301.2125172582166 - 328.82546073252297 - 187.56273652768022 - 245.5780782991568 - 335.0213261415548 - 279.64188357749237 - 0.1949997304541784\n",
      "70 - random_51 - deep - 186.25490259630928 - 745.1730941239489 - 130.4379727395252 - 218.33665025455267 - 124.46683698936287 - 280.92572872018434 - 0.1913039475739442\n",
      "71 - random_49 - deep - 437.1320676606277 - 252.51627252799983 - 167.88415565836166 - 392.8127469699822 - 175.26512709893558 - 285.13517940918933 - 0.17918627444165813\n",
      "72 - random_71 - deep - 286.48744343724746 - 349.90697831601716 - 253.62322770711316 - 265.9407402259001 - 318.42605805983055 - 294.8761658270537 - 0.15114506476410283\n",
      "73 - random_58 - deep - 311.21406113197065 - 389.94363186183597 - 295.6953527295111 - 268.5951326147345 - 209.4054508645147 - 294.9721236664062 - 0.1508688325861628\n",
      "74 - random_91 - deep - 303.3156917703563 - 362.0318652206888 - 232.91717569105273 - 271.01775855573925 - 337.54803692158464 - 301.36626960504145 - 0.13246211490043291\n",
      "75 - random_87 - deep - 343.6316162109375 - 376.7019341433033 - 198.6284823168861 - 258.2333754670677 - 333.0371265288004 - 302.0500891579092 - 0.13049361534186554\n",
      "76 - random_75 - deep - 441.34064215298355 - 258.4505730119436 - 427.95305945103206 - 210.24514827094956 - 251.1581384182593 - 317.8401637631429 - 0.08503899977874518\n",
      "77 - random_83 - deep - 343.33872501767917 - 383.25718885703867 - 182.92555246686257 - 300.7185258721421 - 379.5154211777148 - 317.95327522036763 - 0.08471338777674542\n",
      "78 - random_54 - deep - 107.86150617928341 - 149.28745643842728 - 614.5385572162874 - 628.4059023641214 - 126.56213986560053 - 325.3123594083008 - 0.06352891898720192\n",
      "79 - random_85 - deep - 252.52489166259767 - 425.3125330311001 - 283.55635741292633 - 301.24595849027713 - 379.9179379659359 - 328.5049840528278 - 0.05433836546022752\n",
      "80 - random_62 - deep - 304.8942090790847 - 457.81086502634486 - 286.1459341505675 - 264.90033893330235 - 337.16750934793293 - 330.18158992789404 - 0.04951194903045675\n",
      "81 - random_60 - deep - 159.2014653172986 - 409.78500322783594 - 604.9387907659046 - 159.25011598883955 - 324.15470378262154 - 331.4511606932265 - 0.045857257554253406\n",
      "82 - random_14 - deep - 307.0092798167262 - 408.1176962842197 - 305.29689109443643 - 300.07880136770336 - 379.9035649926768 - 340.0783915479515 - 0.021022196816425254\n",
      "83 - random_47 - deep - 343.6262458538187 - 398.61311430476667 - 287.05370889115096 - 301.2164843626298 - 379.91628712485095 - 342.0853001049507 - 0.015244943750217677\n",
      "84 - random_88 - deep - 343.6144915350552 - 425.30140799867434 - 286.9515772824043 - 301.253099761476 - 379.8450143903738 - 347.39278868426794 - -3.363212798324078e-05\n",
      "85 - random_67 - deep - 343.6205836855132 - 425.33258317204684 - 286.95215508319944 - 301.2171824966437 - 379.91193805084293 - 347.40655886342574 - -7.327210534269213e-05\n",
      "86 - random_86 - deep - 343.6570297767376 - 425.33464423373323 - 286.95403482257007 - 301.21648706038894 - 379.91509380727143 - 347.4151363620541 - -9.796400277783945e-05\n",
      "87 - random_21 - deep - 343.65288780475487 - 425.33157981619235 - 286.97851967163876 - 301.2164775195333 - 379.912544665022 - 347.418074055379 - -0.00010642068990973641\n",
      "88 - random_24 - deep - 343.6170211265827 - 425.6621587242531 - 286.95246835225817 - 301.2244246475858 - 380.8173778019058 - 347.65435126477246 - -0.0007865878194397435\n",
      "89 - random_7 - deep - 312.39085909087083 - 399.8913850574567 - 271.44611970244324 - 399.8640996119543 - 360.34171601131385 - 348.7836920362436 - -0.004037601629720333\n",
      "90 - random_89 - deep - 195.7904695708176 - 758.0551933101048 - 138.36380408888698 - 571.5713307461691 - 149.9536893251591 - 362.73250018276343 - -0.044191795179485016\n",
      "91 - random_4 - deep - 153.28682782403354 - 738.7934192889412 - 401.7067097165863 - 318.96366053914755 - 212.11416870748857 - 364.9547086245178 - -0.05058882831241207\n",
      "92 - random_0 - deep - 628.4682745571794 - 227.33314526003977 - 417.0053315485485 - 249.55287875117492 - 305.1716813831403 - 365.528940724257 - -0.05224186035882128\n",
      "93 - random_26 - deep - 126.90940580696895 - 159.4789639794143 - 1253.2815120280843 - 199.32892279976554 - 129.61894506377976 - 373.70229181024126 - -0.07577034523074766\n",
      "94 - random_8 - deep - 343.6563767005657 - 425.0141814751274 - 615.199954277588 - 314.6821923710345 - 332.90162589602454 - 406.2854602014812 - -0.16956695038176584\n",
      "95 - random_43 - deep - 470.44245689655173 - 439.23751608654055 - 286.9153401455832 - 301.33733534391405 - 717.5659668310905 - 443.10208348583086 - -0.2755503291536212\n",
      "96 - random_3 - deep - 682.6990425899111 - 756.3823779633766 - 619.5512182343464 - 149.27811669748166 - 136.79033346698426 - 468.9586509895646 - -0.3499831842887404\n",
      "97 - random_6 - deep - 404.30594114106276 - 388.0437277283531 - 616.9086886426918 - 245.25348075415977 - 724.5091748947005 - 475.798034164626 - -0.3696715987315857\n",
      "98 - random_45 - deep - 343.2740714237608 - 377.6250962771029 - 626.9011848189801 - 639.9352914630056 - 734.2683331948922 - 544.3834534324449 - -0.5671072628430658\n",
      "99 - random_33 - deep - 621.9321531098465 - 753.0920146960233 - 618.1062183585749 - 618.6280921057619 - 732.589209184404 - 668.8654840132418 - -0.9254515383470743\n"
     ]
    }
   ],
   "source": [
    "scores_df_sorted = pd.DataFrame(all_scores).sort_values(by='MSE')\n",
    "for i,(index,row) in enumerate(scores_df_sorted.iterrows()):\n",
    "    s = f\"{i} - \" + \" - \".join([f\"{i}\" for i in row.tolist()])\n",
    "    print(s)"
   ]
  },
  {
   "cell_type": "code",
   "execution_count": 12,
   "metadata": {
    "scrolled": true,
    "tags": []
   },
   "outputs": [
    {
     "name": "stdout",
     "output_type": "stream",
     "text": [
      "0 - random_26 - deep - 108.9328985074833 - 0.6688365711308477\n",
      "1 - random_57 - deep - 110.37025384063605 - 0.664466913046357\n",
      "2 - random_56 - deep - 115.68681646990136 - 0.6483042006405713\n",
      "3 - random_16 - deep - 115.74186881727334 - 0.6481368377559626\n",
      "4 - random_5 - deep - 116.05796744694129 - 0.6471758763981366\n",
      "5 - random_77 - deep - 117.85318823448966 - 0.6417182829646813\n",
      "6 - random_82 - deep - 118.04934539534422 - 0.6411219518390445\n",
      "7 - random_18 - deep - 120.62528767974072 - 0.633290911894659\n",
      "8 - random_55 - deep - 121.30038129414473 - 0.631238581338722\n",
      "9 - random_36 - deep - 121.5920608791385 - 0.6303518555394353\n",
      "10 - random_40 - deep - 122.32375614472875 - 0.6281274521097997\n",
      "11 - random_79 - deep - 125.37283424443685 - 0.6188580470703312\n",
      "12 - random_68 - deep - 126.28232979846372 - 0.6160931186571568\n",
      "13 - random_89 - deep - 131.9252204730282 - 0.5989383467734897\n",
      "14 - random_51 - deep - 134.01242141695366 - 0.592593113783276\n",
      "15 - random_94 - deep - 134.0267225006046 - 0.5925496375151946\n",
      "16 - random_52 - deep - 134.05372435092846 - 0.5924675500516131\n",
      "17 - random_90 - deep - 134.80947231894467 - 0.5901700247688175\n",
      "18 - random_66 - deep - 135.6503595206497 - 0.5876136704183483\n",
      "19 - random_97 - deep - 136.34246678873947 - 0.5855096171967211\n",
      "20 - random_98 - deep - 136.39615113471183 - 0.5853464131295165\n",
      "21 - random_38 - deep - 136.57962968914643 - 0.584788625830702\n",
      "22 - random_37 - deep - 136.8425197927799 - 0.5839894220150701\n",
      "23 - random_15 - deep - 137.2354653953946 - 0.5827948406268588\n",
      "24 - random_78 - deep - 137.55422666457864 - 0.5818257846636008\n",
      "25 - random_61 - deep - 137.75492841787556 - 0.5812156376674911\n",
      "26 - random_31 - deep - 141.1687583344876 - 0.5708373622681299\n",
      "27 - random_25 - deep - 144.38371709947484 - 0.5610636687111465\n",
      "28 - random_65 - deep - 145.99897152794773 - 0.5561531852634631\n",
      "29 - random_48 - deep - 146.6106881928021 - 0.5542935249495897\n",
      "30 - random_60 - deep - 150.01465671484192 - 0.5439452288612052\n",
      "31 - random_84 - deep - 150.70566898906807 - 0.5418445044954832\n",
      "32 - random_92 - deep - 152.5621932296645 - 0.5362005443905166\n",
      "33 - random_23 - deep - 152.94181990231465 - 0.5350464534563037\n",
      "34 - random_17 - deep - 153.9771365562609 - 0.5318990203320246\n",
      "35 - random_53 - deep - 155.0936840922756 - 0.5285046397951236\n",
      "36 - random_42 - deep - 155.17960060688955 - 0.5282434477405112\n",
      "37 - random_13 - deep - 155.59522024402946 - 0.5269799357434339\n",
      "38 - random_74 - deep - 157.64597655792198 - 0.5207454969100905\n",
      "39 - random_11 - deep - 158.38229339759087 - 0.5185070435805659\n",
      "40 - random_58 - deep - 159.92873686769482 - 0.5138057501317668\n",
      "41 - random_49 - deep - 160.8460122931421 - 0.511017170379731\n",
      "42 - random_12 - deep - 175.3227127234839 - 0.4670070153309861\n",
      "43 - random_70 - deep - 178.49079258888176 - 0.45737583682080996\n",
      "44 - random_35 - deep - 179.1070041428838 - 0.4555025117378637\n",
      "45 - random_34 - deep - 179.57306834061865 - 0.4540856448417312\n",
      "46 - random_80 - deep - 180.11705901804928 - 0.4524318761411912\n",
      "47 - random_29 - deep - 180.2906981505229 - 0.4519040013551192\n",
      "48 - random_96 - deep - 187.1167615388382 - 0.4311523038576237\n",
      "49 - random_19 - deep - 188.04487344601412 - 0.42833078046326045\n",
      "50 - random_6 - deep - 190.11128295477863 - 0.42204875485165627\n",
      "51 - random_93 - deep - 192.28580087683267 - 0.41543807230238616\n",
      "52 - random_44 - deep - 194.28088893258908 - 0.40937286876431267\n",
      "53 - random_22 - deep - 198.42622749269066 - 0.3967707572792094\n",
      "54 - random_28 - deep - 203.27818988702538 - 0.38202046122294786\n",
      "55 - random_63 - deep - 204.07118413193544 - 0.3796097047222394\n",
      "56 - random_30 - deep - 204.3552788026063 - 0.37874603757896264\n",
      "57 - random_76 - deep - 206.01221581323534 - 0.3737088362432943\n",
      "58 - random_75 - deep - 212.13573893708127 - 0.35509290898681867\n",
      "59 - random_10 - deep - 213.87973418368722 - 0.3497910446858532\n",
      "60 - random_46 - deep - 215.13905605597466 - 0.3459626204449615\n",
      "61 - random_95 - deep - 216.09928293287902 - 0.3430434653558667\n",
      "62 - random_64 - deep - 218.71119060608476 - 0.33510308818056334\n",
      "63 - random_69 - deep - 226.1085784251908 - 0.31261452551111624\n",
      "64 - random_71 - deep - 227.27149111276185 - 0.3090791917564103\n",
      "65 - random_83 - deep - 232.72214757194772 - 0.2925088249770136\n",
      "66 - random_20 - deep - 233.72194957635904 - 0.28946935880556723\n",
      "67 - random_91 - deep - 234.5514796663698 - 0.28694753084797164\n",
      "68 - random_99 - deep - 235.68783510697168 - 0.2834929329323751\n",
      "69 - random_2 - deep - 252.97835521692627 - 0.23092857446035442\n",
      "70 - random_1 - deep - 256.0750584394658 - 0.22151438580461158\n",
      "71 - random_59 - deep - 269.25546365600974 - 0.18144505647252085\n",
      "72 - random_41 - deep - 273.5835050987711 - 0.16828751578361523\n",
      "73 - random_32 - deep - 282.7135728703434 - 0.14053148807786275\n",
      "74 - random_87 - deep - 285.5745652091755 - 0.1318338765585022\n",
      "75 - random_72 - deep - 292.0600657899247 - 0.11211751318544627\n",
      "76 - random_7 - deep - 293.7236732689294 - 0.10706003317171342\n",
      "77 - random_85 - deep - 293.78841512987333 - 0.10686321350607242\n",
      "78 - random_39 - deep - 309.7132769465612 - 0.058450549235328664\n",
      "79 - random_81 - deep - 316.21594410261764 - 0.0386819983044403\n",
      "80 - random_62 - deep - 324.86356765926837 - 0.012392633862408298\n",
      "81 - random_43 - deep - 328.8662874926619 - 0.00022409301762293943\n",
      "82 - random_8 - deep - 328.96427914664184 - -7.380828287639751e-05\n",
      "83 - random_86 - deep - 328.99141509563856 - -0.00015630341555428195\n",
      "84 - random_27 - deep - 328.9921851891248 - -0.0001586445521895019\n",
      "85 - random_67 - deep - 328.9926638236119 - -0.00016009963362106916\n",
      "86 - random_21 - deep - 328.9948920762937 - -0.00016687367349899063\n",
      "87 - random_24 - deep - 329.01427569160376 - -0.00022580118390136406\n",
      "88 - random_73 - deep - 329.0561579717563 - -0.00035312616739302527\n",
      "89 - random_9 - deep - 329.0694185233392 - -0.00039343914713607653\n",
      "90 - random_88 - deep - 329.06942950217797 - -0.00039347252355348417\n",
      "91 - random_14 - deep - 329.09829164406733 - -0.0004812154001643254\n",
      "92 - random_47 - deep - 329.417059935504 - -0.0014502927115487285\n",
      "93 - random_4 - deep - 401.9873384136909 - -0.222068880705649\n",
      "94 - random_0 - deep - 520.7261935824868 - -0.5830430855276645\n",
      "95 - random_50 - deep - 608.857143401151 - -0.8509671739465465\n",
      "96 - random_33 - deep - 641.4672676706776 - -0.9501041721987664\n",
      "97 - random_54 - deep - 647.7142812180797 - -0.9690955187515029\n",
      "98 - random_3 - deep - 652.697685233505 - -0.9842454062859394\n",
      "99 - random_45 - deep - 657.7058102135176 - -0.999470447236009\n"
     ]
    }
   ],
   "source": [
    "scores_df_sorted_final = pd.DataFrame(all_scores_final).sort_values(by='MSE')\n",
    "\n",
    "n = 30\n",
    "best_n = []\n",
    "for i,(index,row) in enumerate(scores_df_sorted_final.iterrows()):\n",
    "    s = f\"{i} - \" + \" - \".join([f\"{i}\" for i in row.tolist()])\n",
    "    print(s)\n",
    "    if i < n:\n",
    "        best_n.append(row['model_num'])"
   ]
  },
  {
   "cell_type": "code",
   "execution_count": 13,
   "metadata": {
    "collapsed": false,
    "jupyter": {
     "outputs_hidden": false
    },
    "pycharm": {
     "name": "#%% lwr part\n"
    },
    "scrolled": true
   },
   "outputs": [
    {
     "data": {
      "application/vnd.jupyter.widget-view+json": {
       "model_id": "2c160d46b36d4e53b677ccff1e1cefe0",
       "version_major": 2,
       "version_minor": 0
      },
      "text/plain": [
       "  0%|          | 0/30 [00:00<?, ?it/s]"
      ]
     },
     "metadata": {},
     "output_type": "display_data"
    },
    {
     "name": "stdout",
     "output_type": "stream",
     "text": [
      "Running model random_48'\n",
      "Running Cross Evaluation with 5 folds'\n",
      "-----------------------------------Fold 0 - Train 6956 - Val 2320 - Test 2320-----------------------------------'\n",
      "Finished training Boosted Models with a train loss of knn_tta_n=100:90.0203,knn_ttm_n=100:131.9773,knn_tta_r_n=100:74.1726,knn_ttm_r_n=100:79.6829,knn_tta_n=500:94.1123,knn_ttm_n=500:126.9409,knn_tta_r_n=500:103.9832,knn_ttm_r_n=500:100.4781,knn_tta_n=1000:104.5899,knn_ttm_n=1000:143.1415,knn_tta_r_n=1000:111.7374,knn_ttm_r_n=1000:109.3539'\n",
      "Tested (test) on 2320 instances with mean losses of: knn_tta_n=100:682.2692,knn_ttm_n=100:1588.9746,knn_tta_r_n=100:295.4992,knn_ttm_r_n=100:324.4645,knn_tta_n=500:153.5655,knn_ttm_n=500:272.544,knn_tta_r_n=500:120.1575,knn_ttm_r_n=500:124.7605,knn_tta_n=1000:129.3418,knn_ttm_n=1000:228.5178,knn_tta_r_n=1000:114.5241,knn_ttm_r_n=1000:118.8022'\n",
      "-----------------------------------Fold 1 - Train 6958 - Val 2319 - Test 2319-----------------------------------'\n",
      "Finished training Boosted Models with a train loss of knn_tta_n=100:79.2417,knn_ttm_n=100:142.6737,knn_tta_r_n=100:69.2442,knn_ttm_r_n=100:64.8648,knn_tta_n=500:80.7877,knn_ttm_n=500:102.8175,knn_tta_r_n=500:88.8236,knn_ttm_r_n=500:85.4431,knn_tta_n=1000:89.1955,knn_ttm_n=1000:113.489,knn_tta_r_n=1000:96.2766,knn_ttm_r_n=1000:94.3151'\n",
      "Tested (test) on 2319 instances with mean losses of: knn_tta_n=100:1552.9593,knn_ttm_n=100:1944.2603,knn_tta_r_n=100:536.907,knn_ttm_r_n=100:534.612,knn_tta_n=500:184.1896,knn_ttm_n=500:260.2221,knn_tta_r_n=500:166.8458,knn_ttm_r_n=500:166.7978,knn_tta_n=1000:169.1108,knn_ttm_n=1000:224.1274,knn_tta_r_n=1000:162.6808,knn_ttm_r_n=1000:161.9021'\n",
      "-----------------------------------Fold 2 - Train 6958 - Val 2319 - Test 2319-----------------------------------'\n",
      "Finished training Boosted Models with a train loss of knn_tta_n=100:85.1292,knn_ttm_n=100:120.7585,knn_tta_r_n=100:65.3917,knn_ttm_r_n=100:63.1299,knn_tta_n=500:77.7151,knn_ttm_n=500:98.0355,knn_tta_r_n=500:86.5957,knn_ttm_r_n=500:87.6485,knn_tta_n=1000:87.1867,knn_ttm_n=1000:108.3091,knn_tta_r_n=1000:94.4383,knn_ttm_r_n=1000:96.4013'\n",
      "Tested (test) on 2319 instances with mean losses of: knn_tta_n=100:11677.87,knn_ttm_n=100:14475.8976,knn_tta_r_n=100:5350.6932,knn_ttm_r_n=100:3775.8326,knn_tta_n=500:2797.9536,knn_ttm_n=500:8643.5293,knn_tta_r_n=500:491.9275,knn_ttm_r_n=500:447.8044,knn_tta_n=1000:1135.94,knn_ttm_n=1000:3359.9424,knn_tta_r_n=1000:340.2598,knn_ttm_r_n=1000:414.7945'\n",
      "-----------------------------------Fold 3 - Train 6958 - Val 2319 - Test 2319-----------------------------------'\n",
      "Finished training Boosted Models with a train loss of knn_tta_n=100:86.0088,knn_ttm_n=100:144.6022,knn_tta_r_n=100:78.2974,knn_ttm_r_n=100:79.3024,knn_tta_n=500:89.9045,knn_ttm_n=500:131.0763,knn_tta_r_n=500:95.4471,knn_ttm_r_n=500:93.8458,knn_tta_n=1000:97.6821,knn_ttm_n=1000:142.0906,knn_tta_r_n=1000:102.7559,knn_ttm_r_n=1000:101.3123'\n",
      "Tested (test) on 2319 instances with mean losses of: knn_tta_n=100:554.1594,knn_ttm_n=100:764.261,knn_tta_r_n=100:367.6477,knn_ttm_r_n=100:403.8912,knn_tta_n=500:196.602,knn_ttm_n=500:310.8224,knn_tta_r_n=500:137.1051,knn_ttm_r_n=500:132.8128,knn_tta_n=1000:185.2208,knn_ttm_n=1000:300.044,knn_tta_r_n=1000:129.4932,knn_ttm_r_n=1000:127.8869'\n",
      "-----------------------------------Fold 4 - Train 6958 - Val 2319 - Test 2319-----------------------------------'\n",
      "Finished training Boosted Models with a train loss of knn_tta_n=100:90.6451,knn_ttm_n=100:213.7989,knn_tta_r_n=100:85.0008,knn_ttm_r_n=100:84.7671,knn_tta_n=500:97.5909,knn_ttm_n=500:150.0072,knn_tta_r_n=500:104.7674,knn_ttm_r_n=500:103.2531,knn_tta_n=1000:106.064,knn_ttm_n=1000:162.9573,knn_tta_r_n=1000:111.1452,knn_ttm_r_n=1000:110.0635'\n",
      "Tested (test) on 2319 instances with mean losses of: knn_tta_n=100:507383.9929,knn_ttm_n=100:202507.4276,knn_tta_r_n=100:178781.7482,knn_ttm_r_n=100:1136493.8939,knn_tta_n=500:222.0961,knn_ttm_n=500:598.5768,knn_tta_r_n=500:113.9527,knn_ttm_r_n=500:124.719,knn_tta_n=1000:113.9995,knn_ttm_n=1000:225.5872,knn_tta_r_n=1000:106.7906,knn_ttm_r_n=1000:106.0787'\n",
      "Building final model - Train 9276 - Test 2320'\n",
      "Finished training Boosted Models with a train loss of knn_tta_n=100:88.8933,knn_ttm_n=100:154.7355,knn_tta_r_n=100:79.4132,knn_ttm_r_n=100:82.2755,knn_tta_n=500:93.7528,knn_ttm_n=500:141.811,knn_tta_r_n=500:99.1886,knn_ttm_r_n=500:95.9605,knn_tta_n=1000:101.1031,knn_ttm_n=1000:154.4868,knn_tta_r_n=1000:105.7429,knn_ttm_r_n=1000:103.2949'\n",
      "Tested (test) on 2320 instances with mean losses of: knn_tta_n=100:3298.2812,knn_ttm_n=100:3168.429,knn_tta_r_n=100:676.754,knn_ttm_r_n=100:746.7864,knn_tta_n=500:201.2617,knn_ttm_n=500:701.3836,knn_tta_r_n=500:124.153,knn_ttm_r_n=500:128.9552,knn_tta_n=1000:154.8422,knn_ttm_n=1000:416.9304,knn_tta_r_n=1000:115.2245,knn_ttm_r_n=1000:112.789'\n"
     ]
    },
    {
     "name": "stderr",
     "output_type": "stream",
     "text": [
      "C:\\Users\\huonf\\.conda\\envs\\lazydeep\\lib\\site-packages\\scipy\\stats\\_stats_py.py:4068: PearsonRConstantInputWarning: An input array is constant; the correlation coefficient is not defined.\n",
      "  warnings.warn(PearsonRConstantInputWarning())\n"
     ]
    },
    {
     "name": "stdout",
     "output_type": "stream",
     "text": [
      "Running model random_51'\n",
      "Running Cross Evaluation with 5 folds'\n",
      "-----------------------------------Fold 0 - Train 6956 - Val 2320 - Test 2320-----------------------------------'\n",
      "Finished training Boosted Models with a train loss of knn_tta_n=100:27.6049,knn_ttm_n=100:39.3375,knn_tta_r_n=100:42.8308,knn_ttm_r_n=100:50.7828,knn_tta_n=500:85.8993,knn_ttm_n=500:113.0292,knn_tta_r_n=500:96.206,knn_ttm_r_n=500:93.6747,knn_tta_n=1000:95.949,knn_ttm_n=1000:124.5161,knn_tta_r_n=1000:104.5243,knn_ttm_r_n=1000:102.3158'\n",
      "Tested (test) on 2320 instances with mean losses of: knn_tta_n=100:437.2943,knn_ttm_n=100:654.014,knn_tta_r_n=100:230.957,knn_ttm_r_n=100:252.327,knn_tta_n=500:135.7305,knn_ttm_n=500:201.7794,knn_tta_r_n=500:121.9498,knn_ttm_r_n=500:123.7599,knn_tta_n=1000:125.64,knn_ttm_n=1000:173.0044,knn_tta_r_n=1000:119.5266,knn_ttm_r_n=1000:122.526'\n",
      "-----------------------------------Fold 1 - Train 6958 - Val 2319 - Test 2319-----------------------------------'\n",
      "Finished training Boosted Models with a train loss of knn_tta_n=100:26.8012,knn_ttm_n=100:32.2419,knn_tta_r_n=100:36.1599,knn_ttm_r_n=100:57.8879,knn_tta_n=500:74.0132,knn_ttm_n=500:84.9935,knn_tta_r_n=500:81.643,knn_ttm_r_n=500:79.5911,knn_tta_n=1000:82.8598,knn_ttm_n=1000:95.4993,knn_tta_r_n=1000:89.4761,knn_ttm_r_n=1000:87.958'\n",
      "Tested (test) on 2319 instances with mean losses of: knn_tta_n=100:621.469,knn_ttm_n=100:740.4236,knn_tta_r_n=100:314.3007,knn_ttm_r_n=100:321.8078,knn_tta_n=500:148.3483,knn_ttm_n=500:190.087,knn_tta_r_n=500:147.2117,knn_ttm_r_n=500:161.6056,knn_tta_n=1000:139.1397,knn_ttm_n=1000:173.7164,knn_tta_r_n=1000:144.4321,knn_ttm_r_n=1000:157.7571'\n",
      "-----------------------------------Fold 2 - Train 6958 - Val 2319 - Test 2319-----------------------------------'\n",
      "Finished training Boosted Models with a train loss of knn_tta_n=100:26.9718,knn_ttm_n=100:28.4605,knn_tta_r_n=100:36.7842,knn_ttm_r_n=100:49.2456,knn_tta_n=500:71.9716,knn_ttm_n=500:78.1446,knn_tta_r_n=500:79.7998,knn_ttm_r_n=500:82.1716,knn_tta_n=1000:81.2139,knn_ttm_n=1000:88.9565,knn_tta_r_n=1000:88.1951,knn_ttm_r_n=1000:90.4335'\n",
      "Tested (test) on 2319 instances with mean losses of: knn_tta_n=100:746.223,knn_ttm_n=100:27406.5763,knn_tta_r_n=100:24675.2196,knn_ttm_r_n=100:25352.1327,knn_tta_n=500:192.3903,knn_ttm_n=500:408.1086,knn_tta_r_n=500:118.3899,knn_ttm_r_n=500:124.6963,knn_tta_n=1000:132.3244,knn_ttm_n=1000:234.824,knn_tta_r_n=1000:116.6544,knn_ttm_r_n=1000:107.7749'\n",
      "-----------------------------------Fold 3 - Train 6958 - Val 2319 - Test 2319-----------------------------------'\n",
      "Finished training Boosted Models with a train loss of knn_tta_n=100:31.09,knn_ttm_n=100:46.095,knn_tta_r_n=100:42.3315,knn_ttm_r_n=100:56.0412,knn_tta_n=500:84.4657,knn_ttm_n=500:102.1416,knn_tta_r_n=500:93.0633,knn_ttm_r_n=500:90.3438,knn_tta_n=1000:93.2609,knn_ttm_n=1000:112.0097,knn_tta_r_n=1000:100.2188,knn_ttm_r_n=1000:99.8468'\n",
      "Tested (test) on 2319 instances with mean losses of: knn_tta_n=100:212.165,knn_ttm_n=100:310.2232,knn_tta_r_n=100:147.5262,knn_ttm_r_n=100:168.4698,knn_tta_n=500:116.0951,knn_ttm_n=500:163.3847,knn_tta_r_n=500:101.5684,knn_ttm_r_n=500:101.4969,knn_tta_n=1000:108.5465,knn_ttm_n=1000:148.8901,knn_tta_r_n=1000:99.9559,knn_ttm_r_n=1000:99.8077'\n",
      "-----------------------------------Fold 4 - Train 6958 - Val 2319 - Test 2319-----------------------------------'\n",
      "Finished training Boosted Models with a train loss of knn_tta_n=100:31.8065,knn_ttm_n=100:48.1164,knn_tta_r_n=100:45.1439,knn_ttm_r_n=100:56.4156,knn_tta_n=500:89.647,knn_ttm_n=500:124.2188,knn_tta_r_n=500:100.9073,knn_ttm_r_n=500:98.1224,knn_tta_n=1000:99.4075,knn_ttm_n=1000:135.213,knn_tta_r_n=1000:108.7299,knn_ttm_r_n=1000:108.3616'\n",
      "Tested (test) on 2319 instances with mean losses of: knn_tta_n=100:686.6302,knn_ttm_n=100:1155.3178,knn_tta_r_n=100:273.1083,knn_ttm_r_n=100:212.5034,knn_tta_n=500:98.6475,knn_ttm_n=500:155.7611,knn_tta_r_n=500:95.2493,knn_ttm_r_n=500:101.2445,knn_tta_n=1000:94.4313,knn_ttm_n=1000:144.0643,knn_tta_r_n=1000:96.9379,knn_ttm_r_n=1000:103.3837'\n",
      "Building final model - Train 9276 - Test 2320'\n",
      "Finished training Boosted Models with a train loss of knn_tta_n=100:28.2311,knn_ttm_n=100:41.1665,knn_tta_r_n=100:41.3377,knn_ttm_r_n=100:100.7513,knn_tta_n=500:84.0079,knn_ttm_n=500:107.3023,knn_tta_r_n=500:92.9856,knn_ttm_r_n=500:89.6607,knn_tta_n=1000:93.6704,knn_ttm_n=1000:117.8483,knn_tta_r_n=1000:101.0051,knn_ttm_r_n=1000:99.5559'\n",
      "Tested (test) on 2320 instances with mean losses of: knn_tta_n=100:535.6306,knn_ttm_n=100:612.1732,knn_tta_r_n=100:196.3896,knn_ttm_r_n=100:315.7136,knn_tta_n=500:105.5532,knn_ttm_n=500:173.9699,knn_tta_r_n=500:92.3764,knn_ttm_r_n=500:99.6365,knn_tta_n=1000:98.6282,knn_ttm_n=1000:162.736,knn_tta_r_n=1000:94.5916,knn_ttm_r_n=1000:97.6391'\n"
     ]
    },
    {
     "name": "stderr",
     "output_type": "stream",
     "text": [
      "C:\\Users\\huonf\\.conda\\envs\\lazydeep\\lib\\site-packages\\scipy\\stats\\_stats_py.py:4068: PearsonRConstantInputWarning: An input array is constant; the correlation coefficient is not defined.\n",
      "  warnings.warn(PearsonRConstantInputWarning())\n"
     ]
    },
    {
     "name": "stdout",
     "output_type": "stream",
     "text": [
      "Running model random_52'\n",
      "Running Cross Evaluation with 5 folds'\n",
      "-----------------------------------Fold 0 - Train 6956 - Val 2320 - Test 2320-----------------------------------'\n",
      "Finished training Boosted Models with a train loss of knn_tta_n=100:50.6544,knn_ttm_n=100:64.2524,knn_tta_r_n=100:67.1991,knn_ttm_r_n=100:72.0274,knn_tta_n=500:98.8943,knn_ttm_n=500:131.9192,knn_tta_r_n=500:105.4136,knn_ttm_r_n=500:103.7377,knn_tta_n=1000:106.5076,knn_ttm_n=1000:147.8088,knn_tta_r_n=1000:111.0432,knn_ttm_r_n=1000:109.2884'\n",
      "Tested (test) on 2320 instances with mean losses of: knn_tta_n=100:216.1932,knn_ttm_n=100:355.301,knn_tta_r_n=100:171.3482,knn_ttm_r_n=100:183.4447,knn_tta_n=500:121.8909,knn_ttm_n=500:187.6325,knn_tta_r_n=500:113.8408,knn_ttm_r_n=500:119.0665,knn_tta_n=1000:113.193,knn_ttm_n=1000:172.8112,knn_tta_r_n=1000:111.7266,knn_ttm_r_n=1000:115.8329'\n",
      "-----------------------------------Fold 1 - Train 6958 - Val 2319 - Test 2319-----------------------------------'\n",
      "Finished training Boosted Models with a train loss of knn_tta_n=100:41.2045,knn_ttm_n=100:45.5771,knn_tta_r_n=100:51.8672,knn_ttm_r_n=100:52.3686,knn_tta_n=500:82.2026,knn_ttm_n=500:98.8509,knn_tta_r_n=500:90.1503,knn_ttm_r_n=500:88.1238,knn_tta_n=1000:90.0539,knn_ttm_n=1000:112.4143,knn_tta_r_n=1000:96.3796,knn_ttm_r_n=1000:94.7645'\n",
      "Tested (test) on 2319 instances with mean losses of: knn_tta_n=100:323.7016,knn_ttm_n=100:1392.8794,knn_tta_r_n=100:233.1459,knn_ttm_r_n=100:253.6864,knn_tta_n=500:172.7317,knn_ttm_n=500:233.3728,knn_tta_r_n=500:159.4,knn_ttm_r_n=500:162.2241,knn_tta_n=1000:159.4485,knn_ttm_n=1000:216.6797,knn_tta_r_n=1000:156.4295,knn_ttm_r_n=1000:159.8833'\n",
      "-----------------------------------Fold 2 - Train 6958 - Val 2319 - Test 2319-----------------------------------'\n",
      "Finished training Boosted Models with a train loss of knn_tta_n=100:42.4393,knn_ttm_n=100:50.1807,knn_tta_r_n=100:51.6797,knn_ttm_r_n=100:51.5765,knn_tta_n=500:83.3116,knn_ttm_n=500:96.8612,knn_tta_r_n=500:92.17,knn_ttm_r_n=500:91.5817,knn_tta_n=1000:91.6566,knn_ttm_n=1000:110.7983,knn_tta_r_n=1000:98.5538,knn_ttm_r_n=1000:98.7362'\n",
      "Tested (test) on 2319 instances with mean losses of: knn_tta_n=100:734.1429,knn_ttm_n=100:1617.2876,knn_tta_r_n=100:188.6338,knn_ttm_r_n=100:200.273,knn_tta_n=500:137.3599,knn_ttm_n=500:191.0847,knn_tta_r_n=500:108.5062,knn_ttm_r_n=500:109.8111,knn_tta_n=1000:119.7629,knn_ttm_n=1000:160.7813,knn_tta_r_n=1000:103.3419,knn_ttm_r_n=1000:102.3567'\n",
      "-----------------------------------Fold 3 - Train 6958 - Val 2319 - Test 2319-----------------------------------'\n",
      "Finished training Boosted Models with a train loss of knn_tta_n=100:49.6597,knn_ttm_n=100:61.9915,knn_tta_r_n=100:62.2999,knn_ttm_r_n=100:62.4851,knn_tta_n=500:92.1206,knn_ttm_n=500:126.9085,knn_tta_r_n=500:102.5123,knn_ttm_r_n=500:98.4015,knn_tta_n=1000:99.2047,knn_ttm_n=1000:136.9784,knn_tta_r_n=1000:109.1528,knn_ttm_r_n=1000:107.1302'\n",
      "Tested (test) on 2319 instances with mean losses of: knn_tta_n=100:825.9812,knn_ttm_n=100:8420.696,knn_tta_r_n=100:200.0946,knn_ttm_r_n=100:241.0539,knn_tta_n=500:152.0934,knn_ttm_n=500:194.8115,knn_tta_r_n=500:107.8857,knn_ttm_r_n=500:116.9249,knn_tta_n=1000:139.7705,knn_ttm_n=1000:206.7674,knn_tta_r_n=1000:105.6912,knn_ttm_r_n=1000:106.6612'\n",
      "-----------------------------------Fold 4 - Train 6958 - Val 2319 - Test 2319-----------------------------------'\n",
      "Finished training Boosted Models with a train loss of knn_tta_n=100:49.8645,knn_ttm_n=100:67.4987,knn_tta_r_n=100:66.8851,knn_ttm_r_n=100:71.957,knn_tta_n=500:100.6896,knn_ttm_n=500:142.3241,knn_tta_r_n=500:106.5403,knn_ttm_r_n=500:106.1566,knn_tta_n=1000:107.9187,knn_ttm_n=1000:162.9012,knn_tta_r_n=1000:112.4875,knn_ttm_r_n=1000:112.3074'\n",
      "Tested (test) on 2319 instances with mean losses of: knn_tta_n=100:7354.4837,knn_ttm_n=100:3347.751,knn_tta_r_n=100:39713.7608,knn_ttm_r_n=100:19720.1638,knn_tta_n=500:110.0786,knn_ttm_n=500:182.0553,knn_tta_r_n=500:107.9474,knn_ttm_r_n=500:111.9928,knn_tta_n=1000:104.7716,knn_ttm_n=1000:174.8596,knn_tta_r_n=1000:108.4384,knn_ttm_r_n=1000:112.1654'\n",
      "Building final model - Train 9276 - Test 2320'\n",
      "Finished training Boosted Models with a train loss of knn_tta_n=100:47.2471,knn_ttm_n=100:60.2726,knn_tta_r_n=100:60.2126,knn_ttm_r_n=100:64.0002,knn_tta_n=500:94.5073,knn_ttm_n=500:131.438,knn_tta_r_n=500:101.583,knn_ttm_r_n=500:99.3581,knn_tta_n=1000:102.3569,knn_ttm_n=1000:149.2716,knn_tta_r_n=1000:107.6571,knn_ttm_r_n=1000:106.7383'\n",
      "Tested (test) on 2320 instances with mean losses of: knn_tta_n=100:1664.5605,knn_ttm_n=100:4426.9206,knn_tta_r_n=100:795.4429,knn_ttm_r_n=100:422.0968,knn_tta_n=500:147.1059,knn_ttm_n=500:274.3607,knn_tta_r_n=500:115.1036,knn_ttm_r_n=500:111.8914,knn_tta_n=1000:139.4429,knn_ttm_n=1000:264.0961,knn_tta_r_n=1000:118.1979,knn_ttm_r_n=1000:112.6511'\n"
     ]
    },
    {
     "name": "stderr",
     "output_type": "stream",
     "text": [
      "C:\\Users\\huonf\\.conda\\envs\\lazydeep\\lib\\site-packages\\scipy\\stats\\_stats_py.py:4068: PearsonRConstantInputWarning: An input array is constant; the correlation coefficient is not defined.\n",
      "  warnings.warn(PearsonRConstantInputWarning())\n"
     ]
    },
    {
     "name": "stdout",
     "output_type": "stream",
     "text": [
      "Running model random_55'\n",
      "Running Cross Evaluation with 5 folds'\n",
      "-----------------------------------Fold 0 - Train 6956 - Val 2320 - Test 2320-----------------------------------'\n",
      "Finished training Boosted Models with a train loss of knn_tta_n=100:84.7515,knn_ttm_n=100:117.4633,knn_tta_r_n=100:92.0781,knn_ttm_r_n=100:7970446.5852,knn_tta_n=500:99.4941,knn_ttm_n=500:133.9692,knn_tta_r_n=500:105.0791,knn_ttm_r_n=500:2541563.5453,knn_tta_n=1000:103.0989,knn_ttm_n=1000:135.5788,knn_tta_r_n=1000:108.4651,knn_ttm_r_n=1000:112.9574'\n",
      "Tested (test) on 2320 instances with mean losses of: knn_tta_n=100:133.1092,knn_ttm_n=100:7672.6669,knn_tta_r_n=100:235.789,knn_ttm_r_n=100:446.5178,knn_tta_n=500:107.7749,knn_ttm_n=500:163.2111,knn_tta_r_n=500:105.8824,knn_ttm_r_n=500:111.7022,knn_tta_n=1000:105.308,knn_ttm_n=1000:153.5941,knn_tta_r_n=1000:105.8222,knn_ttm_r_n=1000:111.259'\n",
      "-----------------------------------Fold 1 - Train 6958 - Val 2319 - Test 2319-----------------------------------'\n",
      "Finished training Boosted Models with a train loss of knn_tta_n=100:70.2108,knn_ttm_n=100:90.0495,knn_tta_r_n=100:74.9508,knn_ttm_r_n=100:12258299.6298,knn_tta_n=500:83.3431,knn_ttm_n=500:107.3084,knn_tta_r_n=500:89.6468,knn_ttm_r_n=500:1987990.5394,knn_tta_n=1000:86.9037,knn_ttm_n=1000:111.9719,knn_tta_r_n=1000:93.0456,knn_ttm_r_n=1000:96.0828'\n",
      "Tested (test) on 2319 instances with mean losses of: knn_tta_n=100:28057.8836,knn_ttm_n=100:6458767.2075,knn_tta_r_n=100:1558672.0949,knn_ttm_r_n=100:2112034.2701,knn_tta_n=500:2126857.8009,knn_ttm_n=500:3951936.1346,knn_tta_r_n=500:935899.0369,knn_ttm_r_n=500:1323708.1713,knn_tta_n=1000:1653716.684,knn_ttm_n=1000:3905742.3214,knn_tta_r_n=1000:752823.8291,knn_ttm_r_n=1000:1353194.011'\n",
      "-----------------------------------Fold 2 - Train 6958 - Val 2319 - Test 2319-----------------------------------'\n",
      "Finished training Boosted Models with a train loss of knn_tta_n=100:71.7231,knn_ttm_n=100:96.1177,knn_tta_r_n=100:74.4409,knn_ttm_r_n=100:79.1781,knn_tta_n=500:83.0902,knn_ttm_n=500:106.3838,knn_tta_r_n=500:87.881,knn_ttm_r_n=500:91.3706,knn_tta_n=1000:86.146,knn_ttm_n=1000:108.661,knn_tta_r_n=1000:90.4606,knn_ttm_r_n=1000:94.7708'\n",
      "Tested (test) on 2319 instances with mean losses of: knn_tta_n=100:32594238.3032,knn_ttm_n=100:18330298.7558,knn_tta_r_n=100:739122.8587,knn_ttm_r_n=100:765780.2304,knn_tta_n=500:13119052.7471,knn_ttm_n=500:11314928.6035,knn_tta_r_n=500:2663276.5803,knn_ttm_r_n=500:488072.46,knn_tta_n=1000:1360003.2984,knn_ttm_n=1000:1125999.7583,knn_tta_r_n=1000:2422524.343,knn_ttm_r_n=1000:3122567.8615'\n",
      "-----------------------------------Fold 3 - Train 6958 - Val 2319 - Test 2319-----------------------------------'\n",
      "Finished training Boosted Models with a train loss of knn_tta_n=100:81.802,knn_ttm_n=100:120.5114,knn_tta_r_n=100:84.8145,knn_ttm_r_n=100:84.2983,knn_tta_n=500:94.8689,knn_ttm_n=500:138.7446,knn_tta_r_n=500:96.2105,knn_ttm_r_n=500:96.6034,knn_tta_n=1000:97.2033,knn_ttm_n=1000:140.9255,knn_tta_r_n=1000:98.3097,knn_ttm_r_n=1000:99.0415'\n",
      "Tested (test) on 2319 instances with mean losses of: knn_tta_n=100:399.9746,knn_ttm_n=100:449.8446,knn_tta_r_n=100:210.7163,knn_ttm_r_n=100:215.137,knn_tta_n=500:122.116,knn_ttm_n=500:159.5562,knn_tta_r_n=500:110.8706,knn_ttm_r_n=500:115.2471,knn_tta_n=1000:120.5539,knn_ttm_n=1000:156.3404,knn_tta_r_n=1000:109.0668,knn_ttm_r_n=1000:112.8628'\n",
      "-----------------------------------Fold 4 - Train 6958 - Val 2319 - Test 2319-----------------------------------'\n",
      "Finished training Boosted Models with a train loss of knn_tta_n=100:87.4065,knn_ttm_n=100:144.0206,knn_tta_r_n=100:90.1066,knn_ttm_r_n=100:41291.3278,knn_tta_n=500:98.8299,knn_ttm_n=500:152.2205,knn_tta_r_n=500:104.8277,knn_ttm_r_n=500:173366.3817,knn_tta_n=1000:102.6025,knn_ttm_n=1000:153.9458,knn_tta_r_n=1000:107.8321,knn_ttm_r_n=1000:115.5867'\n",
      "Tested (test) on 2319 instances with mean losses of: knn_tta_n=100:7151380.7092,knn_ttm_n=100:6484317.3424,knn_tta_r_n=100:3094676.8789,knn_ttm_r_n=100:2880765.6539,knn_tta_n=500:987095.3415,knn_ttm_n=500:131585.1351,knn_tta_r_n=500:21973.3851,knn_ttm_r_n=500:51224.1491,knn_tta_n=1000:40954.8972,knn_ttm_n=1000:199473.3734,knn_tta_r_n=1000:6289.8537,knn_ttm_r_n=1000:47334.9239'\n",
      "Building final model - Train 9276 - Test 2320'\n",
      "Finished training Boosted Models with a train loss of knn_tta_n=100:81.4195,knn_ttm_n=100:124.5228,knn_tta_r_n=100:83.2133,knn_ttm_r_n=100:924855.3576,knn_tta_n=500:94.4781,knn_ttm_n=500:136.7787,knn_tta_r_n=500:98.1441,knn_ttm_r_n=500:440365.7356,knn_tta_n=1000:97.0547,knn_ttm_n=1000:140.6271,knn_tta_r_n=1000:101.2825,knn_ttm_r_n=1000:101.8594'\n",
      "Tested (test) on 2320 instances with mean losses of: knn_tta_n=100:21355485.5395,knn_ttm_n=100:43013033.2587,knn_tta_r_n=100:551031.7075,knn_ttm_r_n=100:1284461.9447,knn_tta_n=500:1359884.2879,knn_ttm_n=500:13480.3587,knn_tta_r_n=500:366088.5135,knn_ttm_r_n=500:55289.1058,knn_tta_n=1000:34707194.5401,knn_ttm_n=1000:6964302.1486,knn_tta_r_n=1000:9824829.3687,knn_ttm_r_n=1000:32481937.7144'\n"
     ]
    },
    {
     "name": "stderr",
     "output_type": "stream",
     "text": [
      "C:\\Users\\huonf\\.conda\\envs\\lazydeep\\lib\\site-packages\\scipy\\stats\\_stats_py.py:4068: PearsonRConstantInputWarning: An input array is constant; the correlation coefficient is not defined.\n",
      "  warnings.warn(PearsonRConstantInputWarning())\n"
     ]
    },
    {
     "name": "stdout",
     "output_type": "stream",
     "text": [
      "Running model random_56'\n",
      "Running Cross Evaluation with 5 folds'\n",
      "-----------------------------------Fold 0 - Train 6956 - Val 2320 - Test 2320-----------------------------------'\n",
      "Finished training Boosted Models with a train loss of knn_tta_n=100:94.9925,knn_ttm_n=100:132.5213,knn_tta_r_n=100:99.8745,knn_ttm_r_n=100:99.046,knn_tta_n=500:118.697,knn_ttm_n=500:172.8521,knn_tta_r_n=500:118.8835,knn_ttm_r_n=500:119.7066,knn_tta_n=1000:120.7925,knn_ttm_n=1000:175.421,knn_tta_r_n=1000:120.7358,knn_ttm_r_n=1000:121.5213'\n",
      "Tested (test) on 2320 instances with mean losses of: knn_tta_n=100:127.3334,knn_ttm_n=100:205.6883,knn_tta_r_n=100:110.5871,knn_ttm_r_n=100:115.061,knn_tta_n=500:101.7564,knn_ttm_n=500:159.8356,knn_tta_r_n=500:104.4173,knn_ttm_r_n=500:108.1792,knn_tta_n=1000:100.5909,knn_ttm_n=1000:155.6718,knn_tta_r_n=1000:105.1252,knn_ttm_r_n=1000:107.803'\n",
      "-----------------------------------Fold 1 - Train 6958 - Val 2319 - Test 2319-----------------------------------'\n",
      "Finished training Boosted Models with a train loss of knn_tta_n=100:76.6161,knn_ttm_n=100:96.5288,knn_tta_r_n=100:81.1539,knn_ttm_r_n=100:80.9058,knn_tta_n=500:98.5055,knn_ttm_n=500:134.5423,knn_tta_r_n=500:100.8909,knn_ttm_r_n=500:100.6983,knn_tta_n=1000:102.2777,knn_ttm_n=1000:139.6674,knn_tta_r_n=1000:103.6456,knn_ttm_r_n=1000:104.0782'\n",
      "Tested (test) on 2319 instances with mean losses of: knn_tta_n=100:186.9108,knn_ttm_n=100:254.2213,knn_tta_r_n=100:163.2689,knn_ttm_r_n=100:164.1785,knn_tta_n=500:151.3863,knn_ttm_n=500:197.6702,knn_tta_r_n=500:152.9017,knn_ttm_r_n=500:154.4263,knn_tta_n=1000:151.8397,knn_ttm_n=1000:192.7776,knn_tta_r_n=1000:153.5464,knn_ttm_r_n=1000:155.613'\n",
      "-----------------------------------Fold 2 - Train 6958 - Val 2319 - Test 2319-----------------------------------'\n",
      "Finished training Boosted Models with a train loss of knn_tta_n=100:75.213,knn_ttm_n=100:93.1113,knn_tta_r_n=100:80.4935,knn_ttm_r_n=100:82.9046,knn_tta_n=500:93.7089,knn_ttm_n=500:118.0416,knn_tta_r_n=500:96.7892,knn_ttm_r_n=500:97.5789,knn_tta_n=1000:97.9488,knn_ttm_n=1000:121.8142,knn_tta_r_n=1000:100.2872,knn_ttm_r_n=1000:101.9696'\n",
      "Tested (test) on 2319 instances with mean losses of: knn_tta_n=100:193.4303,knn_ttm_n=100:196.9871,knn_tta_r_n=100:118.129,knn_ttm_r_n=100:111.4364,knn_tta_n=500:150.2678,knn_ttm_n=500:190.1357,knn_tta_r_n=500:117.7238,knn_ttm_r_n=500:114.0447,knn_tta_n=1000:136.6792,knn_ttm_n=1000:189.8157,knn_tta_r_n=1000:113.2775,knn_ttm_r_n=1000:114.6968'\n",
      "-----------------------------------Fold 3 - Train 6958 - Val 2319 - Test 2319-----------------------------------'\n",
      "Finished training Boosted Models with a train loss of knn_tta_n=100:88.7475,knn_ttm_n=100:123.9342,knn_tta_r_n=100:92.5925,knn_ttm_r_n=100:92.3735,knn_tta_n=500:106.7729,knn_ttm_n=500:152.302,knn_tta_r_n=500:108.9835,knn_ttm_r_n=500:108.8434,knn_tta_n=1000:108.6733,knn_ttm_n=1000:153.1225,knn_tta_r_n=1000:111.6747,knn_ttm_r_n=1000:111.8887'\n",
      "Tested (test) on 2319 instances with mean losses of: knn_tta_n=100:546.5394,knn_ttm_n=100:542.8831,knn_tta_r_n=100:205.527,knn_ttm_r_n=100:112.9511,knn_tta_n=500:118.6693,knn_ttm_n=500:166.4272,knn_tta_r_n=500:111.7322,knn_ttm_r_n=500:109.8135,knn_tta_n=1000:119.0851,knn_ttm_n=1000:167.8087,knn_tta_r_n=1000:112.0719,knn_ttm_r_n=1000:111.0035'\n",
      "-----------------------------------Fold 4 - Train 6958 - Val 2319 - Test 2319-----------------------------------'\n",
      "Finished training Boosted Models with a train loss of knn_tta_n=100:94.8996,knn_ttm_n=100:145.0571,knn_tta_r_n=100:97.929,knn_ttm_r_n=100:97.9776,knn_tta_n=500:114.2621,knn_ttm_n=500:175.4391,knn_tta_r_n=500:114.9151,knn_ttm_r_n=500:116.2439,knn_tta_n=1000:116.1297,knn_ttm_n=1000:177.4499,knn_tta_r_n=1000:116.8511,knn_ttm_r_n=1000:118.3301'\n",
      "Tested (test) on 2319 instances with mean losses of: knn_tta_n=100:126.2653,knn_ttm_n=100:241.7566,knn_tta_r_n=100:103.4156,knn_ttm_r_n=100:111.0624,knn_tta_n=500:99.593,knn_ttm_n=500:181.0045,knn_tta_r_n=500:99.6498,knn_ttm_r_n=500:103.6679,knn_tta_n=1000:99.2667,knn_ttm_n=1000:173.3786,knn_tta_r_n=1000:101.4064,knn_ttm_r_n=1000:104.0588'\n",
      "Building final model - Train 9276 - Test 2320'\n",
      "Finished training Boosted Models with a train loss of knn_tta_n=100:88.2579,knn_ttm_n=100:127.4313,knn_tta_r_n=100:91.6566,knn_ttm_r_n=100:90.5973,knn_tta_n=500:106.9636,knn_ttm_n=500:155.5445,knn_tta_r_n=500:107.8566,knn_ttm_r_n=500:108.3558,knn_tta_n=1000:109.7371,knn_ttm_n=1000:161.9061,knn_tta_r_n=1000:111.0282,knn_ttm_r_n=1000:111.4807'\n",
      "Tested (test) on 2320 instances with mean losses of: knn_tta_n=100:155.2377,knn_ttm_n=100:814.7465,knn_tta_r_n=100:110.4355,knn_ttm_r_n=100:338.2825,knn_tta_n=500:99.4145,knn_ttm_n=500:164.0937,knn_tta_r_n=500:92.7948,knn_ttm_r_n=500:93.9854,knn_tta_n=1000:100.201,knn_ttm_n=1000:161.8751,knn_tta_r_n=1000:96.1882,knn_ttm_r_n=1000:94.7492'\n"
     ]
    },
    {
     "name": "stderr",
     "output_type": "stream",
     "text": [
      "C:\\Users\\huonf\\.conda\\envs\\lazydeep\\lib\\site-packages\\scipy\\stats\\_stats_py.py:4068: PearsonRConstantInputWarning: An input array is constant; the correlation coefficient is not defined.\n",
      "  warnings.warn(PearsonRConstantInputWarning())\n"
     ]
    },
    {
     "name": "stdout",
     "output_type": "stream",
     "text": [
      "Running model random_57'\n",
      "Running Cross Evaluation with 5 folds'\n",
      "-----------------------------------Fold 0 - Train 6956 - Val 2320 - Test 2320-----------------------------------'\n",
      "Finished training Boosted Models with a train loss of knn_tta_n=100:92.3998,knn_ttm_n=100:122.0142,knn_tta_r_n=100:99.5292,knn_ttm_r_n=100:98.5224,knn_tta_n=500:109.1853,knn_ttm_n=500:149.7084,knn_tta_r_n=500:113.5642,knn_ttm_r_n=500:111.9408,knn_tta_n=1000:112.4301,knn_ttm_n=1000:155.7879,knn_tta_r_n=1000:116.2905,knn_ttm_r_n=1000:115.007'\n",
      "Tested (test) on 2320 instances with mean losses of: knn_tta_n=100:109.8885,knn_ttm_n=100:154.0479,knn_tta_r_n=100:105.4657,knn_ttm_r_n=100:111.1274,knn_tta_n=500:104.2023,knn_ttm_n=500:147.2115,knn_tta_r_n=500:107.1625,knn_ttm_r_n=500:110.3701,knn_tta_n=1000:102.5051,knn_ttm_n=1000:144.7885,knn_tta_r_n=1000:107.4851,knn_ttm_r_n=1000:110.2122'\n",
      "-----------------------------------Fold 1 - Train 6958 - Val 2319 - Test 2319-----------------------------------'\n",
      "Finished training Boosted Models with a train loss of knn_tta_n=100:75.4959,knn_ttm_n=100:84.5285,knn_tta_r_n=100:83.4648,knn_ttm_r_n=100:80.5905,knn_tta_n=500:92.6318,knn_ttm_n=500:118.5181,knn_tta_r_n=500:97.4831,knn_ttm_r_n=500:96.1258,knn_tta_n=1000:96.7403,knn_ttm_n=1000:127.7931,knn_tta_r_n=1000:100.3198,knn_ttm_r_n=1000:99.5332'\n",
      "Tested (test) on 2319 instances with mean losses of: knn_tta_n=100:169.8814,knn_ttm_n=100:228.4418,knn_tta_r_n=100:154.3337,knn_ttm_r_n=100:162.2532,knn_tta_n=500:147.7134,knn_ttm_n=500:192.383,knn_tta_r_n=500:151.6033,knn_ttm_r_n=500:155.0249,knn_tta_n=1000:146.7701,knn_ttm_n=1000:188.3954,knn_tta_r_n=1000:151.3188,knn_ttm_r_n=1000:154.8092'\n",
      "-----------------------------------Fold 2 - Train 6958 - Val 2319 - Test 2319-----------------------------------'\n",
      "Finished training Boosted Models with a train loss of knn_tta_n=100:72.1348,knn_ttm_n=100:74.9713,knn_tta_r_n=100:81.6293,knn_ttm_r_n=100:82.9405,knn_tta_n=500:90.6672,knn_ttm_n=500:107.7728,knn_tta_r_n=500:95.4848,knn_ttm_r_n=500:96.6357,knn_tta_n=1000:94.304,knn_ttm_n=1000:114.9315,knn_tta_r_n=1000:97.7302,knn_ttm_r_n=1000:99.7027'\n",
      "Tested (test) on 2319 instances with mean losses of: knn_tta_n=100:137.8935,knn_ttm_n=100:201.6297,knn_tta_r_n=100:109.684,knn_ttm_r_n=100:108.5606,knn_tta_n=500:119.1798,knn_ttm_n=500:167.9176,knn_tta_r_n=500:108.5061,knn_ttm_r_n=500:102.9851,knn_tta_n=1000:119.4482,knn_ttm_n=1000:165.734,knn_tta_r_n=1000:110.779,knn_ttm_r_n=1000:104.0155'\n",
      "-----------------------------------Fold 3 - Train 6958 - Val 2319 - Test 2319-----------------------------------'\n",
      "Finished training Boosted Models with a train loss of knn_tta_n=100:81.9587,knn_ttm_n=100:99.1229,knn_tta_r_n=100:89.8502,knn_ttm_r_n=100:87.5119,knn_tta_n=500:99.4642,knn_ttm_n=500:134.461,knn_tta_r_n=500:103.1514,knn_ttm_r_n=500:103.4554,knn_tta_n=1000:102.3544,knn_ttm_n=1000:141.3885,knn_tta_r_n=1000:105.2929,knn_ttm_r_n=1000:106.1657'\n",
      "Tested (test) on 2319 instances with mean losses of: knn_tta_n=100:138.7388,knn_ttm_n=100:185.549,knn_tta_r_n=100:114.0048,knn_ttm_r_n=100:111.6508,knn_tta_n=500:127.1431,knn_ttm_n=500:165.5901,knn_tta_r_n=500:113.7261,knn_ttm_r_n=500:107.7829,knn_tta_n=1000:129.3544,knn_ttm_n=1000:164.5981,knn_tta_r_n=1000:114.3881,knn_ttm_r_n=1000:108.5716'\n",
      "-----------------------------------Fold 4 - Train 6958 - Val 2319 - Test 2319-----------------------------------'\n",
      "Finished training Boosted Models with a train loss of knn_tta_n=100:88.8487,knn_ttm_n=100:119.8624,knn_tta_r_n=100:97.7256,knn_ttm_r_n=100:96.4331,knn_tta_n=500:109.2019,knn_ttm_n=500:166.1235,knn_tta_r_n=500:112.7202,knn_ttm_r_n=500:112.7859,knn_tta_n=1000:112.6121,knn_ttm_n=1000:175.941,knn_tta_r_n=1000:115.0292,knn_ttm_r_n=1000:115.5728'\n",
      "Tested (test) on 2319 instances with mean losses of: knn_tta_n=100:106.604,knn_ttm_n=100:160.7125,knn_tta_r_n=100:98.2988,knn_ttm_r_n=100:105.8711,knn_tta_n=500:91.9385,knn_ttm_n=500:154.3846,knn_tta_r_n=500:96.0362,knn_ttm_r_n=500:102.0081,knn_tta_n=1000:90.5811,knn_ttm_n=1000:153.5346,knn_tta_r_n=1000:97.3359,knn_ttm_r_n=1000:102.6224'\n",
      "Building final model - Train 9276 - Test 2320'\n",
      "Finished training Boosted Models with a train loss of knn_tta_n=100:83.0287,knn_ttm_n=100:104.0501,knn_tta_r_n=100:90.8397,knn_ttm_r_n=100:89.6934,knn_tta_n=500:102.0996,knn_ttm_n=500:144.9218,knn_tta_r_n=500:105.8585,knn_ttm_r_n=500:105.5655,knn_tta_n=1000:105.6177,knn_ttm_n=1000:152.8125,knn_tta_r_n=1000:108.2649,knn_ttm_r_n=1000:108.3239'\n",
      "Tested (test) on 2320 instances with mean losses of: knn_tta_n=100:143.2011,knn_ttm_n=100:220.9535,knn_tta_r_n=100:106.8341,knn_ttm_r_n=100:106.4118,knn_tta_n=500:116.1859,knn_ttm_n=500:196.0678,knn_tta_r_n=500:99.6376,knn_ttm_r_n=500:97.5712,knn_tta_n=1000:114.2366,knn_ttm_n=1000:190.2443,knn_tta_r_n=1000:99.5225,knn_ttm_r_n=1000:97.2384'\n"
     ]
    },
    {
     "name": "stderr",
     "output_type": "stream",
     "text": [
      "C:\\Users\\huonf\\.conda\\envs\\lazydeep\\lib\\site-packages\\scipy\\stats\\_stats_py.py:4068: PearsonRConstantInputWarning: An input array is constant; the correlation coefficient is not defined.\n",
      "  warnings.warn(PearsonRConstantInputWarning())\n"
     ]
    },
    {
     "name": "stdout",
     "output_type": "stream",
     "text": [
      "Running model random_61'\n",
      "Running Cross Evaluation with 5 folds'\n",
      "-----------------------------------Fold 0 - Train 6956 - Val 2320 - Test 2320-----------------------------------'\n",
      "Finished training Boosted Models with a train loss of knn_tta_n=100:86.6336,knn_ttm_n=100:107.4253,knn_tta_r_n=100:92.6095,knn_ttm_r_n=100:108.6752,knn_tta_n=500:106.02,knn_ttm_n=500:147.2926,knn_tta_r_n=500:111.3264,knn_ttm_r_n=500:120.7093,knn_tta_n=1000:112.583,knn_ttm_n=1000:154.2153,knn_tta_r_n=1000:119.6635,knn_ttm_r_n=1000:125.931'\n",
      "Tested (test) on 2320 instances with mean losses of: knn_tta_n=100:2302991.2285,knn_ttm_n=100:14403100.1604,knn_tta_r_n=100:17076.3413,knn_ttm_r_n=100:1917374.2359,knn_tta_n=500:110.2462,knn_ttm_n=500:154.3364,knn_tta_r_n=500:117.1251,knn_ttm_r_n=500:119.1393,knn_tta_n=1000:108.8091,knn_ttm_n=1000:147.203,knn_tta_r_n=1000:116.8282,knn_ttm_r_n=1000:117.8539'\n",
      "-----------------------------------Fold 1 - Train 6958 - Val 2319 - Test 2319-----------------------------------'\n",
      "Finished training Boosted Models with a train loss of knn_tta_n=100:69.2607,knn_ttm_n=100:83.2737,knn_tta_r_n=100:75.8676,knn_ttm_r_n=100:99.6148,knn_tta_n=500:89.8306,knn_ttm_n=500:114.772,knn_tta_r_n=500:96.2552,knn_ttm_r_n=500:108.6097,knn_tta_n=1000:95.6132,knn_ttm_n=1000:120.117,knn_tta_r_n=1000:104.6977,knn_ttm_r_n=1000:110.7272'\n",
      "Tested (test) on 2319 instances with mean losses of: knn_tta_n=100:1200505.7042,knn_ttm_n=100:2554194.6288,knn_tta_r_n=100:1057013.6136,knn_ttm_r_n=100:1048524.3353,knn_tta_n=500:159.3855,knn_ttm_n=500:176.0224,knn_tta_r_n=500:163.7095,knn_ttm_r_n=500:159.9461,knn_tta_n=1000:157.905,knn_ttm_n=1000:177.8024,knn_tta_r_n=1000:164.3719,knn_ttm_r_n=1000:162.1448'\n",
      "-----------------------------------Fold 2 - Train 6958 - Val 2319 - Test 2319-----------------------------------'\n",
      "Finished training Boosted Models with a train loss of knn_tta_n=100:69.3889,knn_ttm_n=100:81.9929,knn_tta_r_n=100:74.8158,knn_ttm_r_n=100:75.4525,knn_tta_n=500:90.0907,knn_ttm_n=500:112.0188,knn_tta_r_n=500:100.3577,knn_ttm_r_n=500:99.0849,knn_tta_n=1000:97.5497,knn_ttm_n=1000:117.9773,knn_tta_r_n=1000:110.2411,knn_ttm_r_n=1000:107.1695'\n",
      "Tested (test) on 2319 instances with mean losses of: knn_tta_n=100:17545.0086,knn_ttm_n=100:11883.7822,knn_tta_r_n=100:10292.0159,knn_ttm_r_n=100:7386.5152,knn_tta_n=500:1215.3718,knn_ttm_n=500:1447.7272,knn_tta_r_n=500:725.3918,knn_ttm_r_n=500:737.5689,knn_tta_n=1000:150.1287,knn_ttm_n=1000:216.6396,knn_tta_r_n=1000:120.5182,knn_ttm_r_n=1000:113.7956'\n",
      "-----------------------------------Fold 3 - Train 6958 - Val 2319 - Test 2319-----------------------------------'\n",
      "Finished training Boosted Models with a train loss of knn_tta_n=100:78.0857,knn_ttm_n=100:101.1789,knn_tta_r_n=100:85.0195,knn_ttm_r_n=100:84.9686,knn_tta_n=500:103.1088,knn_ttm_n=500:143.8614,knn_tta_r_n=500:116.2145,knn_ttm_r_n=500:116.5477,knn_tta_n=1000:109.6006,knn_ttm_n=1000:150.7559,knn_tta_r_n=1000:126.9732,knn_ttm_r_n=1000:123.8137'\n",
      "Tested (test) on 2319 instances with mean losses of: knn_tta_n=100:3493.7664,knn_ttm_n=100:6887.2723,knn_tta_r_n=100:1004.1225,knn_ttm_r_n=100:7488.8061,knn_tta_n=500:109.6218,knn_ttm_n=500:167.7075,knn_tta_r_n=500:96.4019,knn_ttm_r_n=500:98.987,knn_tta_n=1000:106.6382,knn_ttm_n=1000:155.7323,knn_tta_r_n=1000:106.6397,knn_ttm_r_n=1000:108.9009'\n",
      "-----------------------------------Fold 4 - Train 6958 - Val 2319 - Test 2319-----------------------------------'\n",
      "Finished training Boosted Models with a train loss of knn_tta_n=100:81.8709,knn_ttm_n=100:103.4892,knn_tta_r_n=100:90.9806,knn_ttm_r_n=100:120.3545,knn_tta_n=500:105.9302,knn_ttm_n=500:147.9788,knn_tta_r_n=500:116.2996,knn_ttm_r_n=500:122.7815,knn_tta_n=1000:110.5541,knn_ttm_n=1000:155.2472,knn_tta_r_n=1000:122.5635,knn_ttm_r_n=1000:125.5438'\n",
      "Tested (test) on 2319 instances with mean losses of: knn_tta_n=100:16469.4338,knn_ttm_n=100:30914.5621,knn_tta_r_n=100:12684.6437,knn_ttm_r_n=100:8885.9658,knn_tta_n=500:101.2421,knn_ttm_n=500:151.9085,knn_tta_r_n=500:110.6974,knn_ttm_r_n=500:109.3277,knn_tta_n=1000:104.0725,knn_ttm_n=1000:152.1265,knn_tta_r_n=1000:119.3468,knn_ttm_r_n=1000:116.448'\n",
      "Building final model - Train 9276 - Test 2320'\n",
      "Finished training Boosted Models with a train loss of knn_tta_n=100:74.6898,knn_ttm_n=100:99.1804,knn_tta_r_n=100:83.4862,knn_ttm_r_n=100:102.0512,knn_tta_n=500:100.081,knn_ttm_n=500:139.9734,knn_tta_r_n=500:109.8533,knn_ttm_r_n=500:118.1189,knn_tta_n=1000:105.9366,knn_ttm_n=1000:146.1819,knn_tta_r_n=1000:119.2637,knn_ttm_r_n=1000:120.8403'\n",
      "Tested (test) on 2320 instances with mean losses of: knn_tta_n=100:145.3597,knn_ttm_n=100:192.9574,knn_tta_r_n=100:116.6615,knn_ttm_r_n=100:114.3809,knn_tta_n=500:204.0161,knn_ttm_n=500:250.499,knn_tta_r_n=500:126.6004,knn_ttm_r_n=500:119.9679,knn_tta_n=1000:103.6315,knn_ttm_n=1000:162.0434,knn_tta_r_n=1000:109.1631,knn_ttm_r_n=1000:103.8483'\n"
     ]
    },
    {
     "name": "stderr",
     "output_type": "stream",
     "text": [
      "C:\\Users\\huonf\\.conda\\envs\\lazydeep\\lib\\site-packages\\scipy\\stats\\_stats_py.py:4068: PearsonRConstantInputWarning: An input array is constant; the correlation coefficient is not defined.\n",
      "  warnings.warn(PearsonRConstantInputWarning())\n"
     ]
    },
    {
     "name": "stdout",
     "output_type": "stream",
     "text": [
      "Running model random_65'\n",
      "Running Cross Evaluation with 5 folds'\n",
      "-----------------------------------Fold 0 - Train 6956 - Val 2320 - Test 2320-----------------------------------'\n",
      "Finished training Boosted Models with a train loss of knn_tta_n=100:33.7894,knn_ttm_n=100:39.0293,knn_tta_r_n=100:51.2972,knn_ttm_r_n=100:73.6935,knn_tta_n=500:93.4474,knn_ttm_n=500:117.108,knn_tta_r_n=500:104.169,knn_ttm_r_n=500:102.2529,knn_tta_n=1000:104.9673,knn_ttm_n=1000:135.7092,knn_tta_r_n=1000:110.5053,knn_ttm_r_n=1000:109.6983'\n",
      "Tested (test) on 2320 instances with mean losses of: knn_tta_n=100:347.7327,knn_ttm_n=100:469.8242,knn_tta_r_n=100:165.4164,knn_ttm_r_n=100:244.701,knn_tta_n=500:108.5043,knn_ttm_n=500:243.0698,knn_tta_r_n=500:106.0103,knn_ttm_r_n=500:114.8973,knn_tta_n=1000:99.4986,knn_ttm_n=1000:190.2186,knn_tta_r_n=1000:105.8619,knn_ttm_r_n=1000:113.0471'\n",
      "-----------------------------------Fold 1 - Train 6958 - Val 2319 - Test 2319-----------------------------------'\n",
      "Finished training Boosted Models with a train loss of knn_tta_n=100:31.8843,knn_ttm_n=100:39.0716,knn_tta_r_n=100:41.2028,knn_ttm_r_n=100:53.8996,knn_tta_n=500:76.7216,knn_ttm_n=500:91.9067,knn_tta_r_n=500:85.3888,knn_ttm_r_n=500:83.5818,knn_tta_n=1000:85.7367,knn_ttm_n=1000:106.7587,knn_tta_r_n=1000:93.6904,knn_ttm_r_n=1000:91.9286'\n",
      "Tested (test) on 2319 instances with mean losses of: knn_tta_n=100:1701.4015,knn_ttm_n=100:3240.7236,knn_tta_r_n=100:740.8363,knn_ttm_r_n=100:930.7051,knn_tta_n=500:163.4104,knn_ttm_n=500:214.6528,knn_tta_r_n=500:155.275,knn_ttm_r_n=500:163.7187,knn_tta_n=1000:154.6235,knn_ttm_n=1000:189.8862,knn_tta_r_n=1000:155.153,knn_ttm_r_n=1000:159.593'\n",
      "-----------------------------------Fold 2 - Train 6958 - Val 2319 - Test 2319-----------------------------------'\n",
      "Finished training Boosted Models with a train loss of knn_tta_n=100:30.7878,knn_ttm_n=100:39.2286,knn_tta_r_n=100:39.7788,knn_ttm_r_n=100:58.2149,knn_tta_n=500:76.5081,knn_ttm_n=500:93.6706,knn_tta_r_n=500:83.4099,knn_ttm_r_n=500:84.946,knn_tta_n=1000:84.866,knn_ttm_n=1000:106.0575,knn_tta_r_n=1000:92.0497,knn_ttm_r_n=1000:92.9349'\n",
      "Tested (test) on 2319 instances with mean losses of: knn_tta_n=100:472.0891,knn_ttm_n=100:916.8231,knn_tta_r_n=100:365.4122,knn_ttm_r_n=100:551.5638,knn_tta_n=500:157.8314,knn_ttm_n=500:293.1512,knn_tta_r_n=500:111.5936,knn_ttm_r_n=500:122.1103,knn_tta_n=1000:118.9182,knn_ttm_n=1000:189.5964,knn_tta_r_n=1000:104.4245,knn_ttm_r_n=1000:104.665'\n",
      "-----------------------------------Fold 3 - Train 6958 - Val 2319 - Test 2319-----------------------------------'\n",
      "Finished training Boosted Models with a train loss of knn_tta_n=100:39.7295,knn_ttm_n=100:48.9009,knn_tta_r_n=100:51.0788,knn_ttm_r_n=100:62.2701,knn_tta_n=500:85.948,knn_ttm_n=500:115.8153,knn_tta_r_n=500:93.2818,knn_ttm_r_n=500:90.8893,knn_tta_n=1000:94.4348,knn_ttm_n=1000:128.6964,knn_tta_r_n=1000:101.2286,knn_ttm_r_n=1000:99.4289'\n",
      "Tested (test) on 2319 instances with mean losses of: knn_tta_n=100:1023.5331,knn_ttm_n=100:1284.6393,knn_tta_r_n=100:948.8719,knn_ttm_r_n=100:1614.0634,knn_tta_n=500:151.669,knn_ttm_n=500:213.7696,knn_tta_r_n=500:124.0146,knn_ttm_r_n=500:120.6567,knn_tta_n=1000:154.4211,knn_ttm_n=1000:215.2171,knn_tta_r_n=1000:117.3811,knn_ttm_r_n=1000:115.5404'\n",
      "-----------------------------------Fold 4 - Train 6958 - Val 2319 - Test 2319-----------------------------------'\n",
      "Finished training Boosted Models with a train loss of knn_tta_n=100:38.4482,knn_ttm_n=100:47.3589,knn_tta_r_n=100:53.3023,knn_ttm_r_n=100:58.626,knn_tta_n=500:90.733,knn_ttm_n=500:126.9809,knn_tta_r_n=500:100.3891,knn_ttm_r_n=500:100.0841,knn_tta_n=1000:100.6185,knn_ttm_n=1000:142.349,knn_tta_r_n=1000:107.6175,knn_ttm_r_n=1000:108.105'\n",
      "Tested (test) on 2319 instances with mean losses of: knn_tta_n=100:895.8838,knn_ttm_n=100:1428.6732,knn_tta_r_n=100:384.6907,knn_ttm_r_n=100:679.4302,knn_tta_n=500:111.2802,knn_ttm_n=500:205.0536,knn_tta_r_n=500:96.6716,knn_ttm_r_n=500:99.622,knn_tta_n=1000:105.0036,knn_ttm_n=1000:188.2562,knn_tta_r_n=1000:99.6222,knn_ttm_r_n=1000:102.2515'\n",
      "Building final model - Train 9276 - Test 2320'\n",
      "Finished training Boosted Models with a train loss of knn_tta_n=100:38.3686,knn_ttm_n=100:42.8712,knn_tta_r_n=100:49.8194,knn_ttm_r_n=100:52.5852,knn_tta_n=500:86.749,knn_ttm_n=500:123.8959,knn_tta_r_n=500:94.2551,knn_ttm_r_n=500:92.17,knn_tta_n=1000:95.4797,knn_ttm_n=1000:136.4262,knn_tta_r_n=1000:102.1146,knn_ttm_r_n=1000:100.4095'\n",
      "Tested (test) on 2320 instances with mean losses of: knn_tta_n=100:623.1257,knn_ttm_n=100:2971.3698,knn_tta_r_n=100:166.3598,knn_ttm_r_n=100:186.9637,knn_tta_n=500:144.0831,knn_ttm_n=500:216.4219,knn_tta_r_n=500:108.2557,knn_ttm_r_n=500:107.6182,knn_tta_n=1000:123.6578,knn_ttm_n=1000:230.2932,knn_tta_r_n=1000:108.5913,knn_ttm_r_n=1000:103.6523'\n"
     ]
    },
    {
     "name": "stderr",
     "output_type": "stream",
     "text": [
      "C:\\Users\\huonf\\.conda\\envs\\lazydeep\\lib\\site-packages\\scipy\\stats\\_stats_py.py:4068: PearsonRConstantInputWarning: An input array is constant; the correlation coefficient is not defined.\n",
      "  warnings.warn(PearsonRConstantInputWarning())\n"
     ]
    },
    {
     "name": "stdout",
     "output_type": "stream",
     "text": [
      "Running model random_66'\n",
      "Running Cross Evaluation with 5 folds'\n",
      "-----------------------------------Fold 0 - Train 6956 - Val 2320 - Test 2320-----------------------------------'\n",
      "Finished training Boosted Models with a train loss of knn_tta_n=100:92.5702,knn_ttm_n=100:122.1491,knn_tta_r_n=100:98.6447,knn_ttm_r_n=100:95.962,knn_tta_n=500:108.5147,knn_ttm_n=500:150.2869,knn_tta_r_n=500:109.8105,knn_ttm_r_n=500:108.911,knn_tta_n=1000:111.029,knn_ttm_n=1000:154.5477,knn_tta_r_n=1000:111.5931,knn_ttm_r_n=1000:111.2301'\n",
      "Tested (test) on 2320 instances with mean losses of: knn_tta_n=100:118.1969,knn_ttm_n=100:171.7257,knn_tta_r_n=100:108.3108,knn_ttm_r_n=100:114.3105,knn_tta_n=500:100.8494,knn_ttm_n=500:135.7937,knn_tta_r_n=500:105.426,knn_ttm_r_n=500:107.8443,knn_tta_n=1000:100.4045,knn_ttm_n=1000:132.4306,knn_tta_r_n=1000:106.2316,knn_ttm_r_n=1000:108.1204'\n",
      "-----------------------------------Fold 1 - Train 6958 - Val 2319 - Test 2319-----------------------------------'\n",
      "Finished training Boosted Models with a train loss of knn_tta_n=100:77.6991,knn_ttm_n=100:89.7189,knn_tta_r_n=100:86.2765,knn_ttm_r_n=100:84.0704,knn_tta_n=500:93.7504,knn_ttm_n=500:122.0608,knn_tta_r_n=500:97.064,knn_ttm_r_n=500:96.7721,knn_tta_n=1000:95.4847,knn_ttm_n=1000:126.6381,knn_tta_r_n=1000:99.0071,knn_ttm_r_n=1000:98.8897'\n",
      "Tested (test) on 2319 instances with mean losses of: knn_tta_n=100:157.7882,knn_ttm_n=100:200.7781,knn_tta_r_n=100:147.8595,knn_ttm_r_n=100:148.0367,knn_tta_n=500:142.6236,knn_ttm_n=500:173.854,knn_tta_r_n=500:147.8392,knn_ttm_r_n=500:150.04,knn_tta_n=1000:142.6842,knn_ttm_n=1000:173.6205,knn_tta_r_n=1000:147.9011,knn_ttm_r_n=1000:150.1174'\n",
      "-----------------------------------Fold 2 - Train 6958 - Val 2319 - Test 2319-----------------------------------'\n",
      "Finished training Boosted Models with a train loss of knn_tta_n=100:80.4152,knn_ttm_n=100:97.1363,knn_tta_r_n=100:87.5052,knn_ttm_r_n=100:87.229,knn_tta_n=500:93.71,knn_ttm_n=500:123.643,knn_tta_r_n=500:97.2018,knn_ttm_r_n=500:98.5377,knn_tta_n=1000:95.4396,knn_ttm_n=1000:125.45,knn_tta_r_n=1000:99.205,knn_ttm_r_n=1000:100.8027'\n",
      "Tested (test) on 2319 instances with mean losses of: knn_tta_n=100:113.0101,knn_ttm_n=100:150.8978,knn_tta_r_n=100:101.4391,knn_ttm_r_n=100:101.9974,knn_tta_n=500:110.6744,knn_ttm_n=500:153.7666,knn_tta_r_n=500:102.5059,knn_ttm_r_n=500:97.7231,knn_tta_n=1000:113.5153,knn_ttm_n=1000:150.7687,knn_tta_r_n=1000:105.8068,knn_ttm_r_n=1000:98.7577'\n",
      "-----------------------------------Fold 3 - Train 6958 - Val 2319 - Test 2319-----------------------------------'\n",
      "Finished training Boosted Models with a train loss of knn_tta_n=100:86.9804,knn_ttm_n=100:116.1798,knn_tta_r_n=100:94.9959,knn_ttm_r_n=100:93.5538,knn_tta_n=500:101.5421,knn_ttm_n=500:138.0419,knn_tta_r_n=500:106.0156,knn_ttm_r_n=500:107.5494,knn_tta_n=1000:103.5764,knn_ttm_n=1000:140.2792,knn_tta_r_n=1000:108.2953,knn_ttm_r_n=1000:109.9693'\n",
      "Tested (test) on 2319 instances with mean losses of: knn_tta_n=100:151.4426,knn_ttm_n=100:242.7109,knn_tta_r_n=100:109.8,knn_ttm_r_n=100:106.6825,knn_tta_n=500:135.7623,knn_ttm_n=500:221.3941,knn_tta_r_n=500:106.6465,knn_ttm_r_n=500:102.7083,knn_tta_n=1000:133.3802,knn_ttm_n=1000:212.8009,knn_tta_r_n=1000:105.632,knn_ttm_r_n=1000:102.3321'\n",
      "-----------------------------------Fold 4 - Train 6958 - Val 2319 - Test 2319-----------------------------------'\n",
      "Finished training Boosted Models with a train loss of knn_tta_n=100:94.6732,knn_ttm_n=100:132.9172,knn_tta_r_n=100:100.3185,knn_ttm_r_n=100:98.9401,knn_tta_n=500:110.0618,knn_ttm_n=500:162.1086,knn_tta_r_n=500:110.951,knn_ttm_r_n=500:111.4774,knn_tta_n=1000:111.3348,knn_ttm_n=1000:164.1496,knn_tta_r_n=1000:112.7876,knn_ttm_r_n=1000:113.5691'\n",
      "Tested (test) on 2319 instances with mean losses of: knn_tta_n=100:107.5314,knn_ttm_n=100:174.949,knn_tta_r_n=100:103.0279,knn_ttm_r_n=100:107.7353,knn_tta_n=500:100.4499,knn_ttm_n=500:162.7513,knn_tta_r_n=500:102.8466,knn_ttm_r_n=500:108.2487,knn_tta_n=1000:98.5289,knn_ttm_n=1000:154.1046,knn_tta_r_n=1000:104.294,knn_ttm_r_n=1000:108.3862'\n",
      "Building final model - Train 9276 - Test 2320'\n",
      "Finished training Boosted Models with a train loss of knn_tta_n=100:87.697,knn_ttm_n=100:117.7263,knn_tta_r_n=100:94.5382,knn_ttm_r_n=100:92.2797,knn_tta_n=500:104.5959,knn_ttm_n=500:147.5627,knn_tta_r_n=500:106.8404,knn_ttm_r_n=500:107.3643,knn_tta_n=1000:106.4655,knn_ttm_n=1000:150.1142,knn_tta_r_n=1000:108.945,knn_ttm_r_n=1000:109.5075'\n",
      "Tested (test) on 2320 instances with mean losses of: knn_tta_n=100:138.315,knn_ttm_n=100:231.7015,knn_tta_r_n=100:111.8937,knn_ttm_r_n=100:109.2231,knn_tta_n=500:131.7856,knn_ttm_n=500:223.8164,knn_tta_r_n=500:117.8545,knn_ttm_r_n=500:114.1618,knn_tta_n=1000:129.3397,knn_ttm_n=1000:212.2268,knn_tta_r_n=1000:117.9921,knn_ttm_r_n=1000:114.6136'\n"
     ]
    },
    {
     "name": "stderr",
     "output_type": "stream",
     "text": [
      "C:\\Users\\huonf\\.conda\\envs\\lazydeep\\lib\\site-packages\\scipy\\stats\\_stats_py.py:4068: PearsonRConstantInputWarning: An input array is constant; the correlation coefficient is not defined.\n",
      "  warnings.warn(PearsonRConstantInputWarning())\n"
     ]
    },
    {
     "name": "stdout",
     "output_type": "stream",
     "text": [
      "Running model random_68'\n",
      "Running Cross Evaluation with 5 folds'\n",
      "-----------------------------------Fold 0 - Train 6956 - Val 2320 - Test 2320-----------------------------------'\n",
      "Finished training Boosted Models with a train loss of knn_tta_n=100:183.193,knn_ttm_n=100:415.4976,knn_tta_r_n=100:140.1074,knn_ttm_r_n=100:205.1029,knn_tta_n=500:128.7347,knn_ttm_n=500:266.3483,knn_tta_r_n=500:119.1137,knn_ttm_r_n=500:140.0919,knn_tta_n=1000:127.4269,knn_ttm_n=1000:208.661,knn_tta_r_n=1000:108.4228,knn_ttm_r_n=1000:148.1093'\n",
      "Tested (test) on 2320 instances with mean losses of: knn_tta_n=100:9233.0963,knn_ttm_n=100:32867.0396,knn_tta_r_n=100:2115.4108,knn_ttm_r_n=100:985.0047,knn_tta_n=500:257.1705,knn_ttm_n=500:596.9254,knn_tta_r_n=500:136.5062,knn_ttm_r_n=500:133.4244,knn_tta_n=1000:130.482,knn_ttm_n=1000:231.6442,knn_tta_r_n=1000:120.1863,knn_ttm_r_n=1000:115.1311'\n",
      "-----------------------------------Fold 1 - Train 6958 - Val 2319 - Test 2319-----------------------------------'\n",
      "Finished training Boosted Models with a train loss of knn_tta_n=100:150.7403,knn_ttm_n=100:296.8649,knn_tta_r_n=100:103.8874,knn_ttm_r_n=100:1322.4317,knn_tta_n=500:111.0541,knn_ttm_n=500:192.6363,knn_tta_r_n=500:97.7317,knn_ttm_r_n=500:281.955,knn_tta_n=1000:109.8363,knn_ttm_n=1000:175.3468,knn_tta_r_n=1000:101.0225,knn_ttm_r_n=1000:350.784'\n",
      "Tested (test) on 2319 instances with mean losses of: knn_tta_n=100:3513.3095,knn_ttm_n=100:6591.3541,knn_tta_r_n=100:1915.0296,knn_ttm_r_n=100:1079.2487,knn_tta_n=500:226.1147,knn_ttm_n=500:448.6025,knn_tta_r_n=500:194.0323,knn_ttm_r_n=500:182.0131,knn_tta_n=1000:221.7243,knn_ttm_n=1000:349.5205,knn_tta_r_n=1000:177.9295,knn_ttm_r_n=1000:160.6471'\n",
      "-----------------------------------Fold 2 - Train 6958 - Val 2319 - Test 2319-----------------------------------'\n",
      "Finished training Boosted Models with a train loss of knn_tta_n=100:191.1423,knn_ttm_n=100:298.7889,knn_tta_r_n=100:97.9202,knn_ttm_r_n=100:2128152.2901,knn_tta_n=500:105.342,knn_ttm_n=500:204.3934,knn_tta_r_n=500:95.9697,knn_ttm_r_n=500:13996.146,knn_tta_n=1000:98.81,knn_ttm_n=1000:165.2215,knn_tta_r_n=1000:94.3619,knn_ttm_r_n=1000:124.9104'\n",
      "Tested (test) on 2319 instances with mean losses of: knn_tta_n=100:4355024.6041,knn_ttm_n=100:9602681.0944,knn_tta_r_n=100:55772.2004,knn_ttm_r_n=100:3087991.7314,knn_tta_n=500:527187.4935,knn_ttm_n=500:753445.7943,knn_tta_r_n=500:9888.0317,knn_ttm_r_n=500:77247.0475,knn_tta_n=1000:117936.6916,knn_ttm_n=1000:391678.349,knn_tta_r_n=1000:28501.5609,knn_ttm_r_n=1000:28248.3715'\n",
      "-----------------------------------Fold 3 - Train 6958 - Val 2319 - Test 2319-----------------------------------'\n",
      "Finished training Boosted Models with a train loss of knn_tta_n=100:136.5714,knn_ttm_n=100:362.3505,knn_tta_r_n=100:108.7567,knn_ttm_r_n=100:108.9575,knn_tta_n=500:114.6825,knn_ttm_n=500:234.5546,knn_tta_r_n=500:99.8518,knn_ttm_r_n=500:160.6249,knn_tta_n=1000:106.7811,knn_ttm_n=1000:196.7186,knn_tta_r_n=1000:100.4331,knn_ttm_r_n=1000:107.6904'\n",
      "Tested (test) on 2319 instances with mean losses of: knn_tta_n=100:19004204.4769,knn_ttm_n=100:1230145.3646,knn_tta_r_n=100:535481.0859,knn_ttm_r_n=100:300784.7694,knn_tta_n=500:60875.5948,knn_ttm_n=500:126982.1353,knn_tta_r_n=500:1836.3618,knn_ttm_r_n=500:33468.4535,knn_tta_n=1000:504.5814,knn_ttm_n=1000:417.3297,knn_tta_r_n=1000:151.9371,knn_ttm_r_n=1000:1434.3184'\n",
      "-----------------------------------Fold 4 - Train 6958 - Val 2319 - Test 2319-----------------------------------'\n",
      "Finished training Boosted Models with a train loss of knn_tta_n=100:155.2325,knn_ttm_n=100:332.0136,knn_tta_r_n=100:111.2491,knn_ttm_r_n=100:92.1224,knn_tta_n=500:127.309,knn_ttm_n=500:310.1067,knn_tta_r_n=500:105.0091,knn_ttm_r_n=500:139.5119,knn_tta_n=1000:110.2095,knn_ttm_n=1000:272.8232,knn_tta_r_n=1000:148.4697,knn_ttm_r_n=1000:118.4296'\n",
      "Tested (test) on 2319 instances with mean losses of: knn_tta_n=100:16541.0197,knn_ttm_n=100:64091.2393,knn_tta_r_n=100:3072.3247,knn_ttm_r_n=100:12701.2455,knn_tta_n=500:1922.8722,knn_ttm_n=500:6621.7036,knn_tta_r_n=500:1070.5955,knn_ttm_r_n=500:470.8498,knn_tta_n=1000:1975.0031,knn_ttm_n=1000:6431.2458,knn_tta_r_n=1000:299.8342,knn_ttm_r_n=1000:366.4488'\n",
      "Building final model - Train 9276 - Test 2320'\n",
      "Finished training Boosted Models with a train loss of knn_tta_n=100:157.8437,knn_ttm_n=100:432.1966,knn_tta_r_n=100:108.7151,knn_ttm_r_n=100:122.5862,knn_tta_n=500:146.7905,knn_ttm_n=500:271.802,knn_tta_r_n=500:105.1539,knn_ttm_r_n=500:108.8095,knn_tta_n=1000:110.4738,knn_ttm_n=1000:216.4737,knn_tta_r_n=1000:108.0488,knn_ttm_r_n=1000:107.5819'\n",
      "Tested (test) on 2320 instances with mean losses of: knn_tta_n=100:1115519.0937,knn_ttm_n=100:1186404.6502,knn_tta_r_n=100:91649.9116,knn_ttm_r_n=100:2082425.0649,knn_tta_n=500:1066.1919,knn_ttm_n=500:566.4539,knn_tta_r_n=500:379.5441,knn_ttm_r_n=500:354.7501,knn_tta_n=1000:181.4135,knn_ttm_n=1000:441.6441,knn_tta_r_n=1000:152.0159,knn_ttm_r_n=1000:781.4221'\n"
     ]
    },
    {
     "name": "stderr",
     "output_type": "stream",
     "text": [
      "C:\\Users\\huonf\\.conda\\envs\\lazydeep\\lib\\site-packages\\scipy\\stats\\_stats_py.py:4068: PearsonRConstantInputWarning: An input array is constant; the correlation coefficient is not defined.\n",
      "  warnings.warn(PearsonRConstantInputWarning())\n"
     ]
    },
    {
     "name": "stdout",
     "output_type": "stream",
     "text": [
      "Running model random_77'\n",
      "Running Cross Evaluation with 5 folds'\n",
      "-----------------------------------Fold 0 - Train 6956 - Val 2320 - Test 2320-----------------------------------'\n",
      "Finished training Boosted Models with a train loss of knn_tta_n=100:67.5891,knn_ttm_n=100:116.9714,knn_tta_r_n=100:76.8087,knn_ttm_r_n=100:81.6286,knn_tta_n=500:93.9355,knn_ttm_n=500:146.8072,knn_tta_r_n=500:101.9831,knn_ttm_r_n=500:100.2218,knn_tta_n=1000:98.8267,knn_ttm_n=1000:155.9163,knn_tta_r_n=1000:106.4786,knn_ttm_r_n=1000:104.4048'\n",
      "Tested (test) on 2320 instances with mean losses of: knn_tta_n=100:584.8889,knn_ttm_n=100:1419.4013,knn_tta_r_n=100:255.3919,knn_ttm_r_n=100:410.5966,knn_tta_n=500:108.4661,knn_ttm_n=500:173.3151,knn_tta_r_n=500:104.8631,knn_ttm_r_n=500:109.9599,knn_tta_n=1000:104.7182,knn_ttm_n=1000:163.563,knn_tta_r_n=1000:105.1876,knn_ttm_r_n=1000:109.5681'\n",
      "-----------------------------------Fold 1 - Train 6958 - Val 2319 - Test 2319-----------------------------------'\n",
      "Finished training Boosted Models with a train loss of knn_tta_n=100:50.2522,knn_ttm_n=100:59.9938,knn_tta_r_n=100:58.6892,knn_ttm_r_n=100:61.8988,knn_tta_n=500:77.7378,knn_ttm_n=500:103.8637,knn_tta_r_n=500:85.5979,knn_ttm_r_n=500:84.0358,knn_tta_n=1000:83.6021,knn_ttm_n=1000:112.9237,knn_tta_r_n=1000:90.5595,knn_ttm_r_n=1000:89.0866'\n",
      "Tested (test) on 2319 instances with mean losses of: knn_tta_n=100:3398.1974,knn_ttm_n=100:2903.5802,knn_tta_r_n=100:855.4938,knn_ttm_r_n=100:596.9921,knn_tta_n=500:151.4975,knn_ttm_n=500:218.4141,knn_tta_r_n=500:150.0439,knn_ttm_r_n=500:151.2594,knn_tta_n=1000:149.1572,knn_ttm_n=1000:189.5425,knn_tta_r_n=1000:149.1334,knn_ttm_r_n=1000:150.6275'\n",
      "-----------------------------------Fold 2 - Train 6958 - Val 2319 - Test 2319-----------------------------------'\n",
      "Finished training Boosted Models with a train loss of knn_tta_n=100:50.5874,knn_ttm_n=100:68.7631,knn_tta_r_n=100:59.331,knn_ttm_r_n=100:65.1002,knn_tta_n=500:78.6275,knn_ttm_n=500:106.9971,knn_tta_r_n=500:85.8638,knn_ttm_r_n=500:86.1595,knn_tta_n=1000:84.4566,knn_ttm_n=1000:115.4466,knn_tta_r_n=1000:90.5001,knn_ttm_r_n=1000:91.0452'\n",
      "Tested (test) on 2319 instances with mean losses of: knn_tta_n=100:1831.3026,knn_ttm_n=100:9216.7986,knn_tta_r_n=100:268.932,knn_ttm_r_n=100:346.8626,knn_tta_n=500:110.7614,knn_ttm_n=500:164.7005,knn_tta_r_n=500:99.1054,knn_ttm_r_n=500:97.6097,knn_tta_n=1000:105.9575,knn_ttm_n=1000:158.1824,knn_tta_r_n=1000:99.5272,knn_ttm_r_n=1000:95.977'\n",
      "-----------------------------------Fold 3 - Train 6958 - Val 2319 - Test 2319-----------------------------------'\n",
      "Finished training Boosted Models with a train loss of knn_tta_n=100:62.0594,knn_ttm_n=100:89.188,knn_tta_r_n=100:69.1977,knn_ttm_r_n=100:70.7898,knn_tta_n=500:88.8884,knn_ttm_n=500:136.9055,knn_tta_r_n=500:94.3511,knn_ttm_r_n=500:92.7619,knn_tta_n=1000:93.9873,knn_ttm_n=1000:141.6643,knn_tta_r_n=1000:99.4646,knn_ttm_r_n=1000:97.8733'\n",
      "Tested (test) on 2319 instances with mean losses of: knn_tta_n=100:267.3583,knn_ttm_n=100:728.1734,knn_tta_r_n=100:159.7902,knn_ttm_r_n=100:196.1436,knn_tta_n=500:147.9466,knn_ttm_n=500:205.4059,knn_tta_r_n=500:114.5924,knn_ttm_r_n=500:115.7998,knn_tta_n=1000:139.6735,knn_ttm_n=1000:188.2948,knn_tta_r_n=1000:111.3512,knn_ttm_r_n=1000:111.217'\n",
      "-----------------------------------Fold 4 - Train 6958 - Val 2319 - Test 2319-----------------------------------'\n",
      "Finished training Boosted Models with a train loss of knn_tta_n=100:66.6358,knn_ttm_n=100:142.4616,knn_tta_r_n=100:74.6132,knn_ttm_r_n=100:77.8787,knn_tta_n=500:93.5623,knn_ttm_n=500:172.1342,knn_tta_r_n=500:100.6188,knn_ttm_r_n=500:98.8248,knn_tta_n=1000:98.9055,knn_ttm_n=1000:177.1329,knn_tta_r_n=1000:105.7586,knn_ttm_r_n=1000:103.9955'\n",
      "Tested (test) on 2319 instances with mean losses of: knn_tta_n=100:242.6001,knn_ttm_n=100:406.2529,knn_tta_r_n=100:152.0087,knn_ttm_r_n=100:173.1707,knn_tta_n=500:118.7044,knn_ttm_n=500:219.3829,knn_tta_r_n=500:100.6236,knn_ttm_r_n=500:106.1297,knn_tta_n=1000:110.273,knn_ttm_n=1000:207.6851,knn_tta_r_n=1000:99.6569,knn_ttm_r_n=1000:104.882'\n",
      "Building final model - Train 9276 - Test 2320'\n",
      "Finished training Boosted Models with a train loss of knn_tta_n=100:61.4327,knn_ttm_n=100:118.1629,knn_tta_r_n=100:68.4273,knn_ttm_r_n=100:69.5491,knn_tta_n=500:88.6158,knn_ttm_n=500:149.5007,knn_tta_r_n=500:94.9601,knn_ttm_r_n=500:91.8964,knn_tta_n=1000:94.2612,knn_ttm_n=1000:154.2563,knn_tta_r_n=1000:99.8861,knn_ttm_r_n=1000:97.5138'\n",
      "Tested (test) on 2320 instances with mean losses of: knn_tta_n=100:493.3273,knn_ttm_n=100:1639.7091,knn_tta_r_n=100:246.1625,knn_ttm_r_n=100:353.9298,knn_tta_n=500:114.565,knn_ttm_n=500:311.768,knn_tta_r_n=500:95.3245,knn_ttm_r_n=500:96.284,knn_tta_n=1000:109.176,knn_ttm_n=1000:266.0933,knn_tta_r_n=1000:94.0656,knn_ttm_r_n=1000:94.5809'\n"
     ]
    },
    {
     "name": "stderr",
     "output_type": "stream",
     "text": [
      "C:\\Users\\huonf\\.conda\\envs\\lazydeep\\lib\\site-packages\\scipy\\stats\\_stats_py.py:4068: PearsonRConstantInputWarning: An input array is constant; the correlation coefficient is not defined.\n",
      "  warnings.warn(PearsonRConstantInputWarning())\n"
     ]
    },
    {
     "name": "stdout",
     "output_type": "stream",
     "text": [
      "Running model random_78'\n",
      "Running Cross Evaluation with 5 folds'\n",
      "-----------------------------------Fold 0 - Train 6956 - Val 2320 - Test 2320-----------------------------------'\n",
      "Finished training Boosted Models with a train loss of knn_tta_n=100:78.6337,knn_ttm_n=100:100.9963,knn_tta_r_n=100:89.1125,knn_ttm_r_n=100:87.5241,knn_tta_n=500:105.0836,knn_ttm_n=500:158.389,knn_tta_r_n=500:110.1073,knn_ttm_r_n=500:108.1145,knn_tta_n=1000:109.9982,knn_ttm_n=1000:164.868,knn_tta_r_n=1000:113.6635,knn_ttm_r_n=1000:112.1912'\n",
      "Tested (test) on 2320 instances with mean losses of: knn_tta_n=100:137.9841,knn_ttm_n=100:222.1912,knn_tta_r_n=100:115.9959,knn_ttm_r_n=100:116.3077,knn_tta_n=500:100.0761,knn_ttm_n=500:152.8905,knn_tta_r_n=500:104.475,knn_ttm_r_n=500:107.3922,knn_tta_n=1000:96.6286,knn_ttm_n=1000:143.3143,knn_tta_r_n=1000:104.6363,knn_ttm_r_n=1000:106.7484'\n",
      "-----------------------------------Fold 1 - Train 6958 - Val 2319 - Test 2319-----------------------------------'\n",
      "Finished training Boosted Models with a train loss of knn_tta_n=100:63.5287,knn_ttm_n=100:66.2879,knn_tta_r_n=100:73.472,knn_ttm_r_n=100:73.3329,knn_tta_n=500:85.9632,knn_ttm_n=500:103.5175,knn_tta_r_n=500:95.2264,knn_ttm_r_n=500:93.3835,knn_tta_n=1000:92.5163,knn_ttm_n=1000:113.458,knn_tta_r_n=1000:99.3053,knn_ttm_r_n=1000:97.518'\n",
      "Tested (test) on 2319 instances with mean losses of: knn_tta_n=100:172.8017,knn_ttm_n=100:206.7521,knn_tta_r_n=100:158.0004,knn_ttm_r_n=100:161.8775,knn_tta_n=500:150.7995,knn_ttm_n=500:184.0167,knn_tta_r_n=500:156.8226,knn_ttm_r_n=500:159.6853,knn_tta_n=1000:147.7819,knn_ttm_n=1000:175.5924,knn_tta_r_n=1000:157.3461,knn_ttm_r_n=1000:159.7353'\n",
      "-----------------------------------Fold 2 - Train 6958 - Val 2319 - Test 2319-----------------------------------'\n",
      "Finished training Boosted Models with a train loss of knn_tta_n=100:61.3277,knn_ttm_n=100:66.0767,knn_tta_r_n=100:70.6285,knn_ttm_r_n=100:72.8142,knn_tta_n=500:84.6191,knn_ttm_n=500:100.1178,knn_tta_r_n=500:93.7471,knn_ttm_r_n=500:93.6049,knn_tta_n=1000:90.3568,knn_ttm_n=1000:110.4155,knn_tta_r_n=1000:97.921,knn_ttm_r_n=1000:98.0065'\n",
      "Tested (test) on 2319 instances with mean losses of: knn_tta_n=100:175.8023,knn_ttm_n=100:371.664,knn_tta_r_n=100:127.09,knn_ttm_r_n=100:154.3613,knn_tta_n=500:106.2064,knn_ttm_n=500:129.9491,knn_tta_r_n=500:104.1103,knn_ttm_r_n=500:100.2961,knn_tta_n=1000:116.9414,knn_ttm_n=1000:136.7767,knn_tta_r_n=1000:110.3207,knn_ttm_r_n=1000:102.0651'\n",
      "-----------------------------------Fold 3 - Train 6958 - Val 2319 - Test 2319-----------------------------------'\n",
      "Finished training Boosted Models with a train loss of knn_tta_n=100:73.7049,knn_ttm_n=100:101.5827,knn_tta_r_n=100:82.6776,knn_ttm_r_n=100:79.7643,knn_tta_n=500:97.3665,knn_ttm_n=500:133.3752,knn_tta_r_n=500:106.9336,knn_ttm_r_n=500:105.3554,knn_tta_n=1000:101.6936,knn_ttm_n=1000:140.8227,knn_tta_r_n=1000:110.5527,knn_ttm_r_n=1000:110.1381'\n",
      "Tested (test) on 2319 instances with mean losses of: knn_tta_n=100:155.6331,knn_ttm_n=100:252.1313,knn_tta_r_n=100:110.6741,knn_ttm_r_n=100:110.5482,knn_tta_n=500:120.9989,knn_ttm_n=500:201.9397,knn_tta_r_n=500:99.575,knn_ttm_r_n=500:98.0163,knn_tta_n=1000:122.1272,knn_ttm_n=1000:201.9832,knn_tta_r_n=1000:99.7974,knn_ttm_r_n=1000:97.7583'\n",
      "-----------------------------------Fold 4 - Train 6958 - Val 2319 - Test 2319-----------------------------------'\n",
      "Finished training Boosted Models with a train loss of knn_tta_n=100:78.0302,knn_ttm_n=100:111.9112,knn_tta_r_n=100:87.6793,knn_ttm_r_n=100:85.03,knn_tta_n=500:103.5006,knn_ttm_n=500:155.0416,knn_tta_r_n=500:110.4046,knn_ttm_r_n=500:108.976,knn_tta_n=1000:107.8657,knn_ttm_n=1000:162.811,knn_tta_r_n=1000:113.8486,knn_ttm_r_n=1000:112.944'\n",
      "Tested (test) on 2319 instances with mean losses of: knn_tta_n=100:115.355,knn_ttm_n=100:210.5116,knn_tta_r_n=100:96.676,knn_ttm_r_n=100:95.3015,knn_tta_n=500:100.241,knn_ttm_n=500:178.6269,knn_tta_r_n=500:103.6351,knn_ttm_r_n=500:103.8985,knn_tta_n=1000:99.7647,knn_ttm_n=1000:175.4762,knn_tta_r_n=1000:106.3787,knn_ttm_r_n=1000:106.238'\n",
      "Building final model - Train 9276 - Test 2320'\n",
      "Finished training Boosted Models with a train loss of knn_tta_n=100:71.3992,knn_ttm_n=100:99.5458,knn_tta_r_n=100:79.6933,knn_ttm_r_n=100:77.2432,knn_tta_n=500:97.6803,knn_ttm_n=500:140.4263,knn_tta_r_n=500:105.1753,knn_ttm_r_n=500:103.3803,knn_tta_n=1000:102.5615,knn_ttm_n=1000:147.754,knn_tta_r_n=1000:109.821,knn_ttm_r_n=1000:108.4279'\n",
      "Tested (test) on 2320 instances with mean losses of: knn_tta_n=100:135.7879,knn_ttm_n=100:263.1909,knn_tta_r_n=100:99.8449,knn_ttm_r_n=100:90.1694,knn_tta_n=500:121.1607,knn_ttm_n=500:228.6029,knn_tta_r_n=500:109.4258,knn_ttm_r_n=500:106.4166,knn_tta_n=1000:120.3107,knn_ttm_n=1000:209.2714,knn_tta_r_n=1000:114.1033,knn_ttm_r_n=1000:108.8846'\n"
     ]
    },
    {
     "name": "stderr",
     "output_type": "stream",
     "text": [
      "C:\\Users\\huonf\\.conda\\envs\\lazydeep\\lib\\site-packages\\scipy\\stats\\_stats_py.py:4068: PearsonRConstantInputWarning: An input array is constant; the correlation coefficient is not defined.\n",
      "  warnings.warn(PearsonRConstantInputWarning())\n"
     ]
    },
    {
     "name": "stdout",
     "output_type": "stream",
     "text": [
      "Running model random_79'\n",
      "Running Cross Evaluation with 5 folds'\n",
      "-----------------------------------Fold 0 - Train 6956 - Val 2320 - Test 2320-----------------------------------'\n",
      "Finished training Boosted Models with a train loss of knn_tta_n=100:78.6883,knn_ttm_n=100:102.872,knn_tta_r_n=100:90.8808,knn_ttm_r_n=100:92.2902,knn_tta_n=500:107.2749,knn_ttm_n=500:158.4628,knn_tta_r_n=500:110.9587,knn_ttm_r_n=500:109.4542,knn_tta_n=1000:111.0777,knn_ttm_n=1000:163.5794,knn_tta_r_n=1000:114.2898,knn_ttm_r_n=1000:113.1007'\n",
      "Tested (test) on 2320 instances with mean losses of: knn_tta_n=100:153.433,knn_ttm_n=100:287.3986,knn_tta_r_n=100:120.2631,knn_ttm_r_n=100:132.0342,knn_tta_n=500:113.0405,knn_ttm_n=500:169.8925,knn_tta_r_n=500:114.0597,knn_ttm_r_n=500:115.3821,knn_tta_n=1000:111.4541,knn_ttm_n=1000:161.6021,knn_tta_r_n=1000:114.7446,knn_ttm_r_n=1000:116.2571'\n",
      "-----------------------------------Fold 1 - Train 6958 - Val 2319 - Test 2319-----------------------------------'\n",
      "Finished training Boosted Models with a train loss of knn_tta_n=100:63.8821,knn_ttm_n=100:76.0158,knn_tta_r_n=100:73.5602,knn_ttm_r_n=100:75.19,knn_tta_n=500:89.4369,knn_ttm_n=500:119.3811,knn_tta_r_n=500:94.7882,knn_ttm_r_n=500:92.8337,knn_tta_n=1000:92.552,knn_ttm_n=1000:125.3889,knn_tta_r_n=1000:98.3054,knn_ttm_r_n=1000:96.606'\n",
      "Tested (test) on 2319 instances with mean losses of: knn_tta_n=100:940.7182,knn_ttm_n=100:1938.564,knn_tta_r_n=100:326.6815,knn_ttm_r_n=100:372.2925,knn_tta_n=500:161.2989,knn_ttm_n=500:213.9563,knn_tta_r_n=500:159.6901,knn_ttm_r_n=500:164.1722,knn_tta_n=1000:154.7535,knn_ttm_n=1000:200.9792,knn_tta_r_n=1000:155.8611,knn_ttm_r_n=1000:159.8695'\n",
      "-----------------------------------Fold 2 - Train 6958 - Val 2319 - Test 2319-----------------------------------'\n",
      "Finished training Boosted Models with a train loss of knn_tta_n=100:63.7025,knn_ttm_n=100:76.6531,knn_tta_r_n=100:72.3576,knn_ttm_r_n=100:73.3633,knn_tta_n=500:88.8989,knn_ttm_n=500:116.8423,knn_tta_r_n=500:95.6951,knn_ttm_r_n=500:95.5327,knn_tta_n=1000:92.9462,knn_ttm_n=1000:122.6666,knn_tta_r_n=1000:100.4604,knn_ttm_r_n=1000:99.7499'\n",
      "Tested (test) on 2319 instances with mean losses of: knn_tta_n=100:185.7694,knn_ttm_n=100:1342.5251,knn_tta_r_n=100:761.423,knn_ttm_r_n=100:5587.7554,knn_tta_n=500:122.5017,knn_ttm_n=500:173.8048,knn_tta_r_n=500:103.627,knn_ttm_r_n=500:105.3711,knn_tta_n=1000:117.1372,knn_ttm_n=1000:170.5538,knn_tta_r_n=1000:101.6644,knn_ttm_r_n=1000:104.6581'\n",
      "-----------------------------------Fold 3 - Train 6958 - Val 2319 - Test 2319-----------------------------------'\n",
      "Finished training Boosted Models with a train loss of knn_tta_n=100:74.728,knn_ttm_n=100:103.332,knn_tta_r_n=100:84.309,knn_ttm_r_n=100:82.9599,knn_tta_n=500:100.0144,knn_ttm_n=500:147.8582,knn_tta_r_n=500:107.4139,knn_ttm_r_n=500:104.5768,knn_tta_n=1000:104.1326,knn_ttm_n=1000:154.0245,knn_tta_r_n=1000:113.3775,knn_ttm_r_n=1000:109.2877'\n",
      "Tested (test) on 2319 instances with mean losses of: knn_tta_n=100:262.5392,knn_ttm_n=100:550.6931,knn_tta_r_n=100:123.0626,knn_ttm_r_n=100:122.3946,knn_tta_n=500:126.9911,knn_ttm_n=500:196.4336,knn_tta_r_n=500:106.192,knn_ttm_r_n=500:110.8685,knn_tta_n=1000:121.9609,knn_ttm_n=1000:189.3562,knn_tta_r_n=1000:104.9088,knn_ttm_r_n=1000:106.665'\n",
      "-----------------------------------Fold 4 - Train 6958 - Val 2319 - Test 2319-----------------------------------'\n",
      "Finished training Boosted Models with a train loss of knn_tta_n=100:74.6873,knn_ttm_n=100:112.2751,knn_tta_r_n=100:86.3402,knn_ttm_r_n=100:85.6053,knn_tta_n=500:106.4274,knn_ttm_n=500:165.1935,knn_tta_r_n=500:112.8587,knn_ttm_r_n=500:110.9698,knn_tta_n=1000:111.119,knn_ttm_n=1000:173.2826,knn_tta_r_n=1000:116.4554,knn_ttm_r_n=1000:115.5322'\n",
      "Tested (test) on 2319 instances with mean losses of: knn_tta_n=100:150.0717,knn_ttm_n=100:237.986,knn_tta_r_n=100:111.4266,knn_ttm_r_n=100:126.5614,knn_tta_n=500:97.9673,knn_ttm_n=500:169.4264,knn_tta_r_n=500:102.6642,knn_ttm_r_n=500:103.3295,knn_tta_n=1000:95.7578,knn_ttm_n=1000:160.8383,knn_tta_r_n=1000:106.2752,knn_ttm_r_n=1000:104.4354'\n",
      "Building final model - Train 9276 - Test 2320'\n",
      "Finished training Boosted Models with a train loss of knn_tta_n=100:71.6818,knn_ttm_n=100:105.1212,knn_tta_r_n=100:81.7209,knn_ttm_r_n=100:79.8912,knn_tta_n=500:100.8582,knn_ttm_n=500:153.3416,knn_tta_r_n=500:106.6624,knn_ttm_r_n=500:104.7624,knn_tta_n=1000:104.9993,knn_ttm_n=1000:158.6883,knn_tta_r_n=1000:110.6205,knn_ttm_r_n=1000:109.0689'\n",
      "Tested (test) on 2320 instances with mean losses of: knn_tta_n=100:213.4608,knn_ttm_n=100:299.069,knn_tta_r_n=100:133.6694,knn_ttm_r_n=100:160.7062,knn_tta_n=500:121.8596,knn_ttm_n=500:240.4593,knn_tta_r_n=500:105.8793,knn_ttm_r_n=500:101.2032,knn_tta_n=1000:118.8075,knn_ttm_n=1000:220.4876,knn_tta_r_n=1000:104.5945,knn_ttm_r_n=1000:102.6725'\n"
     ]
    },
    {
     "name": "stderr",
     "output_type": "stream",
     "text": [
      "C:\\Users\\huonf\\.conda\\envs\\lazydeep\\lib\\site-packages\\scipy\\stats\\_stats_py.py:4068: PearsonRConstantInputWarning: An input array is constant; the correlation coefficient is not defined.\n",
      "  warnings.warn(PearsonRConstantInputWarning())\n"
     ]
    },
    {
     "name": "stdout",
     "output_type": "stream",
     "text": [
      "Running model random_82'\n",
      "Running Cross Evaluation with 5 folds'\n",
      "-----------------------------------Fold 0 - Train 6956 - Val 2320 - Test 2320-----------------------------------'\n",
      "Finished training Boosted Models with a train loss of knn_tta_n=100:160.6514,knn_ttm_n=100:278.159,knn_tta_r_n=100:121.1482,knn_ttm_r_n=100:195.2261,knn_tta_n=500:129.9751,knn_ttm_n=500:298.7696,knn_tta_r_n=500:105.6843,knn_ttm_r_n=500:240.527,knn_tta_n=1000:108.3176,knn_ttm_n=1000:191.2448,knn_tta_r_n=1000:104.0704,knn_ttm_r_n=1000:203.1502'\n",
      "Tested (test) on 2320 instances with mean losses of: knn_tta_n=100:26784.7632,knn_ttm_n=100:130347.7989,knn_tta_r_n=100:45604.7069,knn_ttm_r_n=100:38882.8816,knn_tta_n=500:14110.7701,knn_ttm_n=500:82882.8189,knn_tta_r_n=500:1444.7315,knn_ttm_r_n=500:2390.5636,knn_tta_n=1000:147.6137,knn_ttm_n=1000:2797.0267,knn_tta_r_n=1000:113.2107,knn_ttm_r_n=1000:165.0848'\n",
      "-----------------------------------Fold 1 - Train 6958 - Val 2319 - Test 2319-----------------------------------'\n",
      "Finished training Boosted Models with a train loss of knn_tta_n=100:152.8886,knn_ttm_n=100:221.9546,knn_tta_r_n=100:108.0712,knn_ttm_r_n=100:94.1216,knn_tta_n=500:108.9293,knn_ttm_n=500:208.9125,knn_tta_r_n=500:85.1046,knn_ttm_r_n=500:102.5778,knn_tta_n=1000:88.8535,knn_ttm_n=1000:148.0456,knn_tta_r_n=1000:80.2731,knn_ttm_r_n=1000:91.9465'\n",
      "Tested (test) on 2319 instances with mean losses of: knn_tta_n=100:1580.4075,knn_ttm_n=100:3033.7337,knn_tta_r_n=100:466.7959,knn_ttm_r_n=100:720.4654,knn_tta_n=500:271.3503,knn_ttm_n=500:398.2463,knn_tta_r_n=500:200.6395,knn_ttm_r_n=500:182.4124,knn_tta_n=1000:235.9701,knn_ttm_n=1000:337.2505,knn_tta_r_n=1000:174.7603,knn_ttm_r_n=1000:185.5103'\n",
      "-----------------------------------Fold 2 - Train 6958 - Val 2319 - Test 2319-----------------------------------'\n",
      "Finished training Boosted Models with a train loss of knn_tta_n=100:190.2725,knn_ttm_n=100:243.1333,knn_tta_r_n=100:112.2586,knn_ttm_r_n=100:224.3804,knn_tta_n=500:96.2492,knn_ttm_n=500:178.467,knn_tta_r_n=500:82.3317,knn_ttm_r_n=500:74.1584,knn_tta_n=1000:79.1016,knn_ttm_n=1000:128.498,knn_tta_r_n=1000:79.9884,knn_ttm_r_n=1000:75.3596'\n",
      "Tested (test) on 2319 instances with mean losses of: knn_tta_n=100:268619.3081,knn_ttm_n=100:41839.1978,knn_tta_r_n=100:98306.1881,knn_ttm_r_n=100:59402.9775,knn_tta_n=500:169828.6628,knn_ttm_n=500:212246.9722,knn_tta_r_n=500:36270.4556,knn_ttm_r_n=500:32271.9074,knn_tta_n=1000:2073.6918,knn_ttm_n=1000:2127.6862,knn_tta_r_n=1000:840.4142,knn_ttm_r_n=1000:1205.9033'\n",
      "-----------------------------------Fold 3 - Train 6958 - Val 2319 - Test 2319-----------------------------------'\n",
      "Finished training Boosted Models with a train loss of knn_tta_n=100:142.1543,knn_ttm_n=100:312.5089,knn_tta_r_n=100:110.041,knn_ttm_r_n=100:947.27,knn_tta_n=500:118.6844,knn_ttm_n=500:328.4201,knn_tta_r_n=500:95.1558,knn_ttm_r_n=500:91.8749,knn_tta_n=1000:90.776,knn_ttm_n=1000:161.0727,knn_tta_r_n=1000:87.7439,knn_ttm_r_n=1000:88.4174'\n",
      "Tested (test) on 2319 instances with mean losses of: knn_tta_n=100:225409.2537,knn_ttm_n=100:1074450.2351,knn_tta_r_n=100:129001.1144,knn_ttm_r_n=100:225757.8951,knn_tta_n=500:278.592,knn_ttm_n=500:681.042,knn_tta_r_n=500:133.2055,knn_ttm_r_n=500:244.5342,knn_tta_n=1000:164.4513,knn_ttm_n=1000:662.0877,knn_tta_r_n=1000:232.0609,knn_ttm_r_n=1000:192.3348'\n",
      "-----------------------------------Fold 4 - Train 6958 - Val 2319 - Test 2319-----------------------------------'\n",
      "Finished training Boosted Models with a train loss of knn_tta_n=100:189.5459,knn_ttm_n=100:349.37,knn_tta_r_n=100:120.8889,knn_ttm_r_n=100:1156.7374,knn_tta_n=500:138.2486,knn_ttm_n=500:393.9175,knn_tta_r_n=500:96.9499,knn_ttm_r_n=500:182.8296,knn_tta_n=1000:108.8282,knn_ttm_n=1000:233.6721,knn_tta_r_n=1000:97.4125,knn_ttm_r_n=1000:206.3581'\n",
      "Tested (test) on 2319 instances with mean losses of: knn_tta_n=100:40011609.493,knn_ttm_n=100:57499921.4591,knn_tta_r_n=100:20669267.5062,knn_ttm_r_n=100:11022206.5852,knn_tta_n=500:475.0254,knn_ttm_n=500:4642.4185,knn_tta_r_n=500:271.4144,knn_ttm_r_n=500:182.6725,knn_tta_n=1000:426.5219,knn_ttm_n=1000:505.5882,knn_tta_r_n=1000:146.7953,knn_ttm_r_n=1000:149.9738'\n",
      "Building final model - Train 9276 - Test 2320'\n",
      "Finished training Boosted Models with a train loss of knn_tta_n=100:143.7161,knn_ttm_n=100:299.7561,knn_tta_r_n=100:99.054,knn_ttm_r_n=100:131.5613,knn_tta_n=500:159.8834,knn_ttm_n=500:289.2374,knn_tta_r_n=500:121.9521,knn_ttm_r_n=500:161.6475,knn_tta_n=1000:111.2535,knn_ttm_n=1000:193.8598,knn_tta_r_n=1000:100.2842,knn_ttm_r_n=1000:136.9684'\n",
      "Tested (test) on 2320 instances with mean losses of: knn_tta_n=100:6966400.7133,knn_ttm_n=100:4323931.8978,knn_tta_r_n=100:2179488.2657,knn_ttm_r_n=100:894129.2327,knn_tta_n=500:566.8195,knn_ttm_n=500:3137.7858,knn_tta_r_n=500:273.8788,knn_ttm_r_n=500:203.9085,knn_tta_n=1000:1597.0098,knn_ttm_n=1000:1481.147,knn_tta_r_n=1000:711.5636,knn_ttm_r_n=1000:482.9278'\n"
     ]
    },
    {
     "name": "stderr",
     "output_type": "stream",
     "text": [
      "C:\\Users\\huonf\\.conda\\envs\\lazydeep\\lib\\site-packages\\scipy\\stats\\_stats_py.py:4068: PearsonRConstantInputWarning: An input array is constant; the correlation coefficient is not defined.\n",
      "  warnings.warn(PearsonRConstantInputWarning())\n"
     ]
    },
    {
     "name": "stdout",
     "output_type": "stream",
     "text": [
      "Running model random_89'\n",
      "Running Cross Evaluation with 5 folds'\n",
      "-----------------------------------Fold 0 - Train 6956 - Val 2320 - Test 2320-----------------------------------'\n",
      "Finished training Boosted Models with a train loss of knn_tta_n=100:100.9931,knn_ttm_n=100:127.4764,knn_tta_r_n=100:105.3197,knn_ttm_r_n=100:106.295,knn_tta_n=500:112.8534,knn_ttm_n=500:139.9644,knn_tta_r_n=500:116.0027,knn_ttm_r_n=500:115.6239,knn_tta_n=1000:114.0996,knn_ttm_n=1000:140.3613,knn_tta_r_n=1000:117.6397,knn_ttm_r_n=1000:117.3433'\n",
      "Tested (test) on 2320 instances with mean losses of: knn_tta_n=100:114.5993,knn_ttm_n=100:154.5983,knn_tta_r_n=100:111.3654,knn_ttm_r_n=100:114.3048,knn_tta_n=500:117.636,knn_ttm_n=500:136.4578,knn_tta_r_n=500:121.3237,knn_ttm_r_n=500:120.2911,knn_tta_n=1000:117.6474,knn_ttm_n=1000:133.1757,knn_tta_r_n=1000:121.8775,knn_ttm_r_n=1000:121.9203'\n",
      "-----------------------------------Fold 1 - Train 6958 - Val 2319 - Test 2319-----------------------------------'\n",
      "Finished training Boosted Models with a train loss of knn_tta_n=100:88.3961,knn_ttm_n=100:99.7089,knn_tta_r_n=100:92.086,knn_ttm_r_n=100:92.8814,knn_tta_n=500:100.0797,knn_ttm_n=500:115.6834,knn_tta_r_n=500:103.6365,knn_ttm_r_n=500:102.6157,knn_tta_n=1000:101.4196,knn_ttm_n=1000:116.9577,knn_tta_r_n=1000:105.314,knn_ttm_r_n=1000:104.46'\n",
      "Tested (test) on 2319 instances with mean losses of: knn_tta_n=100:140.7908,knn_ttm_n=100:168.9798,knn_tta_r_n=100:143.4508,knn_ttm_r_n=100:149.0845,knn_tta_n=500:139.9162,knn_ttm_n=500:151.9306,knn_tta_r_n=500:147.8647,knn_ttm_r_n=500:148.246,knn_tta_n=1000:140.0669,knn_ttm_n=1000:150.9333,knn_tta_r_n=1000:148.7542,knn_ttm_r_n=1000:149.0577'\n",
      "-----------------------------------Fold 2 - Train 6958 - Val 2319 - Test 2319-----------------------------------'\n",
      "Finished training Boosted Models with a train loss of knn_tta_n=100:86.7591,knn_ttm_n=100:94.2239,knn_tta_r_n=100:92.7952,knn_ttm_r_n=100:93.7683,knn_tta_n=500:99.9378,knn_ttm_n=500:109.4607,knn_tta_r_n=500:107.4299,knn_ttm_r_n=500:107.2881,knn_tta_n=1000:102.1808,knn_ttm_n=1000:111.9458,knn_tta_r_n=1000:109.1686,knn_ttm_r_n=1000:109.5305'\n",
      "Tested (test) on 2319 instances with mean losses of: knn_tta_n=100:134.4119,knn_ttm_n=100:183.0812,knn_tta_r_n=100:111.5542,knn_ttm_r_n=100:107.9724,knn_tta_n=500:114.1099,knn_ttm_n=500:149.6077,knn_tta_r_n=500:105.6617,knn_ttm_r_n=500:105.3433,knn_tta_n=1000:112.1785,knn_ttm_n=1000:144.9802,knn_tta_r_n=1000:105.5524,knn_ttm_r_n=1000:105.1222'\n",
      "-----------------------------------Fold 3 - Train 6958 - Val 2319 - Test 2319-----------------------------------'\n",
      "Finished training Boosted Models with a train loss of knn_tta_n=100:94.7859,knn_ttm_n=100:114.8047,knn_tta_r_n=100:101.11,knn_ttm_r_n=100:102.8826,knn_tta_n=500:109.8455,knn_ttm_n=500:134.0895,knn_tta_r_n=500:119.882,knn_ttm_r_n=500:119.8784,knn_tta_n=1000:112.3582,knn_ttm_n=1000:136.2794,knn_tta_r_n=1000:121.9291,knn_ttm_r_n=1000:122.7434'\n",
      "Tested (test) on 2319 instances with mean losses of: knn_tta_n=100:117.7996,knn_ttm_n=100:155.8014,knn_tta_r_n=100:104.7048,knn_ttm_r_n=100:105.1914,knn_tta_n=500:103.7243,knn_ttm_n=500:137.0381,knn_tta_r_n=500:101.776,knn_ttm_r_n=500:101.7676,knn_tta_n=1000:103.2406,knn_ttm_n=1000:131.9828,knn_tta_r_n=1000:102.3353,knn_ttm_r_n=1000:102.2222'\n",
      "-----------------------------------Fold 4 - Train 6958 - Val 2319 - Test 2319-----------------------------------'\n",
      "Finished training Boosted Models with a train loss of knn_tta_n=100:102.3205,knn_ttm_n=100:138.1942,knn_tta_r_n=100:106.9575,knn_ttm_r_n=100:109.5602,knn_tta_n=500:115.8401,knn_ttm_n=500:151.612,knn_tta_r_n=500:121.8711,knn_ttm_r_n=500:121.826,knn_tta_n=1000:118.3226,knn_ttm_n=1000:151.7327,knn_tta_r_n=1000:123.5672,knn_ttm_r_n=1000:124.2296'\n",
      "Tested (test) on 2319 instances with mean losses of: knn_tta_n=100:105.4398,knn_ttm_n=100:161.4546,knn_tta_r_n=100:103.6128,knn_ttm_r_n=100:110.0976,knn_tta_n=500:101.5804,knn_ttm_n=500:139.7545,knn_tta_r_n=500:112.1547,knn_ttm_r_n=500:113.8651,knn_tta_n=1000:101.1908,knn_ttm_n=1000:133.3898,knn_tta_r_n=1000:112.4938,knn_ttm_r_n=1000:114.687'\n",
      "Building final model - Train 9276 - Test 2320'\n",
      "Finished training Boosted Models with a train loss of knn_tta_n=100:95.8108,knn_ttm_n=100:119.3817,knn_tta_r_n=100:100.1039,knn_ttm_r_n=100:101.9094,knn_tta_n=500:109.4748,knn_ttm_n=500:138.4599,knn_tta_r_n=500:116.4917,knn_ttm_r_n=500:116.0549,knn_tta_n=1000:111.9205,knn_ttm_n=1000:140.0643,knn_tta_r_n=1000:118.8349,knn_ttm_r_n=1000:118.668'\n",
      "Tested (test) on 2320 instances with mean losses of: knn_tta_n=100:130.3094,knn_ttm_n=100:177.2313,knn_tta_r_n=100:113.7776,knn_ttm_r_n=100:117.0923,knn_tta_n=500:123.7808,knn_ttm_n=500:171.8677,knn_tta_r_n=500:121.0068,knn_ttm_r_n=500:119.9202,knn_tta_n=1000:123.2087,knn_ttm_n=1000:167.9792,knn_tta_r_n=1000:122.0103,knn_ttm_r_n=1000:121.252'\n"
     ]
    },
    {
     "name": "stderr",
     "output_type": "stream",
     "text": [
      "C:\\Users\\huonf\\.conda\\envs\\lazydeep\\lib\\site-packages\\scipy\\stats\\_stats_py.py:4068: PearsonRConstantInputWarning: An input array is constant; the correlation coefficient is not defined.\n",
      "  warnings.warn(PearsonRConstantInputWarning())\n"
     ]
    },
    {
     "name": "stdout",
     "output_type": "stream",
     "text": [
      "Running model random_90'\n",
      "Running Cross Evaluation with 5 folds'\n",
      "-----------------------------------Fold 0 - Train 6956 - Val 2320 - Test 2320-----------------------------------'\n",
      "Finished training Boosted Models with a train loss of knn_tta_n=100:112.0989,knn_ttm_n=100:167.1848,knn_tta_r_n=100:113.8101,knn_ttm_r_n=100:132.5841,knn_tta_n=500:119.7984,knn_ttm_n=500:184.343,knn_tta_r_n=500:121.7266,knn_ttm_r_n=500:155.4766,knn_tta_n=1000:121.7016,knn_ttm_n=1000:186.399,knn_tta_r_n=1000:124.5531,knn_ttm_r_n=1000:170.4451'\n",
      "Tested (test) on 2320 instances with mean losses of: knn_tta_n=100:116.1621,knn_ttm_n=100:168.8462,knn_tta_r_n=100:112.5298,knn_ttm_r_n=100:116.6317,knn_tta_n=500:107.9688,knn_ttm_n=500:147.2693,knn_tta_r_n=500:112.4107,knn_ttm_r_n=500:115.3524,knn_tta_n=1000:108.9035,knn_ttm_n=1000:144.5512,knn_tta_r_n=1000:113.1841,knn_ttm_r_n=1000:115.7847'\n",
      "-----------------------------------Fold 1 - Train 6958 - Val 2319 - Test 2319-----------------------------------'\n",
      "Finished training Boosted Models with a train loss of knn_tta_n=100:93.6293,knn_ttm_n=100:123.8413,knn_tta_r_n=100:97.8698,knn_ttm_r_n=100:117.0475,knn_tta_n=500:103.0602,knn_ttm_n=500:143.9896,knn_tta_r_n=500:106.4402,knn_ttm_r_n=500:143.5049,knn_tta_n=1000:105.8823,knn_ttm_n=1000:146.2396,knn_tta_r_n=1000:110.0005,knn_ttm_r_n=1000:160.1618'\n",
      "Tested (test) on 2319 instances with mean losses of: knn_tta_n=100:166.5933,knn_ttm_n=100:201.3237,knn_tta_r_n=100:163.1218,knn_ttm_r_n=100:165.9064,knn_tta_n=500:153.8918,knn_ttm_n=500:185.3616,knn_tta_r_n=500:164.4774,knn_ttm_r_n=500:175.0615,knn_tta_n=1000:153.9814,knn_ttm_n=1000:183.9217,knn_tta_r_n=1000:164.2513,knn_ttm_r_n=1000:173.8493'\n",
      "-----------------------------------Fold 2 - Train 6958 - Val 2319 - Test 2319-----------------------------------'\n",
      "Finished training Boosted Models with a train loss of knn_tta_n=100:91.1172,knn_ttm_n=100:117.2799,knn_tta_r_n=100:96.7008,knn_ttm_r_n=100:98.4205,knn_tta_n=500:100.7814,knn_ttm_n=500:134.8125,knn_tta_r_n=500:106.1338,knn_ttm_r_n=500:107.9289,knn_tta_n=1000:103.0976,knn_ttm_n=1000:137.465,knn_tta_r_n=1000:107.5038,knn_ttm_r_n=1000:109.5882'\n",
      "Tested (test) on 2319 instances with mean losses of: knn_tta_n=100:497.1064,knn_ttm_n=100:738.5028,knn_tta_r_n=100:170.2312,knn_ttm_r_n=100:155.8185,knn_tta_n=500:820.5567,knn_ttm_n=500:1162.0833,knn_tta_r_n=500:304.309,knn_ttm_r_n=500:197.8805,knn_tta_n=1000:831.7935,knn_ttm_n=1000:1255.4441,knn_tta_r_n=1000:334.0708,knn_ttm_r_n=1000:235.9532'\n",
      "-----------------------------------Fold 3 - Train 6958 - Val 2319 - Test 2319-----------------------------------'\n",
      "Finished training Boosted Models with a train loss of knn_tta_n=100:98.4105,knn_ttm_n=100:134.4583,knn_tta_r_n=100:101.9911,knn_ttm_r_n=100:101.2224,knn_tta_n=500:106.1893,knn_ttm_n=500:148.2688,knn_tta_r_n=500:113.3098,knn_ttm_r_n=500:112.9532,knn_tta_n=1000:108.0961,knn_ttm_n=1000:150.1122,knn_tta_r_n=1000:115.4135,knn_ttm_r_n=1000:114.9223'\n",
      "Tested (test) on 2319 instances with mean losses of: knn_tta_n=100:155.6188,knn_ttm_n=100:197.8896,knn_tta_r_n=100:137.2487,knn_ttm_r_n=100:123.3506,knn_tta_n=500:168.9787,knn_ttm_n=500:223.0053,knn_tta_r_n=500:148.8822,knn_ttm_r_n=500:144.2588,knn_tta_n=1000:161.9311,knn_ttm_n=1000:222.6102,knn_tta_r_n=1000:136.438,knn_ttm_r_n=1000:141.3777'\n",
      "-----------------------------------Fold 4 - Train 6958 - Val 2319 - Test 2319-----------------------------------'\n",
      "Finished training Boosted Models with a train loss of knn_tta_n=100:112.1341,knn_ttm_n=100:163.4155,knn_tta_r_n=100:114.1764,knn_ttm_r_n=100:131.3749,knn_tta_n=500:119.3693,knn_ttm_n=500:181.2722,knn_tta_r_n=500:121.8167,knn_ttm_r_n=500:183.4147,knn_tta_n=1000:121.327,knn_ttm_n=1000:182.3725,knn_tta_r_n=1000:124.5209,knn_ttm_r_n=1000:199.9486'\n",
      "Tested (test) on 2319 instances with mean losses of: knn_tta_n=100:153.224,knn_ttm_n=100:682.6824,knn_tta_r_n=100:166.4439,knn_ttm_r_n=100:117.3085,knn_tta_n=500:101.5038,knn_ttm_n=500:156.5902,knn_tta_r_n=500:109.8806,knn_ttm_r_n=500:114.7837,knn_tta_n=1000:102.09,knn_ttm_n=1000:155.5973,knn_tta_r_n=1000:110.818,knn_ttm_r_n=1000:115.1279'\n",
      "Building final model - Train 9276 - Test 2320'\n",
      "Finished training Boosted Models with a train loss of knn_tta_n=100:104.8226,knn_ttm_n=100:144.0515,knn_tta_r_n=100:107.108,knn_ttm_r_n=100:134.5063,knn_tta_n=500:112.5882,knn_ttm_n=500:163.1783,knn_tta_r_n=500:116.621,knn_ttm_r_n=500:174.3861,knn_tta_n=1000:114.3011,knn_ttm_n=1000:164.0838,knn_tta_r_n=1000:119.1652,knn_ttm_r_n=1000:187.0896'\n",
      "Tested (test) on 2320 instances with mean losses of: knn_tta_n=100:147.8472,knn_ttm_n=100:248.0846,knn_tta_r_n=100:121.9632,knn_ttm_r_n=100:114.468,knn_tta_n=500:134.7745,knn_ttm_n=500:233.2408,knn_tta_r_n=500:122.1058,knn_ttm_r_n=500:118.5286,knn_tta_n=1000:133.2664,knn_ttm_n=1000:223.8161,knn_tta_r_n=1000:122.6355,knn_ttm_r_n=1000:119.0227'\n"
     ]
    },
    {
     "name": "stderr",
     "output_type": "stream",
     "text": [
      "C:\\Users\\huonf\\.conda\\envs\\lazydeep\\lib\\site-packages\\scipy\\stats\\_stats_py.py:4068: PearsonRConstantInputWarning: An input array is constant; the correlation coefficient is not defined.\n",
      "  warnings.warn(PearsonRConstantInputWarning())\n"
     ]
    },
    {
     "name": "stdout",
     "output_type": "stream",
     "text": [
      "Running model random_94'\n",
      "Running Cross Evaluation with 5 folds'\n",
      "-----------------------------------Fold 0 - Train 6956 - Val 2320 - Test 2320-----------------------------------'\n",
      "Finished training Boosted Models with a train loss of knn_tta_n=100:73.101,knn_ttm_n=100:90.2199,knn_tta_r_n=100:85.3012,knn_ttm_r_n=100:87.6704,knn_tta_n=500:106.1763,knn_ttm_n=500:153.263,knn_tta_r_n=500:110.6997,knn_ttm_r_n=500:110.4161,knn_tta_n=1000:111.6671,knn_ttm_n=1000:159.5942,knn_tta_r_n=1000:114.2201,knn_ttm_r_n=1000:114.5831'\n",
      "Tested (test) on 2320 instances with mean losses of: knn_tta_n=100:140.3358,knn_ttm_n=100:245.5508,knn_tta_r_n=100:113.3153,knn_ttm_r_n=100:127.8996,knn_tta_n=500:102.0318,knn_ttm_n=500:170.2612,knn_tta_r_n=500:103.2922,knn_ttm_r_n=500:108.3821,knn_tta_n=1000:99.8749,knn_ttm_n=1000:156.2381,knn_tta_r_n=1000:104.3721,knn_ttm_r_n=1000:108.5214'\n",
      "-----------------------------------Fold 1 - Train 6958 - Val 2319 - Test 2319-----------------------------------'\n",
      "Finished training Boosted Models with a train loss of knn_tta_n=100:56.4588,knn_ttm_n=100:69.6334,knn_tta_r_n=100:66.0836,knn_ttm_r_n=100:68.3191,knn_tta_n=500:86.7612,knn_ttm_n=500:114.9723,knn_tta_r_n=500:93.2075,knn_ttm_r_n=500:91.2431,knn_tta_n=1000:93.0018,knn_ttm_n=1000:126.3408,knn_tta_r_n=1000:97.6983,knn_ttm_r_n=1000:97.5308'\n",
      "Tested (test) on 2319 instances with mean losses of: knn_tta_n=100:316.9813,knn_ttm_n=100:511.867,knn_tta_r_n=100:189.1495,knn_ttm_r_n=100:191.9514,knn_tta_n=500:169.4735,knn_ttm_n=500:285.7353,knn_tta_r_n=500:163.1279,knn_ttm_r_n=500:166.8291,knn_tta_n=1000:160.056,knn_ttm_n=1000:227.5763,knn_tta_r_n=1000:158.6794,knn_ttm_r_n=1000:163.6037'\n",
      "-----------------------------------Fold 2 - Train 6958 - Val 2319 - Test 2319-----------------------------------'\n",
      "Finished training Boosted Models with a train loss of knn_tta_n=100:52.0742,knn_ttm_n=100:61.4021,knn_tta_r_n=100:62.2543,knn_ttm_r_n=100:63.4822,knn_tta_n=500:82.2574,knn_ttm_n=500:103.3964,knn_tta_r_n=500:89.2848,knn_ttm_r_n=500:88.2542,knn_tta_n=1000:88.1959,knn_ttm_n=1000:113.8874,knn_tta_r_n=1000:93.7769,knn_ttm_r_n=1000:94.15'\n",
      "Tested (test) on 2319 instances with mean losses of: knn_tta_n=100:435.9107,knn_ttm_n=100:2332.4134,knn_tta_r_n=100:572.065,knn_ttm_r_n=100:4912.5216,knn_tta_n=500:131.4073,knn_ttm_n=500:271.3165,knn_tta_r_n=500:117.3237,knn_ttm_r_n=500:129.0378,knn_tta_n=1000:119.8324,knn_ttm_n=1000:151.06,knn_tta_r_n=1000:111.3093,knn_ttm_r_n=1000:106.0922'\n",
      "-----------------------------------Fold 3 - Train 6958 - Val 2319 - Test 2319-----------------------------------'\n",
      "Finished training Boosted Models with a train loss of knn_tta_n=100:66.8782,knn_ttm_n=100:103.0623,knn_tta_r_n=100:75.0944,knn_ttm_r_n=100:76.737,knn_tta_n=500:94.9346,knn_ttm_n=500:144.1566,knn_tta_r_n=500:98.7394,knn_ttm_r_n=500:98.2318,knn_tta_n=1000:101.2617,knn_ttm_n=1000:151.5647,knn_tta_r_n=1000:102.4182,knn_ttm_r_n=1000:102.7775'\n",
      "Tested (test) on 2319 instances with mean losses of: knn_tta_n=100:191.5529,knn_ttm_n=100:298.7905,knn_tta_r_n=100:131.9459,knn_ttm_r_n=100:137.3396,knn_tta_n=500:149.7812,knn_ttm_n=500:239.9746,knn_tta_r_n=500:120.4591,knn_ttm_r_n=500:113.5575,knn_tta_n=1000:148.0057,knn_ttm_n=1000:239.2211,knn_tta_r_n=1000:120.8512,knn_ttm_r_n=1000:113.9499'\n",
      "-----------------------------------Fold 4 - Train 6958 - Val 2319 - Test 2319-----------------------------------'\n",
      "Finished training Boosted Models with a train loss of knn_tta_n=100:72.0427,knn_ttm_n=100:108.4639,knn_tta_r_n=100:81.3367,knn_ttm_r_n=100:83.8616,knn_tta_n=500:101.469,knn_ttm_n=500:150.0998,knn_tta_r_n=500:107.4665,knn_ttm_r_n=500:106.2307,knn_tta_n=1000:108.3644,knn_ttm_n=1000:157.7515,knn_tta_r_n=1000:111.8229,knn_ttm_r_n=1000:111.9893'\n",
      "Tested (test) on 2319 instances with mean losses of: knn_tta_n=100:725.5197,knn_ttm_n=100:440.3294,knn_tta_r_n=100:251.4195,knn_ttm_r_n=100:226.9819,knn_tta_n=500:107.8397,knn_ttm_n=500:185.5012,knn_tta_r_n=500:107.1788,knn_ttm_r_n=500:104.0736,knn_tta_n=1000:102.351,knn_ttm_n=1000:172.7142,knn_tta_r_n=1000:106.9476,knn_ttm_r_n=1000:110.1741'\n",
      "Building final model - Train 9276 - Test 2320'\n",
      "Finished training Boosted Models with a train loss of knn_tta_n=100:67.7756,knn_ttm_n=100:99.503,knn_tta_r_n=100:75.8959,knn_ttm_r_n=100:76.709,knn_tta_n=500:96.4637,knn_ttm_n=500:146.6672,knn_tta_r_n=500:101.4401,knn_ttm_r_n=500:99.1978,knn_tta_n=1000:102.1442,knn_ttm_n=1000:152.7615,knn_tta_r_n=1000:106.4987,knn_ttm_r_n=1000:104.6807'\n",
      "Tested (test) on 2320 instances with mean losses of: knn_tta_n=100:24306.6215,knn_ttm_n=100:44451.6331,knn_tta_r_n=100:2435.289,knn_ttm_r_n=100:3850.437,knn_tta_n=500:122.6007,knn_ttm_n=500:187.3806,knn_tta_r_n=500:104.2502,knn_ttm_r_n=500:96.423,knn_tta_n=1000:131.5413,knn_ttm_n=1000:208.6069,knn_tta_r_n=1000:116.4951,knn_ttm_r_n=1000:99.7103'\n"
     ]
    },
    {
     "name": "stderr",
     "output_type": "stream",
     "text": [
      "C:\\Users\\huonf\\.conda\\envs\\lazydeep\\lib\\site-packages\\scipy\\stats\\_stats_py.py:4068: PearsonRConstantInputWarning: An input array is constant; the correlation coefficient is not defined.\n",
      "  warnings.warn(PearsonRConstantInputWarning())\n"
     ]
    },
    {
     "name": "stdout",
     "output_type": "stream",
     "text": [
      "Running model random_97'\n",
      "Running Cross Evaluation with 5 folds'\n",
      "-----------------------------------Fold 0 - Train 6956 - Val 2320 - Test 2320-----------------------------------'\n",
      "Finished training Boosted Models with a train loss of knn_tta_n=100:141.3343,knn_ttm_n=100:203.1146,knn_tta_r_n=100:145.5976,knn_ttm_r_n=100:159.7614,knn_tta_n=500:144.7904,knn_ttm_n=500:195.797,knn_tta_r_n=500:152.0689,knn_ttm_r_n=500:160.3775,knn_tta_n=1000:145.9548,knn_ttm_n=1000:193.3864,knn_tta_r_n=1000:153.0754,knn_ttm_r_n=1000:160.1758'\n",
      "Tested (test) on 2320 instances with mean losses of: knn_tta_n=100:123.241,knn_ttm_n=100:163.5914,knn_tta_r_n=100:126.9043,knn_ttm_r_n=100:131.9447,knn_tta_n=500:123.0328,knn_ttm_n=500:157.7752,knn_tta_r_n=500:128.3642,knn_ttm_r_n=500:130.901,knn_tta_n=1000:122.8454,knn_ttm_n=1000:156.6625,knn_tta_r_n=1000:128.9019,knn_ttm_r_n=1000:131.108'\n",
      "-----------------------------------Fold 1 - Train 6958 - Val 2319 - Test 2319-----------------------------------'\n",
      "Finished training Boosted Models with a train loss of knn_tta_n=100:159.838,knn_ttm_n=100:165.2264,knn_tta_r_n=100:131.1452,knn_ttm_r_n=100:152.6779,knn_tta_n=500:141.1311,knn_ttm_n=500:161.6903,knn_tta_r_n=500:137.3387,knn_ttm_r_n=500:148.6139,knn_tta_n=1000:142.2927,knn_ttm_n=1000:161.2687,knn_tta_r_n=1000:138.4839,knn_ttm_r_n=1000:147.3462'\n",
      "Tested (test) on 2319 instances with mean losses of: knn_tta_n=100:211.6612,knn_ttm_n=100:197.1905,knn_tta_r_n=100:180.3897,knn_ttm_r_n=100:184.8274,knn_tta_n=500:186.1001,knn_ttm_n=500:193.7598,knn_tta_r_n=500:180.2115,knn_ttm_r_n=500:183.8725,knn_tta_n=1000:181.7755,knn_ttm_n=1000:193.3675,knn_tta_r_n=1000:180.6799,knn_ttm_r_n=1000:184.0103'\n",
      "-----------------------------------Fold 2 - Train 6958 - Val 2319 - Test 2319-----------------------------------'\n",
      "Finished training Boosted Models with a train loss of knn_tta_n=100:163.3551,knn_ttm_n=100:150.9025,knn_tta_r_n=100:118.5094,knn_ttm_r_n=100:123.3846,knn_tta_n=500:126.8903,knn_ttm_n=500:153.873,knn_tta_r_n=500:122.4102,knn_ttm_r_n=500:125.0394,knn_tta_n=1000:125.7757,knn_ttm_n=1000:154.5718,knn_tta_r_n=1000:123.5337,knn_ttm_r_n=1000:125.7673'\n",
      "Tested (test) on 2319 instances with mean losses of: knn_tta_n=100:445.8256,knn_ttm_n=100:576.3642,knn_tta_r_n=100:245.2551,knn_ttm_r_n=100:218.26,knn_tta_n=500:325.6014,knn_ttm_n=500:501.7719,knn_tta_r_n=500:205.8391,knn_ttm_r_n=500:202.1441,knn_tta_n=1000:305.9349,knn_ttm_n=1000:482.7354,knn_tta_r_n=1000:198.466,knn_ttm_r_n=1000:197.1803'\n",
      "-----------------------------------Fold 3 - Train 6958 - Val 2319 - Test 2319-----------------------------------'\n",
      "Finished training Boosted Models with a train loss of knn_tta_n=100:169.3907,knn_ttm_n=100:162.1466,knn_tta_r_n=100:124.991,knn_ttm_r_n=100:129.7577,knn_tta_n=500:134.0941,knn_ttm_n=500:168.2216,knn_tta_r_n=500:135.1269,knn_ttm_r_n=500:136.8426,knn_tta_n=1000:133.6035,knn_ttm_n=1000:169.7945,knn_tta_r_n=1000:137.5065,knn_ttm_r_n=1000:139.0642'\n",
      "Tested (test) on 2319 instances with mean losses of: knn_tta_n=100:216.1794,knn_ttm_n=100:231.4558,knn_tta_r_n=100:133.2867,knn_ttm_r_n=100:130.4784,knn_tta_n=500:151.1408,knn_ttm_n=500:222.7453,knn_tta_r_n=500:121.1148,knn_ttm_r_n=500:121.7974,knn_tta_n=1000:144.2688,knn_ttm_n=1000:219.4578,knn_tta_r_n=1000:119.885,knn_ttm_r_n=1000:120.4476'\n",
      "-----------------------------------Fold 4 - Train 6958 - Val 2319 - Test 2319-----------------------------------'\n",
      "Finished training Boosted Models with a train loss of knn_tta_n=100:151.5944,knn_ttm_n=100:209.7181,knn_tta_r_n=100:146.4655,knn_ttm_r_n=100:158.6087,knn_tta_n=500:153.0946,knn_ttm_n=500:199.6615,knn_tta_r_n=500:154.2413,knn_ttm_r_n=500:163.6874,knn_tta_n=1000:148.1272,knn_ttm_n=1000:198.8661,knn_tta_r_n=1000:155.9194,knn_ttm_r_n=1000:163.7299'\n",
      "Tested (test) on 2319 instances with mean losses of: knn_tta_n=100:123.4769,knn_ttm_n=100:177.8624,knn_tta_r_n=100:119.0199,knn_ttm_r_n=100:127.6638,knn_tta_n=500:127.7242,knn_ttm_n=500:178.2619,knn_tta_r_n=500:126.4905,knn_ttm_r_n=500:129.9831,knn_tta_n=1000:136.0466,knn_ttm_n=1000:179.9005,knn_tta_r_n=1000:128.74,knn_ttm_r_n=1000:130.729'\n",
      "Building final model - Train 9276 - Test 2320'\n",
      "Finished training Boosted Models with a train loss of knn_tta_n=100:170.325,knn_ttm_n=100:185.1409,knn_tta_r_n=100:139.5512,knn_ttm_r_n=100:150.7385,knn_tta_n=500:144.9804,knn_ttm_n=500:184.9719,knn_tta_r_n=500:147.822,knn_ttm_r_n=500:155.607,knn_tta_n=1000:148.2716,knn_ttm_n=1000:185.0628,knn_tta_r_n=1000:149.6722,knn_ttm_r_n=1000:155.8879'\n",
      "Tested (test) on 2320 instances with mean losses of: knn_tta_n=100:172.0942,knn_ttm_n=100:212.5645,knn_tta_r_n=100:123.6166,knn_ttm_r_n=100:125.8164,knn_tta_n=500:139.4679,knn_ttm_n=500:207.1025,knn_tta_r_n=500:125.6324,knn_ttm_r_n=500:126.0111,knn_tta_n=1000:136.8909,knn_ttm_n=1000:205.3969,knn_tta_r_n=1000:125.9703,knn_ttm_r_n=1000:126.2547'\n"
     ]
    },
    {
     "name": "stderr",
     "output_type": "stream",
     "text": [
      "C:\\Users\\huonf\\.conda\\envs\\lazydeep\\lib\\site-packages\\scipy\\stats\\_stats_py.py:4068: PearsonRConstantInputWarning: An input array is constant; the correlation coefficient is not defined.\n",
      "  warnings.warn(PearsonRConstantInputWarning())\n"
     ]
    },
    {
     "name": "stdout",
     "output_type": "stream",
     "text": [
      "Running model random_98'\n",
      "Running Cross Evaluation with 5 folds'\n",
      "-----------------------------------Fold 0 - Train 6956 - Val 2320 - Test 2320-----------------------------------'\n",
      "Finished training Boosted Models with a train loss of knn_tta_n=100:51.4959,knn_ttm_n=100:61.0435,knn_tta_r_n=100:70.4247,knn_ttm_r_n=100:77.794,knn_tta_n=500:93.3184,knn_ttm_n=500:123.2609,knn_tta_r_n=500:103.6175,knn_ttm_r_n=500:101.0621,knn_tta_n=1000:101.4186,knn_ttm_n=1000:136.2381,knn_tta_r_n=1000:109.3827,knn_ttm_r_n=1000:107.0269'\n",
      "Tested (test) on 2320 instances with mean losses of: knn_tta_n=100:263.3722,knn_ttm_n=100:446.6231,knn_tta_r_n=100:155.9245,knn_ttm_r_n=100:158.2038,knn_tta_n=500:126.1444,knn_ttm_n=500:202.1529,knn_tta_r_n=500:120.3755,knn_ttm_r_n=500:123.6243,knn_tta_n=1000:118.9484,knn_ttm_n=1000:190.6285,knn_tta_r_n=1000:118.5571,knn_ttm_r_n=1000:118.4903'\n",
      "-----------------------------------Fold 1 - Train 6958 - Val 2319 - Test 2319-----------------------------------'\n",
      "Finished training Boosted Models with a train loss of knn_tta_n=100:44.4097,knn_ttm_n=100:47.9075,knn_tta_r_n=100:56.3252,knn_ttm_r_n=100:61.2763,knn_tta_n=500:78.7198,knn_ttm_n=500:99.2736,knn_tta_r_n=500:88.0863,knn_ttm_r_n=500:85.6869,knn_tta_n=1000:85.0087,knn_ttm_n=1000:108.9144,knn_tta_r_n=1000:94.0068,knn_ttm_r_n=1000:92.2923'\n",
      "Tested (test) on 2319 instances with mean losses of: knn_tta_n=100:755.9656,knn_ttm_n=100:1024.4812,knn_tta_r_n=100:406360.5757,knn_ttm_r_n=100:401.5263,knn_tta_n=500:173.0068,knn_ttm_n=500:238.6336,knn_tta_r_n=500:157.7154,knn_ttm_r_n=500:163.1912,knn_tta_n=1000:163.7054,knn_ttm_n=1000:224.5104,knn_tta_r_n=1000:153.6422,knn_ttm_r_n=1000:157.7483'\n",
      "-----------------------------------Fold 2 - Train 6958 - Val 2319 - Test 2319-----------------------------------'\n",
      "Finished training Boosted Models with a train loss of knn_tta_n=100:44.1937,knn_ttm_n=100:49.1813,knn_tta_r_n=100:55.2799,knn_ttm_r_n=100:56.4447,knn_tta_n=500:77.2939,knn_ttm_n=500:96.9895,knn_tta_r_n=500:86.4689,knn_ttm_r_n=500:86.3067,knn_tta_n=1000:84.7715,knn_ttm_n=1000:109.0161,knn_tta_r_n=1000:93.3492,knn_ttm_r_n=1000:93.6653'\n",
      "Tested (test) on 2319 instances with mean losses of: knn_tta_n=100:215.8032,knn_ttm_n=100:499.9794,knn_tta_r_n=100:153.0135,knn_ttm_r_n=100:269.4486,knn_tta_n=500:134.5944,knn_ttm_n=500:193.0335,knn_tta_r_n=500:112.657,knn_ttm_r_n=500:109.5581,knn_tta_n=1000:127.3569,knn_ttm_n=1000:188.8711,knn_tta_r_n=1000:108.4874,knn_ttm_r_n=1000:107.403'\n",
      "-----------------------------------Fold 3 - Train 6958 - Val 2319 - Test 2319-----------------------------------'\n",
      "Finished training Boosted Models with a train loss of knn_tta_n=100:49.2284,knn_ttm_n=100:56.9275,knn_tta_r_n=100:61.7086,knn_ttm_r_n=100:61.3797,knn_tta_n=500:85.1717,knn_ttm_n=500:123.5576,knn_tta_r_n=500:93.9159,knn_ttm_r_n=500:89.7991,knn_tta_n=1000:94.0929,knn_ttm_n=1000:136.0353,knn_tta_r_n=1000:102.5267,knn_ttm_r_n=1000:97.7854'\n",
      "Tested (test) on 2319 instances with mean losses of: knn_tta_n=100:295.2148,knn_ttm_n=100:438.4032,knn_tta_r_n=100:165.9799,knn_ttm_r_n=100:160.1444,knn_tta_n=500:149.7618,knn_ttm_n=500:219.5819,knn_tta_r_n=500:119.5542,knn_ttm_r_n=500:130.7934,knn_tta_n=1000:134.2905,knn_ttm_n=1000:195.0185,knn_tta_r_n=1000:109.5419,knn_ttm_r_n=1000:117.4095'\n",
      "-----------------------------------Fold 4 - Train 6958 - Val 2319 - Test 2319-----------------------------------'\n",
      "Finished training Boosted Models with a train loss of knn_tta_n=100:53.8989,knn_ttm_n=100:67.3951,knn_tta_r_n=100:68.56,knn_ttm_r_n=100:70.1447,knn_tta_n=500:94.034,knn_ttm_n=500:132.5884,knn_tta_r_n=500:101.6853,knn_ttm_r_n=500:99.0827,knn_tta_n=1000:101.5857,knn_ttm_n=1000:147.4248,knn_tta_r_n=1000:109.2083,knn_ttm_r_n=1000:106.9457'\n",
      "Tested (test) on 2319 instances with mean losses of: knn_tta_n=100:298.4022,knn_ttm_n=100:427.7622,knn_tta_r_n=100:146.6166,knn_ttm_r_n=100:164.0685,knn_tta_n=500:107.4543,knn_ttm_n=500:180.7949,knn_tta_r_n=500:102.5321,knn_ttm_r_n=500:107.1875,knn_tta_n=1000:102.0197,knn_ttm_n=1000:183.5599,knn_tta_r_n=1000:105.0382,knn_ttm_r_n=1000:105.1182'\n",
      "Building final model - Train 9276 - Test 2320'\n",
      "Finished training Boosted Models with a train loss of knn_tta_n=100:50.6458,knn_ttm_n=100:63.2139,knn_tta_r_n=100:64.9147,knn_ttm_r_n=100:68.6318,knn_tta_n=500:88.4498,knn_ttm_n=500:123.6244,knn_tta_r_n=500:96.3012,knn_ttm_r_n=500:92.6091,knn_tta_n=1000:96.531,knn_ttm_n=1000:138.0297,knn_tta_r_n=1000:102.8437,knn_ttm_r_n=1000:100.1753'\n",
      "Tested (test) on 2320 instances with mean losses of: knn_tta_n=100:317.7683,knn_ttm_n=100:589.674,knn_tta_r_n=100:145.3456,knn_ttm_r_n=100:153.8567,knn_tta_n=500:162.3851,knn_ttm_n=500:301.3513,knn_tta_r_n=500:115.457,knn_ttm_r_n=500:111.6291,knn_tta_n=1000:139.7527,knn_ttm_n=1000:258.0,knn_tta_r_n=1000:116.8702,knn_ttm_r_n=1000:109.5621'\n"
     ]
    },
    {
     "name": "stderr",
     "output_type": "stream",
     "text": [
      "C:\\Users\\huonf\\.conda\\envs\\lazydeep\\lib\\site-packages\\scipy\\stats\\_stats_py.py:4068: PearsonRConstantInputWarning: An input array is constant; the correlation coefficient is not defined.\n",
      "  warnings.warn(PearsonRConstantInputWarning())\n"
     ]
    }
   ],
   "source": [
    "def build_predictors(n,deep):\n",
    "    predictors = {}\n",
    "    for i in [100,500,1000]:\n",
    "        if i* 2 < n:\n",
    "            #predictors[f'knn_uu_n={i}'] = LWRBoost(deep,n_neighbors=i, weights='uniform',errors='uniform',convolution='additive',reverse=True)\n",
    "            #predictors[f'knn_ut_n={i}'] = LWRBoost(deep,n_neighbors=i, weights='uniform',errors='triangle',convolution='additive',reverse=True)\n",
    "            #predictors[f'knn_tu_n={i}'] = LWRBoost(deep,n_neighbors=i, weights='triangle',errors='uniform',convolution='additive',reverse=True)\n",
    "            predictors[f'knn_tta_n={i}'] = LWRBoost(deep,n_neighbors=i, weights='triangle',errors='triangle',convolution='additive',reverse=True)\n",
    "            predictors[f'knn_ttm_n={i}'] = LWRBoost(deep,n_neighbors=i, weights='triangle',errors='triangle',convolution='multiplicative',reverse=True)\n",
    "            predictors[f'knn_tta_r_n={i}'] = LWRBoost(deep,n_neighbors=i, weights='triangle',errors='triangle',convolution='additive',reverse=False)\n",
    "            predictors[f'knn_ttm_r_n={i}'] = LWRBoost(deep,n_neighbors=i, weights='triangle',errors='triangle',convolution='multiplicative',reverse=False)\n",
    "\n",
    "    return predictors\n",
    "\n",
    "models = {k:v for k,v in models.items() if k in best_n}\n",
    "for deep_name,deep_model in tqdm(models.items()):\n",
    "    if int(deep_name.replace(\"random_\",\"\")) >40 :\n",
    "        logging.getLogger().info(f\"Running model {deep_name}\")\n",
    "        temp_dict = {deep_name:deep_model}\n",
    "\n",
    "        lwr_scheme = BoostScheme(boost_models = build_predictors(nrow,deep_model),loss_fun_sk = mean_squared_error)\n",
    "        lwr_scores, lwr_preds, _ , _, _,_= eval_.evaluate(temp_dict,dataset,lwr_scheme,logger_name=\"log\")\n",
    "        lwr_scores_final, lwr_preds_final, _ , _, _,_= eval_.build(temp_dict,dataset,lwr_scheme,logger_name=\"test_log\")\n",
    "\n",
    "        #scores\n",
    "        for k,v in ut.flip_dicts(lwr_scores).items(): \n",
    "            dict1 = {'model_num':deep_name,\"predictor\":k}\n",
    "            all_scores.append({**dict1,**v})\n",
    "\n",
    "        for k,v in ut.flip_dicts(lwr_scores_final).items():\n",
    "            dict1 = {'model_num':deep_name,\"predictor\":k}\n",
    "            all_scores_final.append({**dict1,**v})\n",
    "\n",
    "        lwr_preds['deep'] = deep_preds[deep_name]\n",
    "        lwr_preds_final['deep'] = deep_preds_final[deep_name]\n",
    "\n",
    "        lwr_preds.to_csv(log_dir/deep_name/ f\"predictions.csv\",index=False)\n",
    "        lwr_preds_final.to_csv(log_dir/deep_name/ f\"predictions_test.csv\",index=False)\n",
    "\n",
    "        #preds\n",
    "        # todo save predictions - appending solns\n",
    "        plot_preds_and_res(lwr_preds,name_lambda=lambda x:f\"{deep_name} with {x} predictor\",save_lambda= lambda x:f\"deep_lwr{x}\",save_loc=log_dir/deep_name)\n"
   ]
  },
  {
   "cell_type": "code",
   "execution_count": 14,
   "metadata": {
    "collapsed": false,
    "jupyter": {
     "outputs_hidden": false
    },
    "pycharm": {
     "name": "#%% save scores\n"
    },
    "scrolled": true
   },
   "outputs": [
    {
     "name": "stdout",
     "output_type": "stream",
     "text": [
      "Rank - model_num - predictor - fold_0 - fold_1 - fold_2 - fold_3 - fold_4 - MSE - R2'\n",
      "0 - random_77 - knn_tta_r_n=1000 - 105.1876249335663 - 149.1334164339471 - 99.52720715832439 - 111.35119050389821 - 99.65693556264519 - 112.97060368270658 - 0.6747934710172224'\n",
      "1 - random_66 - knn_tta_r_n=500 - 105.42599548048452 - 147.83923807555624 - 102.50589437091679 - 106.64651585701489 - 102.84664230818267 - 113.05219950355193 - 0.6745585825346296'\n",
      "2 - random_66 - knn_ttm_r_n=500 - 107.84433083625495 - 150.04000344534333 - 97.72307129209929 - 102.70825236281081 - 108.24867446805278 - 113.31239489280904 - 0.6738095625538629'\n",
      "3 - random_66 - knn_ttm_r_n=1000 - 108.12040599917445 - 150.11743111808642 - 98.75767616517147 - 102.33209366810543 - 108.3861907721929 - 113.54229193903168 - 0.6731477618907856'\n",
      "4 - random_78 - knn_tta_r_n=500 - 104.47503661892895 - 156.82255373055506 - 104.11034616230407 - 99.5750404253007 - 103.63505392009215 - 113.72280860593494 - 0.6726281116742387'\n",
      "5 - random_77 - knn_tta_r_n=500 - 104.86307175473802 - 150.04386086496848 - 99.10539665981982 - 114.59237200287421 - 100.62355589644739 - 113.84487680833935 - 0.6722767160446765'\n",
      "6 - random_78 - knn_ttm_r_n=500 - 107.39220904492883 - 159.68531344156554 - 100.29611426466133 - 98.01627972666971 - 103.89847280219969 - 113.8571202957419 - 0.6722414709285931'\n",
      "7 - random_66 - knn_tta_r_n=1000 - 106.23157333012033 - 147.90113124730775 - 105.80681651927154 - 105.63197508371076 - 104.29401280980954 - 113.97243419469216 - 0.6719095187959266'\n",
      "8 - random_66 - knn_tta_r_n=100 - 108.31083833001273 - 147.85949972364804 - 101.43907685691701 - 109.79995633000634 - 103.02789555936864 - 114.08695520415839 - 0.6715798491405469'\n",
      "9 - random_77 - knn_ttm_r_n=1000 - 109.56810581355046 - 150.62748305387728 - 95.97700750181161 - 111.21700408829905 - 104.88200208218717 - 114.45389913724019 - 0.67052353396723'\n",
      "10 - random_78 - knn_ttm_r_n=1000 - 106.74835309950902 - 159.73527259436253 - 102.06507003762209 - 97.75830278317908 - 106.23804315258978 - 114.50833908067276 - 0.6703668186407239'\n",
      "11 - random_89 - knn_tta_n=1000 - 117.64739752590754 - 140.06692085092254 - 112.17846587941108 - 103.24057189186598 - 101.19077697320473 - 114.86506658380893 - 0.6693399133281397'\n",
      "12 - random_89 - knn_tta_r_n=100 - 111.36538808545018 - 143.45080818578478 - 111.55422667927135 - 104.70483773078541 - 103.612777330823 - 114.93729954623831 - 0.6691319775446347'\n",
      "13 - random_89 - knn_tta_n=500 - 117.63599712833535 - 139.91615416058448 - 114.10991870599989 - 103.72430004823853 - 101.58035450293104 - 115.39353830799494 - 0.6678186108876325'\n",
      "14 - random_57 - knn_tta_r_n=500 - 107.16251495581257 - 151.60325523578382 - 108.50607347857066 - 113.72606186169263 - 96.0362474991466 - 115.40611964417552 - 0.6677823932120968'\n",
      "15 - random_51 - knn_tta_r_n=1000 - 119.52664560554946 - 144.43213289263826 - 116.654372980916 - 99.95586886145037 - 96.93786345829739 - 115.50172388540376 - 0.667507178931281'\n",
      "16 - random_57 - knn_ttm_r_n=500 - 110.3700686041582 - 155.0248772635141 - 102.98514196308341 - 107.78287382230575 - 102.00814966483902 - 115.63376830069122 - 0.6671270649497021'\n",
      "17 - random_78 - knn_tta_n=500 - 100.07606335151195 - 150.7994700390269 - 106.20635576534333 - 120.99887018242599 - 100.24095219340616 - 115.66299802564652 - 0.667042921844452'\n",
      "18 - random_78 - knn_tta_r_n=1000 - 104.63634843001584 - 157.34605060295362 - 110.32071658979906 - 99.79739253226988 - 106.37866748720151 - 115.69488139554885 - 0.6669511397372472'\n",
      "19 - random_66 - knn_ttm_r_n=100 - 114.31050429209698 - 148.03672398390384 - 101.99739118498218 - 106.68249302401559 - 107.73527016395954 - 115.7523521789605 - 0.666785699583951'\n",
      "20 - random_57 - knn_ttm_r_n=1000 - 110.21219379876385 - 154.80920763511676 - 104.01550942184029 - 108.57163258820539 - 102.62239546751546 - 116.0456846782884 - 0.6659412883757734'\n",
      "21 - random_77 - knn_ttm_r_n=500 - 109.95986944940555 - 151.25942523348942 - 97.60968317025417 - 115.7998397401891 - 106.12972873505437 - 116.1511753022587 - 0.665637614335419'\n",
      "22 - random_57 - knn_tta_r_n=1000 - 107.48513715312818 - 151.31875820371903 - 110.7789868183726 - 114.38807146892304 - 97.33593660803555 - 116.26062121696746 - 0.6653225542678128'\n",
      "23 - random_57 - knn_tta_r_n=100 - 105.46568854936572 - 154.33370587974477 - 109.6839815228082 - 114.00476103275578 - 98.29884974705801 - 116.35645808204872 - 0.6650466703367222'\n",
      "24 - random_65 - knn_tta_r_n=1000 - 105.86187852757142 - 155.15303220748552 - 104.42448119297158 - 117.38107678147664 - 99.62220192814047 - 116.48761772052671 - 0.6646691033468894'\n",
      "25 - random_78 - knn_tta_n=1000 - 96.62856358610648 - 147.781915160157 - 116.94139676037497 - 122.12723910505913 - 99.76470448049413 - 116.64703734377188 - 0.664210184826166'\n",
      "26 - random_79 - knn_tta_r_n=1000 - 114.74455181885571 - 155.8611148854767 - 101.66437227606302 - 104.90878963202992 - 106.2751963969549 - 116.69063716355394 - 0.6640846747767073'\n",
      "27 - random_51 - knn_tta_r_n=500 - 121.94975728762431 - 147.21171024426866 - 118.38989583307998 - 101.56841660852817 - 95.24930315005471 - 116.87425435674486 - 0.6635560991285954'\n",
      "28 - random_56 - knn_tta_r_n=1000 - 105.12523029939734 - 153.54638896824295 - 113.27747630685461 - 112.07187587019554 - 101.40635136126173 - 117.08443315085395 - 0.6629510610578954'\n",
      "29 - random_52 - knn_tta_r_n=1000 - 111.72659007813402 - 156.42948741155402 - 103.34185579399725 - 105.69115414538592 - 108.43841111395005 - 117.1250341248141 - 0.662834183734198'\n",
      "30 - random_79 - knn_tta_r_n=500 - 114.05967653464117 - 159.69005596643223 - 103.6270040675937 - 106.19198047141535 - 102.66423874590141 - 117.24631632840905 - 0.6624850507458565'\n",
      "31 - random_56 - knn_tta_r_n=500 - 104.41733577424327 - 152.9016750729549 - 117.72376559024097 - 111.73219479418833 - 99.64976539078104 - 117.28383766498271 - 0.6623770387212047'\n",
      "32 - random_89 - knn_ttm_r_n=100 - 114.30482415755581 - 149.08446823119553 - 107.97244666511331 - 105.19144445551083 - 110.09759941084388 - 117.32989568956074 - 0.6622444522799842'\n",
      "33 - random_77 - deep - 114.54153915931438 - 152.8207722639616 - 104.25755461725298 - 110.82466808728691 - 104.50628847004576 - 117.38991802182585 - 0.6620716666595301'\n",
      "34 - random_66 - knn_tta_n=1000 - 100.40451738436988 - 142.68418612925504 - 113.51525607649772 - 133.38020324296969 - 98.52893626074582 - 117.70112808865085 - 0.6611757919735107'\n",
      "35 - random_57 - knn_tta_n=1000 - 102.50509712022013 - 146.77006867356988 - 119.44820843025764 - 129.35440419517298 - 90.58106035640623 - 117.7304546583131 - 0.6610913700830725'\n",
      "36 - random_89 - knn_tta_r_n=500 - 121.3236883963405 - 147.86466235246428 - 105.66169445437934 - 101.7759736121326 - 112.15468469592408 - 117.7564483555505 - 0.6610165424750185'\n",
      "37 - random_89 - knn_ttm_r_n=500 - 120.29106682656781 - 148.24599043372254 - 105.34329766935566 - 101.76762313482725 - 113.86506217347262 - 117.90281402023311 - 0.6605952021597328'\n",
      "38 - random_56 - knn_ttm_r_n=500 - 108.1792010947484 - 154.42634032423803 - 114.04466700014576 - 109.8134666462589 - 103.66788896041955 - 118.02546362340027 - 0.6602421328618193'\n",
      "39 - random_57 - knn_tta_n=500 - 104.20233800160814 - 147.7134222510391 - 119.17980565182673 - 127.14314251402713 - 91.93845568577835 - 118.03423990133025 - 0.6602168687418628'\n",
      "40 - random_66 - knn_tta_n=500 - 100.84939113328151 - 142.623568172855 - 110.67440731133308 - 135.7622653157565 - 100.44987110409146 - 118.07041539622912 - 0.6601127309684351'\n",
      "41 - random_89 - knn_tta_r_n=1000 - 121.87748517919646 - 148.75420934357288 - 105.55239500437524 - 102.33534347803622 - 112.49383584677045 - 118.20297067547897 - 0.6597311463715763'\n",
      "42 - random_51 - knn_ttm_r_n=1000 - 122.52603017712921 - 157.75709477719263 - 107.77487708809696 - 99.80770635554961 - 103.38371569361972 - 118.25025357869696 - 0.6595950338933342'\n",
      "43 - random_79 - knn_ttm_r_n=1000 - 116.25705864393042 - 159.86950974551442 - 104.658078057503 - 106.66498366489893 - 104.43544894359742 - 118.37683299311995 - 0.6592306519155164'\n",
      "44 - random_89 - knn_ttm_r_n=1000 - 121.9202677688587 - 149.05774706478385 - 105.12221284567897 - 102.22218611456972 - 114.686950453839 - 118.60215901675193 - 0.6585820097763573'\n",
      "45 - random_56 - knn_ttm_r_n=1000 - 107.80301772230463 - 155.6130402296087 - 114.69679931587501 - 111.00352093332295 - 104.05880520596467 - 118.6341025645681 - 0.6584900544360294'\n",
      "46 - random_65 - knn_tta_r_n=500 - 106.0102849725357 - 155.27497752399518 - 111.59357727240057 - 124.01460478362915 - 96.67160262347677 - 118.71191399501579 - 0.6582660600128238'\n",
      "47 - random_65 - knn_ttm_r_n=1000 - 113.04710942351232 - 159.59303367320385 - 104.66502499636263 - 115.54038559302346 - 102.25146823370389 - 119.01888935335064 - 0.6573823753416531'\n",
      "48 - random_98 - knn_tta_r_n=1000 - 118.55705842139713 - 153.64220921287648 - 108.48737192302674 - 109.54190503039459 - 105.03816314997684 - 119.0532987497484 - 0.6572833216055296'\n",
      "49 - random_52 - knn_ttm_r_n=1000 - 115.83293843462066 - 159.88327683829044 - 102.35671778319399 - 106.66124502543624 - 112.16541180375373 - 119.37961209748481 - 0.656343968997694'\n",
      "50 - random_52 - knn_tta_r_n=500 - 113.8408364135625 - 159.40001069799672 - 108.50615146995646 - 107.88569109385574 - 107.94736502755568 - 119.51552153264069 - 0.6559527288500606'\n",
      "51 - random_79 - knn_ttm_r_n=500 - 115.38213297558711 - 164.17221912246572 - 105.37114272644358 - 110.86848583838741 - 103.32953372993562 - 119.82431976629218 - 0.6550637966991457'\n",
      "52 - random_57 - knn_ttm_r_n=100 - 111.12736867255053 - 162.25323498680376 - 108.56060887287656 - 111.65080526230702 - 105.87112613523574 - 119.89187289943234 - 0.6548693326595261'\n",
      "53 - random_51 - knn_tta_n=1000 - 125.64001996815777 - 139.13965575541593 - 132.32438658316445 - 108.54646769351703 - 94.43130195877715 - 120.01685135675787 - 0.654509559329301'\n",
      "54 - random_79 - knn_tta_n=1000 - 111.454067703911 - 154.75349841062854 - 117.1372092367826 - 121.96089099528103 - 95.75775229843566 - 120.2119284154492 - 0.653947994363964'\n",
      "55 - random_94 - knn_tta_r_n=1000 - 104.37209401158287 - 158.6793879334368 - 111.30926190184195 - 120.85116692437819 - 106.94759419300435 - 120.43051604916296 - 0.6533187499116793'\n",
      "56 - random_94 - knn_ttm_r_n=1000 - 108.52135327521049 - 163.6036760706628 - 106.09224528600134 - 113.94985877955968 - 110.17408822608303 - 120.46721406784046 - 0.6532131079580594'\n",
      "57 - random_5 - deep - 117.82781637783708 - 160.39428847799428 - 106.77852464143754 - 108.9054703895467 - 112.2098785703066 - 121.22290283731783 - 0.6510377193474814'\n",
      "58 - random_98 - knn_ttm_r_n=1000 - 118.4903174300484 - 157.74834802505703 - 107.40300346074098 - 117.40950341867678 - 105.11821903086107 - 121.23364167762642 - 0.6510068060125098'\n",
      "59 - random_56 - knn_tta_n=1000 - 100.59090171548598 - 151.83969421994374 - 136.6792089229392 - 119.08505151725221 - 99.2666987172512 - 121.49050855140449 - 0.6502673677718624'\n",
      "60 - random_78 - knn_tta_r_n=100 - 115.99590847234052 - 158.0003965160449 - 127.0900290797147 - 110.67409575446003 - 96.67596708921167 - 121.6867885776881 - 0.649702339844459'\n",
      "61 - random_77 - knn_tta_n=1000 - 104.71821937072659 - 149.15718145950106 - 105.95752728976065 - 139.6735420169668 - 110.27301346333877 - 121.95441020079787 - 0.6489319420923437'\n",
      "62 - random_94 - knn_tta_r_n=500 - 103.29218413376641 - 163.12791495521137 - 117.32366393301011 - 120.4590776836278 - 107.17883805846866 - 122.27469862349477 - 0.6480099333323377'\n",
      "63 - random_51 - knn_ttm_r_n=500 - 123.75985353990124 - 161.60563832676308 - 124.69626628189144 - 101.49691094201701 - 101.24451286951637 - 122.56073980846729 - 0.6471865115050781'\n",
      "64 - random_98 - knn_tta_r_n=500 - 120.37546603142029 - 157.71537722300658 - 112.6569594474233 - 119.55423636965607 - 102.53209598271285 - 122.56663803525056 - 0.6471695323813342'\n",
      "65 - random_89 - knn_tta_n=100 - 114.59926033414553 - 140.7908456149779 - 134.41190256845593 - 117.79956855362548 - 105.43979749356565 - 122.60758424250061 - 0.6470516612405179'\n",
      "66 - random_56 - knn_ttm_r_n=100 - 115.06104776785753 - 164.17850187956796 - 111.43635038187291 - 112.95113017426638 - 111.0624278533193 - 122.93721233888253 - 0.6461027665229093'\n",
      "67 - random_61 - knn_ttm_r_n=1000 - 117.85394959897344 - 162.14477933991924 - 113.79561255968127 - 108.90090853536087 - 116.44798621110026 - 123.82813201119656 - 0.6435380914234519'\n",
      "68 - random_52 - knn_ttm_r_n=500 - 119.0664958662917 - 162.2241296690815 - 109.81113244923712 - 116.92493930830966 - 111.99276140744243 - 124.00346595567494 - 0.643033360620589'\n",
      "69 - random_65 - knn_ttm_r_n=500 - 114.8973289372862 - 163.7186553285061 - 122.1103182530688 - 120.65672969969053 - 99.62195136731289 - 124.20019440018604 - 0.6424670418393659'\n",
      "70 - random_56 - knn_tta_n=500 - 101.75640539503817 - 151.38631252712537 - 150.26783642020203 - 118.66926023677364 - 99.59300817653201 - 124.33261748670202 - 0.6420858377834505'\n",
      "71 - random_79 - knn_tta_n=500 - 113.04045301749241 - 161.29886798580904 - 122.5017086348432 - 126.99112305429279 - 97.967334852532 - 124.35892135820984 - 0.6420101172820722'\n",
      "72 - random_94 - knn_ttm_r_n=500 - 108.38206576925933 - 166.8291296524212 - 129.0377952990177 - 113.55747775159678 - 104.07361397281191 - 124.3746372245578 - 0.6419648762885892'\n",
      "73 - random_94 - deep - 122.7633532030829 - 149.67107165337842 - 113.71855478257956 - 127.20804967711639 - 113.69057255687771 - 125.41009271592955 - 0.6389841280263233'\n",
      "74 - random_61 - knn_tta_n=1000 - 108.80914512060264 - 157.9049770818563 - 150.12874422919145 - 106.63815427747014 - 104.07250856690334 - 125.50926556883581 - 0.6386986412371729'\n",
      "75 - random_61 - knn_tta_r_n=1000 - 116.82821644767728 - 164.37192810264358 - 120.5181889355471 - 106.6397472922356 - 119.34676537465845 - 125.54021787208544 - 0.6386095393754876'\n",
      "76 - random_94 - knn_tta_n=1000 - 99.87493931006932 - 160.05598387480688 - 119.83239758549111 - 148.00566647073452 - 102.35099531584449 - 126.02174150473168 - 0.6372233855966172'\n",
      "77 - random_65 - knn_tta_n=1000 - 99.49856560444138 - 154.623498799553 - 118.91824200361869 - 154.42114512552465 - 105.00361422327842 - 126.49068524100842 - 0.6358734453485231'\n",
      "78 - random_98 - knn_ttm_r_n=500 - 123.62429137369035 - 163.1912110854739 - 109.55807423363436 - 130.7933653332257 - 107.18747753452446 - 126.87060393689947 - 0.6347797799492179'\n",
      "79 - random_56 - deep - 114.26998714578563 - 166.4831926708542 - 116.44538460254874 - 109.14064373133151 - 128.5843738228558 - 126.9836186780309 - 0.6344544459650241'\n",
      "80 - random_52 - knn_tta_n=1000 - 113.19296101159175 - 159.44854014219595 - 119.76290316484078 - 139.7704725595428 - 104.77157351520322 - 127.38806583505065 - 0.6332901713050858'\n",
      "81 - random_77 - knn_tta_n=500 - 108.46609817056259 - 151.49751205625913 - 110.7614326387409 - 147.9465623767694 - 118.7044193212102 - 127.47356563134056 - 0.6330440445156931'\n",
      "82 - random_78 - knn_ttm_r_n=100 - 116.30765779499389 - 161.87745834300796 - 154.36127985304324 - 110.5482087550705 - 95.30146657569877 - 127.67823361961732 - 0.6324548703067253'\n",
      "83 - random_40 - deep - 111.14184654498922 - 165.918114705351 - 138.65532447449758 - 111.19993794956511 - 115.57543765352224 - 128.4966362148703 - 0.6300989484644296'\n",
      "84 - random_66 - deep - 113.39283807688746 - 156.3097939501553 - 124.72496610101105 - 126.55761228053926 - 121.97465503950887 - 128.59066218726588 - 0.6298282775185955'\n",
      "85 - random_98 - knn_tta_n=1000 - 118.94838938702014 - 163.7054497258841 - 127.35685267617832 - 134.29051096389873 - 102.01968644848397 - 129.2632882414268 - 0.6278920008964268'\n",
      "86 - random_66 - knn_tta_n=100 - 118.19686615358987 - 157.78815582908666 - 113.01010754992211 - 151.44260705109525 - 107.53141959073902 - 129.5928483989879 - 0.6269433017531304'\n",
      "87 - random_57 - deep - 116.87040328979492 - 183.09549167332025 - 121.99267163920268 - 105.74440960145911 - 122.66547935653627 - 130.0725552494397 - 0.6255623775066703'\n",
      "88 - random_92 - deep - 129.80091663229055 - 162.10211019775076 - 114.29949187574432 - 115.48912562476812 - 129.4260442617794 - 130.22350152175568 - 0.6251278510746967'\n",
      "89 - random_48 - deep - 116.23969710777546 - 148.85500593296462 - 119.17757648041969 - 148.3930387690233 - 123.60523134061313 - 131.25281454092448 - 0.6221647854306038'\n",
      "90 - random_78 - deep - 110.76076728557719 - 153.36319493486636 - 143.6875896149537 - 124.62492128629631 - 125.45744370118767 - 131.57699165882937 - 0.6212315823497365'\n",
      "91 - random_94 - knn_tta_n=500 - 102.03176518873724 - 169.47345141008367 - 131.40733479753746 - 149.78119318266536 - 107.83967692573741 - 132.10409074118058 - 0.6197142317214893'\n",
      "92 - random_57 - knn_tta_n=100 - 109.88846412925908 - 169.8814038520496 - 137.89351698437335 - 138.7388073564328 - 106.60396632746385 - 132.59927305730446 - 0.6182887589259947'\n",
      "93 - random_55 - deep - 115.4240923914416 - 150.1290680760708 - 141.15482656356332 - 139.64596178285927 - 123.04985413545162 - 133.87916844496579 - 0.6146043457224007'\n",
      "94 - random_82 - deep - 113.44143300549737 - 194.8643005686929 - 115.7891823890755 - 114.12032862108501 - 131.39567369836936 - 133.92041620754705 - 0.6144856064993227'\n",
      "95 - random_98 - deep - 132.6742238274936 - 157.44117536129443 - 111.4126373791088 - 137.80190974733551 - 135.31253371869968 - 134.9283028391621 - 0.6115842206277142'\n",
      "96 - random_68 - deep - 111.19553280534416 - 178.73197520504021 - 125.34421008966667 - 129.89476194130856 - 132.5263416509065 - 135.53646582645538 - 0.6098335123202326'\n",
      "97 - random_90 - knn_ttm_r_n=100 - 116.63174243690482 - 165.90642167762675 - 155.81845277732188 - 123.3506275023006 - 117.30852606936125 - 135.80150081470583 - 0.6090705610935596'\n",
      "98 - random_97 - deep - 132.28115200174267 - 160.36449671552427 - 135.2989024186556 - 118.84832912953365 - 135.2435872816947 - 136.40693729516164 - 0.6073277011092081'\n",
      "99 - random_98 - knn_tta_n=500 - 126.14436412411865 - 173.00676277921508 - 134.59443768329825 - 149.76184866418592 - 107.45434749283923 - 138.19131317080587 - 0.6021910494691881'\n",
      "100 - random_51 - knn_tta_n=500 - 135.73046969819927 - 148.34828703927383 - 192.39025425350113 - 116.0950552087219 - 98.64750436208317 - 138.24209749935017 - 0.6020448574982309'\n",
      "101 - random_65 - knn_tta_n=500 - 108.50431838322635 - 163.4103562651459 - 157.83135253337122 - 151.66904704065044 - 111.28021524513186 - 138.53646779868708 - 0.601197458793061'\n",
      "102 - random_52 - knn_tta_n=500 - 121.89085064879586 - 172.73172962505126 - 137.35993504177253 - 152.09341642241134 - 110.0785827142608 - 138.82944203738475 - 0.6003540789035826'\n",
      "103 - random_89 - knn_ttm_n=1000 - 133.1757488659289 - 150.93326705501457 - 144.9802489056604 - 131.9827804177209 - 133.389840566514 - 138.89188417938954 - 0.6001743277860205'\n",
      "104 - random_17 - deep - 127.7617213808257 - 156.63590178956446 - 167.01361513651872 - 106.61507138099687 - 138.06755339641825 - 139.21778456033275 - 0.5992361635427769'\n",
      "105 - random_56 - knn_tta_r_n=100 - 110.58705488559481 - 163.26888482532368 - 118.12901579320653 - 205.52695996754085 - 103.41564351049416 - 140.1829593251565 - 0.5964577320246129'\n",
      "106 - random_31 - deep - 161.9368876227017 - 160.52572067280482 - 110.46200280232695 - 115.49567740186632 - 153.91255124163249 - 140.46841981138914 - 0.5956359814050931'\n",
      "107 - random_96 - deep - 144.64016892005657 - 165.56234375368476 - 128.3431928765419 - 116.4118600411886 - 148.84175885962534 - 140.76019871659048 - 0.5947960425006273'\n",
      "108 - random_52 - deep - 143.70186025685277 - 166.91774573085533 - 122.42697698898283 - 131.43294986068508 - 141.8651351731314 - 141.26914362107976 - 0.5933309515777065'\n",
      "109 - random_34 - deep - 132.31040762539567 - 176.53252968535233 - 133.27986662199703 - 120.36418198901757 - 144.89429071187047 - 141.4754627240939 - 0.5927370243325669'\n",
      "110 - random_36 - deep - 119.56024243584994 - 159.159816700819 - 142.44255139612852 - 157.66714564640495 - 129.40530567572208 - 141.64510912941785 - 0.5922486661500723'\n",
      "111 - random_79 - deep - 132.15700094288792 - 171.44326371640776 - 115.39301865262274 - 120.73972247684243 - 173.16617229242888 - 142.5789360678386 - 0.5895604746405572'\n",
      "112 - random_18 - deep - 145.44916829076305 - 180.67266955587462 - 134.87424175530583 - 126.32142917489944 - 126.33917283045417 - 142.73157105801158 - 0.5891210869256003'\n",
      "113 - random_89 - knn_ttm_n=500 - 136.4578069388078 - 151.93059847471616 - 149.6076688360739 - 137.0381096150148 - 139.75447698130586 - 142.957171637515 - 0.5884716548739823'\n",
      "114 - random_23 - deep - 133.71435189082706 - 181.56996227822052 - 121.29987477988917 - 126.43735145052325 - 157.51572221473867 - 144.10655615813593 - 0.5851629410210548'\n",
      "115 - random_53 - deep - 110.13572392956964 - 154.67778473755777 - 234.0130089434533 - 107.38904925943089 - 115.48750130479425 - 144.33766677081772 - 0.5844976468844125'\n",
      "116 - random_70 - deep - 140.7364726362557 - 161.11858690006048 - 119.96057969159533 - 162.8094068414541 - 138.78289973566172 - 144.68124731211822 - 0.5835085875031094'\n",
      "117 - random_13 - deep - 142.6379430047397 - 200.67784682549808 - 122.4903763791208 - 132.51843263857216 - 137.31410407115283 - 147.12735315590433 - 0.5764670247786909'\n",
      "118 - random_90 - knn_ttm_r_n=500 - 115.35244747114271 - 175.0615471654128 - 197.88053968681697 - 144.25884892414783 - 114.78367986705753 - 149.464470663175 - 0.5697392053676349'\n",
      "119 - random_90 - knn_tta_r_n=100 - 112.52982922337355 - 163.121765145325 - 170.23119909694157 - 137.24870475375704 - 166.44387419602396 - 149.9118505053971 - 0.5684513407295513'\n",
      "120 - random_97 - knn_tta_r_n=1000 - 128.90187022054306 - 180.67994945431025 - 198.4659936777542 - 119.8850065348679 - 128.74004691316455 - 151.3326388393329 - 0.5643613418498762'\n",
      "121 - random_78 - knn_tta_n=100 - 137.98406754152825 - 172.80167355768307 - 175.8022637088296 - 155.6331100227362 - 115.35500965377821 - 151.5140580154558 - 0.5638390935955999'\n",
      "122 - random_97 - knn_tta_r_n=500 - 128.36420242705142 - 180.21147167532794 - 205.83907993517337 - 121.1148391763991 - 126.49052820342484 - 152.4019511701728 - 0.5612831308801658'\n",
      "123 - random_97 - knn_ttm_r_n=1000 - 131.1079919459818 - 184.01030127900663 - 197.1802998489355 - 120.44763062578382 - 130.72898661155597 - 152.69318046772736 - 0.5604447741226696'\n",
      "124 - random_97 - knn_ttm_r_n=500 - 130.90098050320006 - 183.8725221047882 - 202.14409436784138 - 121.79741938599011 - 129.9830587498883 - 153.737645495391 - 0.5574380906561954'\n",
      "125 - random_84 - deep - 104.37418767994848 - 146.96424672931573 - 154.16006035288638 - 240.18393554950697 - 134.69399206203445 - 156.07082832401449 - 0.5507215969876141'\n",
      "126 - random_90 - knn_ttm_r_n=1000 - 115.78465275533331 - 173.84927944336556 - 235.95319351483656 - 141.3776512437045 - 115.12788247425519 - 156.41502775736396 - 0.5497307565020666'\n",
      "127 - random_97 - knn_ttm_r_n=100 - 131.94474460243873 - 184.8273739316457 - 218.26000550526055 - 130.47842697149397 - 127.66383744019527 - 158.63257602298646 - 0.5433471385447761'\n",
      "128 - random_97 - knn_tta_r_n=100 - 126.90427419173758 - 180.38965253879155 - 245.25510762127016 - 133.28671185998095 - 119.01987192355418 - 160.9681858166637 - 0.5366236589022908'\n",
      "129 - random_80 - deep - 167.82702234202418 - 256.4041929520528 - 123.87619269577888 - 123.43706555631768 - 133.37754871455593 - 160.98499340293532 - 0.5365752746895536'\n",
      "130 - random_57 - knn_ttm_n=1000 - 144.788509729311 - 188.3953760264444 - 165.73401089345168 - 164.59806403746822 - 153.5346331876606 - 163.40851290999606 - 0.5295987313748234'\n",
      "131 - random_66 - knn_ttm_n=1000 - 132.43058259498906 - 173.62046251118352 - 150.7687369894212 - 212.80093894179956 - 154.10462791804173 - 164.7422830985037 - 0.525759230130026'\n",
      "132 - random_89 - knn_ttm_n=100 - 154.59825811208395 - 168.97976788456737 - 183.08122802392882 - 155.80135995857867 - 161.45456703517397 - 164.78215790189287 - 0.5256444432210308'\n",
      "133 - random_10 - deep - 156.4236496497845 - 177.91339079744603 - 115.06274982236901 - 180.3213287195598 - 195.2434375067115 - 164.99217292068548 - 0.5250398760910333'\n",
      "134 - random_57 - knn_ttm_n=500 - 147.21153987161492 - 192.38304796998852 - 167.9175642660205 - 165.5900637361158 - 154.38461362840016 - 165.49578898635426 - 0.5235901257226157'\n",
      "135 - random_74 - deep - 185.0450096919619 - 208.7927847759844 - 130.64257878627998 - 120.33012043622713 - 186.04528768456356 - 166.1727821165245 - 0.5216412767513341'\n",
      "136 - random_78 - knn_ttm_n=1000 - 143.31428818658912 - 175.59238132000021 - 136.77668847331958 - 201.9832094989808 - 175.47620610745588 - 166.62654417341514 - 0.5203350402620992'\n",
      "137 - random_59 - deep - 170.80464469646586 - 174.9223596820445 - 121.06061649363635 - 243.24630196436874 - 128.3337513412469 - 167.67380517684566 - 0.5173203075435218'\n",
      "138 - random_90 - knn_tta_r_n=500 - 112.41071650556857 - 164.47744292725898 - 304.30898357753637 - 148.8821606412256 - 109.88055260500549 - 167.9871781110339 - 0.5164182068059202'\n",
      "139 - random_78 - knn_ttm_n=500 - 152.89050229187694 - 184.0167360918119 - 129.9490742631247 - 201.93966628482704 - 178.62687699932584 - 169.48314016955874 - 0.5121118066214156'\n",
      "140 - random_66 - knn_ttm_n=500 - 135.79374676538086 - 173.85400250054644 - 153.7666376656263 - 221.3941224224887 - 162.75132542347305 - 169.5090592097123 - 0.5120371939274215'\n",
      "141 - random_61 - knn_ttm_n=1000 - 147.20300889568787 - 177.8024006286278 - 216.63961546405127 - 155.73234309779914 - 152.12650800918402 - 169.89881784011837 - 0.5109152024782881'\n",
      "142 - random_11 - deep - 175.89856459518958 - 219.80092802125867 - 128.95875383173922 - 168.39814502507153 - 158.9648630225283 - 170.40472406674476 - 0.5094588584131114'\n",
      "143 - random_65 - deep - 164.50672191751414 - 203.58888729567568 - 139.74394433999072 - 146.46052977976072 - 198.4639641883919 - 170.55228790924352 - 0.5090340689235435'\n",
      "144 - random_48 - knn_tta_r_n=1000 - 114.52410975989285 - 162.68079704816836 - 340.2598142534955 - 129.49315465026268 - 106.79056633993076 - 170.74483970574067 - 0.5084797739208263'\n",
      "145 - random_42 - deep - 165.75142085634428 - 176.4398732648013 - 188.50888849137516 - 157.91380051962 - 167.0610682070898 - 171.13454741897166 - 0.5073579285103822'\n",
      "146 - random_90 - knn_tta_r_n=1000 - 113.1841074164006 - 164.251333980986 - 334.07076805915614 - 136.4379866259091 - 110.81804248183508 - 171.74739697637096 - 0.5055937295919507'\n",
      "147 - random_61 - deep - 147.86129731803103 - 260.134673848549 - 130.2493516626724 - 158.586708641299 - 171.48858103355286 - 173.66189601422215 - 0.5000824936778561'\n",
      "148 - random_51 - knn_ttm_n=1000 - 173.00444834574384 - 173.71635443246925 - 234.8240015108974 - 148.89006360919285 - 144.06425099613588 - 174.8996603280916 - 0.4965193634326628'\n",
      "149 - random_56 - knn_ttm_n=1000 - 155.67175843720167 - 192.77755553236258 - 189.81573892741582 - 167.8087087616324 - 173.37856542693703 - 175.88872182388982 - 0.4936721691581022'\n",
      "150 - random_79 - knn_ttm_n=1000 - 161.602130864036 - 200.97924605144433 - 170.55378881257994 - 189.35620403272296 - 160.83829997915024 - 176.66463489632372 - 0.4914385615747764'\n",
      "151 - random_16 - deep - 116.89736675393992 - 171.23927765747965 - 308.2300597828696 - 165.33755496454012 - 125.29796441766197 - 177.3952234968968 - 0.4893354282118094'\n",
      "152 - random_38 - deep - 148.7673740913128 - 301.3037550359926 - 147.57399789564258 - 132.57960512885867 - 158.79419807937444 - 177.80128253434776 - 0.48816651306069625'\n",
      "153 - random_97 - knn_tta_n=1000 - 122.84541223652629 - 181.77553872663026 - 305.93489600458366 - 144.26882989139023 - 136.04657773458695 - 178.16947954596992 - 0.4871065912283644'\n",
      "154 - random_56 - knn_ttm_n=500 - 159.83555310328657 - 197.67022122697506 - 190.13567950937716 - 166.4271595139269 - 181.00448229126562 - 179.01296519088194 - 0.48467846364573175'\n",
      "155 - random_77 - knn_ttm_n=1000 - 163.56303064432078 - 189.542519969753 - 158.18243638483258 - 188.2947874674702 - 207.68514146397285 - 181.45204036505044 - 0.4776571399963758'\n",
      "156 - random_97 - knn_tta_n=500 - 123.0328094643625 - 186.10014183910874 - 325.6013576338922 - 151.14077547704116 - 127.72422282198194 - 182.71471423686134 - 0.4740223024926109'\n",
      "157 - random_79 - knn_ttm_n=500 - 169.89253577364425 - 213.95631376997986 - 173.80484883385438 - 196.43362026285678 - 169.4264037654053 - 184.7014672986104 - 0.4683030707093412'\n",
      "158 - random_15 - deep - 184.73554634883487 - 225.54446330200037 - 223.10797696197892 - 127.12325348880796 - 168.22719069296247 - 185.7475986011416 - 0.46529158998468756'\n",
      "159 - random_48 - knn_ttm_r_n=1000 - 118.80216232969434 - 161.9020863782575 - 414.79451359033015 - 127.88689078746948 - 106.07870268297937 - 185.88708547689 - 0.4648900521019508'\n",
      "160 - random_57 - knn_ttm_n=100 - 154.04785297247585 - 228.44178882901056 - 201.6296987608262 - 185.54899393104571 - 160.71254850423952 - 186.07341458471902 - 0.46435366971192904'\n",
      "161 - random_52 - knn_ttm_n=1000 - 172.81115271248018 - 216.67968082699898 - 160.7813314543179 - 206.76738739658043 - 174.85964437559934 - 186.37866923534085 - 0.4634749384123833'\n",
      "162 - random_66 - knn_ttm_n=100 - 171.7256623597885 - 200.77808573253216 - 150.89778438535663 - 242.71089758285487 - 174.94903551911364 - 188.21087136439792 - 0.45820060973428733'\n",
      "163 - random_19 - deep - 188.95212454960264 - 301.2981807154384 - 132.7104930639164 - 105.5808730263194 - 216.6581185897294 - 189.03995143250611 - 0.4558139506454648'\n",
      "164 - random_93 - deep - 211.09659418566474 - 191.47916359385317 - 178.21939679434095 - 172.8223852311398 - 191.632925154475 - 189.05199569143926 - 0.45577927904490334'\n",
      "165 - random_94 - knn_ttm_n=1000 - 156.23812013887502 - 227.5762972450237 - 151.06004577374668 - 239.22107807049275 - 172.714157071092 - 189.3590831731678 - 0.4548952721978442'\n",
      "166 - random_41 - deep - 171.16107385569606 - 197.6349685228092 - 233.74245044598038 - 175.71223835289194 - 170.78499161760166 - 189.8055393138017 - 0.4536100660094454'\n",
      "167 - random_76 - deep - 207.9036469295107 - 206.63327005311507 - 122.60419607882152 - 219.67145630284188 - 193.4203750524813 - 190.04813245337 - 0.45291171732060054'\n",
      "168 - random_37 - deep - 178.86769011925006 - 225.81995869875468 - 226.55510165209193 - 137.23355394357645 - 186.69758294398747 - 191.0337279460385 - 0.4500745005664035'\n",
      "169 - random_65 - knn_ttm_n=1000 - 190.21856088885073 - 189.88616836772087 - 189.5964288658276 - 215.21706252580253 - 188.25619052493337 - 194.6345013859425 - 0.4397090167474662'\n",
      "170 - random_9 - deep - 146.23466089182887 - 425.30522073512964 - 117.28591635351604 - 151.06042261687062 - 136.77573667183268 - 195.32815653038182 - 0.4377122030317294'\n",
      "171 - random_77 - knn_ttm_n=500 - 173.31513750438975 - 218.41414890026908 - 164.70048538028712 - 205.40589290811803 - 219.3829063249959 - 196.24173692035058 - 0.43508229552651356'\n",
      "172 - random_98 - knn_ttm_n=1000 - 190.62851559688684 - 224.5103823810544 - 188.87105863093507 - 195.01854578359894 - 183.55986516488764 - 196.51716565032095 - 0.4342894235904887'\n",
      "173 - random_52 - knn_ttm_n=500 - 187.6325093165971 - 233.37284878308964 - 191.0846580821694 - 194.8115018868609 - 182.05528362982392 - 197.79048427459756 - 0.43062394322133746'\n",
      "174 - random_44 - deep - 194.10485529406319 - 218.47730048189086 - 150.4224195690081 - 233.89035736255062 - 195.21220706217554 - 198.4210547590997 - 0.4288087302187745'\n",
      "175 - random_48 - knn_ttm_r_n=500 - 124.76052605460607 - 166.79782117382996 - 447.80436915922417 - 132.81279478502117 - 124.7189656012763 - 199.37246051783913 - 0.4260699354863451'\n",
      "176 - random_12 - deep - 180.1222502083614 - 311.16871229190673 - 153.327161255146 - 184.71623792726453 - 182.01622823211025 - 202.26820783668973 - 0.417733996974869'\n",
      "177 - random_28 - deep - 197.99559697118298 - 255.29731997234546 - 179.30492049098373 - 184.69882941071253 - 207.0269333089719 - 204.86412387131463 - 0.41026117823664066'\n",
      "178 - random_48 - knn_tta_r_n=500 - 120.15750465418472 - 166.84580103150407 - 491.9274930231029 - 137.10508369329412 - 113.95273132425169 - 205.99032017385568 - 0.407019216999676'\n",
      "179 - random_98 - knn_ttm_n=500 - 202.15293978046424 - 238.6335707726701 - 193.0335451746581 - 219.58189520249303 - 180.7948744647579 - 206.8389609374686 - 0.4045762494657237'\n",
      "180 - random_39 - deep - 217.59638429839035 - 276.3176001597705 - 258.7942291694039 - 123.52984369104409 - 192.6693749076182 - 213.78181947959 - 0.38458996162004977'\n",
      "181 - random_90 - knn_tta_n=100 - 116.16210888443045 - 166.5933188999476 - 497.1064368588328 - 155.61876965543982 - 153.22401333416414 - 217.73216971105398 - 0.37321815718985907'\n",
      "182 - random_29 - deep - 177.00372803786706 - 378.3982644749387 - 260.87804596092025 - 113.02377517719935 - 170.78386324034935 - 220.01382003897623 - 0.36665000904236167'\n",
      "183 - random_51 - knn_ttm_n=500 - 201.77935794231624 - 190.08700507976545 - 408.10858387977584 - 163.38467311125274 - 155.7610918380101 - 223.8222413022327 - 0.3556867731053194'\n",
      "184 - random_97 - knn_tta_n=100 - 123.24102007888472 - 211.66115859462877 - 445.8255508628794 - 216.1793606146558 - 123.47686459196015 - 224.06809521120357 - 0.3549790376965768'\n",
      "185 - random_30 - deep - 215.77115327243146 - 288.8432001177223 - 184.57953679001295 - 195.1232757009068 - 265.7190566891583 - 230.00601979334522 - 0.3378856358636432'\n",
      "186 - random_94 - knn_ttm_n=500 - 170.2611677464386 - 285.7353187451458 - 271.3164814241341 - 239.97462977589987 - 185.50120546499636 - 230.55256085615173 - 0.3363123182495914'\n",
      "187 - random_98 - knn_ttm_r_n=100 - 158.2037524791843 - 401.52630881286586 - 269.4486296893202 - 160.14435373956988 - 164.0684842388676 - 230.6720558304824 - 0.3359683301273174'\n",
      "188 - random_35 - deep - 343.6218989931304 - 187.1069936682408 - 115.92857191736402 - 133.54610850904564 - 379.8536763259078 - 232.0210785852938 - 0.3320849208565876'\n",
      "189 - random_69 - deep - 124.40088456252525 - 304.7749486136097 - 274.16809392931543 - 195.29885632809817 - 270.5203373963692 - 233.8231907083437 - 0.3268972117543315'\n",
      "190 - random_65 - knn_ttm_n=500 - 243.06977191208796 - 214.65282242165046 - 293.15116457978866 - 213.7695718809828 - 205.05356087705553 - 233.9401657087161 - 0.3265604785695817'\n",
      "191 - random_56 - knn_tta_n=100 - 127.33342680102388 - 186.91076849142564 - 193.4302570919478 - 546.5394182810863 - 126.26534898926582 - 236.08646462626467 - 0.3203819648821107'\n",
      "192 - random_99 - deep - 263.09457139640017 - 306.4684402446081 - 140.19676768445618 - 164.06413982633168 - 308.1566714952608 - 236.3984149341143 - 0.3194839581695488'\n",
      "193 - random_64 - deep - 241.1785170456459 - 315.85131160839717 - 187.73605310490234 - 172.35342246512494 - 268.601849788322 - 237.14457571775586 - 0.31733599798464485'\n",
      "194 - random_73 - deep - 203.93809781567805 - 242.83553683670394 - 199.06381889826883 - 156.12635724592846 - 389.7478668489246 - 238.33937268158203 - 0.313896556561822'\n",
      "195 - random_1 - deep - 258.9156188701761 - 439.99101661988095 - 150.95944654720515 - 151.65252820928325 - 208.74931701949671 - 242.05504119029985 - 0.30320032567968425'\n",
      "196 - random_61 - knn_tta_r_n=500 - 117.1250963098839 - 163.70945742040178 - 725.3917816915337 - 96.40194679186791 - 110.69743632148753 - 242.65431755600034 - 0.30147519989617066'\n",
      "197 - random_61 - knn_ttm_r_n=500 - 119.13934841836533 - 159.9460559582031 - 737.5689246924345 - 98.9869777787477 - 109.3277244029731 - 244.9829529854128 - 0.29477179723584235'\n",
      "198 - random_97 - knn_ttm_n=1000 - 156.66252948911304 - 193.36754152575566 - 482.7353605896023 - 219.4577615241848 - 179.90052468187915 - 246.4170027709658 - 0.29064362284405076'\n",
      "199 - random_97 - knn_ttm_n=500 - 157.7751900035768 - 193.75976081394566 - 501.7719417258857 - 222.7452590765695 - 178.26185902742085 - 250.85477456720608 - 0.2778686856902548'\n",
      "200 - random_94 - knn_tta_r_n=100 - 113.315299323409 - 189.14946411475267 - 572.06501538943 - 131.9459062718877 - 251.4195255900041 - 251.56711873820586 - 0.27581807280743265'\n",
      "201 - random_63 - deep - 315.5416763831829 - 377.3101399739583 - 146.16157212613112 - 144.92404623718394 - 277.1512698938025 - 252.22320214346055 - 0.27392941603137544'\n",
      "202 - random_78 - knn_ttm_n=100 - 222.19119859697642 - 206.7521252006432 - 371.66400159571157 - 252.13130882464435 - 210.51155512164863 - 252.6474112001712 - 0.27270825352357075'\n",
      "203 - random_72 - deep - 191.15555146316 - 414.49112395121654 - 143.6570603936949 - 301.3863704594213 - 215.55500326613097 - 253.24366662687802 - 0.2709918225146112'\n",
      "204 - random_50 - deep - 156.86900229618468 - 302.1851283538542 - 521.0895503917199 - 156.80438084045122 - 172.14229602163957 - 261.8090222140164 - 0.24633488104292545'\n",
      "205 - random_81 - deep - 242.26546759769835 - 320.2775861272117 - 227.0840230352049 - 230.68733641380584 - 291.0689128828028 - 262.2749400347429 - 0.24499365144429452'\n",
      "206 - random_20 - deep - 424.7689771981075 - 234.56940618451682 - 287.9388153286729 - 162.49302352076205 - 211.90986001959337 - 264.3498533609584 - 0.23902063422126885'\n",
      "207 - random_32 - deep - 216.86114507214776 - 384.27538544003846 - 235.2052249587677 - 249.75424362781388 - 243.78037951865448 - 265.97103640499506 - 0.23435376253975626'\n",
      "208 - random_46 - deep - 320.4822348759092 - 392.2286034008715 - 146.0041124574991 - 143.9589324085915 - 328.3355644360962 - 266.2065727705809 - 0.23367572806452386'\n",
      "209 - random_97 - knn_ttm_n=100 - 163.5914295667413 - 197.1905047343442 - 576.3641693697537 - 231.4557660767297 - 177.86243106814692 - 269.2837448276312 - 0.22481752675378963'\n",
      "210 - random_90 - knn_tta_n=500 - 107.96876717787248 - 153.891844350464 - 820.5566563974648 - 168.97874124470218 - 101.50382062311917 - 270.5659429164012 - 0.22112648522330103'\n",
      "211 - random_95 - deep - 340.0571946768925 - 232.20827167966644 - 151.20028395362843 - 247.63893701866712 - 384.8021696879464 - 271.1873102569021 - 0.21933776492491275'\n",
      "212 - random_90 - knn_tta_n=1000 - 108.90348753053976 - 153.9814016585215 - 831.7935495916695 - 161.93107476011414 - 102.09000743755205 - 271.72586173132396 - 0.21778744693009766'\n",
      "213 - random_25 - deep - 342.93730531889815 - 367.4262772692129 - 314.38571142646555 - 111.77576212617744 - 228.11528689905506 - 272.93410494703875 - 0.21430929716317426'\n",
      "214 - random_90 - deep - 153.5484714113433 - 209.7470068691002 - 116.69369366355063 - 146.2161984297673 - 741.3980886468398 - 273.5103438187732 - 0.21265048825681654'\n",
      "215 - random_22 - deep - 197.00275065981108 - 324.0243523167145 - 287.0030782024323 - 180.94952918641164 - 385.51918446950845 - 274.8930621579578 - 0.2086700808103008'\n",
      "216 - random_27 - deep - 258.0966375416723 - 229.11503722802377 - 542.0251446156833 - 156.5973713551168 - 198.76563997585333 - 276.91834402703574 - 0.2028399368073469'\n",
      "217 - random_2 - deep - 301.2125172582166 - 328.82546073252297 - 187.56273652768022 - 245.5780782991568 - 335.0213261415548 - 279.64188357749237 - 0.1949997304541784'\n",
      "218 - random_51 - deep - 186.25490259630928 - 745.1730941239489 - 130.4379727395252 - 218.33665025455267 - 124.46683698936287 - 280.92572872018434 - 0.1913039475739442'\n",
      "219 - random_49 - deep - 437.1320676606277 - 252.51627252799983 - 167.88415565836166 - 392.8127469699822 - 175.26512709893558 - 285.13517940918933 - 0.17918627444165813'\n",
      "220 - random_56 - knn_ttm_n=100 - 205.6882949008412 - 254.22132579930886 - 196.9870853760204 - 542.8831192223781 - 241.75655624245283 - 288.3001515253952 - 0.1700753246737332'\n",
      "221 - random_79 - knn_tta_r_n=100 - 120.26309006679051 - 326.68145681795227 - 761.422957964478 - 123.06261371971684 - 111.42660092212306 - 288.5568295610414 - 0.16933643003816012'\n",
      "222 - random_71 - deep - 286.48744343724746 - 349.90697831601716 - 253.62322770711316 - 265.9407402259001 - 318.42605805983055 - 294.8761658270537 - 0.15114506476410283'\n",
      "223 - random_58 - deep - 311.21406113197065 - 389.94363186183597 - 295.6953527295111 - 268.5951326147345 - 209.4054508645147 - 294.9721236664062 - 0.1508688325861628'\n",
      "224 - random_91 - deep - 303.3156917703563 - 362.0318652206888 - 232.91717569105273 - 271.01775855573925 - 337.54803692158464 - 301.36626960504145 - 0.13246211490043291'\n",
      "225 - random_82 - knn_tta_r_n=1000 - 113.21069887111848 - 174.76031855719668 - 840.4142032978515 - 232.06094764286726 - 146.79525121186364 - 301.4320509405806 - 0.13227275224738855'\n",
      "226 - random_87 - deep - 343.6316162109375 - 376.7019341433033 - 198.6284823168861 - 258.2333754670677 - 333.0371265288004 - 302.0500891579092 - 0.13049361534186554'\n",
      "227 - random_75 - deep - 441.34064215298355 - 258.4505730119436 - 427.95305945103206 - 210.24514827094956 - 251.1581384182593 - 317.8401637631429 - 0.08503899977874518'\n",
      "228 - random_83 - deep - 343.33872501767917 - 383.25718885703867 - 182.92555246686257 - 300.7185258721421 - 379.5154211777148 - 317.95327522036763 - 0.08471338777674542'\n",
      "229 - random_54 - deep - 107.86150617928341 - 149.28745643842728 - 614.5385572162874 - 628.4059023641214 - 126.56213986560053 - 325.3123594083008 - 0.06352891898720192'\n",
      "230 - random_85 - deep - 252.52489166259767 - 425.3125330311001 - 283.55635741292633 - 301.24595849027713 - 379.9179379659359 - 328.5049840528278 - 0.05433836546022752'\n",
      "231 - random_62 - deep - 304.8942090790847 - 457.81086502634486 - 286.1459341505675 - 264.90033893330235 - 337.16750934793293 - 330.18158992789404 - 0.04951194903045675'\n",
      "232 - random_60 - deep - 159.2014653172986 - 409.78500322783594 - 604.9387907659046 - 159.25011598883955 - 324.15470378262154 - 331.4511606932265 - 0.045857257554253406'\n",
      "233 - random_77 - knn_tta_r_n=100 - 255.39186958710278 - 855.4938044406641 - 268.93203137144235 - 159.79016232683574 - 152.0086994464697 - 338.31616170598903 - 0.026095098542675665'\n",
      "234 - random_79 - knn_tta_n=100 - 153.43302416111908 - 940.7181802944953 - 185.7694144593222 - 262.53924056788503 - 150.07169323874015 - 338.49035044717687 - 0.025593664416779793'\n",
      "235 - random_61 - knn_tta_n=500 - 110.24623631999009 - 159.38546500989924 - 1215.3717717433249 - 109.6218335722015 - 101.24210910260219 - 339.15374123456144 - 0.023683972795316754'\n",
      "236 - random_14 - deep - 307.0092798167262 - 408.1176962842197 - 305.29689109443643 - 300.07880136770336 - 379.9035649926768 - 340.0783915479515 - 0.021022196816425254'\n",
      "237 - random_47 - deep - 343.6262458538187 - 398.61311430476667 - 287.05370889115096 - 301.2164843626298 - 379.91628712485095 - 342.0853001049507 - 0.015244943750217677'\n",
      "238 - random_77 - knn_ttm_r_n=100 - 410.59663858780664 - 596.9921468212611 - 346.8625971539125 - 196.1435929315897 - 173.17073452482964 - 344.75882012535146 - 0.007548728835143903'\n",
      "239 - random_48 - knn_tta_n=1000 - 129.34178029758883 - 169.110807261023 - 1135.939964776544 - 185.22083271134554 - 113.99945937091069 - 346.70382269612594 - 0.0019496834703808252'\n",
      "240 - random_88 - deep - 343.6144915350552 - 425.30140799867434 - 286.9515772824043 - 301.253099761476 - 379.8450143903738 - 347.39278868426794 - -3.363212798324078e-05'\n",
      "241 - random_67 - deep - 343.6205836855132 - 425.33258317204684 - 286.95215508319944 - 301.2171824966437 - 379.91193805084293 - 347.40655886342574 - -7.327210534269213e-05'\n",
      "242 - random_86 - deep - 343.6570297767376 - 425.33464423373323 - 286.95403482257007 - 301.21648706038894 - 379.91509380727143 - 347.4151363620541 - -9.796400277783945e-05'\n",
      "243 - random_21 - deep - 343.65288780475487 - 425.33157981619235 - 286.97851967163876 - 301.2164775195333 - 379.912544665022 - 347.418074055379 - -0.00010642068990973641'\n",
      "244 - random_24 - deep - 343.6170211265827 - 425.6621587242531 - 286.95246835225817 - 301.2244246475858 - 380.8173778019058 - 347.65435126477246 - -0.0007865878194397435'\n",
      "245 - random_7 - deep - 312.39085909087083 - 399.8913850574567 - 271.44611970244324 - 399.8640996119543 - 360.34171601131385 - 348.7836920362436 - -0.004037601629720333'\n",
      "246 - random_94 - knn_tta_n=100 - 140.33577912402322 - 316.9812627620331 - 435.9106501522481 - 191.55294044343637 - 725.5196882836683 - 362.04094339721513 - -0.04220102144928006'\n",
      "247 - random_89 - deep - 195.7904695708176 - 758.0551933101048 - 138.36380408888698 - 571.5713307461691 - 149.9536893251591 - 362.73250018276343 - -0.044191795179485016'\n",
      "248 - random_4 - deep - 153.28682782403354 - 738.7934192889412 - 401.7067097165863 - 318.96366053914755 - 212.11416870748857 - 364.9547086245178 - -0.05058882831241207'\n",
      "249 - random_0 - deep - 628.4682745571794 - 227.33314526003977 - 417.0053315485485 - 249.55287875117492 - 305.1716813831403 - 365.528940724257 - -0.05224186035882128'\n",
      "250 - random_98 - knn_tta_n=100 - 263.37220890040174 - 755.9655664197535 - 215.80322271794793 - 295.21475625665255 - 298.40217829667375 - 365.7427576654385 - -0.052857370356550026'\n",
      "251 - random_26 - deep - 126.90940580696895 - 159.4789639794143 - 1253.2815120280843 - 199.32892279976554 - 129.61894506377976 - 373.70229181024126 - -0.07577034523074766'\n",
      "252 - random_90 - knn_ttm_n=500 - 147.26926586304054 - 185.36164976092564 - 1162.0833156186254 - 223.00526131501726 - 156.59018246798612 - 374.84230817956353 - -0.07905208952715359'\n",
      "253 - random_82 - knn_ttm_r_n=1000 - 165.0848250435719 - 185.51028668167217 - 1205.9032933838882 - 192.33479101259303 - 149.97384789892993 - 379.7428958182946 - -0.09315932666685889'\n",
      "254 - random_90 - knn_ttm_n=1000 - 144.55118859621504 - 183.9216557841917 - 1255.4440555019191 - 222.61018318450607 - 155.5972600988799 - 392.4034928414869 - -0.1296051690235669'\n",
      "255 - random_90 - knn_ttm_n=100 - 168.84621367230855 - 201.3237169616666 - 738.502787201072 - 197.88961900717314 - 682.6824193334656 - 397.8292028100283 - -0.1452240667599407'\n",
      "256 - random_8 - deep - 343.6563767005657 - 425.0141814751274 - 615.199954277588 - 314.6821923710345 - 332.90162589602454 - 406.2854602014812 - -0.16956695038176584'\n",
      "257 - random_61 - knn_ttm_n=500 - 154.33636615695312 - 176.02242012729036 - 1447.7272129749765 - 167.70752435815433 - 151.90851878109052 - 419.51753817593976 - -0.2076579038276114'\n",
      "258 - random_43 - deep - 470.44245689655173 - 439.23751608654055 - 286.9153401455832 - 301.33733534391405 - 717.5659668310905 - 443.10208348583086 - -0.2755503291536212'\n",
      "259 - random_3 - deep - 682.6990425899111 - 756.3823779633766 - 619.5512182343464 - 149.27811669748166 - 136.79033346698426 - 468.9586509895646 - -0.3499831842887404'\n",
      "260 - random_6 - deep - 404.30594114106276 - 388.0437277283531 - 616.9086886426918 - 245.25348075415977 - 724.5091748947005 - 475.798034164626 - -0.3696715987315857'\n",
      "261 - random_65 - knn_tta_r_n=100 - 165.41637697958944 - 740.8362555035723 - 365.41216902849084 - 948.8719452051837 - 384.69070082341835 - 521.0148212506753 - -0.49983638259916363'\n",
      "262 - random_51 - knn_tta_n=100 - 437.29429124567633 - 621.4689716995186 - 746.2229837682559 - 212.16498440992834 - 686.6301570936691 - 540.747355430026 - -0.5566400885129972'\n",
      "263 - random_45 - deep - 343.2740714237608 - 377.6250962771029 - 626.9011848189801 - 639.9352914630056 - 734.2683331948922 - 544.3834534324449 - -0.5671072628430658'\n",
      "264 - random_98 - knn_ttm_n=100 - 446.62308423253546 - 1024.4812096919798 - 499.9793674382355 - 438.4032363214231 - 427.76219951020954 - 567.4393997480172 - -0.633478016267093'\n",
      "265 - random_82 - knn_tta_n=1000 - 147.61370037718785 - 235.97014396499125 - 2073.691845399835 - 164.45132506898176 - 426.52191627972417 - 609.6099417816279 - -0.7548736285149558'\n",
      "266 - random_33 - deep - 621.9321531098465 - 753.0920146960233 - 618.1062183585749 - 618.6280921057619 - 732.589209184404 - 668.8654840132418 - -0.9254515383470743'\n",
      "267 - random_48 - knn_tta_n=500 - 153.56554126081306 - 184.18959930222368 - 2797.9535880064336 - 196.6020365311489 - 222.09609180196716 - 710.8333103396307 - -1.0462635942900227'\n",
      "268 - random_94 - knn_ttm_n=100 - 245.55080056861175 - 511.86695382531906 - 2332.4134295562703 - 298.7904762464024 - 440.32940540945464 - 765.7453494257518 - -1.2043379344141139'\n",
      "269 - random_65 - knn_ttm_r_n=100 - 244.70097389880826 - 930.7051074148279 - 551.5637779482477 - 1614.0634296645492 - 679.430151520512 - 804.0444480312491 - -1.3145888892168767'\n",
      "270 - random_48 - knn_ttm_n=1000 - 228.51784005317228 - 224.12738423936696 - 3359.9424087132156 - 300.0440389767333 - 225.58719897459628 - 867.5886581225882 - -1.497512511177836'\n",
      "271 - random_79 - knn_ttm_n=100 - 287.3986217382033 - 1938.5639843589659 - 1342.525050054354 - 550.6930929792383 - 237.98599693162623 - 871.3829840238371 - -1.5084351717280113'\n",
      "272 - random_65 - knn_tta_n=100 - 347.7326504446203 - 1701.4014727021083 - 472.0890785052527 - 1023.5330877640482 - 895.8837569057455 - 888.0814073879475 - -1.556504635152137'\n",
      "273 - random_94 - knn_ttm_r_n=100 - 127.89956912560747 - 191.95138257139163 - 4912.521609557798 - 137.33960409867447 - 226.9819000482209 - 1119.2533146977964 - -2.221975218860035'\n",
      "274 - random_77 - knn_tta_n=100 - 584.8888595041393 - 3398.197441212732 - 1831.3025540898595 - 267.3583151925663 - 242.6001232325578 - 1264.810819408777 - -2.6409890979697073'\n",
      "275 - random_79 - knn_ttm_r_n=100 - 132.03420553378217 - 372.29254080197893 - 5587.755441187723 - 122.39460825514901 - 126.56136459102983 - 1268.109652302758 - -2.6504853913431483'\n",
      "276 - random_82 - knn_ttm_n=1000 - 2797.0266647208487 - 337.25050513068237 - 2127.6862310835913 - 662.0876554160361 - 505.5881652309298 - 1286.058156391306 - -2.702153440594827'\n",
      "277 - random_65 - knn_ttm_n=100 - 469.82421899734123 - 3240.723576482507 - 916.8230867830447 - 1284.6392968604914 - 1428.6731641244905 - 1468.0505775449133 - -3.2260518854572267'\n",
      "278 - random_52 - knn_tta_n=100 - 216.1931899538047 - 323.7015995869368 - 734.1429388995416 - 825.9812016854819 - 7354.483680770961 - 1890.7561010572144 - -4.442886987705393'\n",
      "279 - random_48 - knn_ttm_n=500 - 272.54396432483685 - 260.22209931836386 - 8643.52934254147 - 310.8224338463809 - 598.5768445160769 - 2016.9884889124803 - -4.806269986126095'\n",
      "280 - random_68 - knn_tta_r_n=500 - 136.50624352368843 - 194.0323210127981 - 9888.031694728159 - 1836.3618344387578 - 1070.5955365894094 - 2624.8909176347497 - -6.556228226238008'\n",
      "281 - random_77 - knn_ttm_n=100 - 1419.4012520613421 - 2903.5801599151873 - 9216.798593431697 - 728.1734262344061 - 406.2528781530688 - 2934.710575514686 - -7.448100733467863'\n",
      "282 - random_52 - knn_ttm_n=100 - 355.30095293374796 - 1392.8794075788173 - 1617.287552349468 - 8420.695964323066 - 3347.7510074932256 - 3026.5525973199356 - -7.712484778098915'\n",
      "283 - random_52 - knn_ttm_r_n=100 - 183.4446693188178 - 253.68643093897543 - 200.2730237178433 - 241.05385985369443 - 19720.163760067302 - 4119.384897271958 - -10.858402277361305'\n",
      "284 - random_51 - knn_tta_r_n=100 - 230.95696304872354 - 314.30074538906405 - 24675.21957956688 - 147.52624482653343 - 273.10831618123615 - 5127.800046121325 - -13.761309579264614'\n",
      "285 - random_51 - knn_ttm_r_n=100 - 252.32701887062868 - 321.8077876350521 - 25352.132660625106 - 168.46983066715455 - 212.50342204230404 - 5261.016174226322 - -14.144796550328598'\n",
      "286 - random_68 - knn_tta_r_n=1000 - 120.1862952953034 - 177.92945211245006 - 28501.560918624888 - 151.93713248187336 - 299.83417000949487 - 5849.795448887761 - -15.839705296566937'\n",
      "287 - random_51 - knn_ttm_n=100 - 654.013965874658 - 740.4235758423667 - 27406.57634951108 - 310.22318755857935 - 1155.3177709941988 - 6052.845352760238 - -16.424221553859127'\n",
      "288 - random_68 - knn_ttm_r_n=1000 - 115.13109089422791 - 160.6470600480768 - 28248.37145983014 - 1434.3184348750717 - 366.44883193439733 - 6064.470280286596 - -16.4576860322923'\n",
      "289 - random_82 - knn_ttm_r_n=500 - 2390.563636743828 - 182.41237103242904 - 32271.907387536357 - 244.53417364336394 - 182.67252432701204 - 7054.015823556398 - -19.30627372596337'\n",
      "290 - random_82 - knn_tta_r_n=500 - 1444.731457373145 - 200.6394977852868 - 36270.45564586736 - 133.20553465880926 - 271.41436175308854 - 7663.55296300581 - -21.060937779659834'\n",
      "291 - random_52 - knn_tta_r_n=100 - 171.34817889703575 - 233.14587464801167 - 188.63377601643575 - 200.09458106696243 - 39713.76077454064 - 8100.71277635271 - -22.31938219683406'\n",
      "292 - random_68 - knn_ttm_r_n=500 - 133.42443022527914 - 182.01309745316237 - 77247.04747543196 - 33468.453531893625 - 470.8497741304762 - 22298.446060133934 - -63.190152203603006'\n",
      "293 - random_68 - knn_tta_n=1000 - 130.48201267294587 - 221.7243320424362 - 117936.691640505 - 504.5814124747612 - 1975.0031357610176 - 24151.6248255517 - -68.52486596311137'\n",
      "294 - random_82 - knn_tta_n=500 - 14110.770099583908 - 271.35031152276815 - 169828.66280592844 - 278.5919887370502 - 475.02538828097244 - 36990.90684267926 - -105.48508573097489'\n",
      "295 - random_48 - knn_tta_r_n=100 - 295.4992126819558 - 536.9070456849881 - 5350.693221975656 - 367.64768987582744 - 178781.7482299293 - 37063.328072797114 - -105.69356347742865'\n",
      "296 - random_48 - knn_ttm_n=100 - 1588.9746012989217 - 1944.2603186855285 - 14475.897567555096 - 764.2609527356593 - 202507.42758917555 - 44252.48473110535 - -126.38886479429449'\n",
      "297 - random_82 - knn_ttm_n=500 - 82882.81888451244 - 398.24630767073114 - 212246.97215774172 - 681.0420202937715 - 4642.418460001151 - 60172.25821724425 - -172.2168422401812'\n",
      "298 - random_68 - knn_ttm_n=1000 - 231.64417513077106 - 349.5205333188756 - 391678.3489967584 - 417.32973411906323 - 6431.2457833882845 - 79814.75427316765 - -228.76135696054112'\n",
      "299 - random_98 - knn_tta_r_n=100 - 155.9244855648446 - 406360.5757499528 - 153.01350599648836 - 165.97985766233398 - 146.61664542438973 - 81389.41614192093 - -233.29430893180844'\n",
      "300 - random_48 - knn_tta_n=100 - 682.2691533030571 - 1552.959294521874 - 11677.869999117496 - 554.1593570702552 - 507383.9928661925 - 104361.30843164532 - -299.4230991849767'\n",
      "301 - random_68 - knn_tta_n=500 - 257.17054658061824 - 226.11472704385235 - 527187.4935396516 - 60875.59480041106 - 1922.8721718366594 - 118083.68731865956 - -338.92547468583086'\n",
      "302 - random_68 - knn_tta_r_n=100 - 2115.4107629800246 - 1915.0296388467916 - 55772.200445354836 - 535481.0859216622 - 3072.324743654535 - 119661.07268611994 - -343.4662667458678'\n",
      "303 - random_68 - knn_ttm_n=500 - 596.9254186799806 - 448.60250759380216 - 753445.7943330721 - 126982.13525654767 - 6621.703581688349 - 177603.76642900234 - -510.264900175844'\n",
      "304 - random_61 - knn_tta_r_n=100 - 17076.34131396718 - 1057013.6136284443 - 10292.015913971247 - 1004.1224812255645 - 12684.643716672314 - 219596.6812323379 - -631.149179978562'\n",
      "305 - random_48 - knn_ttm_r_n=100 - 324.46447491598923 - 534.6119561300469 - 3775.832553634111 - 403.8912374914698 - 1136493.8939329286 - 228286.87842446982 - -656.1655007992119'\n",
      "306 - random_55 - knn_ttm_r_n=500 - 111.70220267196302 - 1323708.1712778849 - 488072.45995422703 - 115.24711079851676 - 51224.14905836119 - 372614.21978731867 - -1071.638129889088'\n",
      "307 - random_61 - knn_ttm_r_n=100 - 1917374.2359084885 - 1048524.3352569254 - 7386.515223495419 - 7488.806139999823 - 8885.965762417474 - 598045.7559169971 - -1720.5840060560827'\n",
      "308 - random_55 - knn_tta_n=1000 - 105.30797258582083 - 1653716.6839935144 - 1360003.2983976377 - 120.55389497501632 - 40954.897212805205 - 610927.4685046932 - -1757.6663699758544'\n",
      "309 - random_55 - knn_tta_r_n=1000 - 105.8222468857219 - 752823.8291278005 - 2422524.342951731 - 109.06680729827491 - 6289.853660051885 - 636315.7136278882 - -1830.7510734679902'\n",
      "310 - random_68 - knn_ttm_r_n=100 - 985.004671745798 - 1079.2486806893014 - 3087991.7314258455 - 300784.7693895385 - 12701.245512747217 - 680649.7828789157 - -1958.3747942131042'\n",
      "311 - random_61 - knn_tta_n=100 - 2302991.228539027 - 1200505.704223486 - 17545.008576694137 - 3493.7663640758637 - 16469.43378889859 - 708338.5576361597 - -2038.0819926970555'\n",
      "312 - random_55 - knn_tta_r_n=500 - 105.88244051147329 - 935899.036887435 - 2663276.580325731 - 110.87059728691149 - 21973.385056017392 - 724210.7013141887 - -2083.772859035569'\n",
      "313 - random_55 - knn_ttm_r_n=1000 - 111.25897823946875 - 1353194.0109745774 - 3122567.8614868307 - 112.86275408084903 - 47334.92388925646 - 904586.178017715 - -2603.016633788869'\n",
      "314 - random_55 - knn_ttm_n=1000 - 153.59408380659954 - 3905742.321432006 - 1125999.7583290013 - 156.34038893711212 - 199473.37340229243 - 1046214.8609453316 - -3010.720681371499'\n",
      "315 - random_55 - knn_tta_r_n=100 - 235.78899411296376 - 1558672.094945942 - 739122.8586623296 - 210.71626887202956 - 3094676.878872763 - 1078490.6744582076 - -3103.632509231586'\n",
      "316 - random_55 - knn_ttm_r_n=100 - 446.51781057395203 - 2112034.2700753123 - 765780.2303679446 - 215.13700295598977 - 2880765.653861452 - 1151749.0688050191 - -3314.520185916854'\n",
      "317 - random_68 - knn_ttm_n=100 - 32867.03963332514 - 6591.354109302671 - 9602681.09440863 - 1230145.3646043856 - 64091.23932786481 - 2187089.4295085627 - -6294.9366309404'\n",
      "318 - random_82 - knn_ttm_r_n=100 - 38882.88163882456 - 720.4653640608825 - 59402.97746388967 - 225757.89505591657 - 11022206.585156558 - 2269201.809152536 - -6531.312122440234'\n",
      "319 - random_55 - knn_ttm_n=500 - 163.21106926043316 - 3951936.134570429 - 11314928.603491385 - 159.55619055041163 - 131585.13510038913 - 3079488.954497216 - -8863.871756776725'\n",
      "320 - random_55 - knn_tta_n=500 - 107.77494532234378 - 2126857.8008826063 - 13119052.74714073 - 122.1160446454803 - 987095.3415465287 - 3246367.1854857877 - -9344.261243009836'\n",
      "321 - random_61 - knn_ttm_n=100 - 14403100.160398537 - 2554194.6287785023 - 11883.782240170747 - 6887.272257304256 - 30914.56208086876 - 3402344.831071674 - -9793.271401992077'\n",
      "322 - random_82 - knn_tta_r_n=100 - 45604.706858406 - 466.79586506556285 - 98306.1881470567 - 129001.11438583423 - 20669267.506160636 - 4188171.990417633 - -12055.418496373017'\n",
      "323 - random_68 - knn_tta_n=100 - 9233.096345037588 - 3513.309450536001 - 4355024.604139936 - 19004204.47693992 - 16541.01971204973 - 4677300.708164257 - -13463.464902595118'\n",
      "324 - random_55 - knn_ttm_n=100 - 7672.66688186278 - 6458767.207511141 - 18330298.755756773 - 449.8446102997711 - 6484317.342365688 - 6255762.302740732 - -18007.355079074852'\n",
      "325 - random_55 - knn_tta_n=100 - 133.10922708557598 - 28057.883593917228 - 32594238.303181946 - 399.97461190663245 - 7151380.709247735 - 7954156.008659069 - -22896.491756605494'\n",
      "326 - random_82 - knn_tta_n=100 - 26784.763197298686 - 1580.407458075909 - 268619.30805657443 - 225409.2536626221 - 40011609.493009366 - 8106103.851709951 - -23333.901392512053'\n",
      "327 - random_82 - knn_ttm_n=100 - 130347.79889023746 - 3033.7337420616554 - 41839.1977734123 - 1074450.2351119164 - 57499921.45914335 - 11748916.452275584 - -33820.403216402214'\n"
     ]
    }
   ],
   "source": [
    "scores_df = pd.DataFrame(all_scores)\n",
    "scores_df.to_csv(log_dir/f\"scores.csv\",index=False)\n",
    "\n",
    "scores_df_sorted = pd.DataFrame(scores_df).sort_values(by='MSE')\n",
    "\n",
    "best_5 = []\n",
    "summary_logger.info(f\"Rank - \" +\" - \".join(list(scores_df_sorted.columns)))\n",
    "for i,(index,row) in enumerate(scores_df_sorted.iterrows()):\n",
    "    if i < 5:\n",
    "        best_5.append((row[\"model_num\"],row[\"predictor\"],row[\"MSE\"],row[\"R2\"]))\n",
    "    s = f\"{i} - \" + \" - \".join([f\"{i}\" for i in row.tolist()])\n",
    "    summary_logger.info(s)"
   ]
  },
  {
   "cell_type": "code",
   "execution_count": 15,
   "metadata": {
    "collapsed": false,
    "jupyter": {
     "outputs_hidden": false
    },
    "pycharm": {
     "name": "#%% save scores\n"
    }
   },
   "outputs": [
    {
     "name": "stdout",
     "output_type": "stream",
     "text": [
      "-----------------------\n",
      " Best 5 on Test Sest \n",
      " ---------------------'\n",
      "Rank -  Deep Model - Predictor - Val Set - Test Set'\n",
      "0 - random_77 - knn_tta_r_n=1000 - 112.97060368270658 - 0.6747934710172224 - 94.0655883139276 - 0.7140342031408256'\n",
      "1 - random_66 - knn_tta_r_n=500 - 113.05219950355193 - 0.6745585825346296 - 117.85453725455011 - 0.6417141776970461'\n",
      "2 - random_66 - knn_ttm_r_n=500 - 113.31239489280904 - 0.6738095625538629 - 114.16184109412129 - 0.652940225596217'\n",
      "3 - random_66 - knn_ttm_r_n=1000 - 113.54229193903168 - 0.6731477618907856 - 114.61361776054538 - 0.6515667937522021'\n",
      "4 - random_78 - knn_tta_r_n=500 - 113.72280860593494 - 0.6726281116742387 - 109.42581046971226 - 0.6673380813448963'\n"
     ]
    }
   ],
   "source": [
    "scores_df_final = pd.DataFrame(all_scores_final)\n",
    "scores_df_final.to_csv(log_dir/f\"test_scores.csv\",index=False)\n",
    "\n",
    "summary_logger.info(\"-----------------------\\n Best 5 on Test Sest \\n ---------------------\")\n",
    "summary_logger.info(f\"Rank -  Deep Model - Predictor - Val Set - Test Set\")\n",
    "for i, (j,k,v,x) in enumerate(best_5):\n",
    "    row = scores_df_final.loc[(scores_df_final['model_num']==j) & (scores_df_final['predictor'] == k)].iloc[0]\n",
    "    #print(row)\n",
    "    s = f\"{i} - {j} - {k} - {v} - {x} - {row['MSE']} - {row['R2']}\"\n",
    "    summary_logger.info(s)"
   ]
  },
  {
   "cell_type": "code",
   "execution_count": 16,
   "metadata": {
    "collapsed": false,
    "jupyter": {
     "outputs_hidden": false
    },
    "pycharm": {
     "name": "#%%\n"
    }
   },
   "outputs": [
    {
     "data": {
      "image/png": "[encoded data removed]",
      "text/plain": [
       "<Figure size 432x288 with 1 Axes>"
      ]
     },
     "metadata": {},
     "output_type": "display_data"
    }
   ],
   "source": [
    "#graph our deep models by rank - plot - then overlay our knn moels\n",
    "\n",
    "deep_set = scores_df[scores_df[\"predictor\"]==\"deep\"].sort_values(\"R2\")\n",
    "deep_set[\"order\"] = [i for i in range(0,100)]\n",
    "deep_ordering = {row[\"model_num\"]:row[\"order\"] for index, row in deep_set.iterrows()}\n",
    "\n",
    "def order_models(x):\n",
    "    x = [deep_ordering[i] for i in x]\n",
    "    return x\n",
    "\n",
    "fig, ax = plt.subplots()\n",
    "set_deep = False\n",
    "knn_models = scores_df[\"predictor\"].unique()\n",
    "for knn_model in knn_models:\n",
    "    subset = scores_df[scores_df[\"predictor\"]==knn_model]\n",
    "    s=3\n",
    "    if knn_model == \"deep\":\n",
    "        s=10\n",
    "    ax.scatter(x=order_models(subset[\"model_num\"].tolist()), y=subset[\"R2\"], s=s, label=knn_model)\n",
    "\n",
    "#ax.set_ylim(0,scores_db[\"deep_mean\"].max())\n",
    "ax.set_ylim(0,1)\n",
    "# plot residuals\n",
    "ax.legend(loc='upper right',bbox_to_anchor=(1.4, 1))\n",
    "ax.set_ylabel(\"R^2 Score\")\n",
    "ax.set_xlabel(\"Deep Model Rank\")\n",
    "#ax.set_ylim(0,200)\n",
    "#ax.set_yscale(\"symlog\")\n",
    "ax.set_title(\"Summary of LWR improvements over Deep Models\")\n",
    "plt.savefig(log_dir/f\"summary_plot.png\", bbox_inches='tight')"
   ]
  },
  {
   "cell_type": "code",
   "execution_count": 17,
   "metadata": {},
   "outputs": [
    {
     "ename": "ValueError",
     "evalue": "operands could not be broadcast together with shapes (19,) (100,) ",
     "output_type": "error",
     "traceback": [
      "\u001b[1;31m---------------------------------------------------------------------------\u001b[0m",
      "\u001b[1;31mValueError\u001b[0m                                Traceback (most recent call last)",
      "\u001b[1;32m~\\AppData\\Local\\Temp\\ipykernel_30284\\3535465147.py\u001b[0m in \u001b[0;36m<module>\u001b[1;34m\u001b[0m\n\u001b[0;32m     39\u001b[0m         \u001b[1;32mpass\u001b[0m\u001b[1;33m\u001b[0m\u001b[1;33m\u001b[0m\u001b[0m\n\u001b[0;32m     40\u001b[0m     \u001b[1;32melse\u001b[0m\u001b[1;33m:\u001b[0m\u001b[1;33m\u001b[0m\u001b[1;33m\u001b[0m\u001b[0m\n\u001b[1;32m---> 41\u001b[1;33m         \u001b[0my1\u001b[0m \u001b[1;33m=\u001b[0m \u001b[0msubset\u001b[0m\u001b[1;33m[\u001b[0m\u001b[1;34m\"R2\"\u001b[0m\u001b[1;33m]\u001b[0m\u001b[1;33m.\u001b[0m\u001b[0mto_numpy\u001b[0m\u001b[1;33m(\u001b[0m\u001b[1;33m)\u001b[0m \u001b[1;33m-\u001b[0m \u001b[0mscores_df_final\u001b[0m\u001b[1;33m[\u001b[0m\u001b[0mscores_df_final\u001b[0m\u001b[1;33m[\u001b[0m\u001b[1;34m\"predictor\"\u001b[0m\u001b[1;33m]\u001b[0m\u001b[1;33m==\u001b[0m\u001b[1;34m'deep'\u001b[0m\u001b[1;33m]\u001b[0m\u001b[1;33m[\u001b[0m\u001b[1;34m\"R2\"\u001b[0m\u001b[1;33m]\u001b[0m\u001b[1;33m.\u001b[0m\u001b[0mto_numpy\u001b[0m\u001b[1;33m(\u001b[0m\u001b[1;33m)\u001b[0m\u001b[1;33m\u001b[0m\u001b[1;33m\u001b[0m\u001b[0m\n\u001b[0m\u001b[0;32m     42\u001b[0m         \u001b[0max\u001b[0m\u001b[1;33m.\u001b[0m\u001b[0mscatter\u001b[0m\u001b[1;33m(\u001b[0m\u001b[0mx\u001b[0m\u001b[1;33m=\u001b[0m\u001b[0morder_models\u001b[0m\u001b[1;33m(\u001b[0m\u001b[0msubset\u001b[0m\u001b[1;33m[\u001b[0m\u001b[1;34m\"model_num\"\u001b[0m\u001b[1;33m]\u001b[0m\u001b[1;33m.\u001b[0m\u001b[0mtolist\u001b[0m\u001b[1;33m(\u001b[0m\u001b[1;33m)\u001b[0m\u001b[1;33m)\u001b[0m\u001b[1;33m,\u001b[0m \u001b[0my\u001b[0m\u001b[1;33m=\u001b[0m\u001b[0my1\u001b[0m\u001b[1;33m,\u001b[0m \u001b[0ms\u001b[0m\u001b[1;33m=\u001b[0m\u001b[0ms\u001b[0m\u001b[1;33m,\u001b[0m \u001b[0mlabel\u001b[0m\u001b[1;33m=\u001b[0m\u001b[0mknn_model\u001b[0m\u001b[1;33m)\u001b[0m\u001b[1;33m\u001b[0m\u001b[1;33m\u001b[0m\u001b[0m\n\u001b[0;32m     43\u001b[0m \u001b[1;33m\u001b[0m\u001b[0m\n",
      "\u001b[1;31mValueError\u001b[0m: operands could not be broadcast together with shapes (19,) (100,) "
     ]
    },
    {
     "data": {
      "image/png": "[encoded data removed]",
      "text/plain": [
       "<Figure size 432x288 with 1 Axes>"
      ]
     },
     "metadata": {},
     "output_type": "display_data"
    },
    {
     "data": {
      "image/png": "[encoded data removed]",
      "text/plain": [
       "<Figure size 432x288 with 1 Axes>"
      ]
     },
     "metadata": {},
     "output_type": "display_data"
    }
   ],
   "source": [
    "#graph our deep models by rank on final set - plot - then overlay our knn moels\n",
    "\n",
    "deep_set = scores_df_final[scores_df_final[\"predictor\"]==\"deep\"].sort_values(\"R2\")\n",
    "deep_set[\"order\"] = [i for i in range(0,100)]\n",
    "deep_ordering = {row[\"model_num\"]:row[\"order\"] for index, row in deep_set.iterrows()}\n",
    "\n",
    "def order_models(x):\n",
    "    x = [deep_ordering[i] for i in x]\n",
    "    return x\n",
    "\n",
    "fig, ax = plt.subplots()\n",
    "set_deep = False\n",
    "knn_models = scores_df_final[\"predictor\"].unique()\n",
    "for knn_model in knn_models:\n",
    "    subset = scores_df_final[scores_df_final[\"predictor\"]==knn_model]\n",
    "    s=3\n",
    "    if knn_model == \"deep\":\n",
    "        s=10\n",
    "    ax.scatter(x=order_models(subset[\"model_num\"].tolist()), y=subset[\"R2\"], s=s, label=knn_model)\n",
    "\n",
    "#ax.set_ylim(0,scores_db[\"deep_mean\"].max())\n",
    "ax.set_ylim(0,1)\n",
    "# plot residuals\n",
    "ax.legend(loc='upper right',bbox_to_anchor=(1.4, 1))\n",
    "ax.set_ylabel(\"R^2 Score\")\n",
    "ax.set_xlabel(\"Deep Model Rank\")\n",
    "#ax.set_ylim(0,200)\n",
    "#ax.set_yscale(\"symlog\")\n",
    "ax.set_title(\"Summary of LWR improvements over Deep Models\")\n",
    "plt.savefig(log_dir/f\"summary_plot_final.png\", bbox_inches='tight')\n",
    "\n",
    "fig, ax = plt.subplots()\n",
    "set_deep = False\n",
    "knn_models = scores_df_final[\"predictor\"].unique()\n",
    "for knn_model in knn_models:\n",
    "    subset = scores_df_final[scores_df_final[\"predictor\"]==knn_model]\n",
    "    s=3\n",
    "    if knn_model == \"deep\":\n",
    "        pass\n",
    "    else:\n",
    "        y1 = subset[\"R2\"].to_numpy() - scores_df_final[scores_df_final[\"predictor\"]=='deep'][\"R2\"].to_numpy()\n",
    "        ax.scatter(x=order_models(subset[\"model_num\"].tolist()), y=y1, s=s, label=knn_model)\n",
    "\n",
    "#ax.set_ylim(0,scores_db[\"deep_mean\"].max())\n",
    "ax.set_ylim(0,1)\n",
    "# plot residuals\n",
    "ax.legend(loc='upper right',bbox_to_anchor=(1.4, 1))\n",
    "ax.set_ylabel(\"R^2 Score\")\n",
    "ax.set_xlabel(\"Deep Model Rank\")\n",
    "#ax.set_ylim(0,200)\n",
    "#ax.set_yscale(\"symlog\")\n",
    "ax.set_title(\"Summary of LWR improvements over Deep Models\")\n",
    "plt.savefig(log_dir/f\"improvement_plot_final.png\", bbox_inches='tight')"
   ]
  },
  {
   "cell_type": "code",
   "execution_count": null,
   "metadata": {},
   "outputs": [],
   "source": [
    "scores_df_base = scores_df[scores_df[\"predictor\"]=='deep']\n",
    "scores_df_uu = scores_df[scores_df[\"predictor\"].str.contains('_uu')]   #val_eq_list(scores_df[\"predictor\"],'dist')] #np.logical_or(scores_df[\"predictor\"]==\"deep\",'dist' in scores_df[\"predictor\"])]\n",
    "scores_df_ut = scores_df[scores_df[\"predictor\"].str.contains('_ut')] \n",
    "scores_df_tu = scores_df[scores_df[\"predictor\"].str.contains('_tu')]   #val_eq_list(scores_df[\"predictor\"],'dist')] #np.logical_or(scores_df[\"predictor\"]==\"deep\",'dist' in scores_df[\"predictor\"])]\n",
    "scores_df_tta = scores_df[scores_df[\"predictor\"].str.contains('_tta')] \n",
    "scores_df_ttm = scores_df[scores_df[\"predictor\"].str.contains('_ttm')] "
   ]
  },
  {
   "cell_type": "code",
   "execution_count": null,
   "metadata": {},
   "outputs": [],
   "source": [
    "fig, ax = plt.subplots()\n",
    "knn_models = scores_df_tta[\"predictor\"].unique()\n",
    "ax.scatter(x=order_models(scores_df_base[\"model_num\"].tolist()), y=scores_df_base[\"R2\"], s=10, label='deep')\n",
    "for knn_model in knn_models:\n",
    "    subset = scores_df_tta[scores_df_tta[\"predictor\"]==knn_model]\n",
    "    s=3\n",
    "    ax.scatter(x=order_models(subset[\"model_num\"].tolist()), y=subset[\"R2\"], s=s, label=knn_model)\n",
    "\n",
    "#ax.set_ylim(0,scores_db[\"deep_mean\"].max())\n",
    "ax.set_ylim(0,1)\n",
    "# plot residuals\n",
    "ax.legend(loc='upper right',bbox_to_anchor=(1.4, 1))\n",
    "ax.set_ylabel(\"R^2 Score\")\n",
    "ax.set_xlabel(\"Deep Model Rank\")\n",
    "#ax.set_ylim(0,200)\n",
    "#ax.set_yscale(\"symlog\")\n",
    "ax.set_title(\"Summary of LWR improvements over Deep Models\")\n",
    "plt.savefig(log_dir/f\"summary_plot_tta.png\", bbox_inches='tight')\n"
   ]
  },
  {
   "cell_type": "code",
   "execution_count": null,
   "metadata": {},
   "outputs": [],
   "source": [
    "fig, ax = plt.subplots()\n",
    "knn_models = scores_df_ttm[\"predictor\"].unique()\n",
    "ax.scatter(x=order_models(scores_df_base[\"model_num\"].tolist()), y=scores_df_base[\"R2\"], s=10, label='deep')\n",
    "for knn_model in knn_models:\n",
    "    subset = scores_df_ttm[scores_df_ttm[\"predictor\"]==knn_model]\n",
    "    s=3\n",
    "    ax.scatter(x=order_models(subset[\"model_num\"].tolist()), y=subset[\"R2\"], s=s, label=knn_model)\n",
    "\n",
    "#ax.set_ylim(0,scores_db[\"deep_mean\"].max())\n",
    "ax.set_ylim(0,1)\n",
    "# plot residuals\n",
    "ax.legend(loc='upper right',bbox_to_anchor=(1.4, 1))\n",
    "ax.set_ylabel(\"R^2 Score\")\n",
    "ax.set_xlabel(\"Deep Model Rank\")\n",
    "#ax.set_ylim(0,200)\n",
    "#ax.set_yscale(\"symlog\")\n",
    "ax.set_title(\"Summary of LWR improvements over Deep Models\")\n",
    "plt.savefig(log_dir/f\"summary_plot_ttm.png\", bbox_inches='tight')\n"
   ]
  },
  {
   "cell_type": "code",
   "execution_count": null,
   "metadata": {},
   "outputs": [],
   "source": []
  }
 ],
 "metadata": {
  "kernelspec": {
   "display_name": "PyCharm (lazydeep)",
   "language": "python",
   "name": "pycharm-12fcba0"
  },
  "language_info": {
   "codemirror_mode": {
    "name": "ipython",
    "version": 3
   },
   "file_extension": ".py",
   "mimetype": "text/x-python",
   "name": "python",
   "nbconvert_exporter": "python",
   "pygments_lexer": "ipython3",
   "version": "3.8.5"
  }
 },
 "nbformat": 4,
 "nbformat_minor": 4
}
