{
 "cells": [
  {
   "cell_type": "code",
   "execution_count": 1,
   "metadata": {
    "collapsed": false,
    "jupyter": {
     "outputs_hidden": false
    },
    "pycharm": {
     "name": "#%%\n"
    }
   },
   "outputs": [
    {
     "name": "stdout",
     "output_type": "stream",
     "text": [
      "GPU detected is GeForce GTX 970\n"
     ]
    }
   ],
   "source": [
    "import logging\n",
    "# set seed\n",
    "import pandas as pd\n",
    "import numpy as np\n",
    "from sklearn.neighbors import KNeighborsRegressor\n",
    "import utils as ut\n",
    "import experiment as exp\n",
    "from evaluation import *\n",
    "from sklearn.metrics import mean_squared_error\n",
    "from torch.utils.tensorboard import SummaryWriter\n",
    "import torch\n",
    "import random\n",
    "#define fixed_hyperparams and create a config gen\n",
    "from configurations import RandomConfigGen, Configuration\n",
    "from torch import nn\n",
    "from deep_net import RandomNet\n",
    "from experiment import run_experiment\n",
    "import regex as re\n",
    "from pathlib import *\n",
    "from plot import *\n",
    "from sk_models import setup_pls_models_exh, StandardScaler, PLSRegression, DeepKNN,CustomWrapper\n",
    "from tqdm.notebook import tqdm, trange\n",
    "\n",
    "seed = 1\n",
    "torch.manual_seed(seed)\n",
    "random.seed(seed + 1)\n",
    "np.random.seed(seed + 2)\n",
    "random_state = np.random.RandomState(seed)\n",
    "import gc\n",
    "torch.cuda.empty_cache()\n",
    "gc.collect()\n",
    "\n",
    "print(f\"GPU detected is {torch.cuda.get_device_name(0)}\")\n",
    "plt.style.use('seaborn-darkgrid')"
   ]
  },
  {
   "cell_type": "code",
   "execution_count": 2,
   "metadata": {},
   "outputs": [],
   "source": [
    "id_col_db = {'A_C_OF_ALPHA':[\"sample_id\"],\n",
    "             'A_C_OF_SIWARE':[],\n",
    "             'A_AL_RT':[],\n",
    "             'PLN7':[\"db_id\", \"sample_id\"],\n",
    "             'mango_684_990': ['Set','Season','Region','Date','Type','Cultivar','Pop','Temp',\"FruitID\"]\n",
    "            }\n",
    "\n",
    "output_col_db= {'A_C_OF_ALPHA':None,\n",
    "             'A_C_OF_SIWARE':None,\n",
    "             'A_AL_RT':None,\n",
    "             'PLN7':None,\n",
    "             'mango_684_990': ['DM']\n",
    "            }\n"
   ]
  },
  {
   "cell_type": "code",
   "execution_count": 3,
   "metadata": {
    "collapsed": false,
    "jupyter": {
     "outputs_hidden": false
    },
    "pycharm": {
     "name": "#%%\n"
    }
   },
   "outputs": [],
   "source": [
    "#setup input and output formats, load data\n",
    "\n",
    "file_name = \"PLN7.csv\"\n",
    "dataset_name = re.sub(r'\\.(?=csv$)[^.]+$', '',file_name)\n",
    "\n",
    "file_dir= Path(\"D:/workspace/lazydeep/experiments/2.00\")/dataset_name"
   ]
  },
  {
   "cell_type": "code",
   "execution_count": 4,
   "metadata": {
    "collapsed": false,
    "jupyter": {
     "outputs_hidden": false
    },
    "pycharm": {
     "name": "#%% load data\n"
    }
   },
   "outputs": [],
   "source": [
    "preds_db = pd.read_csv(file_dir/\"_predictions.csv\")"
   ]
  },
  {
   "cell_type": "code",
   "execution_count": 5,
   "metadata": {},
   "outputs": [],
   "source": [
    "def get_x_y(db):\n",
    "    target = db[\"y\"]\n",
    "    values = db.drop(\"y\",axis=1).drop('set_id',axis=1)\n",
    "    return values,target\n",
    "\n",
    "preds_all,y_all = get_x_y(preds_db)\n",
    "model_names = preds_all.columns.to_numpy()\n",
    "\n",
    "preds_0,y_0 = get_x_y(preds_db[preds_db[\"set_id\"]==0])\n",
    "preds_1,y_1 = get_x_y(preds_db[preds_db[\"set_id\"]==1])\n",
    "preds_2,y_2 = get_x_y(preds_db[preds_db[\"set_id\"]==2])\n",
    "preds_3,y_3 = get_x_y(preds_db[preds_db[\"set_id\"]==3])\n",
    "preds_4,y_4 = get_x_y(preds_db[preds_db[\"set_id\"]==4])\n"
   ]
  },
  {
   "cell_type": "code",
   "execution_count": 6,
   "metadata": {},
   "outputs": [],
   "source": [
    "f = r2_score\n",
    "cv_r2 = pd.DataFrame({\n",
    "    'all':{k:f(y_all,preds_all[k]) for k in model_names},\n",
    "    '0':{k:f(y_0,preds_0[k]) for k in model_names},\n",
    "    '1':{k:f(y_1,preds_1[k]) for k in model_names},\n",
    "    '2':{k:f(y_2,preds_2[k]) for k in model_names},\n",
    "    '3':{k:f(y_3,preds_3[k]) for k in model_names},\n",
    "    '4':{k:f(y_4,preds_4[k]) for k in model_names}\n",
    "    }).sort_values(\"all\")"
   ]
  },
  {
   "cell_type": "code",
   "execution_count": 7,
   "metadata": {},
   "outputs": [
    {
     "data": {
      "image/png": "[encoded data removed]",
      "text/plain": [
       "<Figure size 432x288 with 1 Axes>"
      ]
     },
     "metadata": {},
     "output_type": "display_data"
    }
   ],
   "source": [
    "fig, ax = plt.subplots()\n",
    "ax.plot([i for i in range(0,100)],cv_r2[\"all\"], label='Total',c=\"black\")\n",
    "ax.scatter(x=[i for i in range(0,100)],y= cv_r2[\"0\"],s=10, label='Fold 1')\n",
    "ax.scatter(x=[i for i in range(0,100)],y= cv_r2[\"1\"],s=10, label='Fold 2')\n",
    "ax.scatter(x=[i for i in range(0,100)],y= cv_r2[\"2\"],s=10, label='Fold 3')\n",
    "ax.scatter(x=[i for i in range(0,100)],y= cv_r2[\"3\"],s=10, label='Fold 4')\n",
    "ax.scatter(x=[i for i in range(0,100)],y= cv_r2[\"4\"],s=10, label='Fold 5')\n",
    "#ax.set_ylim(-2,1)\n",
    "ax.set_xlabel(\"Model Rank\")\n",
    "ax.set_ylabel(r\"$R^2$\")\n",
    "ax.legend(loc='upper right',bbox_to_anchor=(1.2, 1))\n",
    "plt.savefig(file_dir / f\"fold_comparison.png\",bbox_inches='tight')"
   ]
  },
  {
   "cell_type": "code",
   "execution_count": 8,
   "metadata": {},
   "outputs": [],
   "source": [
    "def take_sd(x,y):\n",
    "    z= np.absolute(np.subtract(x,y))\n",
    "    return np.std(z)\n",
    "\n",
    "def take_quantile(x,y,q=0.5):\n",
    "    z= np.absolute(np.subtract(x,y))\n",
    "    return np.quantile(z,q)"
   ]
  },
  {
   "cell_type": "code",
   "execution_count": 9,
   "metadata": {},
   "outputs": [],
   "source": [
    "preds_all,y_all = get_x_y(preds_db)\n",
    "\n",
    "r2= {k:r2_score(y_all,preds_all[k]) for k in model_names}\n",
    "rmse= {k:np.sqrt(mean_squared_error(y_all,preds_all[k])) for k in model_names}\n",
    "mae= {k:mean_absolute_error(y_all,preds_all[k]) for k in model_names}\n",
    "lq = {k:take_quantile(y_all,preds_all[k],q=0.01) for k in model_names}\n",
    "med = {k:take_quantile(y_all,preds_all[k],q=0.5) for k in model_names}\n",
    "uq = {k:take_quantile(y_all,preds_all[k],q=0.99) for k in model_names}"
   ]
  },
  {
   "cell_type": "code",
   "execution_count": 10,
   "metadata": {},
   "outputs": [],
   "source": [
    "scores_db = pd.DataFrame({\n",
    "    'r2':r2,\n",
    "    'rmse':rmse,\n",
    "    'mae':mae,\n",
    "    'lq':lq,\n",
    "    'med':med,\n",
    "    'uq':uq\n",
    "}).sort_values(\"r2\")"
   ]
  },
  {
   "cell_type": "code",
   "execution_count": 11,
   "metadata": {},
   "outputs": [
    {
     "data": {
      "image/png": "[encoded data removed]",
      "text/plain": [
       "<Figure size 432x288 with 1 Axes>"
      ]
     },
     "metadata": {},
     "output_type": "display_data"
    }
   ],
   "source": [
    "fig, ax = plt.subplots()\n",
    "ax.plot([i for i in range(0,100)],scores_db[\"rmse\"],c='black', label='RMSE')\n",
    "ax.scatter(x=[i for i in range(0,100)],y= scores_db[\"rmse\"],s=10, label='MAE')\n",
    "ax.scatter(x=[i for i in range(0,100)],y= scores_db[\"lq\"],s=10, label='q=0.01')\n",
    "ax.scatter(x=[i for i in range(0,100)],y= scores_db[\"med\"],s=10, label='median')\n",
    "ax.scatter(x=[i for i in range(0,100)],y= scores_db[\"uq\"],s=10, label='q=0.99')\n",
    "\n",
    "ax.set_xlabel(\"Model Rank\")\n",
    "ax.legend(loc='upper right',bbox_to_anchor=(1.2, 1))\n",
    "ax.set_ylim(0,100)\n",
    "plt.savefig(file_dir / f\"error_distributions.png\",bbox_inches='tight')"
   ]
  },
  {
   "cell_type": "code",
   "execution_count": null,
   "metadata": {},
   "outputs": [],
   "source": []
  },
  {
   "cell_type": "code",
   "execution_count": null,
   "metadata": {},
   "outputs": [],
   "source": []
  },
  {
   "cell_type": "code",
   "execution_count": null,
   "metadata": {},
   "outputs": [],
   "source": []
  },
  {
   "cell_type": "code",
   "execution_count": null,
   "metadata": {},
   "outputs": [],
   "source": []
  },
  {
   "cell_type": "code",
   "execution_count": null,
   "metadata": {},
   "outputs": [],
   "source": []
  },
  {
   "cell_type": "code",
   "execution_count": null,
   "metadata": {},
   "outputs": [],
   "source": []
  }
 ],
 "metadata": {
  "kernelspec": {
   "display_name": "PyCharm (lazydeep)",
   "language": "python",
   "name": "pycharm-12fcba0"
  },
  "language_info": {
   "codemirror_mode": {
    "name": "ipython",
    "version": 3
   },
   "file_extension": ".py",
   "mimetype": "text/x-python",
   "name": "python",
   "nbconvert_exporter": "python",
   "pygments_lexer": "ipython3",
   "version": "3.8.5"
  }
 },
 "nbformat": 4,
 "nbformat_minor": 4
}
