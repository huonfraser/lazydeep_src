{
 "cells": [
  {
   "cell_type": "code",
   "execution_count": 1,
   "metadata": {
    "collapsed": false,
    "jupyter": {
     "outputs_hidden": false
    },
    "pycharm": {
     "name": "#%% imports\n"
    }
   },
   "outputs": [],
   "source": [
    "import logging\n",
    "# set seed\n",
    "from pprint import pprint\n",
    "import pandas as pd\n",
    "import numpy as np\n",
    "from sklearn.linear_model import Ridge\n",
    "from sklearn.neighbors import KNeighborsRegressor\n",
    "import utils as ut\n",
    "import experiment as exp\n",
    "import evaluation as ev\n",
    "from pathlib import *\n",
    "import torch\n",
    "import random\n",
    "import regex as re\n",
    "import plot\n",
    "import matplotlib.pyplot as plt\n",
    "from sk_models import LocalWeightedRegression, PCR,setup_pls_models_exh,LinearRidge,StandardScaler\n",
    "import seaborn as sns\n",
    "\n",
    "from tqdm.notebook import tqdm, trange"
   ]
  },
  {
   "cell_type": "code",
   "execution_count": 2,
   "metadata": {
    "collapsed": false,
    "jupyter": {
     "outputs_hidden": false
    },
    "pycharm": {
     "name": "#%% seed\n"
    }
   },
   "outputs": [],
   "source": [
    "seed = 1\n",
    "torch.manual_seed(seed)\n",
    "random.seed(seed + 1)\n",
    "np.random.seed(seed + 2)\n",
    "\n",
    "random_state = np.random.RandomState(seed)"
   ]
  },
  {
   "cell_type": "code",
   "execution_count": 3,
   "metadata": {
    "collapsed": false,
    "jupyter": {
     "outputs_hidden": false
    },
    "pycharm": {
     "name": "#%% set these parametesr\n"
    }
   },
   "outputs": [],
   "source": [
    "#we need to set parametesr\n",
    "file_name =\"A_C_OF_ALPHA.csv\"# \"A_AL_RT.csv\" #\"PLN7.csv\"\n",
    "id_cols =['sample_id'] ##[\"db_id\",\"sample_id\"]#[\"sample_id\"]\n",
    "\n",
    "data_path = Path('D:/workspace/lazydeep/data/soil_data/')\n",
    "log_path = Path(\"D:/workspace/lazydeep/experiments/0.02\")"
   ]
  },
  {
   "cell_type": "code",
   "execution_count": 4,
   "metadata": {
    "collapsed": false,
    "jupyter": {
     "outputs_hidden": false
    },
    "pycharm": {
     "name": "#%% setup parametesr\n"
    }
   },
   "outputs": [
    {
     "name": "stdout",
     "output_type": "stream",
     "text": [
      "D:\\workspace\\lazydeep\\experiments\\0.02\\A_C_OF_ALPHA\n",
      "D:\\workspace\\lazydeep\\experiments\\0.02\\A_C_OF_ALPHA\n"
     ]
    }
   ],
   "source": [
    "data_file = data_path / file_name\n",
    "log_dir = log_path / re.sub(r'\\.(?=csv$)[^.]+$', '',file_name)\n",
    "if not log_dir.exists():\n",
    "    log_dir.mkdir()\n",
    "print(log_dir)\n",
    "\n",
    "data = pd.read_csv(data_file)\n",
    "data = ut.sample_data(data,random_state)\n",
    "nrow, ncol = data.shape\n",
    "\n",
    "n_features = ncol - 1-len(id_cols)\n",
    "dataset = ut.TabularDataset(data,id_cols = id_cols, cat_cols=None, output_cols=None, ignore_cols= None)\n",
    "\n",
    "# todo write a summary\n",
    "#ut.setup_logger(logger_name=\"\",file_name=log_dir/\"log.txt\")\n",
    "ut.setup_logger(logger_name=\"summary\",file_name=log_dir/\"summary.txt\")\n",
    "#tb = SummaryWriter(log_dir/\"tb\")\n",
    "print(log_dir)"
   ]
  },
  {
   "cell_type": "code",
   "execution_count": 5,
   "metadata": {
    "collapsed": false,
    "jupyter": {
     "outputs_hidden": false
    },
    "pycharm": {
     "name": "#%% Setup summary logging and results datastructures\n"
    }
   },
   "outputs": [],
   "source": [
    "ut.setup_logger(logger_name=\"summary\",file_name=log_dir/\"summary.txt\")\n",
    "summary_logger = logging.getLogger(\"summary\")\n",
    "eval = ev.CrossValEvaluation(preprocessing=StandardScaler(),tensorboard=None,time=True,random_state=random_state)"
   ]
  },
  {
   "cell_type": "code",
   "execution_count": 6,
   "metadata": {
    "collapsed": false,
    "jupyter": {
     "outputs_hidden": false
    },
    "pycharm": {
     "name": "#%% Define helper models\n"
    }
   },
   "outputs": [],
   "source": [
    "def plot_preds_and_res(preds,save_loc = \"\", name_lambda = lambda x:x,save_lambda = lambda x:x):\n",
    "    for col_name in preds.columns:\n",
    "        # plot predictions\n",
    "        fig, ax = plot.scatter_plot(preds,col_name,\"y\",color_col=\"set_id\",title= f\"Predictions for {name_lambda(col_name)}\")\n",
    "        plt.savefig(save_loc/f\"predictions_{save_lambda(col_name)}.png\",bbox_inches='tight')\n",
    "        plt.close()\n",
    "        # plt.show()\n",
    "\n",
    "        fig, ax = plot.residual_plot(preds, col_name, \"y\", color_col=\"set_id\",title = f\"Residuals for {name_lambda(col_name)}\")\n",
    "        plt.savefig(save_loc/f\"residuals_{save_lambda(col_name)}.png\", bbox_inches='tight')\n",
    "        plt.close()"
   ]
  },
  {
   "cell_type": "code",
   "execution_count": 7,
   "metadata": {
    "collapsed": false,
    "jupyter": {
     "outputs_hidden": false
    },
    "pycharm": {
     "name": "#%% run PCR models\n"
    },
    "scrolled": true
   },
   "outputs": [
    {
     "name": "stdout",
     "output_type": "stream",
     "text": [
      "Running LWR'\n",
      "Running Cross Evaluation with 5 folds'\n",
      "-----------------------------------Fold 0 - Train 3663 - Val 1222 - Test 1222-----------------------------------'\n",
      "Finished training SKLearn with a train loss of lr:7.731,lwr_k=10:0.0,lwr_k=20:0.0,lwr_k=30:0.0,lwr_k=40:0.0,lwr_k=50:0.0,lwr_k=100:0.0,lwr_k=200:0.0,lwr_k=300:0.0,lwr_k=400:0.0,lwr_k=500:0.0,lwr_k=600:0.0,lwr_k=700:0.0,lwr_k=800:0.0,lwr_k=900:0.0,lwr_k=1000:0.0'\n",
      "Tested (test) on 1222 instances with mean losses of: lr:41.6993,lwr_k=10:20.5381,lwr_k=20:16.0058,lwr_k=30:14.787,lwr_k=40:13.7777,lwr_k=50:13.212,lwr_k=100:13.7036,lwr_k=200:18.5196,lwr_k=300:27.2012,lwr_k=400:43.1108,lwr_k=500:61.395,lwr_k=600:104.4146,lwr_k=700:132.7169,lwr_k=800:114.8265,lwr_k=900:84.5645,lwr_k=1000:75.6627'\n",
      "-----------------------------------Fold 1 - Train 3663 - Val 1222 - Test 1222-----------------------------------'\n",
      "Finished training SKLearn with a train loss of lr:11.2312,lwr_k=10:0.0,lwr_k=20:0.0,lwr_k=30:0.0,lwr_k=40:0.0,lwr_k=50:0.0,lwr_k=100:0.0,lwr_k=200:0.0,lwr_k=300:0.0,lwr_k=400:0.0,lwr_k=500:0.0,lwr_k=600:0.0,lwr_k=700:0.0,lwr_k=800:0.0,lwr_k=900:0.0,lwr_k=1000:0.0'\n",
      "Tested (test) on 1222 instances with mean losses of: lr:44.7271,lwr_k=10:18.3042,lwr_k=20:14.4077,lwr_k=30:12.9213,lwr_k=40:12.1291,lwr_k=50:12.0699,lwr_k=100:15.0693,lwr_k=200:23.2079,lwr_k=300:27.8816,lwr_k=400:40.5385,lwr_k=500:61.6629,lwr_k=600:104.152,lwr_k=700:147.0177,lwr_k=800:108.1684,lwr_k=900:86.3442,lwr_k=1000:66.3702'\n",
      "-----------------------------------Fold 2 - Train 3665 - Val 1221 - Test 1221-----------------------------------'\n",
      "Finished training SKLearn with a train loss of lr:11.7989,lwr_k=10:0.0,lwr_k=20:0.0,lwr_k=30:0.0,lwr_k=40:0.0,lwr_k=50:0.0,lwr_k=100:0.0,lwr_k=200:0.0,lwr_k=300:0.0,lwr_k=400:0.0,lwr_k=500:0.0,lwr_k=600:0.0,lwr_k=700:0.0,lwr_k=800:0.0,lwr_k=900:0.0,lwr_k=1000:0.0'\n",
      "Tested (test) on 1221 instances with mean losses of: lr:44.4867,lwr_k=10:18.8551,lwr_k=20:14.1757,lwr_k=30:13.1334,lwr_k=40:13.59,lwr_k=50:14.2793,lwr_k=100:12.5052,lwr_k=200:16.9602,lwr_k=300:25.8159,lwr_k=400:42.5422,lwr_k=500:67.0686,lwr_k=600:103.7625,lwr_k=700:137.4605,lwr_k=800:107.3013,lwr_k=900:87.7734,lwr_k=1000:74.6217'\n",
      "-----------------------------------Fold 3 - Train 3665 - Val 1221 - Test 1221-----------------------------------'\n",
      "Finished training SKLearn with a train loss of lr:11.082,lwr_k=10:0.0,lwr_k=20:0.0,lwr_k=30:0.0,lwr_k=40:0.0,lwr_k=50:0.0,lwr_k=100:0.0,lwr_k=200:0.0,lwr_k=300:0.0,lwr_k=400:0.0,lwr_k=500:0.0,lwr_k=600:0.0,lwr_k=700:0.0,lwr_k=800:0.0,lwr_k=900:0.0,lwr_k=1000:0.0'\n",
      "Tested (test) on 1221 instances with mean losses of: lr:75.4313,lwr_k=10:28.5963,lwr_k=20:19.0249,lwr_k=30:13.3445,lwr_k=40:11.6677,lwr_k=50:12.4246,lwr_k=100:12.4454,lwr_k=200:18.6558,lwr_k=300:29.6201,lwr_k=400:43.1882,lwr_k=500:72.2987,lwr_k=600:125.0545,lwr_k=700:147.8349,lwr_k=800:137.2446,lwr_k=900:99.2046,lwr_k=1000:73.8847'\n",
      "-----------------------------------Fold 4 - Train 3665 - Val 1221 - Test 1221-----------------------------------'\n",
      "Finished training SKLearn with a train loss of lr:7.5099,lwr_k=10:0.0,lwr_k=20:0.0,lwr_k=30:0.0,lwr_k=40:0.0,lwr_k=50:0.0,lwr_k=100:0.0,lwr_k=200:0.0,lwr_k=300:0.0,lwr_k=400:0.0,lwr_k=500:0.0,lwr_k=600:0.0,lwr_k=700:0.0,lwr_k=800:0.0,lwr_k=900:0.0,lwr_k=1000:0.0'\n",
      "Tested (test) on 1221 instances with mean losses of: lr:72.5174,lwr_k=10:64.8389,lwr_k=20:52.8994,lwr_k=30:50.7347,lwr_k=40:49.3505,lwr_k=50:49.0515,lwr_k=100:49.0586,lwr_k=200:55.0239,lwr_k=300:65.57,lwr_k=400:81.015,lwr_k=500:104.6374,lwr_k=600:125.2357,lwr_k=700:177.5937,lwr_k=800:141.5873,lwr_k=900:125.057,lwr_k=1000:100.0183'\n",
      "Building final model - Train 4885 - Test 1222'\n",
      "Finished training SKLearn with a train loss of lr:13.185,lwr_k=10:0.0,lwr_k=20:0.0,lwr_k=30:0.0,lwr_k=40:0.0,lwr_k=50:0.0,lwr_k=100:0.0,lwr_k=200:0.0,lwr_k=300:0.0,lwr_k=400:0.0,lwr_k=500:0.0,lwr_k=600:0.0,lwr_k=700:0.0,lwr_k=800:0.0,lwr_k=900:0.0,lwr_k=1000:0.0'\n",
      "Tested (test) on 1222 instances with mean losses of: lr:43.9306,lwr_k=10:19.567,lwr_k=20:15.3257,lwr_k=30:13.1875,lwr_k=40:13.9908,lwr_k=50:14.0604,lwr_k=100:13.5874,lwr_k=200:17.5273,lwr_k=300:25.9474,lwr_k=400:42.8517,lwr_k=500:63.7325,lwr_k=600:94.4123,lwr_k=700:125.9768,lwr_k=800:101.5487,lwr_k=900:102.2447,lwr_k=1000:69.8087'\n",
      "Train times: {'fold_0': 3526, 'fold_1': 3397, 'fold_2': 3245, 'fold_3': 3588, 'fold_4': 3572, 'mean': 3465.6}'\n",
      "Test times: {'fold_0': 1178, 'fold_1': 1012, 'fold_2': 1344, 'fold_3': 1152, 'fold_4': 1167, 'mean': 1170.6}'\n",
      "Scores: {'fold_0': {'lr': 41.699321271431735, 'lwr_k=10': 20.538091732399465, 'lwr_k=20': 16.00582243000973, 'lwr_k=30': 14.786990986256313, 'lwr_k=40': 13.777734749285903, 'lwr_k=50': 13.21196738465085, 'lwr_k=100': 13.703625210889527, 'lwr_k=200': 18.519625773784934, 'lwr_k=300': 27.201241109588192, 'lwr_k=400': 43.110842410909754, 'lwr_k=500': 61.395044010293375, 'lwr_k=600': 104.41456491112832, 'lwr_k=700': 132.71688820414278, 'lwr_k=800': 114.82650937882279, 'lwr_k=900': 84.56451345001088, 'lwr_k=1000': 75.66272063800874}, 'fold_1': {'lr': 44.72705965271662, 'lwr_k=10': 18.304208255156766, 'lwr_k=20': 14.407736137426742, 'lwr_k=30': 12.921306256747458, 'lwr_k=40': 12.129083021046949, 'lwr_k=50': 12.06986659589279, 'lwr_k=100': 15.069295297254445, 'lwr_k=200': 23.207865942233028, 'lwr_k=300': 27.881633786943855, 'lwr_k=400': 40.53846394639769, 'lwr_k=500': 61.66287659014592, 'lwr_k=600': 104.15204218027583, 'lwr_k=700': 147.0176541093632, 'lwr_k=800': 108.16835013730906, 'lwr_k=900': 86.34423504982178, 'lwr_k=1000': 66.37020797371527}, 'fold_2': {'lr': 44.486677070918894, 'lwr_k=10': 18.855105823402923, 'lwr_k=20': 14.175698270708416, 'lwr_k=30': 13.133382054117396, 'lwr_k=40': 13.589992357718451, 'lwr_k=50': 14.27930774993541, 'lwr_k=100': 12.505193124930903, 'lwr_k=200': 16.960239559201167, 'lwr_k=300': 25.8158606196444, 'lwr_k=400': 42.54217101627482, 'lwr_k=500': 67.06859013287533, 'lwr_k=600': 103.76254466257173, 'lwr_k=700': 137.46048753046912, 'lwr_k=800': 107.30132203227835, 'lwr_k=900': 87.7733608261728, 'lwr_k=1000': 74.6217460385915}, 'fold_3': {'lr': 75.43125417340048, 'lwr_k=10': 28.596267230348236, 'lwr_k=20': 19.02494499585245, 'lwr_k=30': 13.344451020778484, 'lwr_k=40': 11.667717950903876, 'lwr_k=50': 12.42460674695956, 'lwr_k=100': 12.445405657892037, 'lwr_k=200': 18.655846333517797, 'lwr_k=300': 29.620081792573068, 'lwr_k=400': 43.18817145465131, 'lwr_k=500': 72.29865378837664, 'lwr_k=600': 125.05448459655243, 'lwr_k=700': 147.83485923592323, 'lwr_k=800': 137.24460380852787, 'lwr_k=900': 99.20462847792734, 'lwr_k=1000': 73.88467216087835}, 'fold_4': {'lr': 72.51739525104148, 'lwr_k=10': 64.83892037888309, 'lwr_k=20': 52.899407468657635, 'lwr_k=30': 50.73468215899551, 'lwr_k=40': 49.35049278244776, 'lwr_k=50': 49.051513269942106, 'lwr_k=100': 49.05862093269541, 'lwr_k=200': 55.02391006770384, 'lwr_k=300': 65.57001104202799, 'lwr_k=400': 81.01500862502455, 'lwr_k=500': 104.637374676777, 'lwr_k=600': 125.23569846315048, 'lwr_k=700': 177.5937218909521, 'lwr_k=800': 141.58727938660994, 'lwr_k=900': 125.05696377136695, 'lwr_k=1000': 100.01829284478586}, 'MSE': {'lr': 55.76822844934418, 'lwr_k=10': 30.222980000989047, 'lwr_k=20': 23.30007049567859, 'lwr_k=30': 20.981827465454725, 'lwr_k=40': 20.100662729579714, 'lwr_k=50': 20.20497436180324, 'lwr_k=100': 20.55440742321923, 'lwr_k=200': 26.471660380653375, 'lwr_k=300': 35.21525172608414, 'lwr_k=400': 50.07622827194785, 'lwr_k=500': 73.40861606057479, 'lwr_k=600': 112.52116823556462, 'lwr_k=700': 148.5218869392045, 'lwr_k=800': 121.82223054059084, 'lwr_k=900': 96.58509388766018, 'lwr_k=1000': 78.10920434723481}, 'R2': {'lr': 0.7493209726577003, 'lwr_k=10': 0.864147249416118, 'lwr_k=20': 0.8952658319751161, 'lwr_k=30': 0.905686369333362, 'lwr_k=40': 0.9096472181008304, 'lwr_k=50': 0.9091783357419434, 'lwr_k=100': 0.907607628864701, 'lwr_k=200': 0.8810094876442877, 'lwr_k=300': 0.8417069127751211, 'lwr_k=400': 0.7749065992371419, 'lwr_k=500': 0.670027164493413, 'lwr_k=600': 0.49421565301591874, 'lwr_k=700': 0.3323918798894423, 'lwr_k=800': 0.45240723778193037, 'lwr_k=900': 0.5658485473764753, 'lwr_k=1000': 0.6488979493040359}}'\n",
      "lr: {'fold_0': 41.699321271431735, 'fold_1': 44.72705965271662, 'fold_2': 44.486677070918894, 'fold_3': 75.43125417340048, 'fold_4': 72.51739525104148, 'MSE': 55.76822844934418, 'R2': 0.7493209726577003}'\n",
      "lwr_k=10: {'fold_0': 20.538091732399465, 'fold_1': 18.304208255156766, 'fold_2': 18.855105823402923, 'fold_3': 28.596267230348236, 'fold_4': 64.83892037888309, 'MSE': 30.222980000989047, 'R2': 0.864147249416118}'\n",
      "lwr_k=20: {'fold_0': 16.00582243000973, 'fold_1': 14.407736137426742, 'fold_2': 14.175698270708416, 'fold_3': 19.02494499585245, 'fold_4': 52.899407468657635, 'MSE': 23.30007049567859, 'R2': 0.8952658319751161}'\n",
      "lwr_k=30: {'fold_0': 14.786990986256313, 'fold_1': 12.921306256747458, 'fold_2': 13.133382054117396, 'fold_3': 13.344451020778484, 'fold_4': 50.73468215899551, 'MSE': 20.981827465454725, 'R2': 0.905686369333362}'\n",
      "lwr_k=40: {'fold_0': 13.777734749285903, 'fold_1': 12.129083021046949, 'fold_2': 13.589992357718451, 'fold_3': 11.667717950903876, 'fold_4': 49.35049278244776, 'MSE': 20.100662729579714, 'R2': 0.9096472181008304}'\n",
      "lwr_k=50: {'fold_0': 13.21196738465085, 'fold_1': 12.06986659589279, 'fold_2': 14.27930774993541, 'fold_3': 12.42460674695956, 'fold_4': 49.051513269942106, 'MSE': 20.20497436180324, 'R2': 0.9091783357419434}'\n",
      "lwr_k=100: {'fold_0': 13.703625210889527, 'fold_1': 15.069295297254445, 'fold_2': 12.505193124930903, 'fold_3': 12.445405657892037, 'fold_4': 49.05862093269541, 'MSE': 20.55440742321923, 'R2': 0.907607628864701}'\n",
      "lwr_k=200: {'fold_0': 18.519625773784934, 'fold_1': 23.207865942233028, 'fold_2': 16.960239559201167, 'fold_3': 18.655846333517797, 'fold_4': 55.02391006770384, 'MSE': 26.471660380653375, 'R2': 0.8810094876442877}'\n",
      "lwr_k=300: {'fold_0': 27.201241109588192, 'fold_1': 27.881633786943855, 'fold_2': 25.8158606196444, 'fold_3': 29.620081792573068, 'fold_4': 65.57001104202799, 'MSE': 35.21525172608414, 'R2': 0.8417069127751211}'\n",
      "lwr_k=400: {'fold_0': 43.110842410909754, 'fold_1': 40.53846394639769, 'fold_2': 42.54217101627482, 'fold_3': 43.18817145465131, 'fold_4': 81.01500862502455, 'MSE': 50.07622827194785, 'R2': 0.7749065992371419}'\n",
      "lwr_k=500: {'fold_0': 61.395044010293375, 'fold_1': 61.66287659014592, 'fold_2': 67.06859013287533, 'fold_3': 72.29865378837664, 'fold_4': 104.637374676777, 'MSE': 73.40861606057479, 'R2': 0.670027164493413}'\n",
      "lwr_k=600: {'fold_0': 104.41456491112832, 'fold_1': 104.15204218027583, 'fold_2': 103.76254466257173, 'fold_3': 125.05448459655243, 'fold_4': 125.23569846315048, 'MSE': 112.52116823556462, 'R2': 0.49421565301591874}'\n",
      "lwr_k=700: {'fold_0': 132.71688820414278, 'fold_1': 147.0176541093632, 'fold_2': 137.46048753046912, 'fold_3': 147.83485923592323, 'fold_4': 177.5937218909521, 'MSE': 148.5218869392045, 'R2': 0.3323918798894423}'\n",
      "lwr_k=800: {'fold_0': 114.82650937882279, 'fold_1': 108.16835013730906, 'fold_2': 107.30132203227835, 'fold_3': 137.24460380852787, 'fold_4': 141.58727938660994, 'MSE': 121.82223054059084, 'R2': 0.45240723778193037}'\n",
      "lwr_k=900: {'fold_0': 84.56451345001088, 'fold_1': 86.34423504982178, 'fold_2': 87.7733608261728, 'fold_3': 99.20462847792734, 'fold_4': 125.05696377136695, 'MSE': 96.58509388766018, 'R2': 0.5658485473764753}'\n",
      "lwr_k=1000: {'fold_0': 75.66272063800874, 'fold_1': 66.37020797371527, 'fold_2': 74.6217460385915, 'fold_3': 73.88467216087835, 'fold_4': 100.01829284478586, 'MSE': 78.10920434723481, 'R2': 0.6488979493040359}'\n"
     ]
    },
    {
     "name": "stderr",
     "output_type": "stream",
     "text": [
      "C:\\Users\\huonf\\.conda\\envs\\lazydeep\\lib\\site-packages\\scipy\\stats\\_stats_py.py:4068: PearsonRConstantInputWarning: An input array is constant; the correlation coefficient is not defined.\n",
      "  warnings.warn(PearsonRConstantInputWarning())\n",
      "C:\\Users\\huonf\\AppData\\Local\\Temp\\ipykernel_92524\\3174850488.py:35: FutureWarning: The frame.append method is deprecated and will be removed from pandas in a future version. Use pandas.concat instead.\n",
      "  scores_df_lwr=scores_df_lwr.append([{**record1,**record}],ignore_index=True)\n",
      "C:\\Users\\huonf\\AppData\\Local\\Temp\\ipykernel_92524\\3174850488.py:35: FutureWarning: The frame.append method is deprecated and will be removed from pandas in a future version. Use pandas.concat instead.\n",
      "  scores_df_lwr=scores_df_lwr.append([{**record1,**record}],ignore_index=True)\n",
      "C:\\Users\\huonf\\AppData\\Local\\Temp\\ipykernel_92524\\3174850488.py:35: FutureWarning: The frame.append method is deprecated and will be removed from pandas in a future version. Use pandas.concat instead.\n",
      "  scores_df_lwr=scores_df_lwr.append([{**record1,**record}],ignore_index=True)\n",
      "C:\\Users\\huonf\\AppData\\Local\\Temp\\ipykernel_92524\\3174850488.py:35: FutureWarning: The frame.append method is deprecated and will be removed from pandas in a future version. Use pandas.concat instead.\n",
      "  scores_df_lwr=scores_df_lwr.append([{**record1,**record}],ignore_index=True)\n",
      "C:\\Users\\huonf\\AppData\\Local\\Temp\\ipykernel_92524\\3174850488.py:35: FutureWarning: The frame.append method is deprecated and will be removed from pandas in a future version. Use pandas.concat instead.\n",
      "  scores_df_lwr=scores_df_lwr.append([{**record1,**record}],ignore_index=True)\n",
      "C:\\Users\\huonf\\AppData\\Local\\Temp\\ipykernel_92524\\3174850488.py:35: FutureWarning: The frame.append method is deprecated and will be removed from pandas in a future version. Use pandas.concat instead.\n",
      "  scores_df_lwr=scores_df_lwr.append([{**record1,**record}],ignore_index=True)\n",
      "C:\\Users\\huonf\\AppData\\Local\\Temp\\ipykernel_92524\\3174850488.py:35: FutureWarning: The frame.append method is deprecated and will be removed from pandas in a future version. Use pandas.concat instead.\n",
      "  scores_df_lwr=scores_df_lwr.append([{**record1,**record}],ignore_index=True)\n",
      "C:\\Users\\huonf\\AppData\\Local\\Temp\\ipykernel_92524\\3174850488.py:35: FutureWarning: The frame.append method is deprecated and will be removed from pandas in a future version. Use pandas.concat instead.\n",
      "  scores_df_lwr=scores_df_lwr.append([{**record1,**record}],ignore_index=True)\n",
      "C:\\Users\\huonf\\AppData\\Local\\Temp\\ipykernel_92524\\3174850488.py:35: FutureWarning: The frame.append method is deprecated and will be removed from pandas in a future version. Use pandas.concat instead.\n",
      "  scores_df_lwr=scores_df_lwr.append([{**record1,**record}],ignore_index=True)\n",
      "C:\\Users\\huonf\\AppData\\Local\\Temp\\ipykernel_92524\\3174850488.py:35: FutureWarning: The frame.append method is deprecated and will be removed from pandas in a future version. Use pandas.concat instead.\n",
      "  scores_df_lwr=scores_df_lwr.append([{**record1,**record}],ignore_index=True)\n",
      "C:\\Users\\huonf\\AppData\\Local\\Temp\\ipykernel_92524\\3174850488.py:35: FutureWarning: The frame.append method is deprecated and will be removed from pandas in a future version. Use pandas.concat instead.\n",
      "  scores_df_lwr=scores_df_lwr.append([{**record1,**record}],ignore_index=True)\n",
      "C:\\Users\\huonf\\AppData\\Local\\Temp\\ipykernel_92524\\3174850488.py:35: FutureWarning: The frame.append method is deprecated and will be removed from pandas in a future version. Use pandas.concat instead.\n",
      "  scores_df_lwr=scores_df_lwr.append([{**record1,**record}],ignore_index=True)\n",
      "C:\\Users\\huonf\\AppData\\Local\\Temp\\ipykernel_92524\\3174850488.py:35: FutureWarning: The frame.append method is deprecated and will be removed from pandas in a future version. Use pandas.concat instead.\n",
      "  scores_df_lwr=scores_df_lwr.append([{**record1,**record}],ignore_index=True)\n",
      "C:\\Users\\huonf\\AppData\\Local\\Temp\\ipykernel_92524\\3174850488.py:35: FutureWarning: The frame.append method is deprecated and will be removed from pandas in a future version. Use pandas.concat instead.\n",
      "  scores_df_lwr=scores_df_lwr.append([{**record1,**record}],ignore_index=True)\n",
      "C:\\Users\\huonf\\AppData\\Local\\Temp\\ipykernel_92524\\3174850488.py:35: FutureWarning: The frame.append method is deprecated and will be removed from pandas in a future version. Use pandas.concat instead.\n",
      "  scores_df_lwr=scores_df_lwr.append([{**record1,**record}],ignore_index=True)\n",
      "C:\\Users\\huonf\\AppData\\Local\\Temp\\ipykernel_92524\\3174850488.py:44: FutureWarning: The frame.append method is deprecated and will be removed from pandas in a future version. Use pandas.concat instead.\n",
      "  scores_df_lwr_final=scores_df_lwr_final.append([{**record1,**record}],ignore_index=True)\n",
      "C:\\Users\\huonf\\AppData\\Local\\Temp\\ipykernel_92524\\3174850488.py:44: FutureWarning: The frame.append method is deprecated and will be removed from pandas in a future version. Use pandas.concat instead.\n",
      "  scores_df_lwr_final=scores_df_lwr_final.append([{**record1,**record}],ignore_index=True)\n",
      "C:\\Users\\huonf\\AppData\\Local\\Temp\\ipykernel_92524\\3174850488.py:44: FutureWarning: The frame.append method is deprecated and will be removed from pandas in a future version. Use pandas.concat instead.\n",
      "  scores_df_lwr_final=scores_df_lwr_final.append([{**record1,**record}],ignore_index=True)\n",
      "C:\\Users\\huonf\\AppData\\Local\\Temp\\ipykernel_92524\\3174850488.py:44: FutureWarning: The frame.append method is deprecated and will be removed from pandas in a future version. Use pandas.concat instead.\n",
      "  scores_df_lwr_final=scores_df_lwr_final.append([{**record1,**record}],ignore_index=True)\n",
      "C:\\Users\\huonf\\AppData\\Local\\Temp\\ipykernel_92524\\3174850488.py:44: FutureWarning: The frame.append method is deprecated and will be removed from pandas in a future version. Use pandas.concat instead.\n",
      "  scores_df_lwr_final=scores_df_lwr_final.append([{**record1,**record}],ignore_index=True)\n",
      "C:\\Users\\huonf\\AppData\\Local\\Temp\\ipykernel_92524\\3174850488.py:44: FutureWarning: The frame.append method is deprecated and will be removed from pandas in a future version. Use pandas.concat instead.\n",
      "  scores_df_lwr_final=scores_df_lwr_final.append([{**record1,**record}],ignore_index=True)\n",
      "C:\\Users\\huonf\\AppData\\Local\\Temp\\ipykernel_92524\\3174850488.py:44: FutureWarning: The frame.append method is deprecated and will be removed from pandas in a future version. Use pandas.concat instead.\n",
      "  scores_df_lwr_final=scores_df_lwr_final.append([{**record1,**record}],ignore_index=True)\n",
      "C:\\Users\\huonf\\AppData\\Local\\Temp\\ipykernel_92524\\3174850488.py:44: FutureWarning: The frame.append method is deprecated and will be removed from pandas in a future version. Use pandas.concat instead.\n",
      "  scores_df_lwr_final=scores_df_lwr_final.append([{**record1,**record}],ignore_index=True)\n",
      "C:\\Users\\huonf\\AppData\\Local\\Temp\\ipykernel_92524\\3174850488.py:44: FutureWarning: The frame.append method is deprecated and will be removed from pandas in a future version. Use pandas.concat instead.\n",
      "  scores_df_lwr_final=scores_df_lwr_final.append([{**record1,**record}],ignore_index=True)\n",
      "C:\\Users\\huonf\\AppData\\Local\\Temp\\ipykernel_92524\\3174850488.py:44: FutureWarning: The frame.append method is deprecated and will be removed from pandas in a future version. Use pandas.concat instead.\n",
      "  scores_df_lwr_final=scores_df_lwr_final.append([{**record1,**record}],ignore_index=True)\n",
      "C:\\Users\\huonf\\AppData\\Local\\Temp\\ipykernel_92524\\3174850488.py:44: FutureWarning: The frame.append method is deprecated and will be removed from pandas in a future version. Use pandas.concat instead.\n",
      "  scores_df_lwr_final=scores_df_lwr_final.append([{**record1,**record}],ignore_index=True)\n",
      "C:\\Users\\huonf\\AppData\\Local\\Temp\\ipykernel_92524\\3174850488.py:44: FutureWarning: The frame.append method is deprecated and will be removed from pandas in a future version. Use pandas.concat instead.\n",
      "  scores_df_lwr_final=scores_df_lwr_final.append([{**record1,**record}],ignore_index=True)\n",
      "C:\\Users\\huonf\\AppData\\Local\\Temp\\ipykernel_92524\\3174850488.py:44: FutureWarning: The frame.append method is deprecated and will be removed from pandas in a future version. Use pandas.concat instead.\n",
      "  scores_df_lwr_final=scores_df_lwr_final.append([{**record1,**record}],ignore_index=True)\n",
      "C:\\Users\\huonf\\AppData\\Local\\Temp\\ipykernel_92524\\3174850488.py:44: FutureWarning: The frame.append method is deprecated and will be removed from pandas in a future version. Use pandas.concat instead.\n",
      "  scores_df_lwr_final=scores_df_lwr_final.append([{**record1,**record}],ignore_index=True)\n",
      "C:\\Users\\huonf\\AppData\\Local\\Temp\\ipykernel_92524\\3174850488.py:44: FutureWarning: The frame.append method is deprecated and will be removed from pandas in a future version. Use pandas.concat instead.\n",
      "  scores_df_lwr_final=scores_df_lwr_final.append([{**record1,**record}],ignore_index=True)\n"
     ]
    }
   ],
   "source": [
    "#setup\n",
    "scores_df_lwr = None\n",
    "scores_df_lwr_final = None\n",
    "\n",
    "save_loc = log_dir/f\"LWR\"\n",
    "if not save_loc.exists():\n",
    "    save_loc.mkdir()\n",
    "\n",
    "local_logger_name = f\"LWR\"\n",
    "ut.setup_logger(logger_name=local_logger_name,file_name=save_loc/f\"{local_logger_name}_log.txt\")\n",
    "local_logger = logging.getLogger(local_logger_name)\n",
    "\n",
    "scheme = ev.SKLearnScheme(logger=local_logger_name)\n",
    "\n",
    "local_logger.info(f\"Running LWR\")\n",
    "scores_sk, preds_sk, model_states_sk , train_time_sk, test_time_sk,_ = eval.evaluate(setup_pls_models_exh(nrow),dataset,scheme,logger_name=local_logger_name)\n",
    "scores_sk_final, _, model_states_sk_final , _, _,_= eval.build(setup_pls_models_exh(nrow),dataset,scheme,logger_name=local_logger_name)\n",
    "\n",
    "local_logger.info(f\"Train times: {train_time_sk}\")\n",
    "local_logger.info(f\"Test times: {test_time_sk}\")\n",
    "local_logger.info(f\"Scores: {scores_sk}\")\n",
    "for key,value in ut.flip_dicts(scores_sk).items():\n",
    "    local_logger.info(f\"{key}: {value}\")\n",
    "\n",
    "preds_sk.to_csv(save_loc/ (f\"predictions\" + \".csv\"), index=False)\n",
    "plot_preds_and_res(preds_sk,name_lambda=lambda x:f\"LWR\",save_lambda= lambda x:f\"lwr\",save_loc=save_loc)\n",
    "\n",
    "flipped = ut.flip_dicts(scores_sk)\n",
    "#add to scores\n",
    "for name,record in flipped.items():\n",
    "    record1 = {'model':f\"{name}\",'n_comp':n_features}\n",
    "    if scores_df_lwr is None:\n",
    "        scores_df_lwr =pd.DataFrame([{**record1,**record}])\n",
    "    else:\n",
    "        scores_df_lwr=scores_df_lwr.append([{**record1,**record}],ignore_index=True)\n",
    "\n",
    "flipped = ut.flip_dicts(scores_sk_final)\n",
    "#add to scores\n",
    "for name,record in flipped.items():\n",
    "    record1 = {'model':f\"{name}\",'n_comp':n_features}\n",
    "    if scores_df_lwr_final is None:\n",
    "        scores_df_lwr_final =pd.DataFrame([{**record1,**record}])\n",
    "    else:\n",
    "        scores_df_lwr_final=scores_df_lwr_final.append([{**record1,**record}],ignore_index=True)"
   ]
  },
  {
   "cell_type": "code",
   "execution_count": null,
   "metadata": {
    "scrolled": true
   },
   "outputs": [],
   "source": []
  },
  {
   "cell_type": "code",
   "execution_count": 8,
   "metadata": {
    "collapsed": false,
    "jupyter": {
     "outputs_hidden": false
    },
    "pycharm": {
     "name": "#%% Concat scores and write summary\n"
    },
    "scrolled": true
   },
   "outputs": [
    {
     "name": "stdout",
     "output_type": "stream",
     "text": [
      "-----------------------------\n",
      "Rankings\n",
      "-------------------------------'\n",
      "Rank - model - n_comp - fold_0 - fold_1 - fold_2 - fold_3 - fold_4 - MSE - R2'\n",
      "0 - lwr_k=40 - 1701 - 13.777734749285903 - 12.129083021046949 - 13.589992357718451 - 11.667717950903876 - 49.35049278244776 - 20.100662729579714 - 0.9096472181008304'\n",
      "1 - lwr_k=50 - 1701 - 13.21196738465085 - 12.06986659589279 - 14.27930774993541 - 12.42460674695956 - 49.051513269942106 - 20.20497436180324 - 0.9091783357419434'\n",
      "2 - lwr_k=100 - 1701 - 13.703625210889527 - 15.069295297254445 - 12.505193124930903 - 12.445405657892037 - 49.05862093269541 - 20.55440742321923 - 0.907607628864701'\n",
      "3 - lwr_k=30 - 1701 - 14.786990986256313 - 12.921306256747458 - 13.133382054117396 - 13.344451020778484 - 50.73468215899551 - 20.981827465454725 - 0.905686369333362'\n",
      "4 - lwr_k=20 - 1701 - 16.00582243000973 - 14.407736137426742 - 14.175698270708416 - 19.02494499585245 - 52.899407468657635 - 23.30007049567859 - 0.8952658319751161'\n",
      "5 - lwr_k=200 - 1701 - 18.519625773784934 - 23.207865942233028 - 16.960239559201167 - 18.655846333517797 - 55.02391006770384 - 26.471660380653375 - 0.8810094876442877'\n",
      "6 - lwr_k=10 - 1701 - 20.538091732399465 - 18.304208255156766 - 18.855105823402923 - 28.596267230348236 - 64.83892037888309 - 30.222980000989047 - 0.864147249416118'\n",
      "7 - lwr_k=300 - 1701 - 27.201241109588192 - 27.881633786943855 - 25.8158606196444 - 29.620081792573068 - 65.57001104202799 - 35.21525172608414 - 0.8417069127751211'\n",
      "8 - lwr_k=400 - 1701 - 43.110842410909754 - 40.53846394639769 - 42.54217101627482 - 43.18817145465131 - 81.01500862502455 - 50.07622827194785 - 0.7749065992371419'\n",
      "9 - lr - 1701 - 41.699321271431735 - 44.72705965271662 - 44.486677070918894 - 75.43125417340048 - 72.51739525104148 - 55.76822844934418 - 0.7493209726577003'\n",
      "10 - lwr_k=500 - 1701 - 61.395044010293375 - 61.66287659014592 - 67.06859013287533 - 72.29865378837664 - 104.637374676777 - 73.40861606057479 - 0.670027164493413'\n",
      "11 - lwr_k=1000 - 1701 - 75.66272063800874 - 66.37020797371527 - 74.6217460385915 - 73.88467216087835 - 100.01829284478586 - 78.10920434723481 - 0.6488979493040359'\n",
      "12 - lwr_k=900 - 1701 - 84.56451345001088 - 86.34423504982178 - 87.7733608261728 - 99.20462847792734 - 125.05696377136695 - 96.58509388766018 - 0.5658485473764753'\n",
      "13 - lwr_k=600 - 1701 - 104.41456491112832 - 104.15204218027583 - 103.76254466257173 - 125.05448459655243 - 125.23569846315048 - 112.52116823556462 - 0.49421565301591874'\n",
      "14 - lwr_k=800 - 1701 - 114.82650937882279 - 108.16835013730906 - 107.30132203227835 - 137.24460380852787 - 141.58727938660994 - 121.82223054059084 - 0.45240723778193037'\n",
      "15 - lwr_k=700 - 1701 - 132.71688820414278 - 147.0176541093632 - 137.46048753046912 - 147.83485923592323 - 177.5937218909521 - 148.5218869392045 - 0.3323918798894423'\n"
     ]
    }
   ],
   "source": [
    "scores_df = scores_df_lwr #pd.concat((scores_df_lr,scores_df_ pcr,scores_df_pls))\n",
    "scores_df.to_csv(log_dir / f\"scores.csv\", index=False)\n",
    "\n",
    "scores_df_final = scores_df_lwr_final#pd.concat((scores_df_lr,scores_df_pcr,scores_df_pls))\n",
    "scores_df_final.to_csv(log_dir / f\"scores_final.csv\", index=False)\n",
    "\n",
    "summary_logger.info(\"-----------------------------\\n\"\n",
    "                    \"Rankings\\n\"\n",
    "                    \"-------------------------------\")\n",
    "scores_df_sorted= scores_df.sort_values(\"MSE\",ascending=True)\n",
    "summary_logger.info(f\"Rank - \" +\" - \".join(list(scores_df_sorted.columns)))\n",
    "for i,(index,row) in enumerate(scores_df_sorted.iterrows()):\n",
    "    s = f\"{i} - \" + \" - \".join([f\"{i}\" for i in row.tolist()])\n",
    "    summary_logger.info(s)\n"
   ]
  },
  {
   "cell_type": "code",
   "execution_count": 9,
   "metadata": {},
   "outputs": [],
   "source": [
    "#https://stackoverflow.com/questions/22521382/nonlinear-colormap-matplotlib\n",
    "\n",
    "class nlcmap(object):\n",
    "    def __init__(self, cmap, levels):\n",
    "        self.cmap = cmap\n",
    "        self.N = cmap.N\n",
    "        self.monochrome = self.cmap.monochrome\n",
    "        self.levels = np.asarray(levels, dtype='float64')\n",
    "        self._x = self.levels\n",
    "        self.levmax = self.levels.max()\n",
    "        self.levmin = self.levels.min()\n",
    "        self.transformed_levels = np.linspace(self.levmin, self.levmax, #uniform spacing along levels (colour segments)\n",
    "             len(self.levels))\n",
    "\n",
    "    def __call__(self, xi, alpha=1.0, **kw):\n",
    "        yi = np.interp(xi, self._x, self.transformed_levels)\n",
    "        return self.cmap((yi-self.levmin) / (self.levmax-self.levmin), alpha)"
   ]
  },
  {
   "cell_type": "code",
   "execution_count": 10,
   "metadata": {},
   "outputs": [
    {
     "name": "stdout",
     "output_type": "stream",
     "text": [
      "[0.   0.6  0.8  0.9  0.95 0.98 1.  ]\n"
     ]
    }
   ],
   "source": [
    "levels = np.concatenate((\n",
    "    [0, 1],\n",
    "    [0.6,0.8,0.9,0.95,0.98]\n",
    "    ))\n",
    "\n",
    "levels = levels[levels <= 1]\n",
    "levels.sort()\n",
    "print(levels)\n",
    "cmap_nonlin = nlcmap(plt.cm.YlGnBu, levels)"
   ]
  },
  {
   "cell_type": "code",
   "execution_count": 11,
   "metadata": {},
   "outputs": [
    {
     "data": {
      "image/png": "[encoded data removed]",
      "text/plain": [
       "<Figure size 432x288 with 2 Axes>"
      ]
     },
     "metadata": {},
     "output_type": "display_data"
    }
   ],
   "source": [
    "subset = scores_df[[\"model\",\"n_comp\",\"R2\"]]\n",
    "subset = subset[np.logical_not(subset[\"model\"]==\"lr\")]\n",
    "trans = subset[\"model\"].transform(lambda x: int(x.replace(\"lwr_k=\",\"\"))).tolist()\n",
    "\n",
    "subset.loc[:,\"model\"]=trans\n",
    "subset=subset.sort_values(\"model\",ascending=False)\n",
    "wide = subset.pivot(index = \"model\",columns= \"n_comp\",values=\"R2\")\n",
    "\n",
    "ax = sns.heatmap(wide, linewidth=0.0,vmin=0,center=0,cbar_kws={'label':\"R2 Score\"},cmap=cmap_nonlin)\n",
    "\n",
    "ax.set_title(\"Grid Search for number of neighbours\")\n",
    "ax.set_xlabel(\"Number of Components\")\n",
    "ax.set_ylabel(\"Number of Neighbours\")\n",
    "\n",
    "plt.savefig(log_dir/\"heatmap.png\", bbox_inches='tight')"
   ]
  },
  {
   "cell_type": "code",
   "execution_count": null,
   "metadata": {},
   "outputs": [],
   "source": []
  }
 ],
 "metadata": {
  "kernelspec": {
   "display_name": "PyCharm (lazydeep)",
   "language": "python",
   "name": "pycharm-12fcba0"
  },
  "language_info": {
   "codemirror_mode": {
    "name": "ipython",
    "version": 3
   },
   "file_extension": ".py",
   "mimetype": "text/x-python",
   "name": "python",
   "nbconvert_exporter": "python",
   "pygments_lexer": "ipython3",
   "version": "3.8.5"
  }
 },
 "nbformat": 4,
 "nbformat_minor": 4
}
