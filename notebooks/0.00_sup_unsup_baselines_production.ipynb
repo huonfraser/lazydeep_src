{
 "cells": [
  {
   "cell_type": "code",
   "execution_count": 1,
   "metadata": {
    "pycharm": {
     "name": "#%% imports\n"
    }
   },
   "outputs": [],
   "source": [
    "import logging\n",
    "# set seed\n",
    "from pprint import pprint\n",
    "import pandas as pd\n",
    "import numpy as np\n",
    "from sklearn.decomposition import PCA\n",
    "from sklearn.linear_model import LinearRegression, Ridge\n",
    "from sklearn.neighbors import KNeighborsRegressor\n",
    "from sklearn.pipeline import Pipeline\n",
    "from sklearn.preprocessing import StandardScaler\n",
    "import utils as ut\n",
    "import experiment as exp\n",
    "import evaluation as ev\n",
    "from pathlib import *\n",
    "import torch\n",
    "import random\n",
    "import regex as re\n",
    "import plot\n",
    "import matplotlib.pyplot as plt\n",
    "from sk_models import LocalWeightedRegression, PCR, setup_pls_models, PLSRegression, LinearRidge, CustomWrapper"
   ]
  },
  {
   "cell_type": "code",
   "execution_count": 2,
   "metadata": {
    "collapsed": false,
    "jupyter": {
     "outputs_hidden": false
    },
    "pycharm": {
     "name": "#%% seed\n"
    }
   },
   "outputs": [],
   "source": [
    "seed = 1\n",
    "torch.manual_seed(seed)\n",
    "random.seed(seed + 1)\n",
    "np.random.seed(seed + 2)\n",
    "\n",
    "random_state = np.random.RandomState(seed)"
   ]
  },
  {
   "cell_type": "code",
   "execution_count": 3,
   "metadata": {
    "collapsed": false,
    "jupyter": {
     "outputs_hidden": false
    },
    "pycharm": {
     "name": "#%% set these parametesr\n"
    }
   },
   "outputs": [],
   "source": [
    "#we need to set parametesr\n",
    "file_name = \"mango_684_990.csv\"#\"PLN7.csv\" A_FE_RT  A_C_OF_alpha #\"mango_513_1050.csv\" #\"mango_684_990.csv\" #\"mango_729_975.csv\"\n",
    "id_cols =[]#[\"sample_id\"] \"db_id\",\"sample_id\"\n",
    "n_comps = [i for i in range(1,101)]\n",
    "\n",
    "data_path = Path('D:/workspace/lazydeep/data/soil_data/')\n",
    "log_path = Path(\"D:/workspace/lazydeep/experiments/0.00\")"
   ]
  },
  {
   "cell_type": "code",
   "execution_count": 4,
   "metadata": {
    "collapsed": false,
    "jupyter": {
     "outputs_hidden": false
    },
    "pycharm": {
     "name": "#%% setup parametesr\n"
    }
   },
   "outputs": [
    {
     "name": "stdout",
     "output_type": "stream",
     "text": [
      "D:\\workspace\\lazydeep\\experiments\\0.00\\mango_684_990\n",
      "D:\\workspace\\lazydeep\\experiments\\0.00\\mango_684_990\n"
     ]
    }
   ],
   "source": [
    "data_file = data_path / file_name\n",
    "log_dir = log_path / re.sub(r'\\.(?=csv$)[^.]+$', '',file_name)\n",
    "if not log_dir.exists():\n",
    "    log_dir.mkdir()\n",
    "print(log_dir)\n",
    "\n",
    "data = pd.read_csv(data_file)\n",
    "nrow, ncol = data.shape\n",
    "data = ut.sample_data(data,random_state)\n",
    "\n",
    "n_features = ncol - 1-len(id_cols)\n",
    "dataset = ut.TabularDataset(data,id_cols = id_cols, cat_cols=None, output_cols=None, ignore_cols= None)\n",
    "\n",
    "# todo write a summary\n",
    "#ut.setup_logger(logger_name=\"\",file_name=log_dir/\"log.txt\")\n",
    "ut.setup_logger(logger_name=\"summary\",file_name=log_dir/\"summary.txt\")\n",
    "#tb = SummaryWriter(log_dir/\"tb\")\n",
    "print(log_dir)"
   ]
  },
  {
   "cell_type": "code",
   "execution_count": 5,
   "metadata": {
    "collapsed": false,
    "jupyter": {
     "outputs_hidden": false
    },
    "pycharm": {
     "name": "#%%plot supervised\n"
    }
   },
   "outputs": [],
   "source": [
    "scores_db = pd.read_csv(log_dir/\"scores.csv\")\n",
    "lr_db = scores_db[scores_db[\"n_comp\"]==\"None\"]\n",
    "pp_db  = scores_db[scores_db[\"n_comp\"]!=\"None\"]"
   ]
  },
  {
   "cell_type": "code",
   "execution_count": 6,
   "metadata": {},
   "outputs": [
    {
     "name": "stdout",
     "output_type": "stream",
     "text": [
      "          model n_comp    fold_0    fold_1    fold_2    fold_3    fold_4  \\\n",
      "4           pcr      1  5.799490  5.521217  5.892004  6.078157  5.598487   \n",
      "5     pcr_scale      1  6.135023  5.849225  6.174802  6.412866  5.801493   \n",
      "6    pcr_whiten      1  5.799490  5.521217  5.892004  6.078157  5.598487   \n",
      "7       pcr_s_w      1  6.135023  5.849225  6.174802  6.412866  5.801493   \n",
      "8           pcr      2  5.256803  4.915477  5.179252  5.406583  4.862006   \n",
      "..          ...    ...       ...       ...       ...       ...       ...   \n",
      "599  plsr_scale     98  0.709177  0.722869  0.679881  0.779999  0.720286   \n",
      "600        plsr     99  0.709066  0.722822  0.679868  0.780193  0.720617   \n",
      "601  plsr_scale     99  0.709172  0.722864  0.679881  0.780404  0.720533   \n",
      "602        plsr    100  0.709063  0.722816  0.679866  0.780217  0.721398   \n",
      "603  plsr_scale    100  0.709071  0.722833  0.679907  0.780036  0.721211   \n",
      "\n",
      "          MSE        R2  \n",
      "4    5.779116  0.048261  \n",
      "5    6.076157 -0.000657  \n",
      "6    5.779116  0.048261  \n",
      "7    6.076157 -0.000657  \n",
      "8    5.124983  0.155988  \n",
      "..        ...       ...  \n",
      "599  0.722797  0.880965  \n",
      "600  0.722869  0.880954  \n",
      "601  0.722927  0.880944  \n",
      "602  0.723026  0.880928  \n",
      "603  0.722966  0.880938  \n",
      "\n",
      "[600 rows x 9 columns]\n"
     ]
    }
   ],
   "source": [
    "print(pp_db)"
   ]
  },
  {
   "cell_type": "code",
   "execution_count": 7,
   "metadata": {},
   "outputs": [
    {
     "data": {
      "image/png": "[encoded data removed]",
      "text/plain": [
       "<Figure size 432x288 with 1 Axes>"
      ]
     },
     "metadata": {},
     "output_type": "display_data"
    }
   ],
   "source": [
    "plt.style.use('seaborn-darkgrid')\n",
    "\n",
    "name_dict ={'lr':f'LR       ',\n",
    "           'lr_norm':f'LR$_s$      ',\n",
    "           'ridge':f'LR$_r$      ',\n",
    "           'ridge_norm':r'LR$_{s,r}$    ',\n",
    "           'pcr':f'PCR    ',\n",
    "           'pcr_scale':f'PCR$_s$    ',\n",
    "           'pcr_whiten':f'PCR$_w$  ',\n",
    "           'pcr_s_w':r'PCR$_{s,w}$ ',\n",
    "           'plsr':f'PLSR   ',\n",
    "           'plsr_scale':f'PLSR$_s$  ',  \n",
    "          }\n",
    "\n",
    "fig, ax = plt.subplots()\n",
    "ax.set_xlabel(\"Number of Components\")\n",
    "ax.set_ylabel(f\"$R^2$\")\n",
    "\n",
    "series_labels = lr_db['model'].unique()\n",
    "for name in series_labels:\n",
    "    subset = lr_db[lr_db[\"model\"]==name]\n",
    "    y = [subset[\"R2\"].tolist()[0] for _ in n_comps]\n",
    "    x = n_comps\n",
    "    score=subset[\"R2\"].tolist()[0] \n",
    "    label = \"%-*s   %s\" %(5, name_dict[name],f\" $R^2$ = {score:.4f}\")\n",
    "    ax.plot(x,y,label = label)\n",
    "series_labels = pp_db['model'].unique()\n",
    "for name in series_labels:\n",
    "    subset = pp_db[pp_db[\"model\"]==name]\n",
    "    score= max(subset[\"R2\"])\n",
    "    label = \"%-*s   %s\" %(5, name_dict[name],f\" $R^2$ = {score:.4f}\")\n",
    "    ax.plot([int(i) for i in subset[\"n_comp\"]], subset[\"R2\"],label =label )\n",
    "\n",
    "ax.set_ylim(0,1)\n",
    "ax.legend(loc='upper right',bbox_to_anchor=(1.45, 1))\n",
    "plt.savefig(log_dir / f\"r2_plot.png\",bbox_inches='tight')\n",
    "\n",
    "#$print \"Location: %-*s  Revision: %s\" % (20,\"10-10-10-10\",\"1\")"
   ]
  },
  {
   "cell_type": "code",
   "execution_count": null,
   "metadata": {},
   "outputs": [],
   "source": []
  },
  {
   "cell_type": "code",
   "execution_count": null,
   "metadata": {},
   "outputs": [],
   "source": []
  }
 ],
 "metadata": {
  "kernelspec": {
   "display_name": "PyCharm (lazydeep)",
   "language": "python",
   "name": "pycharm-12fcba0"
  },
  "language_info": {
   "codemirror_mode": {
    "name": "ipython",
    "version": 3
   },
   "file_extension": ".py",
   "mimetype": "text/x-python",
   "name": "python",
   "nbconvert_exporter": "python",
   "pygments_lexer": "ipython3",
   "version": "3.8.5"
  }
 },
 "nbformat": 4,
 "nbformat_minor": 4
}
